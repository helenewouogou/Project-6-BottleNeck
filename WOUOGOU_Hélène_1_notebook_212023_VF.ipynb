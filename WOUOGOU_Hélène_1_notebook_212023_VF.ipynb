{
 "cells": [
  {
   "cell_type": "markdown",
   "id": "97dccc01",
   "metadata": {},
   "source": [
    "<div style=\"display: flex; background-color: RGB(255,114,0);\" >\n",
    "<h1 style=\"margin: auto; padding: 30px; \">ANALYSE DU STOCK ET DES VENTES DU SITE BOTTLENECK</h1>\n",
    "</div>"
   ]
  },
  {
   "cell_type": "markdown",
   "id": "4d0d1bb8",
   "metadata": {},
   "source": [
    "# OBJECTIF DE CE NOTEBOOK\n",
    "\n",
    "Bienvenue dans l'outil plébiscité par les analystes de données Jupyter.\n",
    "\n",
    "Il s'agit d'un outil permettant de mixer et d'alterner codes, textes et graphique.\n",
    "\n",
    "Cet outil est formidable pour plusieurs raisons:\n",
    "\n",
    "+ il permet de tester des lignes de codes au fur et à mesure de votre rédaction, de constater immédiatement le résultat d'un instruction, de la corriger si nécessaire.\n",
    "+ De rédiger du texte pour expliquer l'approche suivie ou les résultats d'une analyse et de le mettre en forme grâce à du code html ou plus simple avec **Markdown**\n",
    "+ d'agrémenter de graphiques\n",
    "\n",
    "Pour vous aider dans vos premiers pas à l'usage de Jupyter et de Python, nous avons rédigé ce notebook en vous indiquant les instructions à suivre.\n",
    "\n",
    "Il vous suffit pour cela de saisir le code Python répondant à l'instruction donnée.\n",
    "\n",
    "Vous verrez de temps à autre le code Python répondant à une instruction donnée mais cela est fait pour vous aider à comprendre la nature du travail qui vous est demandée.\n",
    "\n",
    "Et garder à l'esprit, qu'il n'y a pas de solution unique pour résoudre un problème et qu'il y a autant de résolutions de problèmes que de développeurs ;)...\n",
    "\n"
   ]
  },
  {
   "cell_type": "markdown",
   "id": "b85efb87",
   "metadata": {},
   "source": [
    "<div style=\"background-color: RGB(51,165,182);\" >\n",
    "<h2 style=\"margin: auto; padding: 20px; color:#fff; \">Etape 1 - Importation des librairies et chargement des fichiers</h2>\n",
    "</div>"
   ]
  },
  {
   "cell_type": "markdown",
   "id": "b5449401",
   "metadata": {},
   "source": [
    "<div style=\"border: 1px solid RGB(51,165,182);\" >\n",
    "<h3 style=\"margin: auto; padding: 20px; color: RGB(51,165,182); \">1.1 - Importation des librairies</h3>\n",
    "</div>"
   ]
  },
  {
   "cell_type": "code",
   "execution_count": 58,
   "id": "e6ef06ec",
   "metadata": {},
   "outputs": [],
   "source": [
    "#Importation de la librairie Pandas\n",
    "import pandas as pd\n",
    "import matplotlib.pyplot as plt\n",
    "import chardet"
   ]
  },
  {
   "cell_type": "code",
   "execution_count": 59,
   "id": "a38ce0fc",
   "metadata": {},
   "outputs": [],
   "source": [
    "#Importation de la librairie plotly express\n",
    "import plotly.express as px "
   ]
  },
  {
   "cell_type": "code",
   "execution_count": null,
   "id": "0a718067",
   "metadata": {},
   "outputs": [],
   "source": [
    "#Trouver dans Google l'instruction permettant d'afficher toutes les colonnes d'un dataframe\n",
    "#Saisir, dans Google, les mots clés \"display all columns dataframe Pandas\", par exemple.\n",
    "#Dans les résultats de la recherche, privilégiez les solutions provenants de Stack Overflow ou Medium"
   ]
  },
  {
   "cell_type": "markdown",
   "id": "f4918299",
   "metadata": {},
   "source": [
    "<div style=\"border: 1px solid RGB(51,165,182);\" >\n",
    "<h3 style=\"margin: auto; padding: 20px; color: RGB(51,165,182); \">1.2 - Chargements des fichiers</h3>\n",
    "</div>"
   ]
  },
  {
   "cell_type": "code",
   "execution_count": 60,
   "id": "9642cf03",
   "metadata": {},
   "outputs": [
    {
     "name": "stderr",
     "output_type": "stream",
     "text": [
      "C:\\Users\\33666\\anaconda3\\lib\\site-packages\\openpyxl\\worksheet\\_read_only.py:79: UserWarning: Unknown extension is not supported and will be removed\n",
      "  for idx, row in parser.parse():\n",
      "C:\\Users\\33666\\anaconda3\\lib\\site-packages\\openpyxl\\worksheet\\_read_only.py:79: UserWarning: Unknown extension is not supported and will be removed\n",
      "  for idx, row in parser.parse():\n",
      "C:\\Users\\33666\\anaconda3\\lib\\site-packages\\openpyxl\\worksheet\\_read_only.py:79: UserWarning: Unknown extension is not supported and will be removed\n",
      "  for idx, row in parser.parse():\n"
     ]
    },
    {
     "data": {
      "text/html": [
       "<div>\n",
       "<style scoped>\n",
       "    .dataframe tbody tr th:only-of-type {\n",
       "        vertical-align: middle;\n",
       "    }\n",
       "\n",
       "    .dataframe tbody tr th {\n",
       "        vertical-align: top;\n",
       "    }\n",
       "\n",
       "    .dataframe thead th {\n",
       "        text-align: right;\n",
       "    }\n",
       "</style>\n",
       "<table border=\"1\" class=\"dataframe\">\n",
       "  <thead>\n",
       "    <tr style=\"text-align: right;\">\n",
       "      <th></th>\n",
       "      <th>product_id</th>\n",
       "      <th>id_web</th>\n",
       "    </tr>\n",
       "  </thead>\n",
       "  <tbody>\n",
       "    <tr>\n",
       "      <th>0</th>\n",
       "      <td>3847</td>\n",
       "      <td>15298</td>\n",
       "    </tr>\n",
       "    <tr>\n",
       "      <th>1</th>\n",
       "      <td>3849</td>\n",
       "      <td>15296</td>\n",
       "    </tr>\n",
       "    <tr>\n",
       "      <th>2</th>\n",
       "      <td>3850</td>\n",
       "      <td>15300</td>\n",
       "    </tr>\n",
       "    <tr>\n",
       "      <th>3</th>\n",
       "      <td>4032</td>\n",
       "      <td>19814</td>\n",
       "    </tr>\n",
       "    <tr>\n",
       "      <th>4</th>\n",
       "      <td>4039</td>\n",
       "      <td>19815</td>\n",
       "    </tr>\n",
       "  </tbody>\n",
       "</table>\n",
       "</div>"
      ],
      "text/plain": [
       "   product_id id_web\n",
       "0        3847  15298\n",
       "1        3849  15296\n",
       "2        3850  15300\n",
       "3        4032  19814\n",
       "4        4039  19815"
      ]
     },
     "execution_count": 60,
     "metadata": {},
     "output_type": "execute_result"
    }
   ],
   "source": [
    "#Importation du fichier web.xlsx\n",
    "df_web = pd.read_excel(\"web.xlsx\")\n",
    "df_web.head()\n",
    "#Importation du fichier erp.xlsx\n",
    "df_erp = pd.read_excel(\"erp.xlsx\")\n",
    "df_erp.head()\n",
    "#importation du fichier liaison.xlsx\n",
    "df_liaison = pd.read_excel(\"liaison.xlsx\")\n",
    "df_liaison.head()\n"
   ]
  },
  {
   "cell_type": "markdown",
   "id": "2626adc6",
   "metadata": {},
   "source": [
    "<div style=\"border: 1px solid RGB(51,165,182);\" >\n",
    "<h3 style=\"margin: auto; padding: 20px; color: RGB(51,165,182); \">1.2 - Chargements du fichiers csv</h3>\n",
    "</div>"
   ]
  },
  {
   "cell_type": "markdown",
   "id": "e16ec712",
   "metadata": {},
   "source": [
    "<div style=\"color: RGB(255,114,0)\">\n",
    "<h3>Information Mentor</h3>\n",
    "L'étudiant va être très certainement confronté à des difficultés pour ouvrir ce fichier.\n",
    "Il faudra donc qu'il se documente sur les points suivants:<br>\n",
    "- notion d'encodage en informatique. (\"UTF-8\", \"ISO-8859-1\", etc)<br>\n",
    "- manipulation de fichier csv, tsv, etc<br>\n",
    "<br>\n",
    "Pour lui faire réussir cette étape, l'étudiant devrait suivre ces directives:<br>\n",
    "- Explorer le fichier à l'aide d'un outil comme Notepad++ afin de visualiser la structure du fichier<br>\n",
    "- ... ou d'utiliser Excel pour les mêmes raisons. Mais dans ce cas l'étudiant pourrait être tenté de convertir le fichier csv en xlsx, ce que je ne recommande pas: si le fichier est trop gros pour Excel cela deviendra une souffrance de procéder ainsi<br>\n",
    "- apprendre à ourvrir un fichier avec python à l'aide de l'instruction suivante: <code>with open(nom_fichier, \"rb\") as f: </code><br>\n",
    "- utiliser une bibliothèque comme <code>chardet</code> pour tenter d'identifier l'encodage du fichier<br>\n",
    "</div>"
   ]
  },
  {
   "cell_type": "code",
   "execution_count": 61,
   "id": "7c8aceeb",
   "metadata": {},
   "outputs": [
    {
     "name": "stdout",
     "output_type": "stream",
     "text": [
      "b\"post_name;poids;R\\xe9gion;Domaine;Appellation;Couleur;C\\xe9page;Mill\\xe9sime;Garde;Contenance;Degr\\xe9 d'alcool;Temp\\xe9rature d\\xe9gustation;Alliance mets\\r\\npierre-jean-villa-saint-joseph-preface-2018;1.5 kg;Rh\\xf4ne;Pierre Jean Villa;Saint Joseph;Rouge;100% Syrah;2020;4-7 ans;75cl;13%;15\\xb0C;Charcuterie, Lapin, Viande rouge, Volaille\\r\\npierre-jean-villa-saint-joseph-tilde-2017;1.5 kg;Rh\\xf4ne;Pierre Jean Villa;Saint Joseph;Rouge;100% Syrah;2019;6-8 ans;75cl;13%;15\\xb0C;Charcuterie, Viande rouge, Volaille\\r\\npierre-jean-villa-croze-hermitage-accroche-coeur-2018;1.5 kg;Rh\\xf4ne;Pierre Jean Villa;Crozes-Hermitage;Rouge;100% Syrah;2020;3-5 ans;75cl;13%;15\\xb0C;Viande rouge, Volaille\\r\\npierre-jean-villa-igp-gamine-2018;1.5 kg;Rh\\xf4ne;Pierre Jean Villa;Collines Rhodaniennes;Rouge;100% Syrah;2020;3-5 ans;75cl;13%;14\\xb0C;Charcuterie, Viande rouge, Volaille\\r\\npierre-jean-villa-cote-rotie-carmina-2017;1.5 kg;Rh\\xf4ne;Pierre Jean Villa;C\\xf4te R\\xf4tie;Rouge;100% Syrah;2019;10-20 ans;75cl;13%;17\\xb0C;Gibier, Viande rouge\\r\\npierre-jean-villa-saint-joseph-saut-ange-2018;1.5 kg;Rh\\xf4ne;Pierre Jean Villa;Saint Joseph;Blanc;100% Roussanne;2020;6-8 ans;75cl;14%;12\\xb0C;Ap\\xe9ritif, Fromages, Poisson en sauce, Volaille\\r\\npierre-gaillard-condrieu-2018;1.5 kg;Rh\\xf4ne;Pierre Gaillard;Condrieu;Blanc;100% Viognier;2020;3-5 ans;75cl;13%;12\\xb0C;Ap\\xe9ritif, Crustac\\xe9s, Cuisine Asiatique, Fromages, Volaille\\r\\npierre-gaillard-cornas-2017;1.5 kg;Rh\\xf4ne;Pierre Gaillard;Cornas;Rouge;100% Syrah;2019;6-8 ans;75cl;12,50%;16\\xb0C;Gibier, Viande rouge\\r\\npierre-gaillard-cote-rotie-esprit-blond-2017;1.5 kg;Rh\\xf4ne;Pierre Gaillard;C\\xf4te R\\xf4tie;Rouge;100% Syrah;2018;10-20 ans;75cl;13%;16\\xb0C;Gibier, Viande rouge\\r\\npierre-gaillard-cote-rotie-2018;1.5 kg;Rh\\xf4ne;Pierre Gaillard;C\\xf4te R\\xf4tie;Rouge;10% Viognier, 90% Syrah;2020;6-8 ans;75cl;12,50%;16\\xb0C;Gibier, Viande rouge\\r\\npierre-gaillard-cote-rotie-rose-pourpre-2017;1.5 kg;Rh\\xf4ne;Pierre Gaillard;C\\xf4te R\\xf4tie;Rouge;100% Syrah;2019;10-20 ans;75cl;13%;17\\xb0C;Gibier, Viande rouge\\r\\npierre-gaillard-gendrines-2018;1.5 kg;Rh\\xf4ne;Pierre Gaillard;C\\xf4tes-du-Rh\\xf4ne;Blanc;100% Viognier;2020;3-5 ans;75cl;12,50%;12\\xb0C;Ap\\xe9ritif, Crustac\\xe9s, Cuisine Asiatique, Fromages, Volaille\\r\\npierre-gaillard-saint-joseph-cuminaille-2018;1.5 kg;Rh\\xf4ne;Pierre Gaillard;Saint Joseph;Rouge;100% Syrah;2018;6-8 ans;75cl;13%;16\\xb0C;Viande Blanche, Viande rouge, Volaille\\r\\npierre-gaillard-saint-joseph-2018;1.5 kg;Rh\\xf4ne;Pierre Gaillard;Saint Joseph;Rouge;100% Syrah;2020;3-5 ans;75cl;12,50%;15\\xb0C;Charcuterie, Viande Blanche, Viande rouge, Volaille\\r\\npierre-gaillard-saint-joseph-blanc-2019;1.5 kg;Rh\\xf4ne;Pierre Gaillard;Saint Joseph;Blanc;100% Roussanne;2020;3-5 ans;75cl;12,50%;12\\xb0C;Ap\\xe9ritif, Fromages, Poissons, Viande Blanche, Volaille\\r\\npierre-gaillard-syrah-terre-mandrin-2018;1.5 kg;Rh\\xf4ne;Pierre Gaillard;Collines Rhodaniennes;Rouge;100% Syrah;2020;3-5 ans;75cl;12,50%;15\\xb0C;Charcuterie, Viande Blanche, Viande rouge, Volaille\\r\\nmont-olivet-chateauneuf-pape-blanc-2019;1.5 kg;Rh\\xf4ne;Clos Du Mont-Olivet;Ch\\xe2teauneuf-du-Pape;Blanc;Bourboulenc, Clairette, Grenache Blanc, Roussanne;2021;5-10 ans;75cl;14%;12\\xb0C;Homard, Poisson en sauce, Poisson grill\\xe9, Volaille\\r\\nclos-du-mont-olivet-chateauneuf-du-pape-2012;1.5 kg;Rh\\xf4ne;Clos Du Mont-Olivet;Ch\\xe2teauneuf-du-Pape;Rouge;Cinsault, Grenache, Mourv\\xe8dre, Syrah;2007;15 ans et +;75cl;15%;16\\xb0C;Gibier, Viande rouge\\r\\nclos-du-mont-olivet-chateauneuf-du-pape-papet-2018;1.5 kg;Rh\\xf4ne;Clos Du Mont-Olivet;Ch\\xe2teauneuf-du-Pape;Rouge;Grenache, Mourv\\xe8dre, Syrah;2018;15 ans et +;75cl;15%;16\\xb0C;Gibier, Viande rouge\\r\\nclos-du-mont-olivet-cotes-du-rhone-vieilles-vignes-2018;1.5 kg;Rh\\xf4ne;Clos Du Mont-Olivet;C\\xf4tes-du-Rh\\xf4ne;Rouge;Carignan, Grenache, Syrah;2019;4-7 ans;75cl;14,5%;15\\xb0C;Charcuterie, Viande rouge\\r\\nmourgues-galets-dores-2019;1.5 kg;Rh\\xf4ne;Mourgues du Gr\\xe8s;Costi\\xe8res de N\\xeemes;Blanc;Grenache Blanc, Roussanne, Vermentino;2021;3 ans;75cl;14%;11\\xb0C;Ap\\xe9ritif, Fromage de ch\\xe8vre, Poisson grill\\xe9, Salade, Viande Blanche\\r\\nmourgues-du-gres-costieres-de-nimes-galets-rouges-2019;1.5 kg;Rh\\xf4ne;Mourgues du Gr\\xe8s;Costi\\xe8res de N\\xeemes;Rouge;Carignan, Grenache, Mourv\\xe8dre, Syrah;2020;3-5 ans;75cl;14%;15\\xb0C;Charcuterie, Grillades, Viande rouge, Volaille\\r\\nmourgues-du-gres-costieres-de-nimes-galets-roses-2019;1.5 kg;Rh\\xf4ne;Mourgues du Gr\\xe8s;Costi\\xe8res de N\\xeemes;Ros\\xe9;Grenache, Mourv\\xe8dre, Syrah;2021;A boire;75cl;13,5%;11\\xb0C;Ap\\xe9ritif, Poissons, Salade, Volaille\\r\\nmourgues-du-gres-costieres-de-nimes-argence-rouge-2017;1.5 kg;Rh\\xf4ne;Mourgues du Gr\\xe8s;Costi\\xe8res de N\\xeemes;Rouge;Grenache, Mourv\\xe8dre, Syrah;2019;5-7 ans;75cl;14,5%;15\\xb0C;Charcuterie, Grillades, Viande rouge\\r\\nmourgues-du-gres-costieres-de-nimes-terre-dargence-blanc-2018;1.5 kg;Rh\\xf4ne;Mourgues du Gr\\xe8s;Pont du Gard;Blanc;Petit Manseng, Roussanne, Viognier;2020;3-5 ans;75cl;14,5%;11\\xb0C;Cuisine Exotique, Poisson grill\\xe9, Salade, Viande Blanche\\r\\nmourgues-du-gres-terres-feu-2017;1.5 kg;Rh\\xf4ne;Mourgues du Gr\\xe8s;Costi\\xe8res de N\\xeemes;Rouge;Carignan, Mourv\\xe8dre;2019;5-7 ans;75cl;14,5%;15\\xb0C;Canard, Gibier, Viande rouge\\r\\noratoire-saint-martin-cairanne-douyes-2016;1.5 kg;Rh\\xf4ne;Oratoire Saint Martin;Cairanne;Rouge;Grenache, Mourv\\xe8dre;2017;6-8 ans;75cl;13,5%;15\\xb0C;Gibier, Grillades, Viande rouge\\r\\ngilles-robin-alberic-2017;1.5 kg;Rh\\xf4ne;Gilles Robin;Crozes-Hermitage;Rouge;100% Syrah;2017;5-10 ans;75cl;13,5%;16\\xb0C;Gibier, Lapin, Pigeon, Viande rouge\\r\\ngilles-robin-crozes-hermitage-papillon-2019;1.5 kg;Rh\\xf4ne;Gilles Robin;Crozes-Hermitage;Rouge;100% Syrah;2021;3-5 ans;75cl;13,5%;15\\xb0C;Ap\\xe9ritif, Charcuterie, Viande rouge, Volaille\\r\\ngilles-robin-crozes-hermitage-marelles-2018;1.5 kg;Rh\\xf4ne;Gilles Robin;Crozes-Hermitage;Blanc;Marsanne, Roussanne;2019;4-7 ans;75cl;13,5%;12\\xb0C;Homard, Poisson en sauce, Salade, Volaille\\r\\nvaudieu-chateauneuf-2015;1.5 kg;Rh\\xf4ne;Famille Br\\xe9chet;Ch\\xe2teauneuf-du-Pape;Rouge;Grenache, Mourv\\xe8dre, Syrah;2015;5-15 ans;75cl;15%;16\\xb0C;Gibier, Lapin, Viande rouge\\r\\nchateau-de-vaudieu-chateauneuf-du-pape-blanc-2015;1.5 kg;Rh\\xf4ne;Famille Br\\xe9chet;Ch\\xe2teauneuf-du-Pape;Blanc;Grenache Blanc, Roussanne;2015;5-10 ans;75cl;14%;12\\xb0C;Fromages, Homard, Poisson en sauce, Volaille\\r\\nchateau-de-vaudieu-chateauneuf-du-pape-lavenue-2015;1.5 kg;Rh\\xf4ne;Ch\\xe2teau de Vaudieu;Ch\\xe2teauneuf-du-Pape;Rouge;Grenache;2015;15 ans et +;75cl;15%;17\\xb0C;Gibier, Viande rouge\\r\\njerome-cotes-du-rhone-2018;1.5 kg;Rh\\xf4ne;Famille Br\\xe9chet;C\\xf4tes-du-Rh\\xf4ne Villages;Rouge;Grenache, Syrah;2019;5-7 ans;75cl;15%;16\\xb0C;Charcuterie, Gibier, Viande rouge\\r\\nplateau-chenes-lirac-2015;1.5 kg;Rh\\xf4ne;Famille Br\\xe9chet;Lirac;Rouge;Grenache, Syrah;2015;3-5 ans;75cl;15%;16\\xb0C;Charcuterie, Gibier, Viande rouge\\r\\nplateau-des-chenes-lirac-blanc-2016;1.5 kg;Rh\\xf4ne;Famille Br\\xe9chet;Lirac;Blanc;Clairette, Grenache Blanc, Roussanne;2016;3-5 ans;75cl;14%;12\\xb0C;Fromages, Poissons, Viande Blanche, Volaille\\r\\nbosquets-gigondas-2016;1.5 kg;Rh\\xf4ne;Famille Br\\xe9chet;Gigondas;Rouge;Cinsault, Grenache, Mourv\\xe8dre, Syrah;2019;10-15 ans;75cl;15%;16\\xb0C;Gibier, Grillades, Viande rouge\\r\\ndomaine-des-bosquets-gigondas-colline-2015;1.5 kg;Rh\\xf4ne;Famille Br\\xe9chet;Gigondas;Rouge;Grenache;2017;15 ans et +;75cl;15%;17\\xb0C;Gibier, Viande rouge\\r\\nvieux-donjon-chateauneuf-2013;1.5 kg;Rh\\xf4ne;Le Vieux Donjon;Ch\\xe2teauneuf-du-Pape;Rouge;Cinsault, Grenache, Mourv\\xe8dre, Syrah;2013;15 ans et +;75cl;14,5%;17\\xb0C;Agneau, Gibier, Viande rouge\\r\\nle-vieux-donjon-chateauneuf-du-pape-blanc-2016;1.5 kg;Rh\\xf4ne;Le Vieux Donjon;Ch\\xe2teauneuf-du-Pape;Blanc;Clairette, Roussanne;2016;5-10 ans;75cl;14%;12\\xb0C;Crustac\\xe9s, Cuisine Exotique, Fromages, Homard, Poissons\\r\\nrimauresq-provence-r-blanc-2019;1.5 kg;Provence;Rimauresq;C\\xf4tes de Provence Cru Class\\xe9;Blanc;Rolle;2021;3-5 ans;75cl;13%;12\\xb0C;Crustac\\xe9s, Fromages, Homard, Poissons\\r\\nrimauresq-cotes-de-provence-cru-classe-r-2017;1.5 kg;Provence;Rimauresq;C\\xf4tes de Provence Cru Class\\xe9;Rouge;Cabernet Sauvignon, Grenache, Mourv\\xe8dre, Syrah;2019;5-10 ans;75cl;14%;17\\xb0C;Gibier, Viande rouge\\r\\nrimauresq-cotes-de-provence-cru-classe-2017;1.5 kg;Provence;Rimauresq;C\\xf4tes de Provence Cru Class\\xe9;Rouge;Carignan, Mourv\\xe8dre, Syrah;2018;4-7 ans;75cl;13,5%;15\\xb0C;Charcuterie, Viande rouge\\r\\nrimauresq-cotes-de-provence-cru-classe-blanc-2019;1.5 kg;Provence;Rimauresq;C\\xf4tes de Provence Cru Class\\xe9;Blanc;Rolle;2020;3-5 ans;75cl;13,5%;11\\xb0C;Crustac\\xe9s, Fromage de ch\\xe8vre, Poisson grill\\xe9, Viande Blanche\\r\\nrimauresq-cotes-de-provence-cru-classe-rose-2019;1.5 kg;Provence;Rimauresq;C\\xf4tes de Provence Cru Class\\xe9;Ros\\xe9;Carignan, Cinsault, Grenache, Mourv\\xe8dre, Rolle, Syrah;2021;3 ans;75cl;13,5%;10\\xb0C;Ap\\xe9ritif, Grillades, Poisson grill\\xe9, Salade\\r\\nginglinger-gewurzt-wahlenbourg-2017;1.5 kg;Alsace;Paul Ginglinger;Alsace Gewurztraminer;Blanc;Gewurztraminer;2019;6-8 ans;75cl;13%;11\\xb0C;Canard laqu\\xe9, Fromages persill\\xe9s, Munster, Plats exotiques\\r\\npaul-ginglinger-muscat-caroline-2018;1.5 kg;Alsace;Paul Ginglinger;Alsace Muscat;Blanc;Muscat;2020;3-5 ans;75cl;12,50%;11\\xb0C;Ap\\xe9ritif, Asperges, Fromage de ch\\xe8vre, Poisson grill\\xe9, Salade\\r\\npaul-ginglinger-pinot-gris-gc-eichberg-2015;1.5 kg;Alsace;Paul Ginglinger;Alsace Grand Cru;Blanc;Pinot Gris;2017;5-15 ans;75cl;13%;12\\xb0C;Faisan, Foie gras mi-cuit, Poularde de Bresse, Viande Blanche\\r\\npaul-ginglinger-pinot-gris-prelats-2018;1.5 kg;Alsace;Paul Ginglinger;Alsace Pinot Gris;Blanc;Pinot Gris;2020;6-8 ans;75cl;13%;11\\xb0C;Bouch\\xe9es \\xe0 la Reine, Quenelles, Risotto, Volaille\\r\\npaul-ginglinger-pinot-noir-les-rocailles-2016;1.5 kg;Alsace;Paul Ginglinger;Alsace Pinot Noir;Rouge;Pinot Noir;2017;5-15 ans;75cl;13%;15\\xb0C;Agneau, Boeuf bourguignon, Gibier, Grillades, Viande rouge\\r\\npaul-ginglinger-riesling-drei-exa-2018;1.5 kg;Alsace;Paul Ginglinger;Alsace Riesling;Blanc;Riesling;2020;4-7 ans;75cl;12,50%;11\\xb0C;Choucroute, Coq au Riesling, Crustac\\xe9s, Hu\\xeetres, Poissons, Viande Blanche\\r\\nboeckel-gewurzt-gc-zotzenberg-2016;1.5 kg;Alsace;Emile Boeckel;Alsace Grand Cru;Blanc;Gewurztraminer;2019;8-10 ans;75cl;13,5%;11\\xb0C;Cuisine Exotique, Desserts, Munster\\r\\nemile-boeckel-pinot-gris-gc-zotzenberg-2016;1.5 kg;Alsace;Emile Boeckel;Alsace Grand Cru;Blanc;Pinot Gris;2017;8-10 ans;75cl;13,5%;11\\xb0C;Foie gras, Viande Blanche, Volaille\\r\\nemile-boeckel-sylvaner-grand-cru-zotzenberg-2017;1.5 kg;Alsace;Emile Boeckel;Alsace Grand Cru;Blanc;Sylvaner;2019;8-10 ans;75cl;14%;11\\xb0C;Fromages doux, Fruits de mer, Poissons, Volaille\\r\\nemile-boeckel-riesling-gc-wiebelsberg-2016;1.5 kg;Alsace;Emile Boeckel;Alsace Grand Cru;Blanc;Riesling;2017;8-10 ans;75cl;12,50%;11\\xb0C;Choucroute, Crustac\\xe9s, Poissons\\r\\nemile-boeckel-riesling-brandluft-2018;1.5 kg;Alsace;Emile Boeckel;Alsace Riesling;Blanc;Riesling;2020;5-10 ans;75cl;12,50%;11\\xb0C;Choucroute, Crustac\\xe9s, Poissons\\r\\nemile-boeckel-sylvaner-vieilles-vignes-2019;1.5 kg;Alsace;Emile Boeckel;Alsace Sylvaner;Blanc;Sylvaner;2020;3-5 ans;75cl;12,50%;11\\xb0C;Charcuterie, Crustac\\xe9s, Poissons\\r\\nemile-boeckel-pinot-noir-barriques-2018;1.5 kg;Alsace;Emile Boeckel;Alsace Pinot Noir;Rouge;Pinot Noir;2020;5-10 ans;75cl;13%;15\\xb0C;Gibier, Viande rouge\\r\\nemile-boeckel-pinot-noir-terres-rouges-2016;1.5 kg;Alsace;Emile Boeckel;Alsace Pinot Noir;Rouge;Pinot Noir;2017;5-10 ans;75cl;12,50%;15\\xb0C;Gibier, Viande rouge\\r\\nzind-humbrecht-gewurzt-grand-cru-rangen-de-thann-clos-saint-urbain-2013;1.5 kg;Alsace;Zind-Humbrecht;Alsace Grand Cru;Blanc;Gewurztraminer;2013;15 ans et +;75cl;13,5%;12\\xb0C;Cuisine Exotique, Desserts, Foie gras, Fromages\\r\\ngosset-champagne-grande-reserve;1.5 kg;Champagne;Gosset;Champagne;Blanc;10% Pinot Meunier, 45% Chardonnay, 45% Pinot Noir;;4 ans;75cl;12%;10\\xb0C;Ap\\xe9ritif, Fruits cuits, Sucr\\xe9-sal\\xe9, Tajine\\r\\nchampagne-gosset-grand-millesime-2006;1.5 kg;Champagne;Gosset;Champagne;Blanc;44% Chardonnay, 56% Pinot Noir;2015;8-10 ans;75cl;12%;10\\xb0C;Agneau, Ap\\xe9ritif, Fromage de ch\\xe8vre, Noix de St Jacques, Poissons\\r\\nchampagne-gosset-grand-rose;1.5 kg;Champagne;Gosset;Champagne;;50% Chardonnay, 50% Pinot Noir;;4 ans;75cl;12%;10\\xb0C;Ap\\xe9ritif, Desserts, Foie gras, Poissons\\r\\nchampagne-mailly-gc-brut-reserve;1.5 kg;Champagne;Mailly Grand Cru;Champagne;Blanc;25% Chardonnay, 75% Pinot Noir;;4 ans;75cl;12%;10\\xb0C;Ap\\xe9ritif, Chaource, L\\xe9gumes croquants, Supr\\xeame de volaille, Tarte aux pommes\\r\\nchampagne-mailly-grand-cru-extra-brut-2012;1.5 kg;Champagne;Mailly Grand Cru;Champagne;Blanc;25% Chardonnay, 75% Pinot Noir;;4 ans;75cl;12%;10\\xb0C;Ap\\xe9ritif, Carpaccios, Caviar, Hu\\xeetres\\r\\nchampagne-mailly-grand-cru-brut-rose;1.5 kg;Champagne;Mailly Grand Cru;Champagne;;10% Chardonnay, 90% Pinot Noir;;4 ans;75cl;12%;10\\xb0C;Ap\\xe9ritif, Tapas, Viande Blanche\\r\\nchampagne-mailly-grand-cru-intemporelle-rose-2009;1.5 kg;Champagne;Mailly Grand Cru;Champagne;;40% Chardonnay, 60% Pinot Noir;;10 ans et +;75cl;12%;10\\xb0C;Ap\\xe9ritif, Fruits, Noix de St Jacques, Poissons\\r\\nchampagne-mailly-grand-cru-intemporelle-2010;1.5 kg;Champagne;Mailly Grand Cru;Champagne;Blanc;40% Chardonnay, 60% Pinot Noir;;10 ans et +;75cl;12%;10\\xb0C;Ap\\xe9ritif, Fruits, Noix de St Jacques, Poissons\\r\\nelian-daros-abouriou-2016;1.5 kg;Sud Ouest;Elian Daros;C\\xf4tes du Marmandais;Rouge;10% Merlot, 90% Abouriou;2018;4-7 ans;75cl;13,5%;15\\xb0C;Charcuterie, Grillades, Viande rouge\\r\\nelian-daros-cotes-du-marmandais-chante-coucou-2016;1.5 kg;Sud Ouest;Elian Daros;C\\xf4tes du Marmandais;Rouge;Cabernet Sauvignon, Malbec, Merlot, Syrah;2017;5-10 ans;75cl;13%;16\\xb0C;Gibier, Grillades, Viande rouge\\r\\nelian-daros-cotes-du-marmandais-clos-baquey-2015;1.5 kg;Sud Ouest;Elian Daros;C\\xf4tes du Marmandais;Rouge;Abouriou, Cabernet Franc, Cabernet Sauvignon, Merlot;2014;10-15 ans;75cl;13%;16\\xb0C;Gibier, Grillades, Viande rouge\\r\\nelian-daros-cotes-du-marmandais-vin-fete-2017;1.5 kg;Sud Ouest;Elian Daros;C\\xf4tes du Marmandais;Rouge;Abouriou, Cabernet Franc, Merlot;2020;3-5 ans;75cl;13%;14\\xb0C;Charcuterie, Grillades, Viande rouge\\r\\nelian-daros-cotes-du-marmandais-vignoble-elian-2016;1.5 kg;Sud Ouest;Elian Daros;C\\xf4tes du Marmandais;Rouge;Cabernet Franc, Merlot, Syrah;2016;4-7 ans;75cl;13%;15\\xb0C;Charcuterie, Grillades, Viande rouge\\r\\nelian-daros-cotes-du-marmandais-coucou-blanc-2016;1.5 kg;Sud Ouest;Elian Daros;C\\xf4tes du Marmandais;Blanc;Sauvignon Blanc, Sauvignon Gris, S\\xe9millon;2019;4-7 ans;75cl;14%;11\\xb0C;Crustac\\xe9s, Cuisine Exotique, Viande Blanche\\r\\nplaneta-sicilia-alastro-2017;1.5 kg;Italie;Planeta;Sicilia;Blanc;Grecanico, Grillo, Sauvignon Blanc;2020;3-5 ans;75cl;13,5%;11\\xb0C;Cuisine m\\xe9diterran\\xe9enne, Cuisine v\\xe9g\\xe9tarienne, Fruits de mer\\r\\n8planeta-sicilia-etna-rosso-2018;1.5 kg;Italie;Planeta;Sicilia;Rouge;Nerello Mascalese;2020;4-7 ans;75cl;13%;14\\xb0C;Charcuterie, Grillades, Viande rouge\\r\\nplaneta-sicilia-segreta-bianco-2017;1.5 kg;Italie;Planeta;Sicilia;Blanc;Chardonnay, Fiano, Grecanico, Viognier;2019;3-5 ans;75cl;13%;11\\xb0C;Ap\\xe9ritif, Fruits de mer, Poisson grill\\xe9, Salade\\r\\nplaneta-sicilia-la-segreta-rosso-2017;1.5 kg;Italie;Planeta;Sicilia;Rouge;Cabernet Franc, Merlot, Nero d'Avola, Syrah;2018;3-5 ans;75cl;13%;14\\xb0C;Grillades, L\\xe9gumes croquants, Viande Blanche, Volaille\\r\\nplaneta-sicilia-plumbago-2017;1.5 kg;Italie;Planeta;Sicilia;Rouge;Nero d'Avola;2019;3-5 ans;75cl;13%;14\\xb0C;Grillades, L\\xe9gumes croquants, Pizza, Viande Blanche\\r\\ndomino-romano-ribera-camino-2016;1.5 kg;Espagne;Domino Romano;Ribera Del Duero;Rouge;Tinto Fino;2018;3-5 ans;75cl;14,5%;16\\xb0C;Grillades, L\\xe9gumes croquants, Volaille\\r\\npares-balta-penedes-calcari-2018;1.5 kg;Espagne;Par\\xe8s Balt\\xe0;Pened\\xe8s;Blanc;Xarel.io;2019;3-5 ans;75cl;12,50%;11\\xb0C;Crustac\\xe9s, Salade, Viande Blanche\\r\\npares-balta-penedes-mas-petit-2015;1.5 kg;Espagne;Par\\xe8s Balt\\xe0;Pened\\xe8s;Rouge;Cabernet Sauvignon, Garnatxa;2016;3-5 ans;75cl;14,5%;16\\xb0C;Charcuterie, Grillades, Viande rouge\\r\\npares-balta-penedes-indigena-2017;1.5 kg;Espagne;Par\\xe8s Balt\\xe0;Pened\\xe8s;Rouge;Garnatxa;2019;4-7 ans;75cl;14,5%;16\\xb0C;Charcuterie, Grillades, Viande rouge\\r\\nollieux-romanis-corbieres-boutenac-atal-sia-2017;1.5 kg;Languedoc-Roussillon;Ollieux Romanis;Corbi\\xe8res Boutenac;Rouge;Carignan, Grenache, Mourv\\xe8dre, Syrah;2019;5-10 ans;75cl;14,5%;16\\xb0C;Gibier, Grillades, Viande rouge\\r\\nollieux-romanis-corbieres-cuvee-prestige-2017;1.5 kg;Languedoc-Roussillon;Ollieux Romanis;Corbi\\xe8res;Rouge;Carignan, Grenache, Mourv\\xe8dre, Syrah;2019;4-7 ans;75cl;14,5%;16\\xb0C;Gibier, Grillades, Viande rouge\\r\\nollieux-romanis-corbieres-cuvee-prestige-blanc-2018;1.5 kg;Languedoc-Roussillon;Ollieux Romanis;Corbi\\xe8res;Blanc;Marsanne, Roussanne;2019;3-5 ans;75cl;14,5%;12\\xb0C;Charcuterie, Fromages, Poisson en sauce, Viande Blanche, Volaille\\r\\nollieux-romanis-corbieres-classique-2018;1.5 kg;Languedoc-Roussillon;Ollieux Romanis;Corbi\\xe8res;Rouge;Carignan, Grenache, Syrah;2019;3-5 ans;75cl;14,5%;14\\xb0C;Grillades, L\\xe9gumes croquants, Viande rouge\\r\\nollieux-romanis-monsieur-pinot-2017;1.5 kg;Languedoc-Roussillon;Ollieux Romanis;Pays d'Oc;Rouge;Pinot Noir;2017;2 ans;75cl;12,50%;13\\xb0C;Ap\\xe9ritif, Charcuterie, Volaille\\r\\nmaurel-pays-oc-chardonnay-2019;1.5 kg;Languedoc-Roussillon;Maison Ventenac;Pays d'Oc;Blanc;Chardonnay;2021;3 ans;75cl;12,50%;11\\xb0C;Ap\\xe9ritif, Poissons, Volaille\\r\\nmaurel-pays-doc-chenin-colombard-2019;1.5 kg;Languedoc-Roussillon;Maison Ventenac;Pays d'Oc;Blanc;Chenin, Colombard, Sauvignon Blanc;2020;3 ans;75cl;12%;11\\xb0C;Ap\\xe9ritif, Crustac\\xe9s, Fromages, Poissons\\r\\nmaurel-cabardes-tradition-2017;1.5 kg;Languedoc-Roussillon;Maison Ventenac;Cabard\\xe8s;Rouge;Cabernet Franc, Grenache, Merlot, Syrah;2018;3-5 ans;75cl;13%;15\\xb0C;Gibier, Grillades, Viande rouge\\r\\nhortus-pic-saint-loup-la-bergerie-2018;1.5 kg;Languedoc-Roussillon;Domaine de l'Hortus;Pic Saint-Loup;Rouge;Grenache, Mourv\\xe8dre, Syrah;2020;3-5 ans;75cl;13%;15\\xb0C;Grillades, Viande Blanche, Volaille\\r\\nhortus-la-bergerie-blanc-2018;1.5 kg;Languedoc-Roussillon;Domaine de l'Hortus;Val De Montferrand;Blanc;Bourboulenc, Chardonnay, Petit Manseng, Roussanne, Sauvignon Blanc, Sauvignon Gris, Viognier;2019;3-5 ans;75cl;12,50%;11\\xb0C;Crustac\\xe9s, Fromage de ch\\xe8vre, Fruits de mer, Poisson grill\\xe9\\r\\nhortus-pic-saint-loup-grande-cuvee-2018;1.5 kg;Languedoc-Roussillon;Domaine de l'Hortus;Pic Saint-Loup;Rouge;Grenache, Mourv\\xe8dre, Syrah;2019;5-10 ans;75cl;14%;16\\xb0C;Gibier, Viande rouge\\r\\nhortus-la-grande-cuvee-blanc-2018;1.5 kg;Languedoc-Roussillon;Domaine de l'Hortus;Val De Montferrand;Blanc;Chardonnay, Roussanne, Viognier;2020;3-5 ans;75cl;13,5%;12\\xb0C;Ap\\xe9ritif, Bouillabaisse, Fromages\\r\\nborie-vitarele-saint-chinian-terres-blanches-2019;1.5 kg;Languedoc-Roussillon;Borie La Vitar\\xe8le;Saint-Chinian;Rouge;Grenache, Syrah;2020;3-5 ans;75cl;14,5%;15\\xb0C;Gibier, Grillades, Viande rouge, Volaille\\r\\nborie-la-vitarele-saint-chinian-les-schistes-2017;1.5 kg;Languedoc-Roussillon;Borie La Vitar\\xe8le;Saint-Chinian;Rouge;Carignan, Grenache, Syrah;2020;4-7 ans;75cl;14,5%;16\\xb0C;Gibier, Viande rouge, Volaille\\r\\nborie-la-vitarele-saint-chinian-les-cres-2016;1.5 kg;Languedoc-Roussillon;Borie La Vitar\\xe8le;Saint-Chinian;Rouge;Grenache, Mourv\\xe8dre, Syrah;2018;6-8 ans;75cl;14,5%;16\\xb0C;Gibier, Viande rouge, Volaille\\r\\nle-pas-de-lescalette-larzac-clapas-rouge-2018;1.5 kg;Languedoc-Roussillon;Le Pas de l'Escalette;Terrasses du Larzac;Rouge;Carignan, Grenache, Syrah;2020;6-8 ans;75cl;13,5%;15\\xb0C;Agneau, L\\xe9gumes croquants, Viande rouge\\r\\nle-pas-de-lescalette-languedoc-petits-pas-2019;1.5 kg;Languedoc-Roussillon;Le Pas de l'Escalette;Languedoc;Rouge;Carignan, Grenache, Syrah;2020;3-5 ans;75cl;13,5%;14\\xb0C;Agneau, Charcuterie, Grillades\\r\\nliquiere-languedoc-amandiers-blancs-2019;1.5 kg;Languedoc-Roussillon;Ch\\xe2teau de La Liqui\\xe8re;Languedoc;Blanc;Bourboulenc, Grenache Blanc, Marsanne, Roussanne, Terret Bourret, Viognier;2020;3-5 ans;75cl;14%;11\\xb0C;Ap\\xe9ritif, Crustac\\xe9s, Fromages, Poisson grill\\xe9, Salade\\r\\nle-pas-de-lescalette-coteaux-languedoc-ze-roze-2019;1.5 kg;Languedoc-Roussillon;Le Pas de l'Escalette;Coteaux du Languedoc;Ros\\xe9;Cinsault, Syrah;2021;3-5 ans;75cl;13,5%;11\\xb0C;Ap\\xe9ritif, Charcuterie, Grillades, Salade\\r\\nchateau-de-la-liquiere-faugeres-les-amandiers-rouge-2019;1.5 kg;Languedoc-Roussillon;Ch\\xe2teau de La Liqui\\xe8re;Faug\\xe8res;Rouge;Carignan, Grenache, Mourv\\xe8dre, Syrah;2019;3-5 ans;75cl;14%;14\\xb0C;Cuisine m\\xe9diterran\\xe9enne, Grillades, L\\xe9gumes farcis\\r\\nchateau-de-la-liquiere-faugeres-cistus-rouge-2017;1.5 kg;Languedoc-Roussillon;Ch\\xe2teau de La Liqui\\xe8re;Faug\\xe8res;Rouge;Carignan, Grenache, Mourv\\xe8dre, Syrah;2019;6-8 ans;75cl;14,5%;15\\xb0C;Canard, Grillades, Viande rouge\\r\\nchateau-de-la-liquiere-faugeres-cistus-blanc-2019;1.5 kg;Languedoc-Roussillon;Ch\\xe2teau de La Liqui\\xe8re;Faug\\xe8res;Blanc;Bourboulenc, Grenache Blanc, Roussanne, Vermentino;2020;4-7 ans;75cl;14%;12\\xb0C;Ap\\xe9ritif, Noix de St Jacques, Poisson grill\\xe9, Ris de veau\\r\\nchateau-de-la-liquiere-faugeres-rouge-2017;1.5 kg;Languedoc-Roussillon;Ch\\xe2teau de La Liqui\\xe8re;Faug\\xe8res;Rouge;Carignan, Grenache, Mourv\\xe8dre, Syrah;2020;3-5 ans;75cl;14%;14\\xb0C;Agneau, Pigeon, Viande rouge, Volaille\\r\\nchateau-de-liquiere-faugeres-tucade-2015;1.5 kg;Languedoc-Roussillon;Ch\\xe2teau de La Liqui\\xe8re;Faug\\xe8res;Rouge;Carignan, Grenache, Mourv\\xe8dre;2017;10-15 ans;75cl;14,5%;16\\xb0C;Gibier, Li\\xe8vre, Viande rouge\\r\\nchateau-de-la-liquiere-faugeres-les-amandiers-rose-2019;1.5 kg;Languedoc-Roussillon;Ch\\xe2teau de La Liqui\\xe8re;Faug\\xe8res;Ros\\xe9;Cinsault, Grenache, Mourv\\xe8dre;2021;2 ans;75cl;13%;11\\xb0C;Ap\\xe9ritif, Cuisine Exotique, Grillades, Poisson grill\\xe9\\r\\nmoulin-gassac-igp-pays-herault-guilhem-rouge-2019;1.5 kg;Languedoc-Roussillon;Mas de Daumas Gassac;Pays d'H\\xe9rault;Rouge;Carignan, Grenache, Syrah;2021;3-5 ans;75cl;13%;17\\xb0C;Grillades, L\\xe9gumes croquants, Viande rouge\\r\\nmoulin-de-gassac-igp-pays-dherault-guilhem-rose-2019;1.5 kg;Languedoc-Roussillon;Mas de Daumas Gassac;Pays d'H\\xe9rault;Ros\\xe9;Carignan, Syrah;2021;2 ans;75cl;12%;11\\xb0C;Ap\\xe9ritif, Grillades, L\\xe9gumes croquants, Salade\\r\\nmas-de-daumas-gassac-igp-saint-guilhem-le-desert-2018;1.5 kg;Languedoc-Roussillon;Mas de Daumas Gassac;Saint-Guilhem-le-D\\xe9sert;Rouge;2,5% Malbec, 2% Pinot Noir, 3,8% Cabernet Franc, 5,3% Tannat, 5,4% Merlot, 72% Cabernet Sauvignon, 9% Vari\\xe9t\\xe9s rares;2019;15 ans et +;75cl;13,5%;18\\xb0C;Canard, Gibier, L\\xe9gumes du Soleil, Pigeon, Viande rouge\\r\\nmas-de-daumas-gassac-igp-saint-guilhem-le-desert-blanc-2019;1.5 kg;Languedoc-Roussillon;Mas de Daumas Gassac;Saint-Guilhem-le-D\\xe9sert;Blanc;13% Chenin, 14% Vari\\xe9t\\xe9s Rares, 21% Chardonnay, 25% Petit Manseng, 27% Viognier;2020;8-10 ans;75cl;14%;12\\xb0C;Asperges, Crustac\\xe9s, Fromage de ch\\xe8vre, Fromages, Poissons, Salade\\r\\nmas-laval-igp-pays-herault-pampres-blanc-2018;1.5 kg;Languedoc-Roussillon;Mas Laval;Pays d'H\\xe9rault;Blanc;Chardonnay, Roussanne, Viognier;2019;3 ans;75cl;13%;11\\xb0C;Crustac\\xe9s, Fromage de ch\\xe8vre, Fromages, Poissons, Salade\\r\\nmas-laval-igp-pays-dherault-les-pampres-rouges-2017;1.5 kg;Languedoc-Roussillon;Mas Laval;Pays d'H\\xe9rault;Rouge;Carignan, Grenache, Mourv\\xe8dre, Syrah;2018;3-5 ans;75cl;14%;15\\xb0C;Grillades, L\\xe9gumes croquants, Viande rouge\\r\\nmas-laval-terrasse-larzac-grande-cuvee-2016;1.5 kg;Languedoc-Roussillon;Mas Laval;Terrasses du Larzac;Rouge;Grenache, Mourv\\xe8dre, Syrah;2018;8-10 ans;75cl;14%;17\\xb0C;Grillades, L\\xe9gumes croquants, Viande rouge\\r\\nmontrose-cotes-de-thongue-2018;1.5 kg;Languedoc-Roussillon;Domaine Montrose;C\\xf4tes de Thongue;Rouge;Grenache, Merlot, Syrah;2019;4 ans;75cl;12,50%;15\\xb0C;Grillades, L\\xe9gumes croquants, Viande rouge\\r\\ndomaine-montrose-cotes-de-thongue-rose-2019;1.5 kg;Languedoc-Roussillon;Domaine Montrose;C\\xf4tes de Thongue;Ros\\xe9;Cabernet Sauvignon, Grenache, Syrah;2021;;75cl;12,50%;11\\xb0C;Ap\\xe9ritif, Grillades, L\\xe9gumes croquants, Salade\\r\\nlucien-boillot-nuits-saint-georges-1ercru-pruliers-2017;1.5 kg;Bourgogne;Lucien Boillot;Nuits-Saint-Georges 1er Cru;Rouge;Pinot Noir;2017;15 ans et +;75cl;13,5%;15\\xb0C;Canard, Gibier, Terrines, Viande rouge\\r\\nlucien-boillot-pommard-2017;1.5 kg;Bourgogne;Lucien Boillot;Pommard;Rouge;Pinot Noir;2019;10-15 ans;75cl;13,5%;15\\xb0C;Gibier, Terrines, Viande rouge\\r\\nlucien-boillot-volnay-2017;1.5 kg;Bourgogne;Lucien Boillot;Volnay;Rouge;Pinot Noir;2019;10-15 ans;75cl;13,5%;15\\xb0C;Risotto, Terrines, Viande rouge, Volaille\\r\\nlucien-boillot-volnay-1ercru-angles-2017;1.5 kg;Bourgogne;Lucien Boillot;Volnay 1er Cru;Rouge;Pinot Noir;2017;10-15 ans;75cl;13,5%;15\\xb0C;Risotto, Terrines, Viande rouge, Volaille\\r\\nmarc-colin-saint-aubin-luce-2017;1.5 kg;Bourgogne;Marc Colin;Saint-Aubin;Blanc;Chardonnay;2018;4-7 ans;75cl;13%;12\\xb0C;Bouch\\xe9es \\xe0 la Reine, Poisson en sauce, Risotto, Volaille\\r\\necu-muscadet-classic-2018;1.5 kg;Vall\\xe9e de la Loire;Domaine de l'Ecu;Muscadet;Blanc;Melon de Bourgogne;2018;3-5 ans;75cl;12%;11\\xb0C;Crustac\\xe9s, Fromage de ch\\xe8vre, Hu\\xeetres, Poisson grill\\xe9\\r\\ndomaine-de-lecu-muscadet-granite-2018;1.5 kg;Vall\\xe9e de la Loire;Domaine de l'Ecu;Muscadet;Blanc;Melon de Bourgogne;2018;6-8 ans;75cl;12%;11\\xb0C;Crustac\\xe9s, Fromage de ch\\xe8vre, Homard, Hu\\xeetres, Poisson grill\\xe9\\r\\ndomaine-de-lecu-muscadet-orthogneiss-2014;1.5 kg;Vall\\xe9e de la Loire;Domaine de l'Ecu;Muscadet;Blanc;Melon de Bourgogne;2018;6-8 ans;75cl;12%;11\\xb0C;Crustac\\xe9s, Cuisine Asiatique, Homard, Hu\\xeetres, Poisson grill\\xe9\\r\\nfrissant-chenin-pierres-2018;1.5 kg;Vall\\xe9e de la Loire;Xavier Frissant;Touraine Amboise;Blanc;Chenin;2018;3-5 ans;75cl;;11\\xb0C;Crustac\\xe9s, Poisson grill\\xe9, Viande Blanche\\r\\nxavier-frissant-touraine-roses-du-clos-2018;1.5 kg;Vall\\xe9e de la Loire;Xavier Frissant;Touraine;Blanc;Fi\\xe9 Gris;2019;3-5 ans;75cl;;11\\xb0C;Crustac\\xe9s, Poisson en sauce, Viande Blanche\\r\\nxavier-frissant-touraine-amboise-m-de-la-touche-2016;1.5 kg;Vall\\xe9e de la Loire;Xavier Frissant;Touraine Amboise;Rouge;C\\xf4t;2018;3-5 ans;75cl;;15\\xb0C;Poisson grill\\xe9, Viande rouge, Volaille\\r\\nxavier-frissant-touraine-sauvignon-2019;1.5 kg;Vall\\xe9e de la Loire;Xavier Frissant;Touraine;Blanc;Sauvignon Blanc;2020;3 ans;75cl;;11\\xb0C;Ap\\xe9ritif, Poisson grill\\xe9, Volaille\\r\\npierre-martin-sancerre-rouge-2017;1.5 kg;Vall\\xe9e de la Loire;Pierre Martin;Sancerre;Rouge;Pinot Noir;2019;5-7 ans;75cl;;15\\xb0C;Grillades, Lapin, Tourte, Volaille\\r\\npierre-martin-sancerre-chavignol-blanc-2019;1.5 kg;Vall\\xe9e de la Loire;Pierre Martin;Sancerre;Blanc;Sauvignon Blanc;2021;3-5 ans;75cl;;11\\xb0C;Crustac\\xe9s, Cuisine Asiatique, Fruits de mer, Poissons\\r\\ncotelleraie-saint-nicolas-croisee-2018;1.5 kg;Vall\\xe9e de la Loire;Domaine de La Cotelleraie;Saint-Nicolas-De-Bourgueil;Rouge;Cabernet Franc;2019;3-5 ans;75cl;12,50%;14\\xb0C;Charcuterie, Viande Blanche, Volaille\\r\\nbelliviere-jasnieres-rosiers-2015;1.5 kg;Vall\\xe9e de la Loire;Domaine de Bellivi\\xe8re;Saint-Nicolas-De-Bourgueil;Blanc;Chenin;2015;4-7 ans;75cl;12%;12\\xb0C;Crustac\\xe9s, Fromage de ch\\xe8vre, Poisson grill\\xe9\\r\\nmerieau-touraine-arpent-vaudons-2018;1.5 kg;Vall\\xe9e de la Loire;Domaine M\\xe9rieau;Touraine;Blanc;Sauvignon Blanc;2021;3 ans;75cl;12%;11\\xb0C;Crustac\\xe9s, Hu\\xeetres, Poisson grill\\xe9\\r\\ncatena-zapata-mendoza-alamos-malbec-2018;1.5 kg;Vins du Monde;S\\xe9lection de Vins Etrangers, Catena Zapata;Mendoza;Rouge;Malbec;2020;3-5 ans;75cl;12,50%;16\\xb0C;Gibier, Grillades, Viande rouge\\r\\ncatena-zapata-mendoza-alamos-chardonnay-2019;1.5 kg;Vins du Monde;S\\xe9lection de Vins Etrangers, Catena Zapata;Mendoza;Blanc;Chardonnay;2019;3-5 ans;75cl;13%;11\\xb0C;Crustac\\xe9s, Poisson grill\\xe9, Viande Blanche, Volaille\\r\\nmaroc-graillot-thaleb-tandem-syrah-2015;1.5 kg;Vins du Monde;Graillot-Thaleb;;Rouge;Syrah;2015;3-5 ans;75cl;13%;16\\xb0C;Couscous, Cuisine m\\xe9diterran\\xe9enne, Grillades, Viande rouge\\r\\naugustin-collioure-blanc-adeodat-2019;1.5 kg;Languedoc-Roussillon;Augustin;Collioure;Blanc;Grenache Blanc, Grenache Gris;2020;5-10 ans;75cl;14,5%;12\\xb0C;Poisson en sauce, Viande Blanche, Volaille\\r\\ndomaine-augustin-collioure-rouge-adeodat-2017;1.5 kg;Languedoc-Roussillon;Augustin;Collioure;Rouge;Carignan, Grenache;2019;10-15 ans;75cl;14,5%;16\\xb0C;Agneau, Charcuterie, Grillades, Viande rouge, Volaille\\r\\nparce-freres-hommage-fernand-blanc-2019;1.5 kg;Languedoc-Roussillon;Parc\\xe9 Fr\\xe8res;C\\xf4tes Catalanes;Blanc;Macabeu;2020;3-5 ans;75cl;12,50%;12\\xb0C;Charcuterie, Poisson grill\\xe9, Volaille\\r\\nparce-freres-cotes-roussillon-zoe-rouge-2018;1.5 kg;Languedoc-Roussillon;Parc\\xe9 Fr\\xe8res;C\\xf4tes du Roussillon Villages;Rouge;Carignan, Grenache;2020;3-5 ans;75cl;13,5%;16\\xb0C;Cuisine m\\xe9diterran\\xe9enne, Grillades, Viande rouge\\r\\npreceptorie-cotes-du-roussillon-coume-marie-2018;1.5 kg;Languedoc-Roussillon;La Preceptorie;;Rouge;Carignan, Grenache;2019;6-8 ans;75cl;15%;16\\xb0C;Grillades, Viande Blanche, Viande rouge\\r\\nparce-freres-igp-pays-oc-zoe-viognier-2019;1.5 kg;Languedoc-Roussillon;Parc\\xe9 Fr\\xe8res;Pays d'Oc;Blanc;Viognier;2019;3-5 ans;75cl;13,5%;11\\xb0C;Ap\\xe9ritif, Poissons, Salade, Volaille\\r\\nst-denis-macon-lugny-2017;1.5 kg;Bourgogne;Saint-Denis;M\\xe2con-Lugny;Blanc;Chardonnay;2018;3-5 ans;75cl;13,5%;11\\xb0C;Ap\\xe9ritif, Poissons, Salade, Volaille\\r\\ndomaine-saint-denis-macon-chardonnay-2017;1.5 kg;Bourgogne;Saint-Denis;M\\xe2con-Chardonnay;Blanc;Chardonnay;2017;3-5 ans;75cl;14%;11\\xb0C;Ap\\xe9ritif, Poissons, Salade, Volaille\\r\\ndomaine-saint-denis-bourgogne-clos-coque-2018;1.5 kg;Bourgogne;Saint-Denis;Bourgogne;Rouge;Pinot Noir;2019;3-5 ans;75cl;13%;14\\xb0C;Charcuterie, Tourte, Viande Blanche, Volaille\\r\\ndomaine-saint-denis-bourgogne-rouge-le-clos-2017;1.5 kg;Bourgogne;Saint-Denis;Bourgogne;Rouge;Pinot Noir;2019;3-5 ans;75cl;13,5%;14\\xb0C;Charcuterie, Tourte, Viande Blanche, Volaille\\r\\ndomaine-huet-vouvray-le-clos-du-bourg-moelleux-1ere-trie-2008;1.5 kg;Vall\\xe9e de la Loire;Huet;Vouvray;Blanc;Chenin;2008;15 ans et +;75cl;12,50%;11\\xb0C;Cuisine Exotique, Desserts, Foie gras, Sucr\\xe9-sal\\xe9\\r\\ndomaine-huet-vouvray-haut-lieu-sec-2016;1.5 kg;Vall\\xe9e de la Loire;Huet;Vouvray;Blanc;Chenin;2019;6-8 ans;75cl;13%;11\\xb0C;Ap\\xe9ritif, Fruits de mer, Poisson grill\\xe9, Volaille\\r\\ndomaine-huet-vouvray-le-mont-moelleux-2015;1.5 kg;Vall\\xe9e de la Loire;Huet;Vouvray;Blanc;Chenin;2003;15 ans et +;50cl;12,50%;10\\xb0C;Foie gras, Fromages persill\\xe9s\\r\\ndomaine-huet-vouvray-le-mont-sec-2017;1.5 kg;Vall\\xe9e de la Loire;Huet;Vouvray;Blanc;Chenin;2020;6-8 ans;75cl;13%;11\\xb0C;Ap\\xe9ritif, Crustac\\xe9s, Poissons, Viande Blanche\\r\\nchermette-vissoux-beaujolais-blanc-collonge-2017;1.5 kg;Beaujolais;Pierre-Marie Chermette;Beaujolais Blanc;Blanc;Chardonnay;2021;3-5 ans;75cl;13%;11\\xb0C;Crustac\\xe9s, Fromage de ch\\xe8vre, Fruits de mer, Poissons, Viande Blanche, Volaille\\r\\nchermette-domaine-du-vissoux-beaujolais-griottes-2018;1.5 kg;Beaujolais;Pierre-Marie Chermette;Beaujolais;Rouge;Gamay;2021;3-5 ans;75cl;12,50%;13\\xb0C;Charcuterie, Poissons, Salade, Volaille\\r\\nchermette-domaine-du-vissoux-brouilly-pierreux-2018;1.5 kg;Beaujolais;Pierre-Marie Chermette;Brouilly;Rouge;Gamay;2019;4-7 ans;75cl;13%;13\\xb0C;Charcuterie, Poissons, Salade, Volaille\\r\\nchermette-domaine-du-vissoux-fleurie-poncie-2018;1.5 kg;Beaujolais;Pierre-Marie Chermette;Fleurie;Rouge;Gamay;2021;4-7 ans;75cl;13%;13\\xb0C;Charcuterie, Poissons, Salade, Volaille\\r\\nchermette-domaine-du-vissoux-moulin-a-vent-trois-roches-2018;1.5 kg;Beaujolais;Pierre-Marie Chermette;Moulin \\xe0 Vent;Rouge;Gamay;2018;6-8 ans;75cl;13%;15\\xb0C;Charcuterie, Lapin, Viande rouge, Volaille\\r\\nbulliat-beaujolais-villages-bibine-2018;1.5 kg;Beaujolais;Bulliat;Beaujolais Villages;Rouge;Gamay;2020;3 ans;75cl;12,50%;13\\xb0C;Charcuterie, Salade, Viande Blanche, Volaille\\r\\ndomaine-bulliat-morgon-amphore-cou-de-jus-2019;1.5 kg;Beaujolais;Bulliat;Morgon;Rouge;Gamay;2020;6-8 ans;75cl;13%;15\\xb0C;Charcuterie, Salade, Viande Blanche, Viande rouge, Volaille\\r\\ndomaine-bulliat-morgon-colombier-2019;1.5 kg;Beaujolais;Bulliat;Morgon;Rouge;Gamay;2021;3-5 ans;75cl;13%;15\\xb0C;Charcuterie, Salade, Viande Blanche, Viande rouge, Volaille\\r\\nserol-cote-roannaise-originelles-2019;1.5 kg;Vall\\xe9e de la Loire;St\\xe9phane S\\xe9rol;C\\xf4te Roannaise;Rouge;Gamay;2019;3-5 ans;75cl;12%;14\\xb0C;Charcuterie, Viande Blanche, Volaille\\r\\ndomaine-serol-cote-roannaise-millerands-2018;1.5 kg;Vall\\xe9e de la Loire;St\\xe9phane S\\xe9rol;C\\xf4te Roannaise;Rouge;Gamay;2018;5-7 ans;75cl;12%;15\\xb0C;Charcuterie, Viande Blanche, Viande rouge, Volaille\\r\\ndomaine-serol-cote-roannaise-perdriziere-2016;1.5 kg;Vall\\xe9e de la Loire;St\\xe9phane S\\xe9rol;C\\xf4te Roannaise;Rouge;Gamay;2016;5-7 ans;75cl;12,50%;16\\xb0C;Viande en sauce, Viande rouge, Volaille\\r\\ndomaine-serol-cote-roannaise-cabochard-2016;1.5 kg;Vall\\xe9e de la Loire;St\\xe9phane S\\xe9rol;C\\xf4te Roannaise;Ros\\xe9;Gamay;2016;3 ans;75cl;12,50%;10\\xb0C;Ap\\xe9ritif, Desserts, Grillades, Poisson grill\\xe9, Salade\\r\\ndomaine-serol-mousseux-turbullent;1.5 kg;Vall\\xe9e de la Loire;St\\xe9phane S\\xe9rol;Vin Mousseux;;Gamay;;3 ans;75cl;8,5%;9\\xb0C;Ap\\xe9ritif, Desserts\\r\\ni-fabbri-chianti-classico-lamole-2017;1.5 kg;Italie;I Fabbri;Chianti Classico;Rouge;Sangiovese;2018;6-8 ans;75cl;13,5%;15\\xb0C;P\\xe2tes, Pizza, Viande rouge\\r\\ni-fabbri-chianti-classico-terra-di-lamole-2015;1.5 kg;Italie;I Fabbri;Chianti Classico;Rouge;10% Canaiolo Nero, 90% Sangiovese;2019;8-10 ans;75cl;13,5%;16\\xb0C;P\\xe2tes, Pizza, Veau, Viande rouge, Volaille\\r\\ni-fabbri-chianti-classico-riserva-2015;1.5 kg;Italie;I Fabbri;Chianti Classico;Rouge;5% Canaiolo, 95% Sangiovese;2016;10-15 ans;75cl;13,5%;16\\xb0C;Veau, Viande rouge, Volaille\\r\\ncazeneuve-languedoc-blanc-2016;1.5 kg;Languedoc-Roussillon;Ch\\xe2teau de Cazeneuve;Languedoc;Blanc;Grenache Blanc, Roussanne, Vermentino, Viognier;2017;4-7 ans;75cl;14,5%;12\\xb0C;Blanquette de veau, Poisson en sauce, Volaille\\r\\nchateau-de-cazeneuve-val-montferrand-caza-sorix-2019;1.5 kg;Languedoc-Roussillon;Ch\\xe2teau de Cazeneuve;Pic Saint-Loup;Rouge;Carignan, Merlot, Sangiovese;2019;3-5 ans;75cl;13%;15\\xb0C;Grillades, Viande Blanche, Viande rouge, Volaille\\r\\nchateau-de-cazeneuve-pic-saint-loup-roc-des-mates-2017;1.5 kg;Languedoc-Roussillon;Ch\\xe2teau de Cazeneuve;Pic Saint-Loup;Rouge;Cinsault, Grenache, Syrah;;8-10 ans;75cl;15%;16\\xb0C;Grillades, Viande Blanche, Viande rouge, Volaille\\r\\nchateau-de-cazeneuve-pic-saint-loup-le-sang-du-calvaire-2017;1.5 kg;Languedoc-Roussillon;Ch\\xe2teau de Cazeneuve;Pic Saint-Loup;Rouge;5% Syrah, 95% Mourv\\xe8dre;2019;10-15 ans;75cl;15%;16\\xb0C;Grillades, Viande Blanche, Viande rouge, Volaille\\r\\nhauvette-baux-provence-amethyste-2017;1.5 kg;Provence;Domaine Hauvette;Les Baux de Provence;Rouge;Carignan, Cinsault, Grenache;2018;10-15 ans;75cl;12,50%;16\\xb0C;Grillades, L\\xe9gumes du Soleil, Mouton, Viande rouge\\r\\ndomaine-hauvette-cornaline-2014;1.5 kg;Provence;Domaine Hauvette;Les Baux de Provence;Rouge;Cabernet Sauvignon, Grenache, Syrah;2014;10-15 ans;75cl;13,5%;16\\xb0C;Grillades, L\\xe9gumes du Soleil, Mouton, Viande rouge\\r\\nla-tour-du-bon-bandol-blanc-2019;1.5 kg;Provence;La Tour Du Bon;Bandol;Blanc;Clairette, Rolle, Ugni Blanc;2021;3-5 ans;75cl;13%;11\\xb0C;Ap\\xe9ritif, Fromage de ch\\xe8vre, Poisson grill\\xe9, Salade\\r\\ndomaine-de-la-tour-du-bon-bandol-2018;1.5 kg;Provence;La Tour Du Bon;Bandol;Rouge;Carignan, Cinsault, Grenache, Mourv\\xe8dre;2019;6-8 ans;75cl;14%;18\\xb0C;Gibier, Viande rouge\\r\\ndomaine-de-la-tour-du-bon-bandol-saint-ferreol-2018;1.5 kg;Provence;La Tour Du Bon;Bandol;Rouge;10% Carignan, 90% Mourv\\xe8dre;2018;15 ans et +;75cl;15%;17\\xb0C;Gibier, Viande rouge\\r\\ndomaine-de-la-tour-du-bandol-en-sol-2017;1.5 kg;Provence;La Tour Du Bon;Bandol;Rouge;Mourv\\xe8dre;2018;5-10 ans;75cl;14%;17\\xb0C;Grillades, L\\xe9gumes du Soleil, Viande rouge\\r\\ndomaine-de-la-tour-du-bon-bandol-rose-2019;1.5 kg;Provence;La Tour Du Bon;Bandol;Ros\\xe9;Cinsault, Clairette, Grenache, Mourv\\xe8dre;2021;3-5 ans;75cl;13%;12\\xb0C;Couscous, Fruits de mer, Grillades, L\\xe9gumes du Soleil, Poisson grill\\xe9\\r\\nidylle-savoie-cruet-2018;1.5 kg;Savoie;Domaine de l'Idylle;Savoie;Blanc;Jacqu\\xe8re;2018;3-5 ans;75cl;11,5%;11\\xb0C;Ap\\xe9ritif, Fondues, Fromages, Poisson grill\\xe9, Raclettes, Viande Blanche\\r\\ndomaine-de-lidylle-savoie-roussette-2018;1.5 kg;Savoie;Domaine de l'Idylle;Roussette de Savoie;Blanc;Altesse;2018;3-5 ans;75cl;13%;12\\xb0C;Ap\\xe9ritif, Fondues, Fromages, Poisson grill\\xe9, Raclettes, Viande Blanche\\r\\ndomaine-de-lidylle-savoie-mondeuse-2018;1.5 kg;Savoie;Domaine de l'Idylle;Savoie;Rouge;Mondeuse;2018;3-5 ans;75cl;11,5%;14\\xb0C;Charcuterie, Fromages, Gigot\\r\\nchampagne-gosset-grand-blanc-de-blanc;1.5 kg;Champagne;Gosset;Champagne;Blanc;Chardonnay;;4 ans;75cl;12%;10\\xb0C;Ap\\xe9ritif, Coquilles Saint Jacques, Hu\\xeetres, Poissons\\r\\nchampagne-mailly-grand-cru-blanc-de-pinot-noir;1.5 kg;Champagne;Mailly Grand Cru;Champagne;Blanc;Pinot Noir;;4 ans;75cl;12%;10\\xb0C;Coquilles Saint Jacques, Foie gras, Poissons, Volaille\\r\\nchampagne-mailly-grand-cru-les-echansons-2007;1.5 kg;Champagne;Mailly Grand Cru;Champagne;Blanc;25% Chardonnay, 75% Pinot Noir;;6-8 ans;75cl;12%;10\\xb0C;Coquilles Saint Jacques, Foie gras, Poissons, Volaille\\r\\nchampagne-egly-ouriet-tradition-grand-cru;1.5 kg;Champagne;Egly-Ouriet;Champagne;Blanc;30% Chardonnay, 70% Pinot Noir;;3-5 ans;75cl;12,50%;10\\xb0C;Ap\\xe9ritif, Crustac\\xe9s, Desserts, Poissons\\r\\nchampagne-egly-ouriet-extra-brut-vp;1.5 kg;Champagne;Egly-Ouriet;Champagne;Blanc;30% Chardonnay, 70% Pinot Noir;;6-8 ans;75cl;12,50%;10\\xb0C;Ap\\xe9ritif, Crustac\\xe9s, Desserts, Poissons\\r\\nchampagne-egly-ouriet-grand-cru-millesime-2008;1.5 kg;Champagne;Egly-Ouriet;Champagne;Blanc;30% Chardonnay, 70% Pinot Noir;;10 ans et +;75cl;12,50%;10\\xb0C;Ap\\xe9ritif, Crustac\\xe9s, Desserts, Poissons\\r\\nchampagne-egly-ouriet-grand-cru-brut-rose;1.5 kg;Champagne;Egly-Ouriet;Champagne;;35% Chardonnay, 65% Pinot Noir;;3-5 ans;75cl;12,50%;10\\xb0C;Ap\\xe9ritif, Desserts, Tartes aux fruits\\r\\nchampagne-egly-ouriet-grand-cru-brut-blanc-de-noirs;1.5 kg;Champagne;Egly-Ouriet;Champagne;Blanc;Pinot Noir;;5-10 ans;75cl;12,50%;10\\xb0C;Ap\\xe9ritif, Desserts, Tartes aux fruits\\r\\nchampagne-egly-ouriet-premier-cru-vrigny;1.5 kg;Champagne;Egly-Ouriet;Champagne;Blanc;100% Pinot Meunier;;3-5 ans;75cl;12,50%;10\\xb0C;Ap\\xe9ritif, Desserts\\r\\nchampagne-larmandier-bernier-latitude;1.5 kg;Champagne;Larmandier-Bernier;Champagne;Blanc;Chardonnay;;3-5 ans;75cl;12,50%;10\\xb0C;Ap\\xe9ritif, Crustac\\xe9s, Desserts, Poissons\\r\\nchampagne-larmandier-bernier-vieilles-vignes-levant-2008;1.5 kg;Champagne;Larmandier-Bernier;Champagne;Blanc;Chardonnay;;8-10 ans;75cl;12,50%;10\\xb0C;Ap\\xe9ritif, Crustac\\xe9s, Desserts, Poissons\\r\\nwhisky-wemyss-the-hive;1.5 kg;;;;;;;;70cl;46%;;\\r\\nwhisky-wemyss-peat-chimney;1.5 kg;;;;;;;;70cl;46%;;\\r\\nwhisky-wemyss-spice-king;1.5 kg;;;;;;;;70cl;46%;;\\r\\nwhisky-wemyss-vanilla-burst;1.5 kg;;;;;;;;70cl;46%;;\\r\\nwhisky-wemyss-treacle-chest;1.5 kg;;;;;;;;70cl;46%;;\\r\\nwhisky-lord-elcho;1.5 kg;;;;;;;;70cl;40%;;\\r\\nwhisky-wemyss-the-hive-12-ans;1.5 kg;;;;;;;;70cl;40%;;\\r\\nwhisky-wemyss-the-hive-batch-strength;1.5 kg;;;;;;;;70cl;54,5%;;\\r\\nwhisky-wemyss-peat-chimney-batch-strength;1.5 kg;;;;;;;;70cl;57%;;\\r\\nwhisky-wemyss-spice-king-batch-strength;1.5 kg;;;;;;;;70cl;57%;;\\r\\ncognac-frapin-1270;1.5 kg;;;Cognac Grande Champagne 1er Cru;;;;;70cl;40%;;\\r\\ncognac-frapin-vsop;1.5 kg;;;Cognac Grande Champagne 1er Cru;;;;;70cl;40%;;\\r\\ncognac-frapin-vip-xo;1.5 kg;;;Cognac Grande Champagne 1er Cru;;;;;70cl;40%;;\\r\\ncognac-frapin-fontpinot-xo;1.5 kg;;;Cognac Grande Champagne 1er Cru;;;;;70cl;41%;;\\r\\ncognac-frapin-chateau-de-fontpinot-xo-1-2;1.5 kg;;;Cognac Grande Champagne 1er Cru;;;;;70cl;41%;;\\r\\ncognac-frapin-chateau-de-fontpinot-1989-20-ans;1.5 kg;;;Cognac Grande Champagne 1er Cru;;;;;70cl;41,3%;;\\r\\ncognac-frapin-cigar-blend;1.5 kg;;;Cognac Grande Champagne 1er Cru;;;;;70cl;40%;;\\r\\nmontcalmes-larzac-rouge-2017;1.5 kg;Languedoc-Roussillon;Domaine de Montcalm\\xe8s;Terrasses du Larzac;Rouge;Grenache, Mourv\\xe8dre, Syrah;2019;8-10 ans;75cl;14%;15\\xb0C;Agneau, Grillades, Tajine, Viande rouge\\r\\ndomaine-giudicelli-vfd-ete-rouge-2018;1.5 kg;Corse;Domaine Giudicelli;;Rouge;Grenache, Sciacarello;2018;3 ans;75cl;13,5%;13\\xb0C;Ap\\xe9ritif, Charcuterie, Fromages, Poissons, Volaille\\r\\ndomaine-de-montcalmes-ct-languedoc-blanc-2017;1.5 kg;Languedoc-Roussillon;Domaine de Montcalm\\xe8s;Coteaux du Languedoc;Blanc;Marsanne, Roussanne;2018;5-10 ans;75cl;13,5%;12\\xb0C;Fromages, Poisson en sauce, Volaille\\r\\nmarc-colin-et-fils-chassagne-montrachet-blanc-margot-2017;1.5 kg;Bourgogne;Marc Colin;Chassagne-Montrachet;Blanc;Chardonnay;2018;4-7 ans;75cl;13%;12\\xb0C;Bouch\\xe9es \\xe0 la Reine, Ris de veau, Risotto, Volaille\\r\\nmarc-colin-et-fils-saint-aubin-en-montceau-2017;1.5 kg;Bourgogne;Marc Colin;Saint-Aubin;Blanc;Chardonnay;2018;4-7 ans;75cl;13%;12\\xb0C;Bouch\\xe9es \\xe0 la Reine, Dorade Grill\\xe9e, Ris de veau, Volaille\\r\\nmarc-colin-et-fils-chassagne-montrachet-rouge-vieilles-vignes-2017;1.5 kg;Bourgogne;Marc Colin;Chassagne-Montrachet;Rouge;Pinot Noir;2018;4-7 ans;75cl;13%;15\\xb0C;Entrec\\xf4te, Foie de Veau, Terrine de Lapin\\r\\ncatherine-et-claude-marechal-bourgogne-aligote-2018;1.5 kg;Bourgogne;Catherine et Claude Mar\\xe9chal;Bourgogne Aligot\\xe9;Blanc;Aligot\\xe9;2018;3-5 ans;75cl;12,50%;12\\xb0C;Andouillettes, Escargots de Bourgogne, Fromages, Jambon persill\\xe9\\r\\ncatherine-et-claude-marechal-chorey-les-beaune-2017;1.5 kg;Bourgogne;Catherine et Claude Mar\\xe9chal;Chorey-L\\xe8s-Beaune;Rouge;Pinot Noir;2017;4-7 ans;75cl;13%;15\\xb0C;Carrelet au cidre, Gratin de chou-fleur\\r\\ncatherine-et-claude-marechal-ladoix-rouge-les-chaillots-2017;1.5 kg;Bourgogne;Catherine et Claude Mar\\xe9chal;Ladoix;Rouge;Pinot Noir;2017;4-7 ans;75cl;13%;15\\xb0C;Boeuf bourguignon, Jambon de Parme, Lapin\\r\\ncatherine-et-claude-marechal-volnay-2017;1.5 kg;Bourgogne;Catherine et Claude Mar\\xe9chal;Volnay;Rouge;Pinot Noir;2017;8-10 ans;75cl;13,5%;15\\xb0C;Fondue Bourguignonne, Fricass\\xe9 aux c\\xe8pes, Risotto aux champignons, Terrine de dinde\\r\\nfrancois-bergeret-hautes-cotes-de-beaune-rouge-2017;1.5 kg;Bourgogne;Fran\\xe7ois Bergeret;Hautes C\\xf4tes de Beaune;Rouge;Pinot Noir;2017;3-5 ans;75cl;13,5%;15\\xb0C;Fondue Bourguignonne, Fricass\\xe9 aux c\\xe8pes, Risotto aux champignons, Terrine de dinde\\r\\nfrancois-bergeret-hautes-cotes-de-beaune-blanc-2018;1.5 kg;Bourgogne;Fran\\xe7ois Bergeret;Hautes C\\xf4tes de Beaune;Blanc;Chardonnay;2019;3-5 ans;75cl;13%;12\\xb0C;Charcuterie, Fromages, Poisson en sauce, Volaille\\r\\ngilbert-picq-chablis-vosgros-1er-cru-2017;1.5 kg;Bourgogne;Gilbert Picq;Chablis;Blanc;Chardonnay;2019;4-7 ans;75cl;12,50%;12\\xb0C;Ap\\xe9ritif, Fruits de mer, Hu\\xeetres, Poisson grill\\xe9\\r\\ngilbert-picq-chablis-vieilles-vignes-2017;1.5 kg;Bourgogne;Gilbert Picq;Chablis;Blanc;Chardonnay;2018;3-5 ans;75cl;12,50%;12\\xb0C;Ap\\xe9ritif, Fruits de mer, Hu\\xeetres, Poisson grill\\xe9\\r\\ngilbert-picq-chablis-2017;1.5 kg;Bourgogne;Gilbert Picq;Chablis;Blanc;Chardonnay;2019;3-5 ans;75cl;12,50%;12\\xb0C;Ap\\xe9ritif, Fruits de mer, Hu\\xeetres, Poisson grill\\xe9\\r\\ngilbert-picq-chablis-en-vaudecorse-2017;1.5 kg;Bourgogne;Gilbert Picq;Chablis;Blanc;Chardonnay;2019;4-7 ans;75cl;12,50%;12\\xb0C;Ap\\xe9ritif, Fruits de mer, Hu\\xeetres, Poisson grill\\xe9\\r\\nalphonse-mellot-sancerre-blanc-la-moussiere-2018;1.5 kg;Vall\\xe9e de la Loire;Alphonse Mellot;Sancerre;Blanc;Sauvignon Blanc;2020;4-7 ans;75cl;12,50%;12\\xb0C;Ap\\xe9ritif, Fruits de mer, Hu\\xeetres, Poisson grill\\xe9\\r\\nalphonse-mellot-sancerre-rouge-la-demoiselle-2015;1.5 kg;Vall\\xe9e de la Loire;Alphonse Mellot;Sancerre;Rouge;Pinot Noir;2015;10-15 ans;75cl;13%;15\\xb0C;canard sauvage aux \\xe9pices, Oeufs poch\\xe9s sauce vigneronne aux c\\xe8pes, Poires \\xe0 la cannelle\\r\\nalphonse-mellot-sancerre-rouge-generation-xix-2011;1.5 kg;Vall\\xe9e de la Loire;Alphonse Mellot;Sancerre;Rouge;Pinot Noir;2012;10-15 ans;75cl;13%;15\\xb0C;Filet de sandre et de silure \\xe0 la vigneronne, fricass\\xe9e de champignons, matelote d'anguille \\xe0 la Charentaise, Oeufs en meurette\\r\\nalphonse-mellot-sancerre-rouge-la-moussiere-2014;1.5 kg;Vall\\xe9e de la Loire;Alphonse Mellot;Sancerre;Rouge;Pinot Noir;2019;5-10 ans;75cl;13%;15\\xb0C;Blanquette de veau, Cabillaud sauce vigneronne, T\\xeate de veau sauce gribiche, Tourte de cailles aux c\\xe8pes\\r\\nalphonse-mellot-sancerre-rouge-en-grands-champs-2012;1.5 kg;Vall\\xe9e de la Loire;Alphonse Mellot;Sancerre;Rouge;Pinot Noir;2016;5-15 ans;75cl;13%;15\\xb0C;C\\x9cur de pav\\xe9 de Charolais \\xe0 la moelle, Soupe de p\\xeaches de vigne \\xe0 l'anis \\xe9toil\\xe9e, Terrine de foies de volailles \\xe0 la confiture d'oignon\\r\\nbernard-baudry-chinon-rouge-les-granges-2018;1.5 kg;Vall\\xe9e de la Loire;Bernard Baudry;Chinon;Rouge;Cabernet Franc;2020;3-5 ans;75cl;12%;15\\xb0C;Charcuterie, Fromages, R\\xf4ti de Porc, Viande rouge\\r\\nbernard-baudry-chinon-rouge-les-grezeaux-2017;1.5 kg;Vall\\xe9e de la Loire;Bernard Baudry;Chinon;Rouge;Cabernet Franc;2019;5-10 ans;75cl;13%;15\\xb0C;Charcuterie, \\xc9paule farcie de mouton berrichon du cher, Fromages, R\\xf4ti de Porc, Viande rouge\\r\\nmarcel-windholtz-eau-de-vie-de-sureau;1.5 kg;Alsace;;;;;;;70cl;45%;;\\r\\nmarcel-windholtz-eau-de-vie-de-sureau-copie;1.5 kg;Alsace;;;;;;;70cl;45%;;\\r\\nmarcel-windholtz-eau-de-vie-de-poire-williams-reserve-particuliere;1.5 kg;Alsace;;;;;;;70cl;45%;;\\r\\nmarcel-windholtz-eau-de-vie-de-marc-de-muscat;1.5 kg;Alsace;;;;;;;70cl;45%;;\\r\\nmarcel-windholtz-eau-de-vie-de-fraise;1.5 kg;Alsace;;;;;;;70cl;45%;;\\r\\nmarcel-windholtz-eau-de-vie-de-coing;1.5 kg;Alsace;;;;;;;70cl;45%;;\\r\\nmarcel-windholtz-eau-de-vie-de-baie-de-houx;1.5 kg;Alsace;;;;;;;70cl;45%;;\\r\\nmarcel-windholtz-eau-de-quetsch-dalsace-reserve-particuliere;1.5 kg;Alsace;;;;;;;70cl;45%;;\\r\\nmarcel-windholtz-eau-de-mirabelle-dalsace-reserve-particuliere;1.5 kg;Alsace;;;;;;;70cl;45%;;\\r\\nmarcel-windholtz-eau-de-marc-de-gewurztraminer;1.5 kg;Alsace;;;;;;;70cl;45%;;\\r\\nmarcel-windholtz-eau-de-vie-de-kirsch-dalsace-reserve-particuliere;1.5 kg;Alsace;;;;;;;70cl;45%;;\\r\\nmarcel-windholtz-eau-de-vie-de-framboise-dalsace;1.5 kg;Alsace;;;;;;;70cl;45%;;\\r\\nbernard-baudry-chinon-rouge-clos-guillot-2017;1.5 kg;Vall\\xe9e de la Loire;Bernard Baudry;Chinon;Rouge;Cabernet Franc;2019;5-10 ans;75cl;12,50%;15\\xb0C;Charcuterie, \\xc9paule farcie de mouton berrichon du cher, Fromages, R\\xf4ti de Porc, Viande rouge\\r\\nbernard-baudry-chinon-blanc-croix-boissee-2018;1.5 kg;Vall\\xe9e de la Loire;Bernard Baudry;Chinon;Blanc;Chenin;2020;5-10 ans;75cl;12,50%;12\\xb0C;Risotto saumon, Salade de ch\\xe8vre chaud, Saumon au beurre blanc\\r\\nbernard-baudry-chinon-blanc-2018;1.5 kg;Vall\\xe9e de la Loire;Bernard Baudry;Chinon;Blanc;Chenin;2019;3-5 ans;75cl;12,50%;12\\xb0C;Risotto saumon, Salade de ch\\xe8vre chaud, Saumon au beurre blanc\\r\\nthierry-germain-saumur-blanc-linsolite-2018;1.5 kg;Vall\\xe9e de la Loire;Thierry Germain;Saumur Blanc;Blanc;Chenin;2019;5-7 ans;75cl;12,50%;12\\xb0C;Risotto saumon, Salade de ch\\xe8vre chaud, Saumon au beurre blanc\\r\\nthierry-germain-saumur-blanc-terres-2014;1.5 kg;Vall\\xe9e de la Loire;Thierry Germain;Saumur Blanc;Blanc;Chenin;2014;6-8 ans;75cl;12,50%;12\\xb0C;Sushis, Tartare de saumon\\r\\nthierry-germain-saumur-champigny-franc-de-pied-2016;1.5 kg;Vall\\xe9e de la Loire;Thierry Germain;Saumur-Champigny;Rouge;Cabernet Franc;2016;5-10 ans;75cl;13%;15\\xb0C;Gibier, Tartare de Boeuf, Viande rouge\\r\\nthierry-germain-saumur-champigny-outre-terre-2014;1.5 kg;Vall\\xe9e de la Loire;Thierry Germain;Saumur-Champigny;Rouge;Cabernet Franc;2014;10-15 ans;75cl;13%;15\\xb0C;Boudin aux pommes, Gibier, Queue de boeuf \\xe0 la cuilli\\xe8re, Tartare de Boeuf, Viande rouge\\r\\nthierry-germain-saumur-champigny-outre-terre-2016;1.5 kg;Vall\\xe9e de la Loire;Thierry Germain;Saumur-Champigny;Rouge;Cabernet Franc;2016;10-15 ans;75cl;13%;15\\xb0C;Boudin aux pommes, Gibier, Queue de boeuf \\xe0 la cuilli\\xe8re, Tartare de Boeuf, Viande rouge\\r\\npierre-martin-sancerre-les-monts-damnes-2018;1.5 kg;Vall\\xe9e de la Loire;Pierre Martin;Sancerre;Blanc;Sauvignon Blanc;2019;3-5 ans;75cl;;11\\xb0C;Crustac\\xe9s, Cuisine Asiatique, Fruits de mer, Poissons\\r\\nla-cotelleraie-saint-nicolas-de-bourgueil-le-vau-jaumier-2016;1.5 kg;Vall\\xe9e de la Loire;Domaine de La Cotelleraie;Saint-Nicolas-De-Bourgueil;Rouge;Cabernet Franc;2017;5-10 ans;75cl;12,50%;15\\xb0C;Araign\\xe9e de Boeuf, Civet de Lapin, Cochon de lait r\\xf4ti au four\\r\\nvincent-careme-vouvray-sec-2018;1.5 kg;Vall\\xe9e de la Loire;Vincent Car\\xeame;Vouvray;Blanc;Chenin;2020;3-5 ans;75cl;13,5%;11\\xb0C;Ap\\xe9ritif, Crustac\\xe9s, Fruits de mer, Poissons, Viande Blanche\\r\\nvincent-careme-vouvray-moelleux-2015;1.5 kg;Vall\\xe9e de la Loire;Vincent Car\\xeame;Vouvray;Blanc;Chenin;2015;3-5 ans;75cl;12,50%;11\\xb0C;Ap\\xe9ritif, Foie gras, Tartes aux fruits\\r\\nxavier-frissant-touraine-amboise-loree-des-frenes-2015;1.5 kg;Vall\\xe9e de la Loire;Xavier Frissant;Touraine Amboise;Rouge;C\\xf4t;2016;3-5 ans;75cl;;15\\xb0C;Poisson grill\\xe9, Viande rouge, Volaille\\r\\npelle-menetou-salon-blanc-le-carroir-2018;1.5 kg;Vall\\xe9e de la Loire;Henry Pell\\xe9;Menetou-Salon;Blanc;Sauvignon Blanc;2019;6-8 ans;75cl;;12\\xb0C;Boudin blanc aux morilles, Cabillaud r\\xf4ti, Marinade d'anchois frais\\r\\npelle-menetou-salon-blanc-morogues-2018;1.5 kg;Vall\\xe9e de la Loire;Henry Pell\\xe9;Menetou-Salon;Blanc;Sauvignon Blanc;2020;3-5 ans;75cl;;12\\xb0C;Ap\\xe9ritif, Fromage de ch\\xe8vre, Fruits de mer, Sole grill\\xe9e\\r\\npelle-menetou-salon-rouge-les-cris-2015;1.5 kg;Vall\\xe9e de la Loire;Henry Pell\\xe9;Menetou-Salon;Rouge;Pinot Noir;2015;6-8 ans;75cl;;15\\xb0C;Blanquette de veau, Lamproie au vin rouge, T\\xeate de veau, Viande rouge\\r\\npelle-menetou-salon-rouge-morogues-2017;1.5 kg;Vall\\xe9e de la Loire;Henry Pell\\xe9;Menetou-Salon;Rouge;Pinot Noir;2019;3-5 ans;75cl;;15\\xb0C;Grillades, Viande rouge, Volaille\\r\\npelle-sancerre-rouge-la-croix-au-garde-2017;1.5 kg;Vall\\xe9e de la Loire;Henry Pell\\xe9;Sancerre;Rouge;Pinot Noir;2018;4-7 ans;75cl;;15\\xb0C;Grillades, Viande rouge, Volaille\\r\\npelle-sancerre-blanc-la-croix-au-garde-2018;1.5 kg;Vall\\xe9e de la Loire;Henry Pell\\xe9;Sancerre;Blanc;Sauvignon Blanc;2019;4-7 ans;75cl;;15\\xb0C;Fromage de ch\\xe8vre, Fruits de mer, Poissons\\r\\ndomaine-rotier-gaillac-blanc-sec-renaissance-2015;1.5 kg;Sud Ouest;Rotier;Gaillac;Blanc;20% Sauvignon, 80% Loin de l'oeil;2015;3-5 ans;75cl;;11\\xb0C;Fromage de ch\\xe8vre, Poissons, Volaille\\r\\ndomaine-rotier-gaillac-blanc-doux-les-gravels-2016;1.5 kg;Sud Ouest;Rotier;Gaillac;Blanc;20% Sauvignon, 80% Loin de l'oeil;2016;5-10 ans;75cl;;10\\xb0C;Desserts, Foie gras, Tartes aux fruits\\r\\ndomaine-rotier-gaillac-rouge-les-gravels-2016;1.5 kg;Sud Ouest;Rotier;Gaillac;Rouge;Braucol, Duras, Prunelart, Syrah;2016;3-5 ans;75cl;;17\\xb0C;Cassoulet, Grillades, Magret de Canard, Viande rouge\\r\\ndomaine-rotier-gaillac-rouge-lame-2016;1.5 kg;Sud Ouest;Rotier;Gaillac;Rouge;40% Syrah, 60% Duras;2016;15 ans et +;75cl;;17\\xb0C;Cassoulet, Gibier, Grillades, Magret de Canard, Viande rouge\\r\\ndomaine-rotier-gaillac-rouge-renaissance-2016;1.5 kg;Sud Ouest;Rotier;Gaillac;Rouge;30% Cabernet Sauvignon, 30% Syrah, 40% Duras;2016;6-8 ans;75cl;;17\\xb0C;Cassoulet, Gibier, Gigot, Magret de Canard, Viandes marin\\xe9es\\r\\ndomaine-de-joy-cotes-de-gascogne-envie-de-joy-2018;1.5 kg;Sud Ouest;Domaine de Joy;C\\xf4te de Gascogne;Blanc;Colombard, Gros Manseng, Ugni Blanc;2018;3-5 ans;75cl;12,50%;11\\xb0C;Ap\\xe9ritif, Crustac\\xe9s, Fromage de ch\\xe8vre, Poisson grill\\xe9\\r\\ndomaine-de-joy-cotes-de-gascogne-blanc-moelleux-saint-andre-2018;1.5 kg;Sud Ouest;Domaine de Joy;C\\xf4te de Gascogne;Blanc;Gros Manseng;2020;3-5 ans;75cl;12,50%;11\\xb0C;Chocolat, Foie gras, Fromage bleu, Tartes aux fruits\\r\\nchateau-plaisance-fronton-2017;1.5 kg;Sud Ouest;Ch\\xe2teau Plaisance;Fronton;Rouge;24% Syrah, 68% Negrette, 8% Cabernet-Franc;2018;3-5 ans;75cl;12,50%;14\\xb0C;Charcuterie, Jambon de Bayonne, Saucisse de Toulouse\\r\\nchateau-plaisance-fronton-rose-2019;1.5 kg;Sud Ouest;Ch\\xe2teau Plaisance;Fronton;Ros\\xe9;15% Syrah, 25% Gamay, 60% Negrette;2019;3-5 ans;75cl;12,50%;11\\xb0C;Ap\\xe9ritif, Charcuterie, Jambon de Bayonne, Salade\\r\\nchateau-plaisance-fronton-to-co-que-cal-2015;1.5 kg;Sud Ouest;Ch\\xe2teau Plaisance;Fronton;Rouge;Negrette;;10-15 ans;75cl;13%;16\\xb0C;Charcuterie, Cou d'oie confit, Escaoudon Landais, Jambon de Bayonne\\r\\nmatthieu-cosse-cahors-solis-2018;1.5 kg;Sud Ouest;Matthieu Cosse;Cahors;Rouge;Malbec;2018;6-8 ans;75cl;13%;16\\xb0C;Confit de canard, Filet de boeuf, Li\\xe8vre \\xe0 la broche\\r\\nmatthieu-cosse-cahors-le-sid-2014;1.5 kg;Sud Ouest;Matthieu Cosse;Cahors;Rouge;Malbec, Merlot, Tannat;2014;15 ans et +;75cl;13,5%;17\\xb0C;Confit de canard, Filet de boeuf, Li\\xe8vre \\xe0 la broche\\r\\ndomaine-plageoles-cotes-du-tarn-blanc-sec-ondenc;1.5 kg;Sud Ouest;Plageoles;C\\xf4tes du Tarn;Blanc;Ondenc;2018;3-5 ans;75cl;14%;11\\xb0C;Pieds de porc glac\\xe9s, Pur\\xe9e de haricots tarbais, Rilettes d'anguilles\\r\\ndomaine-plageoles-vin-de-france-contre-pied-2016;1.5 kg;Sud Ouest;Plageoles;;Rouge;Duras;2016;3-5 ans;75cl;14,5%;15\\xb0C;Cassoulet, Confit de canard, Viande rouge\\r\\nalbert-mann-gewurztraminer-2017;1.5 kg;Alsace;Albert Mann;Alsace Gewurztraminer;Blanc;Gewurztraminer;2019;4-7 ans;75cl;14%;12\\xb0C;Foie gras, Gambas au gingembre, Munster\\r\\nalbert-mann-pinot-gris-cuvee-albert-2017;1.5 kg;Alsace;Albert Mann;Alsace Pinot Gris;Blanc;Pinot Gris;2017;6-8 ans;75cl;13%;12\\xb0C;C\\xf4telettes de porc aux pommes, Po\\xeal\\xe9e de champignons, Tajine de veau aux abricots\\r\\nalbert-mann-pinot-gris-grand-cru-furstentum-2016;1.5 kg;Alsace;Albert Mann;Alsace Grand Cru;Blanc;Pinot Gris;2016;10-15 ans;75cl;13%;12\\xb0C;Riz de Veau\\r\\nalbert-mann-riesling-grand-cru-schlossberg-2018;1.5 kg;Alsace;Albert Mann;Alsace Grand Cru;Blanc;Riesling;2018;10-15 ans;75cl;13,5%;12\\xb0C;Carpaccio de Saint-Jacques, Risotto aux crevettes, Skrei de Norv\\xe8ge\\r\\ndomaine-schoenheitz-cremant-dalsace-memoire-granit-extra-brut;1.5 kg;Alsace;Schoenheitz;Cr\\xe9mant d'Alsace;Blanc;Pinot Auxerrois;;;75cl;12%;9\\xb0C;Ap\\xe9ritif, Fromages, Hu\\xeetres, Poissons\\r\\ndomaine-schoenheitz-gewurztraminer-lisenberg-2015;1.5 kg;Alsace;Schoenheitz;Alsace Gewurztraminer;Blanc;Gewurztraminer;2017;8-10 ans;75cl;13%;12\\xb0C;Ap\\xe9ritif, Foie gras, Munster, Plats exotiques, Tartes aux fruits\\r\\ndomaine-schoenheitz-muscat-2017;1.5 kg;Alsace;Schoenheitz;Alsace Muscat;Blanc;Muscat;2019;3-5 ans;75cl;12%;12\\xb0C;Ap\\xe9ritif, Asperges, Coquilles Saint Jacques, Sushis\\r\\ndomaine-schoenheitz-pinot-blanc-val-saint-gregoire-2017;1.5 kg;Alsace;Schoenheitz;Alsace Pinot Blanc;Blanc;Pinot Blanc;2017;3-5 ans;75cl;13%;12\\xb0C;Ap\\xe9ritif, Salade, Tarte flamb\\xe9e\\r\\ndomaine-schoenheitz-pinot-gris-herrenreben-2017;1.5 kg;Alsace;Schoenheitz;Alsace Pinot Gris;Blanc;Pinot Gris;2017;8-10 ans;75cl;13%;12\\xb0C;Ap\\xe9ritif, Caille aux raisins, Foie gras, Volaille\\r\\ndomaine-schoenheitz-pinot-noir-herrenreben-2017;1.5 kg;Alsace;Schoenheitz;Alsace Pinot Noir;Rouge;Pinot Noir;2019;8-10 ans;75cl;14,5%;15\\xb0C;Boeuf bourguignon, Gibier, Viande rouge\\r\\ndomaine-schoenheitz-pinot-noir-val-saint-gregoire-2017;1.5 kg;Alsace;Schoenheitz;Alsace Pinot Noir;Rouge;Pinot Noir;2019;6-8 ans;75cl;14,5%;15\\xb0C;Boeuf bourguignon, Sandre au Pinot Noir, Viande rouge\\r\\ndomaine-schoenheitz-pinot-noir-tradition-2019;1.5 kg;Alsace;Schoenheitz;Alsace Pinot Noir;Rouge;Pinot Noir;2020;3-5 ans;75cl;13%;15\\xb0C;Aiguillette de boeuf au Pinot Noir, Charcuterie, Grillades, Viande rouge\\r\\ndomaine-schoenheitz-riesling-herrenreben-2018;1.5 kg;Alsace;Schoenheitz;Alsace Riesling;Blanc;Riesling;2019;8-10 ans;75cl;13%;12\\xb0C;Choucroute, Crustac\\xe9s, Fromage de ch\\xe8vre, Fruits de mer, Poissons, Volaille\\r\\nfrancois-baur-pinot-gris-herrenweg-de-turckheim-2018;1.5 kg;Alsace;Fran\\xe7ois Baur;Alsace Pinot Gris;Blanc;Pinot Gris;2020;4-7 ans;75cl;13%;12\\xb0C;Baeckeoffe, Gibier, Po\\xeal\\xe9e de champignons, Volaille\\r\\nfrancois-baur-pinot-noir-sang-du-dragon-2017;1.5 kg;Alsace;Fran\\xe7ois Baur;Alsace Pinot Noir;Rouge;Pinot Noir;2019;8-10 ans;75cl;14%;15\\xb0C;Gibier, Grillades, Viande rouge\\r\\nfrancois-baur-riesling-grand-cru-brand-clos-de-la-treille-2017;1.5 kg;Alsace;Fran\\xe7ois Baur;Alsace Grand Cru;Blanc;Riesling;2017;6-8 ans;75cl;13,5%;12\\xb0C;Choucroute, Hu\\xeetres, Poissons, Viande Blanche, Volaille\\r\\nfrancois-baur-pinot-noir-schlittweg-2017;1.5 kg;Alsace;Fran\\xe7ois Baur;Alsace Pinot Noir;Rouge;Pinot Noir;2019;3-5 ans;75cl;13,5%;14\\xb0C;Charcuterie, Viande Blanche, Viande rouge, Volaille\\r\\npaul-ginglinger-riesling-grand-cru-pfersigberg-2018;1.5 kg;Alsace;Paul Ginglinger;Alsace Grand Cru;Blanc;Riesling;2019;10-12 ans;75cl;13%;12\\xb0C;Choucroute, Coq au Riesling, Crustac\\xe9s, Hu\\xeetres, Poissons, Viande Blanche\\r\\nschoech-gewurztraminer-vt-2017;1.5 kg;Alsace;Maurice Schoech;Alsace Gewurztraminer;Blanc;Gewurztraminer;2018;10-15 ans;75cl;12%;11\\xb0C;Ap\\xe9ritif, Desserts, Foie gras\\r\\nemile-boeckel-cremant-brut-blanc-de-blancs;1.5 kg;Alsace;Emile Boeckel;Cr\\xe9mant d'Alsace;Blanc;;;3-5 ans;75cl;12%;9\\xb0C;Ap\\xe9ritif, Fromages, Hu\\xeetres, Poissons\\r\\ncamin-larredya-jurancon-sec-la-part-davant-2018;1.5 kg;Sud Ouest;Camin Larredya;Juran\\xe7on;Blanc;Gros Manseng, Petit Courbu, Petit Manseng;2019;3-5 ans;75cl;14%;11\\xb0C;Charcuterie, Fromages, Poissons, Viande Blanche\\r\\ncamin-larredya-jurancon-moelleux-costat-darrer-2018;1.5 kg;Sud Ouest;Camin Larredya;Juran\\xe7on;Blanc;Gros Manseng, Petit Manseng;2021;3-5 ans;75cl;13%;10\\xb0C;Ap\\xe9ritif, Cuisine orientale, Foie gras, Fromage de brebis\\r\\njean-paul-brun-beaujolais-le-ronsay-2016;1.5 kg;Beaujolais;Jean-Paul Brun;Beaujolais;Rouge;Gamay;2017;3-5 ans;75cl;12%;14\\xb0C;Ap\\xe9ritif, Charcuterie, Grillades\\r\\ndomaine-de-montgilet-anjou-blanc-2016;1.5 kg;Vall\\xe9e de la Loire;Montgilet;Anjou;Blanc;Chenin;2016;4-7 ans;75cl;14%;12\\xb0C;Crustac\\xe9s, Poissons, Volaille\\r\\ndomaine-de-montgilet-anjou-rouge-2016;1.5 kg;Vall\\xe9e de la Loire;Montgilet;Anjou;Rouge;Cabernet Franc;2015;3-5 ans;75cl;13%;14\\xb0C;Charcuterie, Fromages l\\xe9gers, Grillades, Volaille\\r\\ndomaine-de-montgilet-coteaux-de-laubance-les-trois-schistes-2016;1.5 kg;Vall\\xe9e de la Loire;Montgilet;Coteaux de l'Aubance;Blanc;Chenin;2018;6-8 ans;75cl;10%;10\\xb0C;Chocolat, Foie gras, Fromage bleu, Tartes aux fruits\\r\\ndomaine-de-montgilet-coteaux-de-laubance-2017;1.5 kg;Vall\\xe9e de la Loire;Montgilet;Coteaux de l'Aubance;Blanc;Chenin;2017;3-5 ans;75cl;11%;10\\xb0C;Chocolat, Foie gras, Fromage bleu, Tartes aux fruits\\r\\ndomaine-de-montgilet-vin-de-france-grolleau-2019;1.5 kg;Vall\\xe9e de la Loire;Montgilet;;Rouge;Grolleau;2020;3 ans;75cl;12%;13\\xb0C;Ap\\xe9ritif, Charcuterie, Poissons, Viande Blanche\\r\\ndomaine-saint-nicolas-fiefs-vendeens-blanc-le-haut-des-clous-2017;1.5 kg;Vall\\xe9e de la Loire;Saint-Nicolas;Fiefs Vend\\xe9ens;Blanc;Chenin;2018;6-8 ans;75cl;12,50%;12\\xb0C;Crustac\\xe9s, Fromages, Poissons\\r\\ndomaine-saint-nicolas-fiefs-vendeens-rouge-cuvee-jacques-2016;1.5 kg;Vall\\xe9e de la Loire;Saint-Nicolas;Fiefs Vend\\xe9ens;Rouge;Pinot Noir;2018;10-12 ans;75cl;12%;14\\xb0C;Charcuterie, Gibier, Viande rouge\\r\\ndomaine-saint-nicolas-fiefs-vendeens-rouge-reflets-2018;1.5 kg;Vall\\xe9e de la Loire;Saint-Nicolas;Fiefs Vend\\xe9ens;Rouge;Cabernet Franc, Gamay, Pinot Noir;2018;3-5 ans;75cl;12%;14\\xb0C;Charcuterie, Grillades, Poissons, Viande rouge\\r\\nclos-du-mont-olivet-cotes-du-rhone-rose-farel-2019;1.5 kg;Rh\\xf4ne;Clos Du Mont-Olivet;Lirac;Ros\\xe9;95% Mourv\\xe8dre, Grenache;2021;3-5 ans;75cl;14%;11\\xb0C;Ap\\xe9ritif, Grillades, Poissons, Salade\\r\\nclos-du-mont-olivet-vin-de-france-la-sabonite;1.5 kg;Rh\\xf4ne;Clos Du Mont-Olivet;;Rouge;Grenache;;3-5 ans;75cl;13%;14\\xb0C;Charcuterie, Grillades, Viande rouge\\r\\nmaurice-schoech-cremant-dalsace-brut-rose-bulles-de-granite;1.5 kg;Alsace;Maurice Schoech;Cr\\xe9mant d'Alsace;;;;3-5 ans;75cl;12%;9\\xb0C;Ap\\xe9ritif, Fromages, Poissons, Tartes aux fruits\\r\\npaul-ginglinger-pinot-blanc-2017;1.5 kg;Alsace;Paul Ginglinger;Alsace Muscat;Blanc;Pinot Blanc;2018;3-5 ans;75cl;12,50%;11\\xb0C;Ap\\xe9ritif, Fromage de ch\\xe8vre, Poisson grill\\xe9, Salade\\r\\nmaurice-schoech-pinot-gris-vendanges-tardives-2015;1.5 kg;Alsace;Maurice Schoech;Alsace Pinot Gris;Blanc;Pinot Gris;2017;10-15 ans;75cl;12%;11\\xb0C;Ap\\xe9ritif, Desserts, Foie gras\\r\\nmaurice-schoech-riesling-vendanges-tardives-2017;1.5 kg;Alsace;Maurice Schoech;Alsace Riesling;Blanc;Riesling;2018;10-15 ans;75cl;12%;11\\xb0C;Ap\\xe9ritif, Desserts, Foie gras\\r\\nmaurice-schoech-pinot-auxerrois-2018;1.5 kg;Alsace;Maurice Schoech;Alsace;Blanc;Pinot Auxerrois;2019;3-5 ans;75cl;13%;12\\xb0C;Ap\\xe9ritif, Fromages, Tarte flamb\\xe9e\\r\\nmaurice-schoech-gewurztraminer-2018;1.5 kg;Alsace;Maurice Schoech;Alsace Gewurztraminer;Blanc;Gewurztraminer;2020;3-5 ans;75cl;13%;12\\xb0C;Ap\\xe9ritif, Cuisine Exotique, Desserts, Foie gras, Munster\\r\\nmaurice-schoech-pinot-gris-2018;1.5 kg;Alsace;Maurice Schoech;Alsace Pinot Gris;Blanc;Pinot Gris;2020;3-5 ans;75cl;13,5%;12\\xb0C;Abats, Foie gras, Gibier, Viande Blanche\\r\\nmaurice-schoech-pinot-noir-2018;1.5 kg;Alsace;Maurice Schoech;Alsace Pinot Noir;Rouge;Pinot Noir;2019;3-5 ans;75cl;12,50%;14\\xb0C;Charcuterie, Grillades, Pizza, Viande rouge\\r\\nmaurice-schoech-riesling-2018;1.5 kg;Alsace;Maurice Schoech;Alsace Riesling;Blanc;Riesling;2018;3-5 ans;75cl;13%;12\\xb0C;Crustac\\xe9s, Poissons, Volaille\\r\\nmaurice-schoech-pinot-noir-piece-de-chene-2016;1.5 kg;Alsace;Maurice Schoech;Alsace Pinot Noir;Rouge;Pinot Noir;2019;6-8 ans;75cl;13,5%;14\\xb0C;Gibier, Grillades, Viande rouge\\r\\nmaurice-schoech-riesling-grand-cru-kaefferkopf-2018;1.5 kg;Alsace;Maurice Schoech;Alsace Grand Cru;Blanc;Riesling;2019;8-10 ans;75cl;13%;12\\xb0C;Choucroute, Crustac\\xe9s, Hu\\xeetres, Poissons, Volaille\\r\\nmaurice-schoech-pinot-gris-grand-cru-schlossberg-2017;1.5 kg;Alsace;Maurice Schoech;Alsace Grand Cru;Blanc;Pinot Gris;2018;8-10 ans;75cl;13%;12\\xb0C;Choucroute, Cuisine Exotique, Foie gras, Viande Blanche, Volaille\\r\\nmaurice-schoech-riesling-grand-cru-rangen-de-thann-2016;1.5 kg;Alsace;Maurice Schoech;Alsace Grand Cru;Blanc;Riesling;2018;10-15 ans;75cl;13%;12\\xb0C;Choucroute, Crustac\\xe9s, Poissons, Viande Blanche, Volaille\\r\\nemile-boeckel-cremant-brut-rose;1.5 kg;Alsace;Emile Boeckel;Cr\\xe9mant d'Alsace;;;;3-5 ans;75cl;12%;9\\xb0C;Ap\\xe9ritif, Chocolat, Desserts, Fruits\\r\\ndomaine-peyre-rose-clos-des-cistes-2008;1.5 kg;Languedoc-Roussillon;Domaine Peyre Rose;;Rouge;Syrah 90%, Grenache, Mourv\\xe8dre;2012;15 ans et +;75cl;14,5%;16\\xb0C;Daube de boeuf, Viande rouge, Volaille\\r\\ndomaine-de-la-monardiere-vacqueyras-les-deux-monardes-2017;1.5 kg;Rh\\xf4ne;La Monardi\\xe8re;Vacqueyras;Rouge;Grenache, Syrah;2020;3-5 ans;75cl;14%;16\\xb0C;Gibier, Grillades, Viande rouge\\r\\nchateau-turcaud-rose-2019;1.5 kg;Bordeaux;Ch\\xe2teau Turcaud;Bordeaux;Ros\\xe9;Cabernet Franc, Cabernet Sauvignon, Merlot;2020;3 ans;75cl;12,50%;10\\xb0C;Ap\\xe9ritif, Charcuterie, Grillades, Poisson grill\\xe9, Salade\\r\\nphilippe-nusswitz-duche-uzes-orenia-rose-2019;1.5 kg;Languedoc-Roussillon;Les Vins de Philippe Nusswitz;Duch\\xe9 d'Uz\\xe8s;Ros\\xe9;Grenache, Syrah;2021;3 ans;75cl;13%;10\\xb0C;Ap\\xe9ritif, Grillades, Rouget grill\\xe9, Salade\\r\\nphilippe-nusswitz-duche-uzes-orenia-rouge-2017;1.5 kg;Languedoc-Roussillon;Les Vins de Philippe Nusswitz;Duch\\xe9 d'Uz\\xe8s;Rouge;Grenache, Syrah;2018;3-5 ans;75cl;13,5%;15\\xb0C;Grillades, Viande Blanche, Viande rouge, Volaille\\r\\nphilippe-nusswitz-duche-uzes-orenia-blanc-2018;1.5 kg;Languedoc-Roussillon;Les Vins de Philippe Nusswitz;Duch\\xe9 d'Uz\\xe8s;Blanc;Grenache Blanc, Marsanne, Roussanne, Viognier;2020;3-5 ans;75cl;13,5%;12\\xb0C;Ap\\xe9ritif, Fromage de ch\\xe8vre, Poisson grill\\xe9, Viande Blanche, Volaille\\r\\nchateau-ollieux-romanis-corbieres-rose-classique-2019;1.5 kg;Languedoc-Roussillon;Ollieux Romanis;Corbi\\xe8res;Ros\\xe9;Cinsault, Grenache Gris;2021;3 ans;75cl;13%;10\\xb0C;Ap\\xe9ritif, Charcuterie, Grillades, Poisson grill\\xe9, Salade\\r\\nmourgues-du-gres-costieres-de-nimes-capitelles-rose-2018;1.5 kg;Rh\\xf4ne;Mourgues du Gr\\xe8s;Costi\\xe8res de N\\xeemes;Ros\\xe9;Grenache, Mourv\\xe8dre, Syrah;2020;3 ans;75cl;14,5%;10\\xb0C;Ap\\xe9ritif, Cuisine Exotique, Saumon fum\\xe9, Sucr\\xe9-sal\\xe9\\r\\nchateau-de-la-selve-igp-coteaux-de-lardeche-maguelonne-rose-2019;1.5 kg;Rh\\xf4ne;Ch\\xe2teau de la Selve;C\\xf4teaux de l'Ard\\xe8che;Ros\\xe9;Cinsault, Grenache, Syrah;2021;3 ans;75cl;12%;10\\xb0C;Ap\\xe9ritif, Grillades, L\\xe9gumes farcis\\r\\ntriennes-igp-mediterranee-rose-2019;1.5 kg;Provence;Triennes;M\\xe9diterran\\xe9e;Ros\\xe9;Cinsault, Grenache, Merlot, Syrah;2021;3 ans;75cl;13%;11\\xb0C;Ap\\xe9ritif, Grillades, Poisson grill\\xe9, Salade\\r\\ntempier-bandol-rose-2019;1.5 kg;Provence;Tempier;Bandol;Ros\\xe9;Carignan, Cinsault, Grenache, Mourv\\xe8dre;2021;4-7 ans;75cl;13,5%;11\\xb0C;Ap\\xe9ritif, Bouillabaisse, Cuisine proven\\xe7ale, Grillades\\r\\nsaumaize-michelin-macon-vergisson-sur-la-roche-2017;1.5 kg;Bourgogne;Saumaize-Michelin;M\\xe2con-Vergisson;Blanc;Chardonnay;2020;;75cl;13%;12\\xb0C;Ap\\xe9ritif, Fromages, Poissons, Volaille\\r\\nsaumaize-michelin-pouilly-fuisse-clos-sur-la-roche-2018;1.5 kg;Bourgogne;Saumaize-Michelin;Pouilly-Fuiss\\xe9;Blanc;Chardonnay;2020;4-7 ans;75cl;13,5%;12\\xb0C;Fromages, Poisson en sauce, Viande Blanche, Volaille\\r\\nsaumaize-michelin-pouilly-fuisse-les-ronchevats-2018;1.5 kg;Bourgogne;Saumaize-Michelin;Pouilly-Fuiss\\xe9;Blanc;Chardonnay;2020;4-7 ans;75cl;13,5%;12\\xb0C;Fromages, Poisson en sauce, Viande Blanche, Volaille\\r\\nsaumaize-michelin-pouilly-fuisse-vignes-blanches-2018;1.5 kg;Bourgogne;Saumaize-Michelin;Pouilly-Fuiss\\xe9;Blanc;Chardonnay;2020;3-5 ans;75cl;13%;12\\xb0C;Fromages, Poisson en sauce, Viande Blanche, Volaille\\r\\nsaumaize-michelin-saint-veran-2018;1.5 kg;Bourgogne;Saumaize-Michelin;Saint-V\\xe9ran;Blanc;Chardonnay;2020;3-5 ans;75cl;13%;12\\xb0C;Fromages, Poisson en sauce, Viande Blanche, Volaille\\r\\njacqueson-rully-blanc-1er-cru-la-pucelle-2018;1.5 kg;Bourgogne;Domaine Jacqueson;Rully 1er Cru;Blanc;Chardonnay;2020;4-7 ans;75cl;13,5%;12\\xb0C;Fromages, Poisson en sauce, Viande Blanche, Volaille\\r\\njacqueson-rully-rouge-les-chaponnieres-2018;1.5 kg;Bourgogne;Domaine Jacqueson;Rully;Rouge;Pinot Noir;2020;4-7 ans;75cl;13,5%;15\\xb0C;Boeuf bourguignon, Entrec\\xf4te, Viande Blanche, Viande rouge, Volaille\\r\\njacqueson-rully-rouge-1er-cru-les-cloux-2018;1.5 kg;Bourgogne;Domaine Jacqueson;Rully 1er Cru;Rouge;Pinot Noir;2020;6-8 ans;75cl;13,5%;15\\xb0C;Boeuf bourguignon, Entrec\\xf4te, Viande Blanche, Viande rouge, Volaille\\r\\ndomaine-brintet-mercurey-blanc-vieilles-vignes-2018;1.5 kg;Bourgogne;Brintet;Mercurey;Blanc;Chardonnay;2020;4-7 ans;75cl;13%;12\\xb0C;Poisson en sauce, Viande Blanche, Volaille\\r\\ndomaine-brintet-mercurey-rouge-vieilles-vignes-2018;1.5 kg;Bourgogne;Brintet;Mercurey;Rouge;Pinot Noir;2020;4-7 ans;75cl;13%;15\\xb0C;Boeuf bourguignon, Viande Blanche, Viande en sauce, Volaille\\r\\ndomaine-des-croix-beaune-1er-cru-les-cent-vignes-2017;1.5 kg;Bourgogne;Domaine des Croix;Beaune 1er Cru;Rouge;Pinot Noir;2019;8-10 ans;75cl;12,50%;15\\xb0C;Boeuf bourguignon, Viande Blanche, Viande en sauce, Volaille\\r\\ndomaine-des-croix-savigny-les-beaune-1er-cru-les-peuillets-2015;1.5 kg;Bourgogne;Domaine des Croix;Savigny-L\\xe8s-Beaune 1er Cru;Rouge;Pinot Noir;2018;8-10 ans;75cl;12,50%;15\\xb0C;Boeuf bourguignon, Viande Blanche, Viande en sauce, Volaille\\r\\ndomaine-des-croix-corton-grand-cru-les-greves-2017;1.5 kg;Bourgogne;Domaine des Croix;Corton;Rouge;Pinot Noir;2019;15 ans et +;75cl;13,5%;15\\xb0C;Boeuf bourguignon, Viande Blanche, Viande en sauce, Volaille\\r\\ndomaine-des-croix-corton-charlemagne-grand-cru-2016;1.5 kg;Bourgogne;Domaine des Croix;Corton Charlemagne;Blanc;Chardonnay;2019;15 ans et +;75cl;13%;12\\xb0C;Poissons nobles, Viande Blanche, Volaille\\r\\nalphonse-mellot-sancerre-blanc-edmond-2016;1.5 kg;Vall\\xe9e de la Loire;Alphonse Mellot;Sancerre;Blanc;Sauvignon Blanc;2018;6-8 ans;75cl;13%;12\\xb0C;Fruits de mer, Hu\\xeetres, Poisson grill\\xe9\\r\\nantoine-marie-arena-vin-de-france-bianco-gentile-2018;1.5 kg;Corse;Arena;;Blanc;Bianco Gentile;2018;3-5 ans;75cl;14%;12\\xb0C;Ap\\xe9ritif, Charcuterie, Poissons\\r\\nantoine-marie-arena-vin-de-france-rouge-san-giovanni-2017;1.5 kg;Corse;Arena;;Rouge;Carcaghjolu, Morescone;2017;3-5 ans;75cl;14%;12\\xb0C;Charcuterie, L\\xe9gumes croquants, Quiche aux l\\xe9gumes, Volaille\\r\\njean-baptiste-arena-patrimonio-rouge-grotte-di-sole-2018;1.5 kg;Corse;Arena;Patrimonio;Rouge;Nielluccio;2018;4-7 ans;75cl;14%;15\\xb0C;Agneau, Charcuterie, Grillades, Viande rouge\\r\\njean-batiste-arena-muscat-du-cap-corse-2015;1.5 kg;Corse;Arena;Muscat du Cap Corse;Blanc;Muscat \\xe0 petits grains;2015;8-10 ans;75cl;14%;11\\xb0C;Ap\\xe9ritif, Desserts, Foie gras, Ricotta \\xe0 la fraise, Tartes aux fruits\\r\\njean-baptiste-arena-patrimonio-morta-maio;1.5 kg;Corse;Arena;Patrimonio;Blanc;Vermentino;;3-5 ans;75cl;12,8%;12\\xb0C;Ap\\xe9ritif, Charcuterie, Poissons\\r\\nalain-graillot-crozes-hermitage-rouge-la-guiraude-2016;1.5 kg;Rh\\xf4ne;Alain Graillot;Crozes-Hermitage;Rouge;100% Syrah;2018;10-15 ans;75cl;13%;15\\xb0C;Agneau, Gibier, Grillades, Viande rouge\\r\\nalain-graillot-crozes-hermitage-rouge-2017;1.5 kg;Rh\\xf4ne;Alain Graillot;Crozes-Hermitage;Rouge;100% Syrah;2019;3-5 ans;75cl;13%;15\\xb0C;Agneau, Charcuterie, Grillades, Viande rouge\\r\\nalain-graillot-crozes-hermitage-blanc-2018;1.5 kg;Rh\\xf4ne;Alain Graillot;Crozes-Hermitage;Blanc;20% Roussanne, 80% Marsanne;2018;3-5 ans;75cl;13%;12\\xb0C;Ap\\xe9ritif, Crudit\\xe9s, Poissons\\r\\ncave-de-castelmaure-corbieres-rouge-vigneron-2018;1.5 kg;Languedoc-Roussillon;Castelmaure;Corbi\\xe8res;Rouge;Carignan, Grenache, Syrah;2019;3-5 ans;75cl;13,5%;15\\xb0C;Charcuterie, Grillades, Viande Blanche, Viande rouge\\r\\ndomaine-la-croix-belle-cotes-de-thongue-blanc-champ-des-lys-2018;1.5 kg;Languedoc-Roussillon;La Croix Belle;C\\xf4tes de Thongue;Blanc;Chardonnay, Grenache Blanc, Sauvignon Blanc, Viognier;2019;3-5 ans;75cl;13%;12\\xb0C;Ap\\xe9ritif, Coquilles Saint Jacques, Fromages, Poisson grill\\xe9\\r\\ndomaine-la-croix-belle-cotes-de-thongue-rouge-la-caringole-2018;1.5 kg;Languedoc-Roussillon;La Croix Belle;Pays d'Oc;Rouge;Carignan, Merlot, Syrah;2021;3-5 ans;75cl;13%;15\\xb0C;Grillades, L\\xe9gumes du Soleil, Viande rouge\\r\\ndomaine-la-croix-belle-cotes-de-thongue-rouge-le-champ-du-coq-2016;1.5 kg;Languedoc-Roussillon;La Croix Belle;C\\xf4tes de Thongue;Rouge;Grenache, Syrah;2019;4-7 ans;75cl;13,5%;15\\xb0C;Couscous, Grillades, Tajine, Viande rouge\\r\\ndomaine-la-croix-belle-cotes-de-thongue-rouge-n7-2017;1.5 kg;Languedoc-Roussillon;La Croix Belle;C\\xf4tes de Thongue;Rouge;Cabernet Sauvignon, Carignan, Cinsault, Grenache, Merlot, Mourv\\xe8dre, Syrah;2018;8-10 ans;75cl;14%;16\\xb0C;Gibier, Gigot d'agneau, Magret de Canard\\r\\ndomaine-la-croix-belle-cotes-de-thongue-blanc-n7-2018;1.5 kg;Languedoc-Roussillon;La Croix Belle;C\\xf4tes de Thongue;Blanc;Carignan Blanc, Chardonnay, Grenache Blanc, Grenache Gris, Muscat \\xe0 petits grains, Sauvignon Blanc;2019;3-5 ans;75cl;13,5%;12\\xb0C;Foie gras po\\xeal\\xe9, Poissons, Viande Blanche\\r\\nmarcel-richaud-cairanne-rouge-les-estrambords-2011;1.5 kg;Rh\\xf4ne;Marcel Richaud;Cairanne;Rouge;Counoise, Carignan, Grenache, Mourv\\xe8dre, Syrah;2019;8-10 ans;75cl;15%;16\\xb0C;Agneau, Filet de boeuf, Grillades, Magret de Canard, Viande rouge\\r\\nmarcel-richaud-cairanne-rouge-2018;1.5 kg;Rh\\xf4ne;Marcel Richaud;Cairanne;Rouge;Carignan, Grenache, Mourv\\xe8dre, Syrah;2020;6-8 ans;75cl;15%;15\\xb0C;Charcuterie, Filet de boeuf, Grillades, Viande rouge\\r\\ndomaine-rouge-garance-cotes-du-rhone-blanc-de-garance-2018;1.5 kg;Rh\\xf4ne;Rouge Garance;C\\xf4tes-du-Rh\\xf4ne;Blanc;Grenache Blanc, Marsanne, Roussanne, Viognier;2020;3-5 ans;75cl;13,5%;12\\xb0C;Ap\\xe9ritif, Poissons, Viande Blanche\\r\\ndomaine-rouge-garance-cotes-du-rhone-feuille-de-garance-2019;1.5 kg;Rh\\xf4ne;Rouge Garance;C\\xf4tes-du-Rh\\xf4ne;Rouge;Cinsault, Grenache, Syrah;2020;3-5 ans;75cl;14,5%;15\\xb0C;Charcuterie, Grillades, Viande rouge\\r\\ndomaine-rouge-garance-cotes-du-rhone-villages-garances-2016;1.5 kg;Rh\\xf4ne;Rouge Garance;C\\xf4tes-du-Rh\\xf4ne Villages;Rouge;Carignan, Grenache;2020;4-7 ans;75cl;15%;16\\xb0C;Agneau, Grillades, Mouton, Pigeon\\r\\noratoire-saint-martin-cairanne-blanc-reserve-des-seigneurs-2018;1.5 kg;Rh\\xf4ne;Oratoire Saint Martin;Cairanne;Blanc;Clairette, Grenache Blanc, Roussanne;2019;3-5 ans;75cl;13,5%;12\\xb0C;Fruits de mer, Poisson grill\\xe9, Salade\\r\\nchateau-turcaud-bordeaux-blanc-cuvee-majeure-2018;1.5 kg;Bordeaux;Ch\\xe2teau Turcaud;Bordeaux;Blanc;Sauvignon Blanc, S\\xe9millon;2019;3-5 ans;75cl;13%;11\\xb0C;Ap\\xe9ritif, Fromages, Fruits de mer, Langoustes, Poissons, Viande Blanche\\r\\nchateau-turcaud-bordeaux-rouge-2016;1.5 kg;Bordeaux;Ch\\xe2teau Turcaud;Bordeaux;Rouge;Cabernet Sauvignon, Merlot;2018;4-7 ans;75cl;13%;16\\xb0C;Viande Blanche, Viande rouge, Volaille\\r\\nchateau-turcaud-bordeaux-rouge-cuvee-majeure-2018;1.5 kg;Bordeaux;Ch\\xe2teau Turcaud;Bordeaux;Rouge;Cabernet Sauvignon, Merlot;2019;4-7 ans;75cl;14,5%;17\\xb0C;Gibier, Magret de Canard, Viande rouge\\r\\nchateau-turcaud-entre-deux-mers-2019;1.5 kg;Bordeaux;Ch\\xe2teau Turcaud;Entre-Deux-Mers;Blanc;Muscadelle, Sauvignon Blanc, S\\xe9millon;2020;3 ans;75cl;13%;11\\xb0C;Ap\\xe9ritif, Crustac\\xe9s, Fromages, Fruits de mer, Hu\\xeetres\\r\\nchampagne-larmandier-bernier-terre-de-vertus-premier-cru-2011;1.5 kg;Champagne;Larmandier-Bernier;Champagne;Blanc;Chardonnay;2014;;75cl;12,50%;10\\xb0C;Ap\\xe9ritif, Crustac\\xe9s, Desserts, Poissons\\r\\nchateau-du-couvent-pomerol-2017;1.5 kg;Bordeaux;Ch\\xe2teau du Couvent;Pomerol;Rouge;Cabernet Franc, Malbec, Merlot;2019;6-8 ans;75cl;13%;16\\xb0C;Canard, Gibier, Grillades, Viande rouge\\r\\nchateau-cordet-margaux-2013;1.5 kg;Bordeaux;Ch\\xe2teau Cordet;Margaux;Rouge;Cabernet Franc, Cabernet Sauvignon, Merlot, Petit Verdot;2017;6-8 ans;75cl;13%;16\\xb0C;Canard, Gibier, Grillades, Viande rouge\\r\\nchateau-lafont-menaut-pessac-leognan-rouge-2017;1.5 kg;Bordeaux;Ch\\xe2teau Lafont Menaut;Pessac-Leognan;Rouge;Cabernet Franc, Cabernet Sauvignon, Merlot;2018;6-8 ans;75cl;13%;16\\xb0C;Canard, Gibier, Grillades, Viande rouge\\r\\nchateau-lafont-menaut-pessac-leognan-blanc-2017;1.5 kg;Bordeaux;Ch\\xe2teau Lafont Menaut;Pessac-Leognan;Blanc;Sauvignon Blanc, S\\xe9millon;2018;3-5 ans;75cl;13%;12\\xb0C;Ap\\xe9ritif, Crustac\\xe9s, Fruits de mer, Poissons\\r\\nchateau-dutruch-grand-poujeaux-moulis-2016;1.5 kg;Bordeaux;Sel\\xe9ction de Bordeaux NR;Moulis en M\\xe9doc;Rouge;Cabernet Sauvignon, Merlot, Petit Verdot;2018;6-8 ans;75cl;13%;16\\xb0C;Canard, Gibier, Grillades, Viande rouge\\r\\ndomaine-peyre-rose-syrah-leone-2008;1.5 kg;Languedoc-Roussillon;Domaine Peyre Rose;;Rouge;Mourv\\xe8dre, Syrah;2012;15 ans et +;75cl;14,5%;16\\xb0C;Daube de boeuf, Viande rouge, Volaille\\r\\ndomaine-peyre-rose-oro-2002;1.5 kg;Languedoc-Roussillon;Domaine Peyre Rose;Coteaux du Languedoc;Blanc;Clairette, Roussanne, Terret Bourret, Ugni Blanc, Vermentino, Viognier;2007;15 ans et +;75cl;14,5%;13\\xb0C;Fromages, Fruits frais, Poissons, Volaille\\r\\ndomaine-peyre-rose-marlene-n3-2008;1.5 kg;Languedoc-Roussillon;Domaine Peyre Rose;;Rouge;Grenache, Syrah;2011;15 ans et +;75cl;14,5%;16\\xb0C;Daube de boeuf, Fromages, Viande rouge, Volaille\\r\\ndavid-duband-charmes-chambertin-grand-cru-2014;1.5 kg;Bourgogne;David Duband;Charmes-Chambertin Grand Cru;Rouge;Pinot Noir;2014;15 ans et +;75cl;13,5%;15\\xb0C;Andouillettes, Escargots de Bourgogne, Lapin, Mignon de Veau, Viande rouge, Volaille\\r\\ndomaine-des-comtes-lafon-volnay-1er-cru-santenots-du-milieu-2014;1.5 kg;Bourgogne;Domaine des Comtes Lafon;Volnay 1er Cru;Rouge;Pinot Noir;2014;10-12 ans;75cl;13,5%;15\\xb0C;C\\xf4tes de Veau, Lapin, Viande rouge, Volaille\\r\\ndomaine-des-comtes-lafon-volnay-1er-cru-santenots-du-milieu-2013;1.5 kg;Bourgogne;Domaine des Comtes Lafon;Volnay 1er Cru;Rouge;Pinot Noir;2013;10-12 ans;75cl;;15\\xb0C;C\\xf4tes de Veau, Lapin, Viande rouge, Volaille\\r\\ndomaine-des-comtes-lafon-monthelie-1er-cru-les-duresses-2017;1.5 kg;Bourgogne;Domaine des Comtes Lafon;Month\\xe9lie 1er Cru;Rouge;Pinot Noir;2017;8-10 ans;75cl;;15\\xb0C;Filet de Chevreuil, Lapin, Viande rouge\\r\\nchampagne-agrapart-fils-les-7-crus-brut-blanc-de-blancs;1.5 kg;Champagne;Agrapart & Fils;Champagne;Blanc;Chardonnay;;3-5 ans;75cl;12%;10\\xb0C;Ap\\xe9ritif, P\\xe2tisseries, Poissons, Viande Blanche\\r\\nchampagne-agrapart-fils-lavizoise-grand-cru-2012-extra-brut-blanc-de-blancs;1.5 kg;Champagne;Agrapart & Fils;Champagne;Blanc;Chardonnay;2015;5-10 ans;75cl;12%;10\\xb0C;Ap\\xe9ritif, Crustac\\xe9s, P\\xe2tisseries, Poissons, Viande Blanche\\r\\nchampagne-agrapart-fils-mineral-extra-brut-blanc-de-blancs-grand-cru-2012;1.5 kg;Champagne;Agrapart & Fils;Champagne;Blanc;Chardonnay;2015;5-10 ans;75cl;12%;10\\xb0C;Ap\\xe9ritif, Crustac\\xe9s, P\\xe2tisseries, Poissons, Viande Blanche\\r\\nchampagne-agrapart-fils-terroirs-brut-blanc-de-blancs-grand-cru;1.5 kg;Champagne;Agrapart & Fils;Champagne;Blanc;Chardonnay;;3-5 ans;75cl;12%;10\\xb0C;Ap\\xe9ritif, Crustac\\xe9s, P\\xe2tisseries, Poissons, Viande Blanche\\r\\nchampagne-petit-lebrun-fils-blanc-de-blancs-grand-cru;1.5 kg;Champagne;Petit Lebrun & Fils;Champagne;;Chardonnay;;3-5 ans;75cl;12,50%;9\\xb0C;Ap\\xe9ritif, Crustac\\xe9s, Poissons, Viande Blanche, Volaille\\r\\ndomaine-de-montgilet-anjou-rouge-2016-2;1.5 kg;Vall\\xe9e de la Loire;Montgilet;Anjou;Rouge;Cabernet Franc, Cabernet Sauvignon;2017;3-5 ans;75cl;14%;12\\xb0C;Charcuterie, Fromages l\\xe9gers, Viande rouge, Volaille\\r\\nlucien-boillot-gevrey-chambertin-les-evocelles-2017;1.5 kg;Bourgogne;Lucien Boillot;Gevrey-Chambertin;Rouge;Pinot Noir;2017;15 ans et +;75cl;13,5%;15\\xb0C;Lapin, Tourte, Viande rouge\\r\\nlucien-boillot-gevrey-chambertin-2017;1.5 kg;Bourgogne;Lucien Boillot;Gevrey-Chambertin;Rouge;Pinot Noir;2019;10 ans et +;75cl;13,5%;15\\xb0C;Lapin, Viande rouge, Volaille\\r\\nlucien-boillot-pommard-1er-cru-les-croix-noires-2017;1.5 kg;Bourgogne;Lucien Boillot;Pommard 1er Cru;Rouge;Pinot Noir;2018;10-15 ans;75cl;13,5%;15\\xb0C;Gibier, Terrines, Viande rouge\\r\\ndavid-beaupere-julienas-2018;1.5 kg;Beaujolais;David-Beaup\\xe8re;Juli\\xe9nas;Rouge;Gamay;2020;3-5 ans;75cl;13,5%;15\\xb0C;Charcuterie, Fromages, Viande Blanche, Viande rouge, Volaille\\r\\nargentine-mendoza-alamos-torrontes-2017;1.5 kg;Vins du Monde;S\\xe9lection de Vins Etrangers, Catena Zapata;Mendoza;Blanc;Torrontes;2019;3-5 ans;75cl;13%;11\\xb0C;Crustac\\xe9s, Fromages, Poisson grill\\xe9, Viande Blanche, Volaille\\r\\nnouvelle-zelande-marlborough-momo-sauvignon-blanc-2018;1.5 kg;Vins du Monde;S\\xe9lection de Vins Etrangers, Michael Seresin;Marlborough;Blanc;Sauvignon Blanc;2018;3-5 ans;75cl;13%;11\\xb0C;Fromages, Poisson grill\\xe9, Viande Blanche, Volaille\\r\\nnouvelle-zelande-marlborough-momo-pinot-noir-2016;1.5 kg;Vins du Monde;S\\xe9lection de Vins Etrangers, Michael Seresin;Marlborough;Rouge;Pinot Noir;2016;4-7 ans;75cl;13%;15\\xb0C;Fromages, Viande Blanche, Viande rouge, Volaille\\r\\nnouvelle-zelande-marlborough-kim-crawford-sauvignon-blanc-2015;1.5 kg;Vins du Monde;S\\xe9lection de Vins Etrangers, Kim Crawford;Marlborough;Blanc;Sauvignon Blanc;2015;3-5 ans;75cl;13%;11\\xb0C;Fromages, Poisson grill\\xe9, Sushis, Viande Blanche\\r\\naustralie-maverick-trial-hill-riesling-2010;1.5 kg;Vins du Monde;S\\xe9lection de Vins Etrangers, Maverick;;Blanc;Riesling;2010;8-10 ans;75cl;14%;11\\xb0C;Ap\\xe9ritif, Crustac\\xe9s, Fruits de mer, Poisson grill\\xe9, Viande Blanche\\r\\naustralie-harkham-wines-old-vines-2011;1.5 kg;Vins du Monde;S\\xe9lection de Vins Etrangers, Harkham Wines;;Rouge;Syrah;2011;4-7 ans;75cl;14%;15\\xb0C;Agneau, Gibier, Grillades\\r\\nchili-valdivieso-merlot-2017;1.5 kg;Vins du Monde;S\\xe9lection de Vins Etrangers, Valdivieso;;Rouge;Merlot;2017;3-5 ans;75cl;12,50%;15\\xb0C;Charcuterie, Tapas, Viande Blanche, Viande rouge\\r\\nchili-errazuriz-cabernet-sauvignon-2015;1.5 kg;Vins du Monde;S\\xe9lection de Vins Etrangers, Errazuriz;;Rouge;Cabernet Sauvignon;2017;3-5 ans;75cl;13,5%;15\\xb0C;Grillades, Viande rouge\\r\\nchili-de-martino-gallardia-cinsault-2017;1.5 kg;Vins du Monde;S\\xe9lection de Vins Etrangers, De Martino;;Rouge;Cinsault;2017;3-5 ans;75cl;13%;15\\xb0C;Grillades, L\\xe9gumes du Soleil, Viande rouge, Volaille\\r\\nchili-de-martino-viejas-tinajas-cinsault-2013;1.5 kg;Vins du Monde;S\\xe9lection de Vins Etrangers, De Martino;;Rouge;Cinsault;2013;6-8 ans;75cl;13%;15\\xb0C;Grillades, L\\xe9gumes du Soleil, Viande rouge, Volaille\\r\\nchili-montsecano-ostertag-pinot-noir-2013;1.5 kg;Vins du Monde;S\\xe9lection de Vins Etrangers, Montsecano;;Rouge;Pinot Noir;2013;6-8 ans;75cl;13,5%;15\\xb0C;Quasi de veau, Tartare de Boeuf, Volaille\\r\\nla-preceptorie-maury-sec-rouge-copain-comme-cochon-2018;1.5 kg;Languedoc-Roussillon;La Preceptorie;Maury Sec;Rouge;Grenache;2020;3-5 ans;75cl;14,5%;15\\xb0C;Charcuterie, Grillades, Viande rouge\\r\\nla-rectorie-banyuls-leon-parce-2016;1.5 kg;Languedoc-Roussillon;Rectorie;Banyuls;Rouge;Carignan, Grenache;2019;15 ans et +;50cl;16,5%;15\\xb0C;Chocolat, Foie gras mi-cuit, Tartes aux fruits\\r\\nla-preceptorie-maury-aurelie-2017;1.5 kg;Languedoc-Roussillon;La Preceptorie;Maury;Rouge;Grenache;2020;15 ans et +;75cl;17%;16\\xb0C;Chocolat, Fromage bleu, Tartes aux fruits\\r\\nla-preceptorie-maury-blanc-2015;1.5 kg;Languedoc-Roussillon;La Preceptorie;Maury;Blanc;Carignan Blanc, Grenache Gris, Macabeu;2015;15 ans et +;75cl;15,5%;15,5%;Fromages \\xe0 p\\xe2te press\\xe9e, Tartes aux fruits\\r\\nparce-freres-banyuls-rimage-2018;1.5 kg;Languedoc-Roussillon;Parc\\xe9 Fr\\xe8res;Banyuls;Rouge;Grenache;2018;10 ans et +;75cl;16,5%;16\\xb0C;Chocolat, Tartes aux fruits\\r\\nclos-du-mont-olivet-chateauneuf-du-pape-2007;1.5 kg;Rh\\xf4ne;Clos Du Mont-Olivet;Ch\\xe2teauneuf-du-Pape;Rouge;Cinsault, Grenache, Mourv\\xe8dre, Syrah;2007;15 ans et +;75cl;15%;16\\xb0C;Gibier, Viande rouge\\r\\ndomaine-saint-nicolas-fiefs-vendeens-rouge-grande-piece-2013;1.5 kg;Vall\\xe9e de la Loire;Saint-Nicolas;Fiefs Vend\\xe9ens;Rouge;Pinot Noir;2013;15 ans et +;75cl;13%;14\\xb0C;Charcuterie, Gibier, Viande rouge\\r\\npelle-menetou-salon-blanc-ratier-2018;1.5 kg;Vall\\xe9e de la Loire;Henry Pell\\xe9;Menetou-Salon;Blanc;Sauvignon Blanc;2020;6-8 ans;75cl;;12\\xb0C;Boudin blanc aux morilles, Cabillaud r\\xf4ti, Marinade d'anchois frais\\r\\ndomaine-bulliat-beaujolais-blanc-2019;1.5 kg;Beaujolais;Bulliat;Beaujolais Blanc;Blanc;Chardonnay;2020;3 ans;75cl;13%;11\\xb0C;Charcuterie, Poissons, Salade, Viande Blanche, Volaille\\r\\ndomaine-bulliat-chiroubles-2019;1.5 kg;Beaujolais;Bulliat;Chiroubles;Rouge;Gamay;2020;4-7 ans;75cl;13%;15\\xb0C;Charcuterie, Salade, Viande Blanche, Viande rouge, Volaille\\r\\ndomaine-bulliat-moulin-a-vent-2017;1.5 kg;Beaujolais;Bulliat;Moulin \\xe0 Vent;Rouge;Gamay;2018;4-7 ans;75cl;13%;15\\xb0C;Charcuterie, Salade, Viande Blanche, Viande rouge, Volaille\\r\\ndavid-beaupere-julienas-bottiere-2018;1.5 kg;Beaujolais;David-Beaup\\xe8re;Juli\\xe9nas;Rouge;Gamay;2018;6-8 ans;75cl;15%;15\\xb0C;Fromages, Viande Blanche, Viande rouge, Volaille\\r\\ndavid-beaupere-julienas-vayolette-2017;1.5 kg;Beaujolais;David-Beaup\\xe8re;Juli\\xe9nas;Rouge;Gamay;2017;6-8 ans;75cl;14,5%;15\\xb0C;Fromages, Viande Blanche, Viande rouge, Volaille\\r\\ndecelle-villa-savigny-blanc-2018;1.5 kg;Bourgogne;Decelle-Villa;Savigny-L\\xe8s-Beaune;Blanc;Chardonnay;2018;3-5 ans;75cl;13%;12\\xb0C;Fromages, Poissons, Viande Blanche, Volaille\\r\\ndecelle-villa-meursault-2018;1.5 kg;Bourgogne;Decelle-Villa;Meursault;Blanc;Chardonnay;2018;10 ans et +;75cl;13,5%;12\\xb0C;Foie gras, Poissons, Viande Blanche, Volaille\\r\\ndecelle-villa-nuits-st-georges-rouge-2016;1.5 kg;Bourgogne;Decelle-Villa;Nuits-Saint-Georges;Rouge;Pinot Noir;2016;10 ans et +;75cl;14%;15\\xb0C;Veau, Viande Blanche, Viande rouge\\r\\ndecelle-villa-beaune-rouge-2015;1.5 kg;Bourgogne;Decelle-Villa;Nuits-Saint-Georges;Rouge;Pinot Noir;2015;4-7 ans;75cl;13%;15\\xb0C;Carpaccios, Filet de boeuf, Fromages, Veau\\r\\nmarc-colin-et-fils-santenay-rouge-2017;1.5 kg;Bourgogne;Marc Colin;Santenay;Rouge;Pinot Noir;2018;4-7 ans;75cl;13%;15\\xb0C;Entrec\\xf4te, Terrine de Lapin, Viande Blanche, Volaille\\r\\nchateau-de-la-selve-igp-coteaux-de-lardeche-st-regis-blanc-2019;1.5 kg;Rh\\xf4ne;Ch\\xe2teau de la Selve;C\\xf4teaux de l'Ard\\xe8che;Blanc;Viognier;2021;3-5 ans;75cl;12%;10\\xb0C;Ap\\xe9ritif, Crustac\\xe9s, Fromage de ch\\xe8vre, Poissons\\r\\nchateau-de-la-selve-coteaux-de-lardeche-rouge-serre-berty-2014;1.5 kg;Rh\\xf4ne;Ch\\xe2teau de la Selve;C\\xf4teaux de l'Ard\\xe8che;Rouge;Cinsault, Grenache, Merlot;2015;10 ans et +;75cl;13,5%;16\\xb0C;Gibiers \\xe0 plumes, Viande rouge\\r\\nchambeyron-cotes-du-rhone-2017;1.5 kg;Rh\\xf4ne;Domaine Chambeyron;C\\xf4tes-du-Rh\\xf4ne;Rouge;Syrah;2020;3-5 ans;75cl;15%;16\\xb0C;Gibier, Gibiers \\xe0 plumes, Viande rouge, Volaille\\r\\ndomaine-chambeyron-cote-rotie-chavarine-2017;1.5 kg;Rh\\xf4ne;Domaine Chambeyron;C\\xf4te R\\xf4tie;Rouge;Syrah;2019;5-10 ans;75cl;13%;16\\xb0C;Gibier, Gibiers \\xe0 plumes, Viande rouge, Volaille\\r\\ndomaine-chambeyron-cote-rotie-angeline-2017;1.5 kg;Rh\\xf4ne;Domaine Chambeyron;C\\xf4te R\\xf4tie;Rouge;Syrah;2019;10-15 ans;75cl;13,5%;16\\xb0C;Gibier, Gibiers \\xe0 plumes, Viande rouge, Volaille\\r\\ndomaine-chambeyron-cote-rotie-lancement-2017;1.5 kg;Rh\\xf4ne;Domaine Chambeyron;C\\xf4te R\\xf4tie;Rouge;Syrah;2018;10-15 ans;75cl;13%;16\\xb0C;Gibier, Gibiers \\xe0 plumes, Viande rouge, Volaille\\r\\ndomaine-chambeyron-condrieu-vernon-2018;1.5 kg;Rh\\xf4ne;Domaine Chambeyron;Condrieu;Blanc;Viognier;2020;4-7 ans;75cl;15%;16\\xb0C;Coquilles Saint Jacques, Cuisine Exotique, Fromages, Poisson en sauce, Risotto\\r\\nmarc-colin-et-fils-chassagne-montrachet-blanc-les-vide-bourses-1er-cru-2016;1.5 kg;Bourgogne;Marc Colin;Chassagne-Montrachet 1er Cru;Blanc;Chardonnay;2019;5-10 ans;75cl;13%;12\\xb0C;Bouch\\xe9es \\xe0 la Reine, Ris de veau, Saint-Jacques r\\xf4ties, Volaille\\r\\nmarc-colin-et-fils-chassagne-montrachet-blanc-les-caillerets-1er-cru-2016;1.5 kg;Bourgogne;Marc Colin;Chassagne-Montrachet 1er Cru;Blanc;Chardonnay;2019;8-10 ans;75cl;13%;12\\xb0C;Bouch\\xe9es \\xe0 la Reine, Ris de veau, Saint-Jacques r\\xf4ties, Volaille\\r\\nthierry-germain-saumur-champigny-domaine-2018;1.5 kg;Vall\\xe9e de la Loire;Thierry Germain;Saumur-Champigny;Rouge;Cabernet Franc;2020;3-5 ans;75cl;12,50%;15\\xb0C;Charcuterie, R\\xf4ti de Porc\\r\\nthierry-germain-saumur-champigny-terres-chaudes-2017;1.5 kg;Vall\\xe9e de la Loire;Thierry Germain;Saumur-Champigny;Rouge;Cabernet Franc;2019;6-8 ans;75cl;13%;15\\xb0C;Chevreuil aux pruneaux, Parmentier d'agneau\\r\\nthierry-germain-saumur-champigny-outre-terre-2017;1.5 kg;Vall\\xe9e de la Loire;Thierry Germain;Saumur-Champigny;Rouge;Cabernet Franc;2017;10-15 ans;75cl;13%;15\\xb0C;Boudin aux pommes, Gibier, Queue de boeuf \\xe0 la cuilli\\xe8re, Tartare de Boeuf, Viande rouge\\r\\nthierry-germain-saumur-champigny-franc-de-pied-2017;1.5 kg;Vall\\xe9e de la Loire;Thierry Germain;Saumur-Champigny;Rouge;Cabernet Franc;2017;5-10 ans;75cl;13%;15\\xb0C;Gibier, Tartare de Boeuf, Viande rouge\\r\\nthierry-germain-saumur-blanc-clos-romans-2016;1.5 kg;Vall\\xe9e de la Loire;Thierry Germain;Saumur Blanc;Blanc;Chenin;2016;5-7 ans;75cl;12,50%;12\\xb0C;Risotto saumon, Salade de ch\\xe8vre chaud, Saumon au beurre blanc\\r\\nthierry-germain-saumur-champigny-clos-echelier-2017;1.5 kg;Vall\\xe9e de la Loire;Thierry Germain;Saumur-Champigny;Rouge;Cabernet Franc;2017;8-10 ans;75cl;13%;15\\xb0C;Chevreuil aux pruneaux, Gibier, Gibiers \\xe0 plumes, Parmentier d'agneau, Tartare de Boeuf\\r\\ntempier-bandol-migoua-2017;1.5 kg;Provence;Tempier;Bandol;Rouge;Cinsault, Mourv\\xe8dre;2019;15 ans et +;75cl;14,5%;17\\xb0C;Agneau, Gibier, Viande rouge\\r\\ntempier-bandol-tourtine-2017;1.5 kg;Provence;Tempier;Bandol;Rouge;Mourv\\xe8dre;2019;15 ans et +;75cl;15%;17\\xb0C;Agneau, Gibier, Viande rouge\\r\\ntempier-bandol-cabassaou-2017;1.5 kg;Provence;Tempier;Bandol;Rouge;Mourv\\xe8dre;2019;15 ans et +;75cl;14,5%;17\\xb0C;Agneau, Gibier, Viande rouge\\r\\nle-pas-de-lescalette-terrasses-du-larzac-le-grand-pas-2018;1.5 kg;Languedoc-Roussillon;Le Pas de l'Escalette;Terrasses du Larzac;Rouge;Carignan, Cinsault, Grenache;2019;5-10 ans;75cl;13,5%;16\\xb0C;Fricass\\xe9 aux c\\xe8pes, Tajine, Viande rouge\\r\\ndomaine-huet-vouvray-le-clos-du-bourg-demi-sec-2017;1.5 kg;Vall\\xe9e de la Loire;Huet;Vouvray;Blanc;Chenin;2019;8-10 ans;75cl;13%;11\\xb0C;Cuisine Exotique, Desserts, Foie gras, Sucr\\xe9-sal\\xe9\\r\\ndomaine-huet-vouvray-le-mont-moelleux-premiere-trie-2008;1.5 kg;Vall\\xe9e de la Loire;Huet;Vouvray;Blanc;Chenin;2008;15 ans et +;75cl;12,50%;11\\xb0C;Cuisine Exotique, Desserts, Foie gras, Sucr\\xe9-sal\\xe9\\r\\nweinbach-gewurztraminer-theo-2018;1.5 kg;Alsace;Domaine Weinbach;Alsace Gewurztraminer;Blanc;Gewurztraminer;2018;8-10 ans;75cl;14%;12\\xb0C;Cuisine Exotique, Foie gras po\\xeal\\xe9, Munster, Pastilla\\r\\ndomaine-weinbach-riesling-colette-2018;1.5 kg;Alsace;Domaine Weinbach;Alsace Riesling;Blanc;Riesling;2019;10-15 ans;75cl;13,5%;12\\xb0C;Fruits de mer, Poissons, Viande Blanche, Volaille\\r\\ndomaine-weinbach-pinot-blanc-2017;1.5 kg;Alsace;Domaine Weinbach;Alsace Pinot Blanc;Blanc;Pinot Blanc;2020;4-7 ans;75cl;13%;12\\xb0C;Fromages, Poissons, Quiches, Tarte \\xe0 l'oignon\\r\\ndomaine-weinbach-riesling-schlossberg-catherine-2018;1.5 kg;Alsace;Domaine Weinbach;Alsace Grand Cru;Blanc;Riesling;2020;15 ans et +;75cl;13,5%;12\\xb0C;Homard, Poissons, Viande Blanche, Volaille\\r\\ndomaine-weinbach-gewurztraminer-gc-furstentum-sgn-2010;1.5 kg;Alsace;Domaine Weinbach;Alsace Grand Cru;Blanc;Gewurztraminer;2010;15 ans et +;37,5cl;11%;10\\xb0C;Cuisine Exotique, Foie gras po\\xeal\\xe9, Munster, Pastilla\\r\\nalbert-boxler-chasselas-2016;1.5 kg;Alsace;Albert Boxler;Alsace;Blanc;Chasselas;2019;3-5 ans;75cl;12%;12\\xb0C;Poissons, Viande Blanche, Volaille\\r\\nalbert-boxler-cremant-2014;1.5 kg;Alsace;Albert Boxler;Cr\\xe9mant d'Alsace;Blanc;Pinot Auxerrois, Pinot Blanc, Pinot Noir;2018;3-5 ans;75cl;12,50%;10\\xb0C;Ap\\xe9ritif, Desserts, Poissons\\r\\nalbert-boxler-pinot-gris-sommerberg-w-2016;1.5 kg;Alsace;Albert Boxler;Alsace Grand Cru;Blanc;Pinot Gris;2016;15 ans et +;75cl;14,5%;12\\xb0C;Choucroute, Saumon Grill\\xe9, Volaille\\r\\nalbert-boxler-pinot-noir-s-2016;1.5 kg;Alsace;Albert Boxler;Alsace Pinot Noir;Rouge;Pinot Noir;2019;8-10 ans;75cl;13%;15\\xb0C;Gibiers \\xe0 plumes, Viande Blanche, Viande rouge\\r\\nalbert-boxler-pinot-gris-reserve-2016;1.5 kg;Alsace;Albert Boxler;Alsace Grand Cru;Blanc;Pinot Gris;2016;15 ans et +;75cl;14,5%;12\\xb0C;Choucroute, Saumon Grill\\xe9, Volaille\\r\\nalbert-boxler-riesling-grand-cru-sommerberg-d-2018;1.5 kg;Alsace;Albert Boxler;Alsace Grand Cru;Blanc;Riesling;2019;15 ans et +;75cl;13,5%;12\\xb0C;Choucroute, Saumon, Volaille\\r\\nalbert-boxler-riesling-grand-cru-sommerberg-e-2018;1.5 kg;Alsace;Albert Boxler;Alsace Grand Cru;Blanc;Riesling;2019;15 ans et +;75cl;13%;12\\xb0C;Choucroute, Saumon, Volaille\\r\\npares-balta-penedes-hisenda-miret-2013;1.5 kg;Espagne;Par\\xe8s Balt\\xe0;Pened\\xe8s;Rouge;Garnatxa;2013;5-10 ans;75cl;14,5%;16\\xb0C;Grillades, Paella, Viande rouge, Volaille\\r\\npares-balta-cava-brut-nature;1.5 kg;Espagne;Par\\xe8s Balt\\xe0;Cava;Blanc;Macabeu, Parellada, Xarel.io;;3 ans;75cl;12,50%;8\\xb0C;Ap\\xe9ritif, Fruits de mer, Poisson grill\\xe9\\r\\nphilippe-nusswitz-duche-uzes-orenia-blanc-reserve-2018;1.5 kg;Languedoc-Roussillon;Les Vins de Philippe Nusswitz;Duch\\xe9 d'Uz\\xe8s;Blanc;Marsanne, Roussanne, Viognier;2019;3-5 ans;75cl;13,5%;12\\xb0C;Ap\\xe9ritif, Poisson grill\\xe9, Viande Blanche, Volaille\\r\\nphilippe-nusswitz-duche-uzes-orenia-rouge-reserve-2016;1.5 kg;Languedoc-Roussillon;Les Vins de Philippe Nusswitz;Duch\\xe9 d'Uz\\xe8s;Rouge;Grenache, Syrah;2017;3-5 ans;75cl;13,5%;15\\xb0C;Canard, Grillades, Viande rouge\\r\\nphilippe-nusswitz-igp-cevennes-opale-rose-2019;1.5 kg;Languedoc-Roussillon;Les Vins de Philippe Nusswitz;C\\xe9v\\xe8nnes;Ros\\xe9;Grenache;2021;2 ans;75cl;12,50%;10\\xb0C;Ap\\xe9ritif, Grillades, Rouget grill\\xe9, Salade\\r\\nplaneta-sicilia-etna-bianco-2018;1.5 kg;Italie;Planeta;Sicilia;Blanc;Carricante;2018;3-5 ans;75cl;13,5%;12\\xb0C;Ap\\xe9ritif, Fromages, Fruits de mer, Poissons, Risotto\\r\\nplaneta-sicilia-santa-cecilia-2016;1.5 kg;Italie;Planeta;Noto;Rouge;Nero d'Avola;2017;8-10 ans;75cl;14%;16\\xb0C;Grillades, Viande Blanche, Viande rouge\\r\\ndomaine-de-lecu-muscadet-taurus-2012;1.5 kg;Vall\\xe9e de la Loire;Domaine de l'Ecu;Muscadet;Blanc;Melon de Bourgogne;2018;5-10 ans;75cl;12%;11\\xb0C;Crustac\\xe9s, Fromage de ch\\xe8vre, Hu\\xeetres, Poisson grill\\xe9\\r\\ndomaine-huet-vouvray-petillant-2014;1.5 kg;Vall\\xe9e de la Loire;Huet;Vouvray;Blanc;Chenin;2014;6-8 ans;75cl;12%;9\\xb0C;Ap\\xe9ritif, Crustac\\xe9s, Desserts, Poisson cru\\r\\ndomaine-terres-d-ocre-saint-pourcain-blanc-instant-t-2018;1.5 kg;Vall\\xe9e de la Loire;Terres d'Ocre;Saint-Pour\\xe7ain;Blanc;Chardonnay, Tressalier;2020;3-5 ans;75cl;12%;12\\xb0C;Asperges, Fromages Frais, Poissons\\r\\ndomaine-des-terres-docre-saint-pourcain-rouge-instant-t-2015;1.5 kg;Vall\\xe9e de la Loire;Terres d'Ocre;Saint-Pour\\xe7ain;Rouge;Gamay, Pinot Noir;2020;3-5 ans;75cl;12,50%;14\\xb0C;Charcuterie, Fromages, Viande Blanche, Volaille\\r\\nalliet-chinon-rouge-noire-2016;1.5 kg;Vall\\xe9e de la Loire;Philippe Alliet;Chinon;Rouge;Cabernet Franc;2016;10 ans et +;75cl;13,5%;16\\xb0C;Canard r\\xf4ti, Li\\xe8vre, Tournedos grill\\xe9\\r\\nfrancois-baur-gewurztraminer-herrenweg-de-turckheim-2016;1.5 kg;Alsace;Fran\\xe7ois Baur;Alsace Gewurztraminer;Blanc;Gewurztraminer;2019;4-7 ans;75cl;13%;12\\xb0C;Cuisine Asiatique, Desserts, Foie gras, Munster\\r\\ndomaine-de-lhortus-herault-loup-bergerie-2018;1.5 kg;Languedoc-Roussillon;Domaine de l'Hortus;Pays d'H\\xe9rault;Rouge;Cinsault, Grenache, Syrah;2020;3 ans;75cl;12,50%;15\\xb0C;Ap\\xe9ritif, Charcuterie, Grillades\\r\\ntriennes-igp-mediterranee-sainte-fleur-2018;1.5 kg;Provence;Triennes;M\\xe9diterran\\xe9e;Blanc;Viognier;2019;3-5 ans;75cl;13%;12\\xb0C;Ap\\xe9ritif, Asperges, Viande Blanche, Volaille\\r\\ntriennes-igp-mediterranee-rouge-aureliens-2016;1.5 kg;Provence;Triennes;M\\xe9diterran\\xe9e;Rouge;Cabernet Sauvignon, Syrah;2018;4-7 ans;75cl;14%;16\\xb0C;Gibier, Grillades, Viande rouge\\r\\ntriennes-igp-mediterranee-rouge-saint-auguste-2016;1.5 kg;Provence;Triennes;M\\xe9diterran\\xe9e;Rouge;Cabernet Sauvignon, Merlot, Syrah;2018;5-10 ans;75cl;14%;16\\xb0C;Gibier, Grillades, Viande rouge\\r\\ntriennes-igp-mediterranee-rouge-merlot-2016;1.5 kg;Provence;Triennes;M\\xe9diterran\\xe9e;Rouge;Merlot;2019;3-5 ans;75cl;13%;14\\xb0C;Gibier, Grillades, Viande rouge\\r\\nclerget-chambolle-musigny-charmes-2015;1.5 kg;Bourgogne;Christian Clerget;Chambolle-Musigny;Rouge;Pinot Noir;2016;15 ans et +;75cl;13,5%;15\\xb0C;Canard, Pintade, Tournedos grill\\xe9, Volaille\\r\\ndomaine-clerget-chambolle-musigny-2014;1.5 kg;Bourgogne;Christian Clerget;Chambolle-Musigny;Rouge;Pinot Noir;2014;10 ans et +;75cl;13,5%;15\\xb0C;Fromages, Gibiers \\xe0 plumes, Veau R\\xf4ti, Volaille\\r\\ndomaine-clerget-vosne-romanee-les-violettes-2015;1.5 kg;Bourgogne;Christian Clerget;Vosne-Roman\\xe9e;Rouge;Pinot Noir;2017;10 ans et +;75cl;13,5%;15\\xb0C;Fromages, Gibiers \\xe0 plumes, Veau R\\xf4ti, Volaille\\r\\nboudignon-anjou-blanc-2018;1.5 kg;Vall\\xe9e de la Loire;Thibaud Boudignon;Anjou;Blanc;Chenin;2020;8-10 ans;75cl;13,5%;11\\xb0C;Ap\\xe9ritif, Fromages, Fruits de mer, Hu\\xeetres, Poisson grill\\xe9\\r\\nchateau-de-la-selve-vdf-petite-selve-2019;1.5 kg;Rh\\xf4ne;Ch\\xe2teau de la Selve;;Rouge;Cinsault, Grenache, Syrah;2020;3-5 ans;75cl;13%;15\\xb0C;Charcuterie, Tartes aux l\\xe9gumes, Viande rouge, Volaille\\r\\nhuile-olive-planeta-3l;3.5 kg;;Planeta;;;;;;300cl;;;\\r\\nhuile-dolive-extra-vierge-planeta-50cl;1 kg;;Planeta;;;;;;50cl;;;\\r\\nhuile-dolive-extra-vierge-planeta-3x-10cl;1 kg;;Planeta;;;;;;3x 10cl;;;\\r\\nparce-freres-collioure-rouge-petit-gus-2018;1.5 kg;Languedoc-Roussillon;Augustin;Collioure;Rouge;Carignan, Grenache;2019;3-5 ans;75cl;13,5%;16\\xb0C;Charcuterie, Grillades, Viande rouge\\r\\ncamille-giroud-auxey-duresses-blc-2017;1.5 kg;Bourgogne;Camille Giroud;Auxey-Duresses;Blanc;Chardonnay;2017;5-10 ans;75cl;13%;12\\xb0C;Fromages, Poissons, Viande Blanche, Volaille\\r\\ncamille-giroud-clos-de-vougeot-2016;1.5 kg;Bourgogne;Camille Giroud;Clos de Vougeot;Rouge;Pinot Noir;2016;15 ans et +;75cl;13%;15\\xb0C;Viande Blanche, Viande rouge, Volaille\\r\\ncamille-giroud-maranges-1er-cru-le-croix-moines-2016;1.5 kg;Bourgogne;Camille Giroud;Maranges 1er Cru;Rouge;Pinot Noir;2016;6-8 ans;75cl;13%;15\\xb0C;Viande Blanche, Viande rouge, Volaille\\r\\ncamille-giroud-marsannay-longeroies-2016;1.5 kg;Bourgogne;Camille Giroud;Marsannay;Rouge;Pinot Noir;2016;4-7 ans;75cl;12,50%;15\\xb0C;Viande Blanche, Viande rouge, Volaille\\r\\ncamille-giroud-santenay-blc-2017;1.5 kg;Bourgogne;Camille Giroud;Santenay;Blanc;Chardonnay;2017;5-10 ans;75cl;13%;12\\xb0C;Fromages, Poissons, Viande Blanche, Volaille\\r\\ncamille-giroud-santenay-rge-1er-cru-clos-rousseau-2016;1.5 kg;Bourgogne;Camille Giroud;Santenay 1er Cru;Rouge;Pinot Noir;2016;6-8 ans;75cl;13%;15\\xb0C;Viande Blanche, Viande rouge, Volaille\\r\\ncamille-giroud-santenay-rouge-2016;1.5 kg;Bourgogne;Camille Giroud;Santenay;Rouge;Pinot Noir;2019;4-7 ans;75cl;12,50%;15\\xb0C;Viande Blanche, Viande rouge, Volaille\\r\\ndecelle-villa-auxey-blanc-2017;1.5 kg;Bourgogne;Decelle-Villa;Auxey-Duresses;Blanc;Chardonnay;2017;4-7 ans;75cl;13%;12\\xb0C;Fromages, Poissons, Viande Blanche, Volaille\\r\\nmaurel-pays-d-oc-cabernet-sauvignon-2017;1.5 kg;Languedoc-Roussillon;Maison Ventenac;Pays d'Oc;Rouge;Cabernet Sauvignon;2017;3-5 ans;75cl;13%;15\\xb0C;Gibier, Grillades, Viande rouge\\r\\nmaurel-pays-d-oc-merot-2018;1.5 kg;Languedoc-Roussillon;Maison Ventenac;Pays d'Oc;Rouge;Merlot;2020;3-5 ans;75cl;13%;15\\xb0C;Gibier, Grillades, Viande rouge\\r\\nmaurel-pays-d-oc-syrah-2019;1.5 kg;Languedoc-Roussillon;Maison Ventenac;Pays d'Oc;Rouge;Syrah;2020;3-5 ans;75cl;13%;15\\xb0C;Gibier, Grillades, Viande rouge\\r\\nfonreaud-bordeaux-blanc-le-cygne-2016;1.5 kg;Bordeaux;Sel\\xe9ction de Bordeaux NR;Bordeaux;Blanc;Muscadelle, Sauvignon Blanc, S\\xe9millon;2016;4-7 ans;75cl;13%;12\\xb0C;Crustac\\xe9s, Poissons, Viande Blanche\\r\\nchateau-de-chantegrive-caroline-blanc-2016;1.5 kg;Bordeaux;Sel\\xe9ction de Bordeaux NR;Graves;Blanc;Sauvignon Blanc, S\\xe9millon;2016;4-7 ans;75cl;13%;12\\xb0C;Crustac\\xe9s, Poissons, Viande Blanche\\r\\nchateau-saransot-dupre-bordeaux-blanc-2016;1.5 kg;Bordeaux;Sel\\xe9ction de Bordeaux NR;Bordeaux;Blanc;Muscadelle, Sauvignon Blanc, S\\xe9millon;2014;4-7 ans;75cl;13,5%;12\\xb0C;Crustac\\xe9s, Fromages, Poissons, Viande Blanche\\r\\nchateau-saransot-dupre-listrac-medoc-2016;1.5 kg;Bordeaux;Sel\\xe9ction de Bordeaux NR;Listrac-M\\xe9doc;Rouge;Cabernet Franc, Cabernet Sauvignon, Carmen\\xe8re, Merlot, Petit Verdot;2016;8-10 ans;75cl;14,5%;18\\xb0C;Canard, Gibier, Viande rouge\\r\\npeymartin-saint-julien-2014;1.5 kg;Bordeaux;Sel\\xe9ction de Bordeaux NR;Saint-Julien;Rouge;Cabernet Franc, Cabernet Sauvignon, Merlot, Petit Verdot;2017;10-12 ans;75cl;13%;18\\xb0C;Canard, Gibier, Viande rouge\\r\\ntour-haut-caussan-medoc-2015;1.5 kg;Bordeaux;Sel\\xe9ction de Bordeaux NR;M\\xe9doc;Rouge;Cabernet Sauvignon, Merlot;2016;10-12 ans;75cl;13%;18\\xb0C;Canard, Gibier, Viande rouge\\r\\nla-croix-meunier-saint-emilion-grand-cru-2014;1.5 kg;Bordeaux;Sel\\xe9ction de Bordeaux NR;Saint-Emilion;Rouge;Cabernet Franc, Merlot;2018;10-12 ans;75cl;13,5%;18\\xb0C;Canard, Gibier, Viande rouge\\r\\nchateau-tour-de-pez-saint-estephe-2017;1.5 kg;Bordeaux;Sel\\xe9ction de Bordeaux NR;Saint-Est\\xe8phe;Rouge;Cabernet Sauvignon, Merlot, Petit Verdot;2018;10-15 ans;75cl;13,5%;18\\xb0C;Canard, Gibier, Viande rouge\\r\\ntrimbach-muscat-reserve-2017;1.5 kg;Alsace;Trimbach;Alsace Muscat;Blanc;Muscat;2019;3-5 ans;75cl;12,50%;11\\xb0C;Ap\\xe9ritif, Asperges, L\\xe9gumes printanniers, Melon\\r\\nmaison-trimbach-riesling-2017;1.5 kg;Alsace;Trimbach;Alsace Riesling;Blanc;Riesling;2019;3-5 ans;75cl;12,50%;11\\xb0C;Crustac\\xe9s, Fruits de mer, Poissons, Viande Blanche\\r\\nmaison-trimbach-riesling-geisberg-2012;1.5 kg;Alsace;Trimbach;Alsace Grand Cru;Blanc;Riesling;2012;10 ans et +;75cl;12,50%;12\\xb0C;Crustac\\xe9s, Fruits de mer, Poissons, Viande Blanche\\r\\nmaison-trimbach-riesling-grand-cru-schlossberg-2015;1.5 kg;Alsace;Trimbach;Alsace Grand Cru;Blanc;Riesling;2015;10 ans et +;75cl;13,5%;12\\xb0C;Crustac\\xe9s, Fruits de mer, Poissons, Viande Blanche\\r\\nmaison-trimbach-riesling-cuvee-frederic-emile-2012;1.5 kg;Alsace;Trimbach;Alsace Riesling;Blanc;Riesling;2013;10 ans et +;75cl;13,5%;12\\xb0C;Crustac\\xe9s, Fruits de mer, Poissons, Viande Blanche\\r\\nagnes-levet-amethyste-2017;1.5 kg;Rh\\xf4ne;Agn\\xe8s Levet;C\\xf4te R\\xf4tie;Rouge;Syrah;2018;10 ans et +;75cl;13%;16\\xb0C;Agneau, Gibier, Pigeon, Viande rouge\\r\\nagnes-levet-cote-rotie-maestria-2017;1.5 kg;Rh\\xf4ne;Agn\\xe8s Levet;C\\xf4te R\\xf4tie;Rouge;Syrah;2019;10 ans et +;75cl;13%;16\\xb0C;Agneau, Gibier, Pigeon, Viande rouge\\r\\nagnes-levet-cote-rotie-peroline-2017;1.5 kg;Rh\\xf4ne;Agn\\xe8s Levet;C\\xf4te R\\xf4tie;Rouge;Syrah;2019;10 ans et +;75cl;13%;16\\xb0C;Agneau, Gibier, Pigeon, Viande rouge\\r\\nsaumaize-michelin-saint-veran-creches-2018;1.5 kg;Bourgogne;Saumaize-Michelin;Saint-V\\xe9ran;Blanc;Chardonnay;2020;3-5 ans;75cl;13%;12\\xb0C;Fromages, Poisson en sauce, Viande Blanche, Volaille\\r\\ncoteaux-champenois-egly-ouriet-ambonnay-rouge-2016;1.5 kg;Champagne;Egly-Ouriet;Coteaux Champenois;Rouge;Pinot Noir;;10 ans et +;75cl;12,50%;15\\xb0C;Viande Blanche, Viande rouge, Volaille\\r\\ngilbert-picq-chablis-1er-cru-vaucoupin-2016;1.5 kg;Bourgogne;Gilbert Picq;Chablis;Blanc;Chardonnay;2019;4-7 ans;75cl;12,50%;12\\xb0C;Ap\\xe9ritif, Fruits de mer, Hu\\xeetres, Poisson grill\\xe9\\r\\nthevenet-quintaine-vire-clesse-emilian-gillet-2017;1.5 kg;Bourgogne;Thevenet Quintaine;Vir\\xe9-Cless\\xe9;Blanc;Chardonnay;2019;4-7 ans;75cl;12,50%;12\\xb0C;Ap\\xe9ritif, Poissons, Viande Blanche, Volaille\\r\\nthevenet-quintaine-vire-clesse-la-bongran-2015;1.5 kg;Bourgogne;Thevenet Quintaine;Vir\\xe9-Cless\\xe9;Blanc;Chardonnay;2017;8-10 ans;75cl;13%;12\\xb0C;Ap\\xe9ritif, Poissons, Viande Blanche, Volaille\\r\\nstephane-tissot-arbois-dd-2016;1.5 kg;Jura;St\\xe9phane Tissot;Arbois;Rouge;Pinot Noir, Poulsard, Trousseau;2018;3-5 ans;75cl;12%;15\\xb0C;Charcuterie, Grillades, Poissons, Viande Blanche, Volaille\\r\\nstephane-tissot-arbois-pinot-noir-sous-la-tour-2016;1.5 kg;Jura;St\\xe9phane Tissot;Arbois;Rouge;Pinot Noir;2017;6-8 ans;75cl;13%;15\\xb0C;Charcuterie, Fromages, Viande Blanche, Volaille\\r\\nstephane-tissot-arbois-trousseau-singulier-2017;1.5 kg;Jura;St\\xe9phane Tissot;Arbois;Rouge;Trousseau;2019;6-8 ans;75cl;14%;15\\xb0C;Charcuterie, Fromages, Viande Blanche, Volaille\\r\\nmontbourgeau-cotes-du-jura-poulsard-2018;1.5 kg;Jura;Montbourgeau;C\\xf4tes du Jura;Rouge;Poulsard;2018;3 ans;75cl;12%;14\\xb0C;Charcuterie, Fromages, Viande Blanche, Volaille\\r\\nmontbourgeau-etoile-vin-jaune-2009;1.5 kg;Jura;Montbourgeau;L'Etoile Vin Jaune;Blanc;Savagnin;2012;15 ans et +;62cl;15%;15\\xb0C;Coq au Vin Jaune, Vieux Comt\\xe9\\r\\ndomaine-de-montbourgeau-letoile-vin-jaune-2016;1.5 kg;Jura;Montbourgeau;L'Etoile;Blanc;Chardonnay, Savagnin;2017;10 ans et +;75cl;13,5%;12\\xb0C;Fromages, Riz de Veau, Volaille\\r\\ndomaine-de-montbourgeau-vin-de-paille-2013;1.5 kg;Jura;Montbourgeau;L'Etoile;Blanc;Chardonnay, Savagnin;2015;10 ans et +;75cl;13,5%;12\\xb0C;Fromages, Riz de Veau, Volaille\\r\\nwhisky-kingsbarns-lowland-single-malt;1.5 kg;;;;;;;;70cl;46%;;\\r\\ndarnleys-london-dry-gin-original;1.5 kg;;;;;;;;70cl;40%;;\\r\\ndarnleys-london-dry-gin-spiced;1.5 kg;;;;;;;;70cl;42,7%;;\\r\\nwemyss-malts-single-cask-scotch-whisky-chai-caramel-latte-2002;1.5 kg;;;;;;;;70cl;46%;;\\r\\nborie-la-vitarele-languedoc-blanc-grand-mayol-2019;1.5 kg;Languedoc-Roussillon;Borie La Vitar\\xe8le;Languedoc;Blanc;Bourboulenc, Clairette, Vermentino;2020;3-5 ans;75cl;13,5%;11\\xb0C;Ap\\xe9ritif, Crustac\\xe9s, Poissons, Viande Blanche\\r\\ncognac-normandin-mercier-vfc;1.5 kg;;;Cognac;;;;;70cl;40%;;\\r\\ndomaine-de-vaccelli-ajaccio-rouge-granit-2016;1.5 kg;Corse;Vaccelli;Ajaccio;Rouge;Sciacarello;2016;10 ans et +;75cl;13,5%;15\\xb0C;Charcuterie, Entrec\\xf4te de boeuf persill\\xe9e, Grillades\\r\\ndomaine-de-vaccelli-aop-ajaccio-rouge-granit-174-2017;1.5 kg;Corse;Vaccelli;Ajaccio;Rouge;Sciacarello;2018;10 ans et +;75cl;15,5%;15\\xb0C;Charcuterie, Entrec\\xf4te de boeuf persill\\xe9e, Grillades\\r\\nclos-du-prieur-terrasses-du-larzac-2018;1.5 kg;Languedoc-Roussillon;Domaine de l'Hortus;Terrasses du Larzac;Rouge;Grenache, Syrah;2020;3-5 ans;75cl;13,5%;15\\xb0C;Gibier, Grillades, Viande en sauce, Viande rouge\\r\\nlabranche-laffont-madiran-tradition-2016;1.5 kg;Sud Ouest;Labranche Laffont;Madiran;Rouge;Cabernet Franc, Cabernet Sauvignon, Tannat;2018;4-7 ans;75cl;14%;16\\xb0C;Canard, Gibier, Viande rouge\\r\\ndomaine-labranche-laffont-madiran-vieilles-vignes-2015;1.5 kg;Sud Ouest;Labranche Laffont;Madiran;Rouge;Tannat;2018;8-10 ans;75cl;14,5%;16\\xb0C;Canard, Gibier, Viande rouge\\r\\ndomaine-labranche-laffont-pacherenc-vic-bihl-sec-2017;1.5 kg;Sud Ouest;Labranche Laffont;Pacherenc du Vic-Bilh Sec;Blanc;Gros Manseng, Petit Manseng;2019;3-5 ans;75cl;14,5%;11\\xb0C;Ap\\xe9ritif, Crustac\\xe9s, Poissons\\r\\ncamin-larredya-jurancon-moelleux-capceu-2018;1.5 kg;Sud Ouest;Camin Larredya;Juran\\xe7on;Blanc;Petit Manseng;2019;8-10 ans;75cl;14%;10\\xb0C;Ap\\xe9ritif, Cuisine orientale, Foie gras, Fromage de brebis, Tartes aux fruits\\r\\nancienne-cure-bergerac-blanc-sec-2016;1.5 kg;Sud Ouest;Ancienne Cure;Bergerac;Blanc;Chenin, Muscadelle, Ondenc, Sauvignon Blanc, S\\xe9millon;2018;3-5 ans;75cl;14%;11\\xb0C;Ap\\xe9ritif, Crustac\\xe9s, Poissons\\r\\ndomaine-de-lancienne-cure-pecharmant-abbaye-2015;1.5 kg;Sud Ouest;Ancienne Cure;P\\xe9charmant;Rouge;Cabernet Franc, Cabernet Sauvignon, Malbec, Merlot;2018;8-10 ans;75cl;13,5%;16\\xb0C;Canard, Gibier, Grillades, Viande rouge\\r\\nzind-humbrecht-pinot-gris-windsbuhl-2013;1.5 kg;Alsace;Zind-Humbrecht;Alsace Pinot Gris;Blanc;Pinot Gris;2013;10 ans et +;75cl;14,5%;12\\xb0C;Cuisine Exotique, Fromages, Volaille\\r\\ni-fabbri-chianti-classico-gran-selezione-2015;1.5 kg;Italie;I Fabbri;Chianti Classico;Rouge;Sangiovese;2015;15 ans et +;75cl;13,5%;16\\xb0C;Veau, Viande rouge, Volaille\\r\\nchateau-de-vaudieu-chateauneuf-du-pape-amiral-g-2015;1.5 kg;Rh\\xf4ne;Ch\\xe2teau de Vaudieu;Ch\\xe2teauneuf-du-Pape;Rouge;Grenache;2017;15 ans et +;75cl;15%;17\\xb0C;Gibier, Viande rouge\\r\\ndomaine-la-croix-belle-cotes-de-thongue-rose-grillons-2019;1.5 kg;Languedoc-Roussillon;La Croix Belle;C\\xf4tes de Thongue;Ros\\xe9;Cabernet Sauvignon, Grenache, Syrah;2021;3 ans;75cl;12,50%;10\\xb0C;Ap\\xe9ritif, Cuisine m\\xe9diterran\\xe9enne, Grillades, Poissons\\r\\nchateau-de-la-liquiere-faugeres-ampoule-2019;1.5 kg;Languedoc-Roussillon;Ch\\xe2teau de La Liqui\\xe8re;Faug\\xe8res;Rouge;Cinsault Majoritaire, Grenache, Syrah;2020;3 ans;75cl;14%;14\\xb0C;Ap\\xe9ritif, Charcuterie, Volaille\\r\\nborie-la-vitarele-pays-herault-cigales-2019;1.5 kg;Languedoc-Roussillon;Borie La Vitar\\xe8le;Pays d'H\\xe9rault;Rouge;Grenache, Merlot;2020;3 ans;75cl;14,5%;15\\xb0C;Ap\\xe9ritif, Grillades, Viande rouge, Volaille\\r\\nclos-du-mont-olivet-cotes-du-rhone-blanc-2019;1.5 kg;Rh\\xf4ne;Clos Du Mont-Olivet;C\\xf4tes-du-Rh\\xf4ne;Blanc;Grenache Blanc, Ugni Blanc;2021;3-5 ans;75cl;14,5%;11\\xb0C;Fromages, Poissons, Viande Blanche, Volaille\\r\\njacqueson-rully-rouge-1er-cru-les-preaux-2018;1.5 kg;Bourgogne;Domaine Jacqueson;Rully 1er Cru;Rouge;Pinot Noir;2020;6-8 ans;75cl;13,5%;15\\xb0C;Boeuf bourguignon, Entrec\\xf4te, Viande Blanche, Viande rouge, Volaille\\r\\nstephane-tissot-arbois-blanc-la-mailloche-2016;1.5 kg;Jura;St\\xe9phane Tissot;Arbois;Blanc;Chardonnay;2018;10 ans et +;75cl;14%;12\\xb0C;Fromages, Poissons, Viande Blanche, Volaille\\r\\nstephane-tissot-arbois-blanc-savagnin-2015;1.5 kg;Jura;St\\xe9phane Tissot;Arbois;Blanc;Savagnin;2017;15 ans et +;75cl;14%;14\\xb0C;Cuisine Exotique, Fromages, Viande Blanche, Volaille\\r\\nstephane-tissot-chateau-chalon-2011;1.5 kg;Jura;St\\xe9phane Tissot;Ch\\xe2teau-Chalon;Blanc;Savagnin;2011;15 ans et +;62cl;15%;15\\xb0C;Coq au Vin Jaune, Vieux Comt\\xe9\\r\\nstephane-tissot-arbois-vin-jaune-en-spois-2011;1.5 kg;Jura;St\\xe9phane Tissot;Arbois;Blanc;Savagnin;2012;15 ans et +;62cl;15%;15\\xb0C;Coq au Vin Jaune, Vieux Comt\\xe9\\r\\nchampagne-gosset-celebris-vintage-2007;1.5 kg;Champagne;Gosset;Champagne;Blanc;45% Pinot Noir, 55% Chardonnay;2007;10 ans et +;75cl;12%;10\\xb0C;Agneau de l'Aveyron, Ap\\xe9ritif, Brie de Meaux\\r\\nmoulin-de-gassac-igp-pays-dherault-mazet-levant-2017;1.5 kg;Languedoc-Roussillon;Mas de Daumas Gassac;Pays d'H\\xe9rault;Rouge;Cabernet Sauvignon, Merlot, Syrah;2017;3-5 ans;75cl;13,5%;17\\xb0C;Canard, Gibier, Grillades, Porc au caramel, Viande rouge\\r\\nmoulin-de-gassac-igp-pays-dherault-faune-2017;1.5 kg;Languedoc-Roussillon;Mas de Daumas Gassac;Pays d'H\\xe9rault;Blanc;Chardonnay, Viognier;2021;3-5 ans;75cl;12,50%;11\\xb0C;Ap\\xe9ritif, Crabe, Fromage de ch\\xe8vre, Fruits de mer, Salade, Volaille\\r\\nmoulin-de-gassac-igp-pays-dherault-guilhem-blanc-2017;1.5 kg;Languedoc-Roussillon;Mas de Daumas Gassac;Pays d'H\\xe9rault;Blanc;Grenache Blanc, Sauvignon Blanc, Terret Blanc;2017;3 ans;75cl;12,50%;11\\xb0C;Ap\\xe9ritif, Fromages, Fruits de mer, Poissons, Salade\\r\\ndomaine-de-vaccelli-ajaccio-blanc-sirocco-2017;1.5 kg;Corse;Vaccelli;Ajaccio;Blanc;Vermentino;2019;5-7 ans;75cl;12,50%;11\\xb0C;Coquilles Saint Jacques, Fromages, Risotto, Volaille\\r\\ndomaine-clerget-echezeaux-en-orveaux-2015;1.5 kg;Bourgogne;Christian Clerget;Echezeaux Grand Cru;Rouge;Pinot Noir;2016;15 ans et +;75cl;13,5%;15\\xb0C;Fromages, Gibier, Viande rouge\\r\\ndomaine-giudicelli-muscat-du-cap-corse-2016;1.5 kg;Corse;Domaine Giudicelli;Muscat du Cap Corse;Blanc;Muscat \\xe0 petits grains;2017;8-10 ans;75cl;16%;11\\xb0C;Ap\\xe9ritif, Desserts, Foie gras, Ricotta \\xe0 la fraise, Tartes aux fruits\\r\\ndomaine-giudicelli-vin-de-france-corail-rouge-2019;1.5 kg;Corse;Domaine Giudicelli;;Rouge;Grenache, Sciacarello;2020;3-5 ans;75cl;13%;13\\xb0C;Ap\\xe9ritif, Charcuterie, Fromages, Volaille\\r\\ndomaine-giudicelli-patrimonio-blanc-2019;1.5 kg;Corse;Domaine Giudicelli;Patrimonio;Blanc;Vermentino;2020;3-5 ans;75cl;13,5%;11\\xb0C;Fruits de mer, Langoustes, Poissons, Risotto\\r\\ndomaine-giudicelli-patrimonio-rouge-2016;1.5 kg;Corse;Domaine Giudicelli;Patrimonio;Rouge;Nielluccio;2018;6-8 ans;75cl;14%;15\\xb0C;Cuisine m\\xe9diterran\\xe9enne, Gibiers \\xe0 plumes, Pigeon, Terrines, Viande rouge\\r\\ndomaine-des-comtes-lafon-volnay-1er-cru-champans-2013;1.5 kg;Bourgogne;Domaine des Comtes Lafon;Volnay 1er Cru;Rouge;Pinot Noir;2013;10-12 ans;75cl;13,5%;15\\xb0C;C\\xf4tes de Veau, Lapin, Viande rouge, Volaille\\r\\ndomaine-des-comtes-lafon-volnay-1er-cru-champans-2014;1.5 kg;Bourgogne;Domaine des Comtes Lafon;Volnay 1er Cru;Rouge;Pinot Noir;2014;10-12 ans;75cl;13,5%;15\\xb0C;C\\xf4tes de Veau, Lapin, Viande rouge, Volaille\\r\\ndomaine-des-comtes-lafon-volnay-1er-cru-champans-2016;1.5 kg;Bourgogne;Domaine des Comtes Lafon;Volnay 1er Cru;Rouge;Pinot Noir;2016;10-12 ans;75cl;13,5%;15\\xb0C;C\\xf4tes de Veau, Lapin, Viande rouge, Volaille\\r\\nplaneta-sicilia-eruzione-1614-2017;1.5 kg;Italie;Planeta;Sicilia;Rouge;Nerello Mascalese;2018;4-7 ans;75cl;13%;14\\xb0C;Charcuterie, Grillades, Viande rouge\\r\\nplaneta-sicilia-passito-di-noto-2016;1.5 kg;Italie;Planeta;Noto;Rouge;Moscato;2017;8-10 ans;50cl;12,50%;8\\xb0C;Chocolat, Desserts, Tartes aux fruits\\r\\nplaneta-sicilia-chardonnay-2017;1.5 kg;Italie;Planeta;Sicilia;Blanc;Chardonnay;2018;4-7 ans;75cl;13,5%;12\\xb0C;Ap\\xe9ritif, Fromages, Fruits de mer, Poissons, Risotto, Volaille\\r\\nle-pas-de-lescalette-herault-ze-cinsault-2017;1.5 kg;Languedoc-Roussillon;Le Pas de l'Escalette;Pays d'H\\xe9rault;Rouge;Cinsault;2019;5-7 ans;75cl;14%;14\\xb0C;Charcuterie, Grillades\\r\\nle-pas-de-lescalette-terrasses-du-larzac-les-frieys-2017;1.5 kg;Languedoc-Roussillon;Le Pas de l'Escalette;Terrasses du Larzac;Rouge;Carignan, Grenache, Mourv\\xe8dre;2019;8-10 ans;75cl;13%;14\\xb0C;Risotto aux morilles, Tournedos Rossini, Viande rouge\\r\\nborie-de-maurel-minervois-esprit-automne-2019;1.5 kg;Languedoc-Roussillon;Borie de Maurel;Minervois;Rouge;Carignan, Grenache, Syrah;2020;3-5 ans;75cl;13,5%;15\\xb0C;Cassoulet, Daube, Grillades, Mets \\xe9pic\\xe9s\\r\\nlucien-boillot-gevrey-chambertin-1er-cru-les-cherbaudes-2017;1.5 kg;Bourgogne;Lucien Boillot;Gevrey-Chambertin 1er Cru;Rouge;Pinot Noir;2019;15 ans et +;75cl;13,5%;15\\xb0C;Lapin, Tourte, Viande rouge\\r\\nborie-la-vitarele-saint-chinian-midi-rouge-2015;1.5 kg;Languedoc-Roussillon;Borie La Vitar\\xe8le;Saint-Chinian;Rouge;Carignan, Mourv\\xe8dre, Syrah;2015;8-10 ans;75cl;14%;16\\xb0C;Gibier, Viande rouge, Volaille\\r\\ntempier-bandol-blanc-2018;1.5 kg;Provence;Tempier;Bandol;Blanc;Bourboulenc, Clairette, Ugni Blanc;2021;6-8 ans;75cl;13,5%;10\\xb0C;Bouillabaisse, Crustac\\xe9s, Fromage de ch\\xe8vre, Poissons\\r\\nle-pas-de-lescalette-igp-pays-dherault-les-clapas-blanc-2018;1.5 kg;Languedoc-Roussillon;Le Pas de l'Escalette;Pays d'H\\xe9rault;Blanc;Carignan Blanc, Grenache Blanc, Grenache Gris, Terret Bourret;2020;4-7 ans;75cl;12,50%;12\\xb0C;Veau, Viande Blanche, Volaille\\r\\ndecelle-villa-chambolle-musigny-2017;1.5 kg;Bourgogne;Decelle-Villa;Chambolle-Musigny;Rouge;Pinot Noir;2017;10 ans et +;75cl;14%;15\\xb0C;Veau, Viande Blanche, Viande rouge\\r\\ndecelle-villa-chorey-beaune-2016;1.5 kg;Bourgogne;Decelle-Villa;Chorey-L\\xe8s-Beaune;Rouge;Pinot Noir;2017;4-7 ans;75cl;13%;15\\xb0C;Carpaccios, Filet de boeuf, Fromages, Veau\\r\\ndecelle-villa-marsannay-longeroies-2015;1.5 kg;Bourgogne;Decelle-Villa;Marsannay;Rouge;Pinot Noir;2017;4-7 ans;75cl;14%;15\\xb0C;Veau, Viande Blanche, Viande rouge\\r\\nmarc-colin-et-fils-chassagne-montrachet-blanc-1cru-champs-gain-2017;1.5 kg;Bourgogne;Marc Colin;Chassagne-Montrachet 1er Cru;Blanc;Chardonnay;2019;8-10 ans;75cl;13%;12\\xb0C;Bouch\\xe9es \\xe0 la Reine, Ris de veau, Risotto, Volaille\\r\\nmarc-colin-et-fils-saint-aubin-1ercru-chateniere-2017;1.5 kg;Bourgogne;Marc Colin;Saint-Aubin 1er Cru;Blanc;Chardonnay;2019;4-7 ans;75cl;13%;12\\xb0C;Bouch\\xe9es \\xe0 la Reine, Poisson en sauce, Risotto, Volaille\\r\\nsaumaize-michelin-pouilly-fuisse-ampelopsis-2016;1.5 kg;Bourgogne;Saumaize-Michelin;Pouilly-Fuiss\\xe9;Blanc;Chardonnay;2018;;75cl;13%;12\\xb0C;Ap\\xe9ritif, Fromages, Poissons, Volaille\\r\\nla-preceptorie-cotes-du-roussillon-coume-marie-2018-blc;1.5 kg;Languedoc-Roussillon;La Preceptorie;;Blanc;Carignan Blanc, Grenache Blanc, Grenache Gris, Macabeu;2020;6-8 ans;75cl;15%;12\\xb0C;Poisson en sauce, Viande Blanche, Volaille\\r\\nla-preceptorie-cotes-du-roussillon-blanc-terres-nouvelles-2018;1.5 kg;Languedoc-Roussillon;La Preceptorie;;Blanc;Grenache Gris, Macabeu;2020;6-8 ans;75cl;15%;12\\xb0C;Crustac\\xe9s, Fruits de mer, Poisson grill\\xe9\\r\\ndomaine-de-la-monardiere-vacqueyras-galejade-2018;1.5 kg;Rh\\xf4ne;La Monardi\\xe8re;Vacqueyras;Blanc;Clairette, Grenache Blanc, Roussanne;2018;6-8 ans;75cl;14%;12\\xb0C;Fromages, Poisson en sauce, Viande Blanche\\r\\nclos-du-mont-olivet-chateauneuf-du-pape-2018;1.5 kg;Rh\\xf4ne;Clos Du Mont-Olivet;Ch\\xe2teauneuf-du-Pape;Rouge;Cinsault, Grenache, Mourv\\xe8dre, Syrah;2019;15 ans et +;75cl;14,5%;16\\xb0C;Gibier, Viande rouge\\r\\nclos-du-mont-olivet-lirac-2017;1.5 kg;Rh\\xf4ne;Clos Du Mont-Olivet;Lirac;Rouge;Cinsault, Grenache, Syrah;2019;4-7 ans;75cl;14,5%;15\\xb0C;Charcuterie, Viande rouge\\r\\nclos-du-mont-olivet-igp-gard-rive-droite-2018;1.5 kg;Rh\\xf4ne;Clos Du Mont-Olivet;Pays du Gard;Rouge;Carignan, Grenache, Merlot, Syrah;2019;3 ans;75cl;14%;15\\xb0C;Charcuterie, Viande rouge\\r\\nclos-du-mont-olivet-vins-de-pays-du-gard-confluence-2017;1.5 kg;Rh\\xf4ne;Clos Du Mont-Olivet;Pays du Gard;Rouge;Carignan, Grenache;2019;3 ans;75cl;14,5%;15\\xb0C;Charcuterie, Viande rouge\\r\\nthierry-germain-saumur-champigny-la-marginale-2018;1.5 kg;Vall\\xe9e de la Loire;Thierry Germain;Saumur-Champigny;Rouge;Cabernet Franc;2018;10-15 ans;75cl;13%;15\\xb0C;Boudin aux pommes, Carr\\xe9 d'agneau en cro\\xfbte d'herbes, Queue de boeuf \\xe0 la cuilli\\xe8re\\r\\nthierry-germain-saumur-champigny-les-memoires-2018;1.5 kg;Vall\\xe9e de la Loire;Thierry Germain;Saumur-Champigny;Rouge;Cabernet Franc;2018;10-15 ans;75cl;13%;15\\xb0C;Gibier, Viande rouge\\r\\nweingut-besson-strasser-zurich-rauschling-2018;1.5 kg;Suisse \\x96 Rheinfall;Weingut Besson-Strasser;Z\\xfcrich;Blanc;R\\xe4uschling;2019;8-10 ans;75cl;12%;11\\xb0C;Crustac\\xe9s, Fruits de mer, Poissons, Volaille\\r\\nweingut-besson-strasser-zurich-fume-2017;1.5 kg;Suisse \\x96 Rheinfall;Weingut Besson-Strasser;Z\\xfcrich;Blanc;R\\xe4uschling, Chardonnay;2018;8-10 ans;75cl;12%;11\\xb0C;Poisson en sauce, Viande Blanche, Volaille\\r\\nweingut-besson-strasser-zurich-blauer-zweigelt-2016;1.5 kg;Suisse \\x96 Rheinfall;Weingut Besson-Strasser;Z\\xfcrich;Rouge;Blauer-Zweigelt;2016;6-8 ans;75cl;13%;15\\xb0C;Gibiers \\xe0 plumes, Grillades, Viande rouge\\r\\nweingut-besson-strasser-zurich-pinot-noir-cholfirst-2017;1.5 kg;Suisse \\x96 Rheinfall;Weingut Besson-Strasser;Z\\xfcrich;Rouge;Pinot Noir;2019;6-8 ans;75cl;12,50%;15\\xb0C;Bouch\\xe9es \\xe0 la Reine, Viande Blanche, Viande rouge, Volaille\\r\\nweingut-besson-strasser-zurich-pinot-noir-albi-2016;1.5 kg;Suisse \\x96 Rheinfall;Weingut Besson-Strasser;Z\\xfcrich;Rouge;Pinot Noir;2017;6-8 ans;75cl;12,50%;15\\xb0C;Gibier, Grillades, Viande rouge\\r\\nweingut-besson-strasser-zurich-pinot-noir-chlosterberg-2016;1.5 kg;Suisse \\x96 Rheinfall;Weingut Besson-Strasser;Z\\xfcrich;Rouge;Pinot Noir;2017;15 ans et +;75cl;12,50%;15\\xb0C;Araign\\xe9e de Boeuf, Quasi de veau, Supr\\xeame de volaille\\r\\ndomaine-de-la-monardiere-vacqueyras-les-vieilles-vignes-2016;1.5 kg;Rh\\xf4ne;La Monardi\\xe8re;Vacqueyras;Rouge;Carignan, Grenache, Mourv\\xe8dre;2019;10 ans et +;75cl;14%;16\\xb0C;Gibier, Grillades, Viande rouge\\r\\ncatherine-et-claude-marechal-pommard-la-chaniere-2017;1.5 kg;Bourgogne;Catherine et Claude Mar\\xe9chal;Pommard;Rouge;Pinot Noir;2017;8-10 ans;75cl;13,5%;15\\xb0C;Civet de Canard, Fondue Bourguignonne, Terrine de Lapin\\r\\ncatherine-et-claude-marechal-savigny-les-beaune-rouge-2017;1.5 kg;Bourgogne;Catherine et Claude Mar\\xe9chal;Savigny-L\\xe8s-Beaune;Rouge;Pinot Noir;2017;8-10 ans;75cl;13,5%;15\\xb0C;Gibiers \\xe0 plumes, Viande Blanche, Volaille\\r\\ndomaine-hauvette-igp-alpilles-jaspe-2017;1.5 kg;Provence;Domaine Hauvette;Alpilles;Blanc;Roussanne;2019;4-7 ans;75cl;12,50%;12\\xb0C;Charcuterie, Crustac\\xe9s, Poissons, Volaille\\r\\ndomaine-hauvette-igp-alpilles-dolia-2013;1.5 kg;Provence;Domaine Hauvette;Alpilles;Blanc;Clairette, Marsanne, Roussanne;2013;10 ans et +;75cl;13,5%;12\\xb0C;Charcuterie, Crustac\\xe9s, Poissons, Volaille\\r\\nemile-boeckel-cremant-chardonnay-extra-brut-2016;1.5 kg;Alsace;Emile Boeckel;Cr\\xe9mant d'Alsace;Blanc;Chardonnay;;3-5 ans;75cl;12%;9\\xb0C;Ap\\xe9ritif, Fromages, Hu\\xeetres, Poissons\\r\\nchateau-simone-blanc-2017;1.5 kg;Provence;Ch\\xe2teau Simone;Palette;Blanc;Bourboulenc, Clairette, Grenache Blanc, Muscat, Ugni Blanc;2018;10 ans et +;75cl;13,5%;12\\xb0C;Ancho\\xefade de l\\xe9gumes, Carpaccio de poisson, Farcis proven\\xe7aux\\r\\ndomino-romano-ribera-del-duero-rdr-2015;1.5 kg;Espagne;Domino Romano;Ribera Del Duero;Rouge;Tinto Fino;2015;10 ans et +;75cl;14,5%;18\\xb0C;Agneau, Canard, Grillades, Viande rouge\\r\\ngratavinum-priorat-gv5-2011;1.5 kg;Espagne;Gratavinum;Priorat;Rouge;Cabernet Sauvignon, Carignan, Grenache;2013;10 ans et +;75cl;14,5%;16\\xb0C;Agneau, Canard, Grillades, Viande rouge\\r\\ngratavinum-priorat-2%cf%80r-2017;1.5 kg;Espagne;Gratavinum;Priorat;Rouge;Cabernet Sauvignon, Carignan, Grenache, Syrah;2018;10 ans et +;75cl;13,5%;16\\xb0C;Agneau, Canard, Grillades, Viande rouge\\r\\nchateau-jean-faure-saint-emilion-grand-cru-2016;1.5 kg;Bordeaux;Ch\\xe2teau Jean Faure;Saint-Emilion Grand Cru Class\\xe9;Rouge;Cabernet Franc, Malbec, Merlot;2016;15 ans et +;75cl;13,5%;18\\xb0C;Filet de boeuf, Gibier, Magret de Canard\\r\\nmouthes-le-bihan-aime-chai-2015;1.5 kg;Sud Ouest;Mouthes Le Bihan;C\\xf4tes-de-Duras;Rouge;Cabernet Sauvignon, Malbec, Merlot;2016;4-7 ans;75cl;13,5%;14\\xb0C;Boeuf aux carottes, Pommes de terre sarladaises, Cassoulet\\r\\ncamin-larredya-jurancon-sec-la-virada-2018;1.5 kg;Sud Ouest;Camin Larredya;Juran\\xe7on;Blanc;Gros Manseng, Petit Courbu, Petit Manseng;2018;8-10 ans;75cl;14%;11\\xb0C;Charcuterie, Fromages, Poissons, Viande Blanche\\r\\njamet-cote-rotie-fructus-voluptas-2018;1.5 kg;Rh\\xf4ne;Jamet;C\\xf4te R\\xf4tie;Rouge;Syrah;2020;10 ans et +;75cl;13%;16\\xb0C;Agneau, Gibier, Pigeon, Viande rouge\\r\\ndomaine-saint-nicolas-fiefs-vendeens-blanc-les-clous-2019;1.5 kg;Vall\\xe9e de la Loire;Saint-Nicolas;;Blanc;Chardonnay, Chenin;2019;3-5 ans;75cl;14%;12\\xb0C;Crustac\\xe9s, Fromages, Poissons\\r\\n\"\n"
     ]
    }
   ],
   "source": [
    "#Avant d'utiliser pandas pour le chargement du fichier, explorons la structure du fichier\n",
    "#Pour cela utilisons l'instruction ci-dessous qui permet d'ouvrir un fichier texte\n",
    "with open(\"caracteristiques_vins.csv\", \"rb\") as f:\n",
    "    file = f.read()\n",
    "    \n",
    "#Et affichons le:\n",
    "print(file)"
   ]
  },
  {
   "cell_type": "code",
   "execution_count": 62,
   "id": "1d974fd1",
   "metadata": {},
   "outputs": [
    {
     "ename": "UnicodeDecodeError",
     "evalue": "'utf-8' codec can't decode byte 0xe9 in position 17: invalid continuation byte",
     "output_type": "error",
     "traceback": [
      "\u001b[1;31m---------------------------------------------------------------------------\u001b[0m",
      "\u001b[1;31mUnicodeDecodeError\u001b[0m                        Traceback (most recent call last)",
      "Cell \u001b[1;32mIn[62], line 4\u001b[0m\n\u001b[0;32m      1\u001b[0m \u001b[38;5;66;03m#Vous avez dû constater que les champs sont séparées par des point-virgule\u001b[39;00m\n\u001b[0;32m      2\u001b[0m \n\u001b[0;32m      3\u001b[0m \u001b[38;5;66;03m#tentons d'ouvrir le fichier avec pandas avec cet élément\u001b[39;00m\n\u001b[1;32m----> 4\u001b[0m df_caracteristiques \u001b[38;5;241m=\u001b[39m \u001b[43mpd\u001b[49m\u001b[38;5;241;43m.\u001b[39;49m\u001b[43mread_csv\u001b[49m\u001b[43m(\u001b[49m\u001b[38;5;124;43m\"\u001b[39;49m\u001b[38;5;124;43mcaracteristiques_vins.csv\u001b[39;49m\u001b[38;5;124;43m\"\u001b[39;49m\u001b[43m,\u001b[49m\u001b[43m \u001b[49m\u001b[43msep\u001b[49m\u001b[38;5;241;43m=\u001b[39;49m\u001b[38;5;124;43m\"\u001b[39;49m\u001b[38;5;124;43m;\u001b[39;49m\u001b[38;5;124;43m\"\u001b[39;49m\u001b[43m)\u001b[49m\n",
      "File \u001b[1;32m~\\anaconda3\\lib\\site-packages\\pandas\\util\\_decorators.py:211\u001b[0m, in \u001b[0;36mdeprecate_kwarg.<locals>._deprecate_kwarg.<locals>.wrapper\u001b[1;34m(*args, **kwargs)\u001b[0m\n\u001b[0;32m    209\u001b[0m     \u001b[38;5;28;01melse\u001b[39;00m:\n\u001b[0;32m    210\u001b[0m         kwargs[new_arg_name] \u001b[38;5;241m=\u001b[39m new_arg_value\n\u001b[1;32m--> 211\u001b[0m \u001b[38;5;28;01mreturn\u001b[39;00m func(\u001b[38;5;241m*\u001b[39margs, \u001b[38;5;241m*\u001b[39m\u001b[38;5;241m*\u001b[39mkwargs)\n",
      "File \u001b[1;32m~\\anaconda3\\lib\\site-packages\\pandas\\util\\_decorators.py:331\u001b[0m, in \u001b[0;36mdeprecate_nonkeyword_arguments.<locals>.decorate.<locals>.wrapper\u001b[1;34m(*args, **kwargs)\u001b[0m\n\u001b[0;32m    325\u001b[0m \u001b[38;5;28;01mif\u001b[39;00m \u001b[38;5;28mlen\u001b[39m(args) \u001b[38;5;241m>\u001b[39m num_allow_args:\n\u001b[0;32m    326\u001b[0m     warnings\u001b[38;5;241m.\u001b[39mwarn(\n\u001b[0;32m    327\u001b[0m         msg\u001b[38;5;241m.\u001b[39mformat(arguments\u001b[38;5;241m=\u001b[39m_format_argument_list(allow_args)),\n\u001b[0;32m    328\u001b[0m         \u001b[38;5;167;01mFutureWarning\u001b[39;00m,\n\u001b[0;32m    329\u001b[0m         stacklevel\u001b[38;5;241m=\u001b[39mfind_stack_level(),\n\u001b[0;32m    330\u001b[0m     )\n\u001b[1;32m--> 331\u001b[0m \u001b[38;5;28;01mreturn\u001b[39;00m func(\u001b[38;5;241m*\u001b[39margs, \u001b[38;5;241m*\u001b[39m\u001b[38;5;241m*\u001b[39mkwargs)\n",
      "File \u001b[1;32m~\\anaconda3\\lib\\site-packages\\pandas\\io\\parsers\\readers.py:950\u001b[0m, in \u001b[0;36mread_csv\u001b[1;34m(filepath_or_buffer, sep, delimiter, header, names, index_col, usecols, squeeze, prefix, mangle_dupe_cols, dtype, engine, converters, true_values, false_values, skipinitialspace, skiprows, skipfooter, nrows, na_values, keep_default_na, na_filter, verbose, skip_blank_lines, parse_dates, infer_datetime_format, keep_date_col, date_parser, dayfirst, cache_dates, iterator, chunksize, compression, thousands, decimal, lineterminator, quotechar, quoting, doublequote, escapechar, comment, encoding, encoding_errors, dialect, error_bad_lines, warn_bad_lines, on_bad_lines, delim_whitespace, low_memory, memory_map, float_precision, storage_options)\u001b[0m\n\u001b[0;32m    935\u001b[0m kwds_defaults \u001b[38;5;241m=\u001b[39m _refine_defaults_read(\n\u001b[0;32m    936\u001b[0m     dialect,\n\u001b[0;32m    937\u001b[0m     delimiter,\n\u001b[1;32m   (...)\u001b[0m\n\u001b[0;32m    946\u001b[0m     defaults\u001b[38;5;241m=\u001b[39m{\u001b[38;5;124m\"\u001b[39m\u001b[38;5;124mdelimiter\u001b[39m\u001b[38;5;124m\"\u001b[39m: \u001b[38;5;124m\"\u001b[39m\u001b[38;5;124m,\u001b[39m\u001b[38;5;124m\"\u001b[39m},\n\u001b[0;32m    947\u001b[0m )\n\u001b[0;32m    948\u001b[0m kwds\u001b[38;5;241m.\u001b[39mupdate(kwds_defaults)\n\u001b[1;32m--> 950\u001b[0m \u001b[38;5;28;01mreturn\u001b[39;00m \u001b[43m_read\u001b[49m\u001b[43m(\u001b[49m\u001b[43mfilepath_or_buffer\u001b[49m\u001b[43m,\u001b[49m\u001b[43m \u001b[49m\u001b[43mkwds\u001b[49m\u001b[43m)\u001b[49m\n",
      "File \u001b[1;32m~\\anaconda3\\lib\\site-packages\\pandas\\io\\parsers\\readers.py:605\u001b[0m, in \u001b[0;36m_read\u001b[1;34m(filepath_or_buffer, kwds)\u001b[0m\n\u001b[0;32m    602\u001b[0m _validate_names(kwds\u001b[38;5;241m.\u001b[39mget(\u001b[38;5;124m\"\u001b[39m\u001b[38;5;124mnames\u001b[39m\u001b[38;5;124m\"\u001b[39m, \u001b[38;5;28;01mNone\u001b[39;00m))\n\u001b[0;32m    604\u001b[0m \u001b[38;5;66;03m# Create the parser.\u001b[39;00m\n\u001b[1;32m--> 605\u001b[0m parser \u001b[38;5;241m=\u001b[39m TextFileReader(filepath_or_buffer, \u001b[38;5;241m*\u001b[39m\u001b[38;5;241m*\u001b[39mkwds)\n\u001b[0;32m    607\u001b[0m \u001b[38;5;28;01mif\u001b[39;00m chunksize \u001b[38;5;129;01mor\u001b[39;00m iterator:\n\u001b[0;32m    608\u001b[0m     \u001b[38;5;28;01mreturn\u001b[39;00m parser\n",
      "File \u001b[1;32m~\\anaconda3\\lib\\site-packages\\pandas\\io\\parsers\\readers.py:1442\u001b[0m, in \u001b[0;36mTextFileReader.__init__\u001b[1;34m(self, f, engine, **kwds)\u001b[0m\n\u001b[0;32m   1439\u001b[0m     \u001b[38;5;28mself\u001b[39m\u001b[38;5;241m.\u001b[39moptions[\u001b[38;5;124m\"\u001b[39m\u001b[38;5;124mhas_index_names\u001b[39m\u001b[38;5;124m\"\u001b[39m] \u001b[38;5;241m=\u001b[39m kwds[\u001b[38;5;124m\"\u001b[39m\u001b[38;5;124mhas_index_names\u001b[39m\u001b[38;5;124m\"\u001b[39m]\n\u001b[0;32m   1441\u001b[0m \u001b[38;5;28mself\u001b[39m\u001b[38;5;241m.\u001b[39mhandles: IOHandles \u001b[38;5;241m|\u001b[39m \u001b[38;5;28;01mNone\u001b[39;00m \u001b[38;5;241m=\u001b[39m \u001b[38;5;28;01mNone\u001b[39;00m\n\u001b[1;32m-> 1442\u001b[0m \u001b[38;5;28mself\u001b[39m\u001b[38;5;241m.\u001b[39m_engine \u001b[38;5;241m=\u001b[39m \u001b[38;5;28;43mself\u001b[39;49m\u001b[38;5;241;43m.\u001b[39;49m\u001b[43m_make_engine\u001b[49m\u001b[43m(\u001b[49m\u001b[43mf\u001b[49m\u001b[43m,\u001b[49m\u001b[43m \u001b[49m\u001b[38;5;28;43mself\u001b[39;49m\u001b[38;5;241;43m.\u001b[39;49m\u001b[43mengine\u001b[49m\u001b[43m)\u001b[49m\n",
      "File \u001b[1;32m~\\anaconda3\\lib\\site-packages\\pandas\\io\\parsers\\readers.py:1753\u001b[0m, in \u001b[0;36mTextFileReader._make_engine\u001b[1;34m(self, f, engine)\u001b[0m\n\u001b[0;32m   1750\u001b[0m     \u001b[38;5;28;01mraise\u001b[39;00m \u001b[38;5;167;01mValueError\u001b[39;00m(msg)\n\u001b[0;32m   1752\u001b[0m \u001b[38;5;28;01mtry\u001b[39;00m:\n\u001b[1;32m-> 1753\u001b[0m     \u001b[38;5;28;01mreturn\u001b[39;00m mapping[engine](f, \u001b[38;5;241m*\u001b[39m\u001b[38;5;241m*\u001b[39m\u001b[38;5;28mself\u001b[39m\u001b[38;5;241m.\u001b[39moptions)\n\u001b[0;32m   1754\u001b[0m \u001b[38;5;28;01mexcept\u001b[39;00m \u001b[38;5;167;01mException\u001b[39;00m:\n\u001b[0;32m   1755\u001b[0m     \u001b[38;5;28;01mif\u001b[39;00m \u001b[38;5;28mself\u001b[39m\u001b[38;5;241m.\u001b[39mhandles \u001b[38;5;129;01mis\u001b[39;00m \u001b[38;5;129;01mnot\u001b[39;00m \u001b[38;5;28;01mNone\u001b[39;00m:\n",
      "File \u001b[1;32m~\\anaconda3\\lib\\site-packages\\pandas\\io\\parsers\\c_parser_wrapper.py:79\u001b[0m, in \u001b[0;36mCParserWrapper.__init__\u001b[1;34m(self, src, **kwds)\u001b[0m\n\u001b[0;32m     76\u001b[0m     kwds\u001b[38;5;241m.\u001b[39mpop(key, \u001b[38;5;28;01mNone\u001b[39;00m)\n\u001b[0;32m     78\u001b[0m kwds[\u001b[38;5;124m\"\u001b[39m\u001b[38;5;124mdtype\u001b[39m\u001b[38;5;124m\"\u001b[39m] \u001b[38;5;241m=\u001b[39m ensure_dtype_objs(kwds\u001b[38;5;241m.\u001b[39mget(\u001b[38;5;124m\"\u001b[39m\u001b[38;5;124mdtype\u001b[39m\u001b[38;5;124m\"\u001b[39m, \u001b[38;5;28;01mNone\u001b[39;00m))\n\u001b[1;32m---> 79\u001b[0m \u001b[38;5;28mself\u001b[39m\u001b[38;5;241m.\u001b[39m_reader \u001b[38;5;241m=\u001b[39m parsers\u001b[38;5;241m.\u001b[39mTextReader(src, \u001b[38;5;241m*\u001b[39m\u001b[38;5;241m*\u001b[39mkwds)\n\u001b[0;32m     81\u001b[0m \u001b[38;5;28mself\u001b[39m\u001b[38;5;241m.\u001b[39munnamed_cols \u001b[38;5;241m=\u001b[39m \u001b[38;5;28mself\u001b[39m\u001b[38;5;241m.\u001b[39m_reader\u001b[38;5;241m.\u001b[39munnamed_cols\n\u001b[0;32m     83\u001b[0m \u001b[38;5;66;03m# error: Cannot determine type of 'names'\u001b[39;00m\n",
      "File \u001b[1;32m~\\anaconda3\\lib\\site-packages\\pandas\\_libs\\parsers.pyx:547\u001b[0m, in \u001b[0;36mpandas._libs.parsers.TextReader.__cinit__\u001b[1;34m()\u001b[0m\n",
      "File \u001b[1;32m~\\anaconda3\\lib\\site-packages\\pandas\\_libs\\parsers.pyx:636\u001b[0m, in \u001b[0;36mpandas._libs.parsers.TextReader._get_header\u001b[1;34m()\u001b[0m\n",
      "File \u001b[1;32m~\\anaconda3\\lib\\site-packages\\pandas\\_libs\\parsers.pyx:852\u001b[0m, in \u001b[0;36mpandas._libs.parsers.TextReader._tokenize_rows\u001b[1;34m()\u001b[0m\n",
      "File \u001b[1;32m~\\anaconda3\\lib\\site-packages\\pandas\\_libs\\parsers.pyx:1965\u001b[0m, in \u001b[0;36mpandas._libs.parsers.raise_parser_error\u001b[1;34m()\u001b[0m\n",
      "\u001b[1;31mUnicodeDecodeError\u001b[0m: 'utf-8' codec can't decode byte 0xe9 in position 17: invalid continuation byte"
     ]
    }
   ],
   "source": [
    "#Vous avez dû constater que les champs sont séparées par des point-virgule\n",
    "\n",
    "#tentons d'ouvrir le fichier avec pandas avec cet élément\n",
    "df_caracteristiques = pd.read_csv(\"caracteristiques_vins.csv\", sep=\";\")"
   ]
  },
  {
   "cell_type": "markdown",
   "id": "e05fd34b",
   "metadata": {},
   "source": [
    "Nous obtenons une erreur, elle est de type <code>UnicodeDecodeError</code><br>\n",
    "Celle-ci semble être liée à l'encodage du fichier<br>\n",
    "Utilisons la bibliothèque <code>chardet</code> pour tenter d'identifier l'encodage du fichier"
   ]
  },
  {
   "cell_type": "code",
   "execution_count": 63,
   "id": "cacff790",
   "metadata": {},
   "outputs": [],
   "source": [
    "#Importation de la bibilothèque \n",
    "#(à noter que c'est une mauvaise pratique d'importer une bibliothèque au milieu d'un programme)\n",
    "#(celle-ci doit toujours figurer au début du script)\n",
    "import chardet"
   ]
  },
  {
   "cell_type": "markdown",
   "id": "825f050d",
   "metadata": {},
   "source": [
    "Rendez-vous sur le lien ci-après pour identifier l'instruction dont vous aurez besoin:<br>\n",
    "https://chardet.readthedocs.io/en/latest/usage.html#basic-usage"
   ]
  },
  {
   "cell_type": "code",
   "execution_count": 64,
   "id": "be0a4b56",
   "metadata": {},
   "outputs": [
    {
     "data": {
      "text/plain": [
       "{'encoding': 'Windows-1252', 'confidence': 0.73, 'language': ''}"
      ]
     },
     "execution_count": 64,
     "metadata": {},
     "output_type": "execute_result"
    }
   ],
   "source": [
    "#Identification de l'encodage du fichier\n",
    "chardet.detect(file)\n"
   ]
  },
  {
   "cell_type": "code",
   "execution_count": 65,
   "id": "0e64a4c4",
   "metadata": {},
   "outputs": [
    {
     "data": {
      "text/html": [
       "<div>\n",
       "<style scoped>\n",
       "    .dataframe tbody tr th:only-of-type {\n",
       "        vertical-align: middle;\n",
       "    }\n",
       "\n",
       "    .dataframe tbody tr th {\n",
       "        vertical-align: top;\n",
       "    }\n",
       "\n",
       "    .dataframe thead th {\n",
       "        text-align: right;\n",
       "    }\n",
       "</style>\n",
       "<table border=\"1\" class=\"dataframe\">\n",
       "  <thead>\n",
       "    <tr style=\"text-align: right;\">\n",
       "      <th></th>\n",
       "      <th>post_name</th>\n",
       "      <th>poids</th>\n",
       "      <th>Région</th>\n",
       "      <th>Domaine</th>\n",
       "      <th>Appellation</th>\n",
       "      <th>Couleur</th>\n",
       "      <th>Cépage</th>\n",
       "      <th>Millésime</th>\n",
       "      <th>Garde</th>\n",
       "      <th>Contenance</th>\n",
       "      <th>Degré d'alcool</th>\n",
       "      <th>Température dégustation</th>\n",
       "      <th>Alliance mets</th>\n",
       "    </tr>\n",
       "  </thead>\n",
       "  <tbody>\n",
       "    <tr>\n",
       "      <th>0</th>\n",
       "      <td>pierre-jean-villa-saint-joseph-preface-2018</td>\n",
       "      <td>1.5 kg</td>\n",
       "      <td>Rhône</td>\n",
       "      <td>Pierre Jean Villa</td>\n",
       "      <td>Saint Joseph</td>\n",
       "      <td>Rouge</td>\n",
       "      <td>100% Syrah</td>\n",
       "      <td>2020.0</td>\n",
       "      <td>4-7 ans</td>\n",
       "      <td>75cl</td>\n",
       "      <td>13%</td>\n",
       "      <td>15°C</td>\n",
       "      <td>Charcuterie, Lapin, Viande rouge, Volaille</td>\n",
       "    </tr>\n",
       "    <tr>\n",
       "      <th>1</th>\n",
       "      <td>pierre-jean-villa-saint-joseph-tilde-2017</td>\n",
       "      <td>1.5 kg</td>\n",
       "      <td>Rhône</td>\n",
       "      <td>Pierre Jean Villa</td>\n",
       "      <td>Saint Joseph</td>\n",
       "      <td>Rouge</td>\n",
       "      <td>100% Syrah</td>\n",
       "      <td>2019.0</td>\n",
       "      <td>6-8 ans</td>\n",
       "      <td>75cl</td>\n",
       "      <td>13%</td>\n",
       "      <td>15°C</td>\n",
       "      <td>Charcuterie, Viande rouge, Volaille</td>\n",
       "    </tr>\n",
       "    <tr>\n",
       "      <th>2</th>\n",
       "      <td>pierre-jean-villa-croze-hermitage-accroche-coe...</td>\n",
       "      <td>1.5 kg</td>\n",
       "      <td>Rhône</td>\n",
       "      <td>Pierre Jean Villa</td>\n",
       "      <td>Crozes-Hermitage</td>\n",
       "      <td>Rouge</td>\n",
       "      <td>100% Syrah</td>\n",
       "      <td>2020.0</td>\n",
       "      <td>3-5 ans</td>\n",
       "      <td>75cl</td>\n",
       "      <td>13%</td>\n",
       "      <td>15°C</td>\n",
       "      <td>Viande rouge, Volaille</td>\n",
       "    </tr>\n",
       "    <tr>\n",
       "      <th>3</th>\n",
       "      <td>pierre-jean-villa-igp-gamine-2018</td>\n",
       "      <td>1.5 kg</td>\n",
       "      <td>Rhône</td>\n",
       "      <td>Pierre Jean Villa</td>\n",
       "      <td>Collines Rhodaniennes</td>\n",
       "      <td>Rouge</td>\n",
       "      <td>100% Syrah</td>\n",
       "      <td>2020.0</td>\n",
       "      <td>3-5 ans</td>\n",
       "      <td>75cl</td>\n",
       "      <td>13%</td>\n",
       "      <td>14°C</td>\n",
       "      <td>Charcuterie, Viande rouge, Volaille</td>\n",
       "    </tr>\n",
       "    <tr>\n",
       "      <th>4</th>\n",
       "      <td>pierre-jean-villa-cote-rotie-carmina-2017</td>\n",
       "      <td>1.5 kg</td>\n",
       "      <td>Rhône</td>\n",
       "      <td>Pierre Jean Villa</td>\n",
       "      <td>Côte Rôtie</td>\n",
       "      <td>Rouge</td>\n",
       "      <td>100% Syrah</td>\n",
       "      <td>2019.0</td>\n",
       "      <td>10-20 ans</td>\n",
       "      <td>75cl</td>\n",
       "      <td>13%</td>\n",
       "      <td>17°C</td>\n",
       "      <td>Gibier, Viande rouge</td>\n",
       "    </tr>\n",
       "  </tbody>\n",
       "</table>\n",
       "</div>"
      ],
      "text/plain": [
       "                                           post_name   poids Région  \\\n",
       "0        pierre-jean-villa-saint-joseph-preface-2018  1.5 kg  Rhône   \n",
       "1          pierre-jean-villa-saint-joseph-tilde-2017  1.5 kg  Rhône   \n",
       "2  pierre-jean-villa-croze-hermitage-accroche-coe...  1.5 kg  Rhône   \n",
       "3                  pierre-jean-villa-igp-gamine-2018  1.5 kg  Rhône   \n",
       "4          pierre-jean-villa-cote-rotie-carmina-2017  1.5 kg  Rhône   \n",
       "\n",
       "             Domaine            Appellation Couleur      Cépage  Millésime  \\\n",
       "0  Pierre Jean Villa           Saint Joseph   Rouge  100% Syrah     2020.0   \n",
       "1  Pierre Jean Villa           Saint Joseph   Rouge  100% Syrah     2019.0   \n",
       "2  Pierre Jean Villa       Crozes-Hermitage   Rouge  100% Syrah     2020.0   \n",
       "3  Pierre Jean Villa  Collines Rhodaniennes   Rouge  100% Syrah     2020.0   \n",
       "4  Pierre Jean Villa             Côte Rôtie   Rouge  100% Syrah     2019.0   \n",
       "\n",
       "       Garde Contenance Degré d'alcool Température dégustation  \\\n",
       "0    4-7 ans       75cl            13%                    15°C   \n",
       "1    6-8 ans       75cl            13%                    15°C   \n",
       "2    3-5 ans       75cl            13%                    15°C   \n",
       "3    3-5 ans       75cl            13%                    14°C   \n",
       "4  10-20 ans       75cl            13%                    17°C   \n",
       "\n",
       "                                Alliance mets  \n",
       "0  Charcuterie, Lapin, Viande rouge, Volaille  \n",
       "1         Charcuterie, Viande rouge, Volaille  \n",
       "2                      Viande rouge, Volaille  \n",
       "3         Charcuterie, Viande rouge, Volaille  \n",
       "4                        Gibier, Viande rouge  "
      ]
     },
     "execution_count": 65,
     "metadata": {},
     "output_type": "execute_result"
    }
   ],
   "source": [
    "#A présent que nous connaissons les séparateurs et l'encodage du fichier\n",
    "#Utilisons Pandas pour charger le fichier\n",
    "#Je vous laisse le soin de renseigner les champs manquants\n",
    "nom_du_fichier = \"caracteristiques_vins.csv\"\n",
    "type_de_separateur = \";\"\n",
    "encodage_du_fichier_csv = \"Windows-1252\"\n",
    "\n",
    "df_caracteristiques = pd.read_csv(nom_du_fichier, sep=type_de_separateur, encoding=encodage_du_fichier_csv)\n",
    "df_caracteristiques.head()"
   ]
  },
  {
   "cell_type": "code",
   "execution_count": 139,
   "id": "cddfcb70",
   "metadata": {},
   "outputs": [],
   "source": [
    "#exporter caracteristiques\n",
    "df_caracteristiques.to_csv('df_caracteristiques.csv', index=False)"
   ]
  },
  {
   "cell_type": "markdown",
   "id": "605f7056",
   "metadata": {},
   "source": [
    "<div style=\"background-color: RGB(51,165,182);\" >\n",
    "<h2 style=\"margin: auto; padding: 20px; color:#fff; \">Etape 2 - Analyse exploratoire des fichiers</h2>\n",
    "</div>"
   ]
  },
  {
   "cell_type": "markdown",
   "id": "47d3a649",
   "metadata": {},
   "source": [
    "<div style=\"border: 1px solid RGB(51,165,182);\" >\n",
    "<h3 style=\"margin: auto; padding: 20px; color: RGB(51,165,182); \">2.1 - Analyse exploratoire du fichier erp.xlsx</h3>\n",
    "</div>"
   ]
  },
  {
   "cell_type": "code",
   "execution_count": 66,
   "id": "094ef206",
   "metadata": {},
   "outputs": [
    {
     "name": "stdout",
     "output_type": "stream",
     "text": [
      "Le tableau comporte 825 observation(s) ou article(s)\n",
      "Le tableau comporte 5 colonne(s)\n"
     ]
    }
   ],
   "source": [
    "#Afficher les dimensions du dataset\n",
    "print(\"Le tableau comporte {} observation(s) ou article(s)\".format(df_erp.shape[0]))\n",
    "print(\"Le tableau comporte {} colonne(s)\".format(df_erp.shape[1]))"
   ]
  },
  {
   "cell_type": "code",
   "execution_count": 67,
   "id": "182441f0",
   "metadata": {},
   "outputs": [
    {
     "name": "stdout",
     "output_type": "stream",
     "text": [
      "nombre de colonne de la table erp = 5\n",
      "product_id          int64\n",
      "onsale_web          int64\n",
      "price             float64\n",
      "stock_quantity      int64\n",
      "stock_status       object\n",
      "dtype: object\n",
      "product_id        825\n",
      "onsale_web        825\n",
      "price             825\n",
      "stock_quantity    825\n",
      "stock_status      825\n",
      "dtype: int64\n"
     ]
    },
    {
     "data": {
      "text/plain": [
       "product_id        0\n",
       "onsale_web        0\n",
       "price             0\n",
       "stock_quantity    0\n",
       "stock_status      0\n",
       "dtype: int64"
      ]
     },
     "execution_count": 67,
     "metadata": {},
     "output_type": "execute_result"
    }
   ],
   "source": [
    "#Consulter le nombre de colonnes\n",
    "nombre_colonne=df_erp.shape[1]\n",
    "print(\"nombre de colonne de la table erp =\", nombre_colonne)\n",
    "\n",
    "#La nature des données dans chacune des colonnes\n",
    "\n",
    "type_donnees=df_erp.dtypes\n",
    "print(type_donnees)\n",
    "\n",
    "#Le nombre de valeurs présentes dans chacune des colonnes\n",
    "\n",
    "nombre_valeur_colonne=df_erp.count()\n",
    "print( nombre_valeur_colonne)\n",
    "\n",
    "#Valeurs manquantes\n",
    "df_erp.isnull().sum()\n"
   ]
  },
  {
   "cell_type": "code",
   "execution_count": 68,
   "id": "d3977646",
   "metadata": {},
   "outputs": [
    {
     "data": {
      "text/html": [
       "<div>\n",
       "<style scoped>\n",
       "    .dataframe tbody tr th:only-of-type {\n",
       "        vertical-align: middle;\n",
       "    }\n",
       "\n",
       "    .dataframe tbody tr th {\n",
       "        vertical-align: top;\n",
       "    }\n",
       "\n",
       "    .dataframe thead th {\n",
       "        text-align: right;\n",
       "    }\n",
       "</style>\n",
       "<table border=\"1\" class=\"dataframe\">\n",
       "  <thead>\n",
       "    <tr style=\"text-align: right;\">\n",
       "      <th></th>\n",
       "      <th>product_id</th>\n",
       "      <th>onsale_web</th>\n",
       "      <th>price</th>\n",
       "      <th>stock_quantity</th>\n",
       "      <th>stock_status</th>\n",
       "    </tr>\n",
       "  </thead>\n",
       "  <tbody>\n",
       "    <tr>\n",
       "      <th>0</th>\n",
       "      <td>3847</td>\n",
       "      <td>1</td>\n",
       "      <td>24.2</td>\n",
       "      <td>0</td>\n",
       "      <td>outofstock</td>\n",
       "    </tr>\n",
       "    <tr>\n",
       "      <th>1</th>\n",
       "      <td>3849</td>\n",
       "      <td>1</td>\n",
       "      <td>34.3</td>\n",
       "      <td>0</td>\n",
       "      <td>outofstock</td>\n",
       "    </tr>\n",
       "    <tr>\n",
       "      <th>2</th>\n",
       "      <td>3850</td>\n",
       "      <td>1</td>\n",
       "      <td>20.8</td>\n",
       "      <td>0</td>\n",
       "      <td>outofstock</td>\n",
       "    </tr>\n",
       "    <tr>\n",
       "      <th>3</th>\n",
       "      <td>4032</td>\n",
       "      <td>1</td>\n",
       "      <td>14.1</td>\n",
       "      <td>0</td>\n",
       "      <td>outofstock</td>\n",
       "    </tr>\n",
       "    <tr>\n",
       "      <th>4</th>\n",
       "      <td>4039</td>\n",
       "      <td>1</td>\n",
       "      <td>46.0</td>\n",
       "      <td>0</td>\n",
       "      <td>outofstock</td>\n",
       "    </tr>\n",
       "  </tbody>\n",
       "</table>\n",
       "</div>"
      ],
      "text/plain": [
       "   product_id  onsale_web  price  stock_quantity stock_status\n",
       "0        3847           1   24.2               0   outofstock\n",
       "1        3849           1   34.3               0   outofstock\n",
       "2        3850           1   20.8               0   outofstock\n",
       "3        4032           1   14.1               0   outofstock\n",
       "4        4039           1   46.0               0   outofstock"
      ]
     },
     "execution_count": 68,
     "metadata": {},
     "output_type": "execute_result"
    }
   ],
   "source": [
    "#Afficher les 5 premières lignes de la table\n",
    "df_erp.head()"
   ]
  },
  {
   "cell_type": "code",
   "execution_count": 69,
   "id": "db102a4a",
   "metadata": {},
   "outputs": [
    {
     "name": "stdout",
     "output_type": "stream",
     "text": [
      "Empty DataFrame\n",
      "Columns: [product_id, onsale_web, price, stock_quantity, stock_status]\n",
      "Index: []\n"
     ]
    }
   ],
   "source": [
    "#Vérifier si il y a les lignes en doublons dans la colonne product_id\n",
    "df_erp.loc[df_erp[['product_id']].duplicated(keep=False),:]\n",
    "colonne_produit_id='product_id'\n",
    "doublons_erp=df_erp.duplicated(subset=[colonne_produit_id], keep=False)\n",
    "print(df_erp[doublons_erp])"
   ]
  },
  {
   "cell_type": "code",
   "execution_count": 70,
   "id": "d443d4ff",
   "metadata": {},
   "outputs": [
    {
     "name": "stdout",
     "output_type": "stream",
     "text": [
      "les valeurs distinctes de la colonne stock_status sont : ['outofstock' 'instock']\n",
      "Index(['stock_status'], dtype='object')\n"
     ]
    }
   ],
   "source": [
    "#Afficher les valeurs distinctes de la colonne stock_status\n",
    "nom_de_colonne_st_stock='stock_status'\n",
    "valeurs_distinctes=df_erp[nom_de_colonne_st_stock].unique()\n",
    "print('les valeurs distinctes de la colonne stock_status sont :', valeurs_distinctes)\n",
    "#À quelle(s) autre(s) colonne(s) sont-elles liées ?\n",
    "groupes=df_erp.groupby(nom_de_colonne_st_stock)\n",
    "colonnes_unique_par_groupe=groupes.apply(lambda groupe: groupe.nunique()==1)\n",
    "colonnes_avec_valeurs_unique=colonnes_unique_par_groupe.columns[colonnes_unique_par_groupe.all()]\n",
    "print(colonnes_avec_valeurs_unique)"
   ]
  },
  {
   "cell_type": "code",
   "execution_count": 71,
   "id": "68088943",
   "metadata": {},
   "outputs": [
    {
     "data": {
      "text/html": [
       "<div>\n",
       "<style scoped>\n",
       "    .dataframe tbody tr th:only-of-type {\n",
       "        vertical-align: middle;\n",
       "    }\n",
       "\n",
       "    .dataframe tbody tr th {\n",
       "        vertical-align: top;\n",
       "    }\n",
       "\n",
       "    .dataframe thead th {\n",
       "        text-align: right;\n",
       "    }\n",
       "</style>\n",
       "<table border=\"1\" class=\"dataframe\">\n",
       "  <thead>\n",
       "    <tr style=\"text-align: right;\">\n",
       "      <th></th>\n",
       "      <th>product_id</th>\n",
       "      <th>onsale_web</th>\n",
       "      <th>price</th>\n",
       "      <th>stock_quantity</th>\n",
       "      <th>stock_status</th>\n",
       "      <th>stock_status_2</th>\n",
       "    </tr>\n",
       "  </thead>\n",
       "  <tbody>\n",
       "    <tr>\n",
       "      <th>0</th>\n",
       "      <td>3847</td>\n",
       "      <td>1</td>\n",
       "      <td>24.2</td>\n",
       "      <td>0</td>\n",
       "      <td>outofstock</td>\n",
       "      <td>outofstock</td>\n",
       "    </tr>\n",
       "    <tr>\n",
       "      <th>1</th>\n",
       "      <td>3849</td>\n",
       "      <td>1</td>\n",
       "      <td>34.3</td>\n",
       "      <td>0</td>\n",
       "      <td>outofstock</td>\n",
       "      <td>outofstock</td>\n",
       "    </tr>\n",
       "    <tr>\n",
       "      <th>2</th>\n",
       "      <td>3850</td>\n",
       "      <td>1</td>\n",
       "      <td>20.8</td>\n",
       "      <td>0</td>\n",
       "      <td>outofstock</td>\n",
       "      <td>outofstock</td>\n",
       "    </tr>\n",
       "    <tr>\n",
       "      <th>3</th>\n",
       "      <td>4032</td>\n",
       "      <td>1</td>\n",
       "      <td>14.1</td>\n",
       "      <td>0</td>\n",
       "      <td>outofstock</td>\n",
       "      <td>outofstock</td>\n",
       "    </tr>\n",
       "    <tr>\n",
       "      <th>4</th>\n",
       "      <td>4039</td>\n",
       "      <td>1</td>\n",
       "      <td>46.0</td>\n",
       "      <td>0</td>\n",
       "      <td>outofstock</td>\n",
       "      <td>outofstock</td>\n",
       "    </tr>\n",
       "  </tbody>\n",
       "</table>\n",
       "</div>"
      ],
      "text/plain": [
       "   product_id  onsale_web  price  stock_quantity stock_status stock_status_2\n",
       "0        3847           1   24.2               0   outofstock     outofstock\n",
       "1        3849           1   34.3               0   outofstock     outofstock\n",
       "2        3850           1   20.8               0   outofstock     outofstock\n",
       "3        4032           1   14.1               0   outofstock     outofstock\n",
       "4        4039           1   46.0               0   outofstock     outofstock"
      ]
     },
     "execution_count": 71,
     "metadata": {},
     "output_type": "execute_result"
    }
   ],
   "source": [
    "#Création d'une colonne \"stock_status_2\n",
    "#La valeur de cette deuxième colonne sera fonction de la valeur dans la colonne \"stock_quantity\"\n",
    "#si la valeur de la colonne \"stock_quantity\" est nulle renseigner \"outofstock\" sinon mettre \"instock\"\n",
    "df_erp['stock_status_2']=df_erp['stock_quantity'].apply(lambda quantite: \"outofstock\" if quantite==0 else \"instock\")\n",
    "df_erp.head()"
   ]
  },
  {
   "cell_type": "code",
   "execution_count": 72,
   "id": "90a1c8ae",
   "metadata": {},
   "outputs": [
    {
     "data": {
      "text/plain": [
       "0      True\n",
       "1      True\n",
       "2      True\n",
       "3      True\n",
       "4      True\n",
       "       ... \n",
       "820    True\n",
       "821    True\n",
       "822    True\n",
       "823    True\n",
       "824    True\n",
       "Length: 825, dtype: bool"
      ]
     },
     "execution_count": 72,
     "metadata": {},
     "output_type": "execute_result"
    }
   ],
   "source": [
    "#Vérifions que les 2 colonnes sont identiques:\n",
    "#Les 2 colonnes sont strictement identiques si les valeurs de chaque ligne sont strictement identiques 2 à 2\n",
    "#La comparaison de 2 colonnes peut se réaliser simplement avec l'instruction ci-dessous:\n",
    "df_erp[\"stock_status\"] == df_erp[\"stock_status_2\"]\n",
    "\n",
    "#Le résultat est l'affichage de True ou False pour chacune des lignes du dataset\n",
    "#C'est un bon début, mais difficile à exploiter"
   ]
  },
  {
   "cell_type": "code",
   "execution_count": 74,
   "id": "ebe3650a",
   "metadata": {},
   "outputs": [
    {
     "name": "stdout",
     "output_type": "stream",
     "text": [
      "effectif des True = 824\n",
      "effectif des False = 1\n"
     ]
    }
   ],
   "source": [
    "#Mais il est possible de synthétiser ce résultat en effectuant la somme de cette colonne:\n",
    "#True vaut 1 et False 0\n",
    "#Nous devrions obtenir la somme de 824 qui correspond au nombre de lignes dans ce dataset\n",
    "df_erp[\"resultat_diff_st_stock\"] =df_erp[\"stock_status\"] == df_erp[\"stock_status_2\"]\n",
    "df_erp[\"resultat_diff_st_stock\"] =df_erp[\"resultat_diff_st_stock\"].astype(int)\n",
    "effectifs_diff=df_erp[\"resultat_diff_st_stock\"].value_counts()\n",
    "print(\"effectif des True =\", effectifs_diff[1])\n",
    "print(\"effectif des False =\", effectifs_diff[0])"
   ]
  },
  {
   "cell_type": "code",
   "execution_count": 75,
   "id": "1ca6060a",
   "metadata": {},
   "outputs": [
    {
     "data": {
      "text/html": [
       "<div>\n",
       "<style scoped>\n",
       "    .dataframe tbody tr th:only-of-type {\n",
       "        vertical-align: middle;\n",
       "    }\n",
       "\n",
       "    .dataframe tbody tr th {\n",
       "        vertical-align: top;\n",
       "    }\n",
       "\n",
       "    .dataframe thead th {\n",
       "        text-align: right;\n",
       "    }\n",
       "</style>\n",
       "<table border=\"1\" class=\"dataframe\">\n",
       "  <thead>\n",
       "    <tr style=\"text-align: right;\">\n",
       "      <th></th>\n",
       "      <th>product_id</th>\n",
       "      <th>onsale_web</th>\n",
       "      <th>price</th>\n",
       "      <th>stock_quantity</th>\n",
       "      <th>stock_status</th>\n",
       "      <th>stock_status_2</th>\n",
       "      <th>resultat_diff_st_stock</th>\n",
       "    </tr>\n",
       "  </thead>\n",
       "  <tbody>\n",
       "    <tr>\n",
       "      <th>443</th>\n",
       "      <td>4954</td>\n",
       "      <td>1</td>\n",
       "      <td>25.0</td>\n",
       "      <td>0</td>\n",
       "      <td>instock</td>\n",
       "      <td>outofstock</td>\n",
       "      <td>0</td>\n",
       "    </tr>\n",
       "  </tbody>\n",
       "</table>\n",
       "</div>"
      ],
      "text/plain": [
       "     product_id  onsale_web  price  stock_quantity stock_status  \\\n",
       "443        4954           1   25.0               0      instock   \n",
       "\n",
       "    stock_status_2  resultat_diff_st_stock  \n",
       "443     outofstock                       0  "
      ]
     },
     "execution_count": 75,
     "metadata": {},
     "output_type": "execute_result"
    }
   ],
   "source": [
    "#Si les colonnes ne sont absolument pas identiques ligne à ligne alors identifier la ligne en écart\n",
    "##Dans ce cas je vous ce lien pour apprendre à réaliser des filtres dans Pandas:\n",
    "##https://bitbucket.org/hrojas/learn-pandas/src/master/\n",
    "##Lesson 3\n",
    "df_erp.loc[df_erp['resultat_diff_st_stock'] == 0, :]"
   ]
  },
  {
   "cell_type": "code",
   "execution_count": 76,
   "id": "ce1b9704",
   "metadata": {},
   "outputs": [
    {
     "data": {
      "text/html": [
       "<div>\n",
       "<style scoped>\n",
       "    .dataframe tbody tr th:only-of-type {\n",
       "        vertical-align: middle;\n",
       "    }\n",
       "\n",
       "    .dataframe tbody tr th {\n",
       "        vertical-align: top;\n",
       "    }\n",
       "\n",
       "    .dataframe thead th {\n",
       "        text-align: right;\n",
       "    }\n",
       "</style>\n",
       "<table border=\"1\" class=\"dataframe\">\n",
       "  <thead>\n",
       "    <tr style=\"text-align: right;\">\n",
       "      <th></th>\n",
       "      <th>product_id</th>\n",
       "      <th>onsale_web</th>\n",
       "      <th>price</th>\n",
       "      <th>stock_quantity</th>\n",
       "      <th>stock_status</th>\n",
       "      <th>stock_status_2</th>\n",
       "      <th>resultat_diff_st_stock</th>\n",
       "    </tr>\n",
       "  </thead>\n",
       "  <tbody>\n",
       "    <tr>\n",
       "      <th>443</th>\n",
       "      <td>4954</td>\n",
       "      <td>1</td>\n",
       "      <td>25.0</td>\n",
       "      <td>0</td>\n",
       "      <td>outofstock</td>\n",
       "      <td>outofstock</td>\n",
       "      <td>0</td>\n",
       "    </tr>\n",
       "  </tbody>\n",
       "</table>\n",
       "</div>"
      ],
      "text/plain": [
       "     product_id  onsale_web  price  stock_quantity stock_status  \\\n",
       "443        4954           1   25.0               0   outofstock   \n",
       "\n",
       "    stock_status_2  resultat_diff_st_stock  \n",
       "443     outofstock                       0  "
      ]
     },
     "execution_count": 76,
     "metadata": {},
     "output_type": "execute_result"
    }
   ],
   "source": [
    "#Corriger la ou les données incohérentes\n",
    "\n",
    "df_erp.loc[df_erp['resultat_diff_st_stock'] == 0, 'stock_status']=\"outofstock\"\n",
    "df_erp.loc[df_erp['resultat_diff_st_stock'] == 0, :]\n"
   ]
  },
  {
   "cell_type": "markdown",
   "id": "08bd4b08",
   "metadata": {},
   "source": [
    "<div style=\"border: 1px solid RGB(51,165,182);\" >\n",
    "<h3 style=\"margin: auto; padding: 20px; color: RGB(51,165,182); \">2.1.1 - Analyse exploratoire de chaque variable du fichier erp.xlsx</h3>\n",
    "</div>"
   ]
  },
  {
   "cell_type": "markdown",
   "id": "3476df40",
   "metadata": {},
   "source": [
    "<div style=\"border: 1px solid RGB(51,165,182);\" >\n",
    "<h3 style=\"margin: auto; padding: 20px; color: RGB(51,165,182); \">2.1.1.1 - Analyse de la variable PRIX</h3>\n",
    "</div>"
   ]
  },
  {
   "cell_type": "code",
   "execution_count": 77,
   "id": "a7fc3384",
   "metadata": {},
   "outputs": [
    {
     "data": {
      "text/html": [
       "<div>\n",
       "<style scoped>\n",
       "    .dataframe tbody tr th:only-of-type {\n",
       "        vertical-align: middle;\n",
       "    }\n",
       "\n",
       "    .dataframe tbody tr th {\n",
       "        vertical-align: top;\n",
       "    }\n",
       "\n",
       "    .dataframe thead th {\n",
       "        text-align: right;\n",
       "    }\n",
       "</style>\n",
       "<table border=\"1\" class=\"dataframe\">\n",
       "  <thead>\n",
       "    <tr style=\"text-align: right;\">\n",
       "      <th></th>\n",
       "      <th>product_id</th>\n",
       "      <th>onsale_web</th>\n",
       "      <th>price</th>\n",
       "      <th>stock_quantity</th>\n",
       "      <th>stock_status</th>\n",
       "      <th>stock_status_2</th>\n",
       "      <th>resultat_diff_st_stock</th>\n",
       "    </tr>\n",
       "  </thead>\n",
       "  <tbody>\n",
       "  </tbody>\n",
       "</table>\n",
       "</div>"
      ],
      "text/plain": [
       "Empty DataFrame\n",
       "Columns: [product_id, onsale_web, price, stock_quantity, stock_status, stock_status_2, resultat_diff_st_stock]\n",
       "Index: []"
      ]
     },
     "execution_count": 77,
     "metadata": {},
     "output_type": "execute_result"
    }
   ],
   "source": [
    "###############\n",
    "## LES PRIX  ##\n",
    "###############\n",
    "\n",
    "#Vérification des prix: Y a t-il des prix non renseignés, négatif ou nul?\n",
    "df_erp.loc[df_erp['price'] < 1, :]\n",
    "\n"
   ]
  },
  {
   "cell_type": "code",
   "execution_count": 78,
   "id": "484e64c5",
   "metadata": {},
   "outputs": [
    {
     "name": "stdout",
     "output_type": "stream",
     "text": [
      "Empty DataFrame\n",
      "Columns: [product_id, onsale_web, price, stock_quantity, stock_status, stock_status_2, resultat_diff_st_stock]\n",
      "Index: []\n",
      "Nombres d'article avec un prix non renseignés: 0\n"
     ]
    }
   ],
   "source": [
    "#Afficher le ou les prix non renseignés dans la colonne \"price\"\n",
    "prix_non_renseignes = df_erp.loc[df_erp['price'].isnull()]\n",
    "print(prix_non_renseignes)\n",
    "\n",
    "print(\"Nombres d'article avec un prix non renseignés: {}\".format(0)) #Saisir l'instruction manquante dans la fonction format\n"
   ]
  },
  {
   "cell_type": "code",
   "execution_count": 79,
   "id": "49863a25",
   "metadata": {},
   "outputs": [
    {
     "name": "stdout",
     "output_type": "stream",
     "text": [
      "le prix minimum = 5.2\n",
      "le prix maximum = 225.0\n"
     ]
    }
   ],
   "source": [
    "#Afficher le prix minimum de la colonne \"price\"\n",
    "prix_min = df_erp['price'].min()\n",
    "#Afficher le prix maximum de la colonne \"price\"\n",
    "prix_max = df_erp['price'].max()\n",
    "\n",
    "print(\"le prix minimum =\", prix_min)\n",
    "print(\"le prix maximum =\", prix_max )"
   ]
  },
  {
   "cell_type": "markdown",
   "id": "c5fce58c",
   "metadata": {},
   "source": [
    "<div style=\"border: 1px solid RGB(51,165,182);\" >\n",
    "<h3 style=\"margin: auto; padding: 20px; color: RGB(51,165,182); \">2.1.1.2 - Analyse de la variable STOCK</h3>\n",
    "</div>"
   ]
  },
  {
   "cell_type": "code",
   "execution_count": 80,
   "id": "3d14c4a0",
   "metadata": {},
   "outputs": [
    {
     "name": "stdout",
     "output_type": "stream",
     "text": [
      "le stock minimum = 0\n",
      "le stock maximum = 578\n"
     ]
    }
   ],
   "source": [
    "#######################\n",
    "### stock_quantity  ###\n",
    "#######################\n",
    "\n",
    "\n",
    "#Vérification de la colonne stock quantity\n",
    "#Afficher la quantité minimum de la colonne \"stock_quantity\"\n",
    "stock_quantity_min = df_erp['stock_quantity'].min()\n",
    "\n",
    "#Afficher la quantité maximum de la colonne \"stock_quantity\"\n",
    "stock_quantity_max = df_erp['stock_quantity'].max()\n",
    "\n",
    "print(\"le stock minimum =\", stock_quantity_min)\n",
    "print(\"le stock maximum =\", stock_quantity_max)\n"
   ]
  },
  {
   "cell_type": "markdown",
   "id": "20e8c554",
   "metadata": {},
   "source": [
    "<div style=\"border: 1px solid RGB(51,165,182);\" >\n",
    "<h3 style=\"margin: auto; padding: 20px; color: RGB(51,165,182); \">2.1.1.3 - Analyse de la variable ONSALE_WEB</h3>\n",
    "</div>"
   ]
  },
  {
   "cell_type": "code",
   "execution_count": 81,
   "id": "99b936ca",
   "metadata": {},
   "outputs": [
    {
     "name": "stdout",
     "output_type": "stream",
     "text": [
      "1    717\n",
      "0    108\n",
      "Name: onsale_web, dtype: int64\n"
     ]
    }
   ],
   "source": [
    "#Vérification de la colonne onsale_web et des valeurs qu'elle contient? Que signifient-elles?717 articles sont en vente en ligne\n",
    "effectifs_onsale_web = df_erp[\"onsale_web\"].value_counts()\n",
    "print(effectifs_onsale_web )"
   ]
  },
  {
   "cell_type": "code",
   "execution_count": null,
   "id": "5a79444d",
   "metadata": {},
   "outputs": [],
   "source": [
    "#Quelles sont les colonnes à conserver selon vous?product_id, onsale_web, price, stock_status_2\n"
   ]
  },
  {
   "cell_type": "code",
   "execution_count": 82,
   "id": "8053aeda",
   "metadata": {},
   "outputs": [
    {
     "data": {
      "text/html": [
       "<div>\n",
       "<style scoped>\n",
       "    .dataframe tbody tr th:only-of-type {\n",
       "        vertical-align: middle;\n",
       "    }\n",
       "\n",
       "    .dataframe tbody tr th {\n",
       "        vertical-align: top;\n",
       "    }\n",
       "\n",
       "    .dataframe thead th {\n",
       "        text-align: right;\n",
       "    }\n",
       "</style>\n",
       "<table border=\"1\" class=\"dataframe\">\n",
       "  <thead>\n",
       "    <tr style=\"text-align: right;\">\n",
       "      <th></th>\n",
       "      <th>product_id</th>\n",
       "      <th>onsale_web</th>\n",
       "      <th>price</th>\n",
       "      <th>stock_status_2</th>\n",
       "    </tr>\n",
       "  </thead>\n",
       "  <tbody>\n",
       "    <tr>\n",
       "      <th>0</th>\n",
       "      <td>3847</td>\n",
       "      <td>1</td>\n",
       "      <td>24.2</td>\n",
       "      <td>outofstock</td>\n",
       "    </tr>\n",
       "    <tr>\n",
       "      <th>1</th>\n",
       "      <td>3849</td>\n",
       "      <td>1</td>\n",
       "      <td>34.3</td>\n",
       "      <td>outofstock</td>\n",
       "    </tr>\n",
       "    <tr>\n",
       "      <th>2</th>\n",
       "      <td>3850</td>\n",
       "      <td>1</td>\n",
       "      <td>20.8</td>\n",
       "      <td>outofstock</td>\n",
       "    </tr>\n",
       "    <tr>\n",
       "      <th>3</th>\n",
       "      <td>4032</td>\n",
       "      <td>1</td>\n",
       "      <td>14.1</td>\n",
       "      <td>outofstock</td>\n",
       "    </tr>\n",
       "    <tr>\n",
       "      <th>4</th>\n",
       "      <td>4039</td>\n",
       "      <td>1</td>\n",
       "      <td>46.0</td>\n",
       "      <td>outofstock</td>\n",
       "    </tr>\n",
       "  </tbody>\n",
       "</table>\n",
       "</div>"
      ],
      "text/plain": [
       "   product_id  onsale_web  price stock_status_2\n",
       "0        3847           1   24.2     outofstock\n",
       "1        3849           1   34.3     outofstock\n",
       "2        3850           1   20.8     outofstock\n",
       "3        4032           1   14.1     outofstock\n",
       "4        4039           1   46.0     outofstock"
      ]
     },
     "execution_count": 82,
     "metadata": {},
     "output_type": "execute_result"
    }
   ],
   "source": [
    "#Supprimer les colonnes comportant le libellé \"stock_status\"\n",
    "#Cette colonne est redondante avec la colonne \"stock_quantity\". Dans notre projet cette information n'est pas utile.\n",
    "df_erp_2=df_erp.drop(['stock_status', 'stock_quantity', 'resultat_diff_st_stock'], axis=1)\n",
    "df_erp_2.head()"
   ]
  },
  {
   "cell_type": "markdown",
   "id": "a550f996",
   "metadata": {},
   "source": [
    "<div style=\"border: 1px solid RGB(51,165,182);\" >\n",
    "<h3 style=\"margin: auto; padding: 20px; color: RGB(51,165,182); \">2.2 - Analyse exploratoire du fichier web.xlsx</h3>\n",
    "</div>\n",
    " "
   ]
  },
  {
   "cell_type": "code",
   "execution_count": 83,
   "id": "bb7e292c",
   "metadata": {},
   "outputs": [
    {
     "name": "stdout",
     "output_type": "stream",
     "text": [
      "Le tableau comporte 1513 observation(s) ou article(s)\n",
      "Le tableau comporte 28 colonne(s)\n"
     ]
    },
    {
     "data": {
      "text/html": [
       "<div>\n",
       "<style scoped>\n",
       "    .dataframe tbody tr th:only-of-type {\n",
       "        vertical-align: middle;\n",
       "    }\n",
       "\n",
       "    .dataframe tbody tr th {\n",
       "        vertical-align: top;\n",
       "    }\n",
       "\n",
       "    .dataframe thead th {\n",
       "        text-align: right;\n",
       "    }\n",
       "</style>\n",
       "<table border=\"1\" class=\"dataframe\">\n",
       "  <thead>\n",
       "    <tr style=\"text-align: right;\">\n",
       "      <th></th>\n",
       "      <th>sku</th>\n",
       "      <th>virtual</th>\n",
       "      <th>downloadable</th>\n",
       "      <th>rating_count</th>\n",
       "      <th>average_rating</th>\n",
       "      <th>total_sales</th>\n",
       "      <th>tax_status</th>\n",
       "      <th>tax_class</th>\n",
       "      <th>post_author</th>\n",
       "      <th>post_date</th>\n",
       "      <th>...</th>\n",
       "      <th>post_name</th>\n",
       "      <th>post_modified</th>\n",
       "      <th>post_modified_gmt</th>\n",
       "      <th>post_content_filtered</th>\n",
       "      <th>post_parent</th>\n",
       "      <th>guid</th>\n",
       "      <th>menu_order</th>\n",
       "      <th>post_type</th>\n",
       "      <th>post_mime_type</th>\n",
       "      <th>comment_count</th>\n",
       "    </tr>\n",
       "  </thead>\n",
       "  <tbody>\n",
       "    <tr>\n",
       "      <th>0</th>\n",
       "      <td>bon-cadeau-25-euros</td>\n",
       "      <td>0</td>\n",
       "      <td>0</td>\n",
       "      <td>0</td>\n",
       "      <td>0.0</td>\n",
       "      <td>10.0</td>\n",
       "      <td>taxable</td>\n",
       "      <td>NaN</td>\n",
       "      <td>1.0</td>\n",
       "      <td>2018-06-01 13:53:46</td>\n",
       "      <td>...</td>\n",
       "      <td>bon-cadeau-de-25-euros</td>\n",
       "      <td>2018-06-01 14:13:57</td>\n",
       "      <td>2018-06-01 12:13:57</td>\n",
       "      <td>NaN</td>\n",
       "      <td>0.0</td>\n",
       "      <td>https://www.bottle-neck.fr/?post_type=product&amp;...</td>\n",
       "      <td>0.0</td>\n",
       "      <td>product</td>\n",
       "      <td>NaN</td>\n",
       "      <td>0.0</td>\n",
       "    </tr>\n",
       "    <tr>\n",
       "      <th>1</th>\n",
       "      <td>15298</td>\n",
       "      <td>0</td>\n",
       "      <td>0</td>\n",
       "      <td>0</td>\n",
       "      <td>0.0</td>\n",
       "      <td>6.0</td>\n",
       "      <td>taxable</td>\n",
       "      <td>NaN</td>\n",
       "      <td>2.0</td>\n",
       "      <td>2018-02-08 12:58:52</td>\n",
       "      <td>...</td>\n",
       "      <td>pierre-jean-villa-saint-joseph-preface-2018</td>\n",
       "      <td>2019-12-30 09:30:29</td>\n",
       "      <td>2019-12-30 08:30:29</td>\n",
       "      <td>NaN</td>\n",
       "      <td>0.0</td>\n",
       "      <td>https://www.bottle-neck.fr/?post_type=product&amp;...</td>\n",
       "      <td>0.0</td>\n",
       "      <td>product</td>\n",
       "      <td>NaN</td>\n",
       "      <td>0.0</td>\n",
       "    </tr>\n",
       "    <tr>\n",
       "      <th>2</th>\n",
       "      <td>15296</td>\n",
       "      <td>0</td>\n",
       "      <td>0</td>\n",
       "      <td>0</td>\n",
       "      <td>0.0</td>\n",
       "      <td>0.0</td>\n",
       "      <td>taxable</td>\n",
       "      <td>NaN</td>\n",
       "      <td>2.0</td>\n",
       "      <td>2018-02-08 13:49:41</td>\n",
       "      <td>...</td>\n",
       "      <td>pierre-jean-villa-saint-joseph-tilde-2017</td>\n",
       "      <td>2019-12-21 09:00:17</td>\n",
       "      <td>2019-12-21 08:00:17</td>\n",
       "      <td>NaN</td>\n",
       "      <td>0.0</td>\n",
       "      <td>https://www.bottle-neck.fr/?post_type=product&amp;...</td>\n",
       "      <td>0.0</td>\n",
       "      <td>product</td>\n",
       "      <td>NaN</td>\n",
       "      <td>0.0</td>\n",
       "    </tr>\n",
       "    <tr>\n",
       "      <th>3</th>\n",
       "      <td>15300</td>\n",
       "      <td>0</td>\n",
       "      <td>0</td>\n",
       "      <td>0</td>\n",
       "      <td>0.0</td>\n",
       "      <td>0.0</td>\n",
       "      <td>taxable</td>\n",
       "      <td>NaN</td>\n",
       "      <td>2.0</td>\n",
       "      <td>2018-02-08 14:08:36</td>\n",
       "      <td>...</td>\n",
       "      <td>pierre-jean-villa-croze-hermitage-accroche-coe...</td>\n",
       "      <td>2020-06-26 18:15:03</td>\n",
       "      <td>2020-06-26 16:15:03</td>\n",
       "      <td>NaN</td>\n",
       "      <td>0.0</td>\n",
       "      <td>https://www.bottle-neck.fr/?post_type=product&amp;...</td>\n",
       "      <td>0.0</td>\n",
       "      <td>product</td>\n",
       "      <td>NaN</td>\n",
       "      <td>0.0</td>\n",
       "    </tr>\n",
       "    <tr>\n",
       "      <th>4</th>\n",
       "      <td>19814</td>\n",
       "      <td>0</td>\n",
       "      <td>0</td>\n",
       "      <td>0</td>\n",
       "      <td>0.0</td>\n",
       "      <td>3.0</td>\n",
       "      <td>taxable</td>\n",
       "      <td>NaN</td>\n",
       "      <td>2.0</td>\n",
       "      <td>2018-02-09 14:01:05</td>\n",
       "      <td>...</td>\n",
       "      <td>pierre-jean-villa-igp-gamine-2018</td>\n",
       "      <td>2020-01-04 16:36:01</td>\n",
       "      <td>2020-01-04 15:36:01</td>\n",
       "      <td>NaN</td>\n",
       "      <td>0.0</td>\n",
       "      <td>https://www.bottle-neck.fr/?post_type=product&amp;...</td>\n",
       "      <td>0.0</td>\n",
       "      <td>product</td>\n",
       "      <td>NaN</td>\n",
       "      <td>0.0</td>\n",
       "    </tr>\n",
       "  </tbody>\n",
       "</table>\n",
       "<p>5 rows × 28 columns</p>\n",
       "</div>"
      ],
      "text/plain": [
       "                   sku  virtual  downloadable  rating_count  average_rating  \\\n",
       "0  bon-cadeau-25-euros        0             0             0             0.0   \n",
       "1                15298        0             0             0             0.0   \n",
       "2                15296        0             0             0             0.0   \n",
       "3                15300        0             0             0             0.0   \n",
       "4                19814        0             0             0             0.0   \n",
       "\n",
       "   total_sales tax_status  tax_class  post_author           post_date  ...  \\\n",
       "0         10.0    taxable        NaN          1.0 2018-06-01 13:53:46  ...   \n",
       "1          6.0    taxable        NaN          2.0 2018-02-08 12:58:52  ...   \n",
       "2          0.0    taxable        NaN          2.0 2018-02-08 13:49:41  ...   \n",
       "3          0.0    taxable        NaN          2.0 2018-02-08 14:08:36  ...   \n",
       "4          3.0    taxable        NaN          2.0 2018-02-09 14:01:05  ...   \n",
       "\n",
       "                                           post_name       post_modified  \\\n",
       "0                             bon-cadeau-de-25-euros 2018-06-01 14:13:57   \n",
       "1        pierre-jean-villa-saint-joseph-preface-2018 2019-12-30 09:30:29   \n",
       "2          pierre-jean-villa-saint-joseph-tilde-2017 2019-12-21 09:00:17   \n",
       "3  pierre-jean-villa-croze-hermitage-accroche-coe... 2020-06-26 18:15:03   \n",
       "4                  pierre-jean-villa-igp-gamine-2018 2020-01-04 16:36:01   \n",
       "\n",
       "    post_modified_gmt post_content_filtered post_parent  \\\n",
       "0 2018-06-01 12:13:57                   NaN         0.0   \n",
       "1 2019-12-30 08:30:29                   NaN         0.0   \n",
       "2 2019-12-21 08:00:17                   NaN         0.0   \n",
       "3 2020-06-26 16:15:03                   NaN         0.0   \n",
       "4 2020-01-04 15:36:01                   NaN         0.0   \n",
       "\n",
       "                                                guid menu_order  post_type  \\\n",
       "0  https://www.bottle-neck.fr/?post_type=product&...        0.0    product   \n",
       "1  https://www.bottle-neck.fr/?post_type=product&...        0.0    product   \n",
       "2  https://www.bottle-neck.fr/?post_type=product&...        0.0    product   \n",
       "3  https://www.bottle-neck.fr/?post_type=product&...        0.0    product   \n",
       "4  https://www.bottle-neck.fr/?post_type=product&...        0.0    product   \n",
       "\n",
       "  post_mime_type comment_count  \n",
       "0            NaN           0.0  \n",
       "1            NaN           0.0  \n",
       "2            NaN           0.0  \n",
       "3            NaN           0.0  \n",
       "4            NaN           0.0  \n",
       "\n",
       "[5 rows x 28 columns]"
      ]
     },
     "execution_count": 83,
     "metadata": {},
     "output_type": "execute_result"
    }
   ],
   "source": [
    "#Dimension du dataset\n",
    "#Nombre d'observations\n",
    "\n",
    "print(\"Le tableau comporte {} observation(s) ou article(s)\".format(df_web.shape[0]))\n",
    "print(\"Le tableau comporte {} colonne(s)\".format(df_web.shape[1]))\n",
    "df_web.head()\n"
   ]
  },
  {
   "cell_type": "code",
   "execution_count": 84,
   "id": "0b70a8da",
   "metadata": {},
   "outputs": [
    {
     "name": "stdout",
     "output_type": "stream",
     "text": [
      "sku                              object\n",
      "virtual                           int64\n",
      "downloadable                      int64\n",
      "rating_count                      int64\n",
      "average_rating                  float64\n",
      "total_sales                     float64\n",
      "tax_status                       object\n",
      "tax_class                       float64\n",
      "post_author                     float64\n",
      "post_date                datetime64[ns]\n",
      "post_date_gmt            datetime64[ns]\n",
      "post_content                    float64\n",
      "post_title                       object\n",
      "post_excerpt                     object\n",
      "post_status                      object\n",
      "comment_status                   object\n",
      "ping_status                      object\n",
      "post_password                   float64\n",
      "post_name                        object\n",
      "post_modified            datetime64[ns]\n",
      "post_modified_gmt        datetime64[ns]\n",
      "post_content_filtered           float64\n",
      "post_parent                     float64\n",
      "guid                             object\n",
      "menu_order                      float64\n",
      "post_type                        object\n",
      "post_mime_type                   object\n",
      "comment_count                   float64\n",
      "dtype: object\n",
      "sku                      1428\n",
      "virtual                  1513\n",
      "downloadable             1513\n",
      "rating_count             1513\n",
      "average_rating           1430\n",
      "total_sales              1430\n",
      "tax_status                716\n",
      "tax_class                   0\n",
      "post_author              1430\n",
      "post_date                1430\n",
      "post_date_gmt            1430\n",
      "post_content                0\n",
      "post_title               1430\n",
      "post_excerpt              716\n",
      "post_status              1430\n",
      "comment_status           1430\n",
      "ping_status              1430\n",
      "post_password               0\n",
      "post_name                1430\n",
      "post_modified            1430\n",
      "post_modified_gmt        1430\n",
      "post_content_filtered       0\n",
      "post_parent              1430\n",
      "guid                     1430\n",
      "menu_order               1430\n",
      "post_type                1430\n",
      "post_mime_type            714\n",
      "comment_count            1430\n",
      "dtype: int64\n"
     ]
    },
    {
     "data": {
      "text/plain": [
       "sku                        85\n",
       "virtual                     0\n",
       "downloadable                0\n",
       "rating_count                0\n",
       "average_rating             83\n",
       "total_sales                83\n",
       "tax_status                797\n",
       "tax_class                1513\n",
       "post_author                83\n",
       "post_date                  83\n",
       "post_date_gmt              83\n",
       "post_content             1513\n",
       "post_title                 83\n",
       "post_excerpt              797\n",
       "post_status                83\n",
       "comment_status             83\n",
       "ping_status                83\n",
       "post_password            1513\n",
       "post_name                  83\n",
       "post_modified              83\n",
       "post_modified_gmt          83\n",
       "post_content_filtered    1513\n",
       "post_parent                83\n",
       "guid                       83\n",
       "menu_order                 83\n",
       "post_type                  83\n",
       "post_mime_type            799\n",
       "comment_count              83\n",
       "dtype: int64"
      ]
     },
     "execution_count": 84,
     "metadata": {},
     "output_type": "execute_result"
    }
   ],
   "source": [
    "#Consulter le nombre de colonnes\n",
    "nombre_colonne_web=df_web.shape[1]\n",
    "\n",
    "#La nature des données dans chacune des colonnes\n",
    "type_donnees_web=df_web.dtypes\n",
    "print(type_donnees_web)\n",
    "\n",
    "#Le nombre de valeurs présentes dans chacune des colonnes\n",
    "nombre_valeur_colonne_web=df_web.count()\n",
    "print( nombre_valeur_colonne_web)\n",
    "\n",
    "#Valeurs manquantes\n",
    "df_web.isnull().sum()\n"
   ]
  },
  {
   "cell_type": "code",
   "execution_count": 29,
   "id": "b0d2f149",
   "metadata": {},
   "outputs": [],
   "source": [
    "#Selon vous, quelles sont les colonnes à supprimer? \"virtual\", \"downloadable\", \"rating_count\", \"average_rating\",\n",
    "#\"tax_class\", \"post_content\", \"post_password\", \"post_content_filtered\", \"post_parent\", \"menu_order\", \"post_mime_type\", \n",
    "#\"comment_count\", \"post_status\", \"comment_status\",\"ping_status\", \"post_type\"\n"
   ]
  },
  {
   "cell_type": "code",
   "execution_count": 204,
   "id": "18894a59",
   "metadata": {},
   "outputs": [],
   "source": [
    "###Si vous avez défini des colonnes à supprimer, effectuer l'opération\n",
    "df_web_new=df_web.drop([\"virtual\", \"downloadable\", \"rating_count\", \"average_rating\", \"tax_class\", \"post_content\", \n",
    "                        \"post_password\", \"post_content_filtered\", \"post_parent\", \"menu_order\", \"post_mime_type\", \n",
    "                        \"comment_count\", \"post_status\", \"comment_status\",\n",
    "                        \"ping_status\", \"post_type\"], axis=1)\n"
   ]
  },
  {
   "cell_type": "code",
   "execution_count": 205,
   "id": "893dd4b8",
   "metadata": {},
   "outputs": [
    {
     "name": "stdout",
     "output_type": "stream",
     "text": [
      "sku                          object\n",
      "total_sales                 float64\n",
      "tax_status                   object\n",
      "post_author                 float64\n",
      "post_date            datetime64[ns]\n",
      "post_date_gmt        datetime64[ns]\n",
      "post_title                   object\n",
      "post_excerpt                 object\n",
      "post_name                    object\n",
      "post_modified        datetime64[ns]\n",
      "post_modified_gmt    datetime64[ns]\n",
      "guid                         object\n",
      "dtype: object\n"
     ]
    }
   ],
   "source": [
    "type_df_web_new=df_web_new.dtypes\n",
    "print(type_df_web_new)"
   ]
  },
  {
   "cell_type": "code",
   "execution_count": 206,
   "id": "5f45a845",
   "metadata": {},
   "outputs": [
    {
     "data": {
      "text/plain": [
       "0       bon-cadeau-25-euros\n",
       "1                     15298\n",
       "2                     15296\n",
       "3                     15300\n",
       "4                     19814\n",
       "               ...         \n",
       "1508                  16135\n",
       "1509                  15891\n",
       "1510                  15887\n",
       "1511                13127-1\n",
       "1512                  16230\n",
       "Name: sku, Length: 1513, dtype: object"
      ]
     },
     "execution_count": 206,
     "metadata": {},
     "output_type": "execute_result"
    }
   ],
   "source": [
    "###Visualisation des valeurs de la colonne sku\n",
    "df_web_new['sku'] "
   ]
  },
  {
   "cell_type": "code",
   "execution_count": 207,
   "id": "02e16d07",
   "metadata": {},
   "outputs": [
    {
     "name": "stdout",
     "output_type": "stream",
     "text": [
      "                      sku  total_sales tax_status  post_author  \\\n",
      "0     bon-cadeau-25-euros         10.0    taxable          1.0   \n",
      "797               13127-1          0.0    taxable          2.0   \n",
      "1209  bon-cadeau-25-euros         10.0        NaN          1.0   \n",
      "1511              13127-1          0.0        NaN          2.0   \n",
      "\n",
      "               post_date       post_date_gmt  \\\n",
      "0    2018-06-01 13:53:46 2018-06-01 11:53:46   \n",
      "797  2020-06-09 15:42:04 2020-06-09 13:42:04   \n",
      "1209 2018-06-01 13:53:46 2018-06-01 11:53:46   \n",
      "1511 2020-06-09 15:42:04 2020-06-09 13:42:04   \n",
      "\n",
      "                                        post_title  \\\n",
      "0                                Bon cadeau de 25€   \n",
      "797   Clos du Mont-Olivet Châteauneuf-du-Pape 2007   \n",
      "1209                             Bon cadeau de 25€   \n",
      "1511  Clos du Mont-Olivet Châteauneuf-du-Pape 2007   \n",
      "\n",
      "                                           post_excerpt  \\\n",
      "0     <span style=\"color: #a85253;\"><strong>Parlons ...   \n",
      "797   Nez gracieux, très élégant avec une touche flo...   \n",
      "1209                                                NaN   \n",
      "1511                                                NaN   \n",
      "\n",
      "                                           post_name       post_modified  \\\n",
      "0                             bon-cadeau-de-25-euros 2018-06-01 14:13:57   \n",
      "797   clos-du-mont-olivet-chateauneuf-du-pape-2007-2 2020-07-20 17:09:06   \n",
      "1209                          bon-cadeau-de-25-euros 2018-06-01 14:13:57   \n",
      "1511  clos-du-mont-olivet-chateauneuf-du-pape-2007-2 2020-07-20 17:09:06   \n",
      "\n",
      "       post_modified_gmt                                               guid  \n",
      "0    2018-06-01 12:13:57  https://www.bottle-neck.fr/?post_type=product&...  \n",
      "797  2020-07-20 15:09:06  https://www.bottle-neck.fr/?post_type=product&...  \n",
      "1209 2018-06-01 12:13:57  https://www.bottle-neck.fr/wp-content/uploads/...  \n",
      "1511 2020-07-20 15:09:06  https://www.bottle-neck.fr/wp-content/uploads/...  \n"
     ]
    }
   ],
   "source": [
    "###Quelles sont les valeurs qui ne semblent pas respecter la régle de codification?\n",
    "\n",
    "colonne_a_verifier = 'sku'\n",
    "valeurs_incorrectes = df_web_new[df_web_new[colonne_a_verifier].astype(str).str.len() > 5]\n",
    "print(valeurs_incorrectes)"
   ]
  },
  {
   "cell_type": "code",
   "execution_count": 208,
   "id": "1a781649",
   "metadata": {},
   "outputs": [
    {
     "data": {
      "text/html": [
       "<div>\n",
       "<style scoped>\n",
       "    .dataframe tbody tr th:only-of-type {\n",
       "        vertical-align: middle;\n",
       "    }\n",
       "\n",
       "    .dataframe tbody tr th {\n",
       "        vertical-align: top;\n",
       "    }\n",
       "\n",
       "    .dataframe thead th {\n",
       "        text-align: right;\n",
       "    }\n",
       "</style>\n",
       "<table border=\"1\" class=\"dataframe\">\n",
       "  <thead>\n",
       "    <tr style=\"text-align: right;\">\n",
       "      <th></th>\n",
       "      <th>sku</th>\n",
       "      <th>total_sales</th>\n",
       "      <th>tax_status</th>\n",
       "      <th>post_author</th>\n",
       "      <th>post_date</th>\n",
       "      <th>post_date_gmt</th>\n",
       "      <th>post_title</th>\n",
       "      <th>post_excerpt</th>\n",
       "      <th>post_name</th>\n",
       "      <th>post_modified</th>\n",
       "      <th>post_modified_gmt</th>\n",
       "      <th>guid</th>\n",
       "    </tr>\n",
       "  </thead>\n",
       "  <tbody>\n",
       "    <tr>\n",
       "      <th>0</th>\n",
       "      <td>bon-cadeau-25-euros</td>\n",
       "      <td>10.0</td>\n",
       "      <td>taxable</td>\n",
       "      <td>1.0</td>\n",
       "      <td>2018-06-01 13:53:46</td>\n",
       "      <td>2018-06-01 11:53:46</td>\n",
       "      <td>Bon cadeau de 25€</td>\n",
       "      <td>&lt;span style=\"color: #a85253;\"&gt;&lt;strong&gt;Parlons ...</td>\n",
       "      <td>bon-cadeau-de-25-euros</td>\n",
       "      <td>2018-06-01 14:13:57</td>\n",
       "      <td>2018-06-01 12:13:57</td>\n",
       "      <td>https://www.bottle-neck.fr/?post_type=product&amp;...</td>\n",
       "    </tr>\n",
       "    <tr>\n",
       "      <th>1209</th>\n",
       "      <td>bon-cadeau-25-euros</td>\n",
       "      <td>10.0</td>\n",
       "      <td>NaN</td>\n",
       "      <td>1.0</td>\n",
       "      <td>2018-06-01 13:53:46</td>\n",
       "      <td>2018-06-01 11:53:46</td>\n",
       "      <td>Bon cadeau de 25€</td>\n",
       "      <td>NaN</td>\n",
       "      <td>bon-cadeau-de-25-euros</td>\n",
       "      <td>2018-06-01 14:13:57</td>\n",
       "      <td>2018-06-01 12:13:57</td>\n",
       "      <td>https://www.bottle-neck.fr/wp-content/uploads/...</td>\n",
       "    </tr>\n",
       "  </tbody>\n",
       "</table>\n",
       "</div>"
      ],
      "text/plain": [
       "                      sku  total_sales tax_status  post_author  \\\n",
       "0     bon-cadeau-25-euros         10.0    taxable          1.0   \n",
       "1209  bon-cadeau-25-euros         10.0        NaN          1.0   \n",
       "\n",
       "               post_date       post_date_gmt         post_title  \\\n",
       "0    2018-06-01 13:53:46 2018-06-01 11:53:46  Bon cadeau de 25€   \n",
       "1209 2018-06-01 13:53:46 2018-06-01 11:53:46  Bon cadeau de 25€   \n",
       "\n",
       "                                           post_excerpt  \\\n",
       "0     <span style=\"color: #a85253;\"><strong>Parlons ...   \n",
       "1209                                                NaN   \n",
       "\n",
       "                   post_name       post_modified   post_modified_gmt  \\\n",
       "0     bon-cadeau-de-25-euros 2018-06-01 14:13:57 2018-06-01 12:13:57   \n",
       "1209  bon-cadeau-de-25-euros 2018-06-01 14:13:57 2018-06-01 12:13:57   \n",
       "\n",
       "                                                   guid  \n",
       "0     https://www.bottle-neck.fr/?post_type=product&...  \n",
       "1209  https://www.bottle-neck.fr/wp-content/uploads/...  "
      ]
     },
     "execution_count": 208,
     "metadata": {},
     "output_type": "execute_result"
    }
   ],
   "source": [
    "###Si vous avez identifié des codes articles ne respectant pas la régle de codification, consultez-les?\n",
    "df_web_new.loc[df_web_new['sku'] == \"bon-cadeau-25-euros\", :] \n"
   ]
  },
  {
   "cell_type": "code",
   "execution_count": 209,
   "id": "2a29c032",
   "metadata": {},
   "outputs": [
    {
     "data": {
      "text/html": [
       "<div>\n",
       "<style scoped>\n",
       "    .dataframe tbody tr th:only-of-type {\n",
       "        vertical-align: middle;\n",
       "    }\n",
       "\n",
       "    .dataframe tbody tr th {\n",
       "        vertical-align: top;\n",
       "    }\n",
       "\n",
       "    .dataframe thead th {\n",
       "        text-align: right;\n",
       "    }\n",
       "</style>\n",
       "<table border=\"1\" class=\"dataframe\">\n",
       "  <thead>\n",
       "    <tr style=\"text-align: right;\">\n",
       "      <th></th>\n",
       "      <th>sku</th>\n",
       "      <th>total_sales</th>\n",
       "      <th>tax_status</th>\n",
       "      <th>post_author</th>\n",
       "      <th>post_date</th>\n",
       "      <th>post_date_gmt</th>\n",
       "      <th>post_title</th>\n",
       "      <th>post_excerpt</th>\n",
       "      <th>post_name</th>\n",
       "      <th>post_modified</th>\n",
       "      <th>post_modified_gmt</th>\n",
       "      <th>guid</th>\n",
       "    </tr>\n",
       "  </thead>\n",
       "  <tbody>\n",
       "    <tr>\n",
       "      <th>797</th>\n",
       "      <td>13127-1</td>\n",
       "      <td>0.0</td>\n",
       "      <td>taxable</td>\n",
       "      <td>2.0</td>\n",
       "      <td>2020-06-09 15:42:04</td>\n",
       "      <td>2020-06-09 13:42:04</td>\n",
       "      <td>Clos du Mont-Olivet Châteauneuf-du-Pape 2007</td>\n",
       "      <td>Nez gracieux, très élégant avec une touche flo...</td>\n",
       "      <td>clos-du-mont-olivet-chateauneuf-du-pape-2007-2</td>\n",
       "      <td>2020-07-20 17:09:06</td>\n",
       "      <td>2020-07-20 15:09:06</td>\n",
       "      <td>https://www.bottle-neck.fr/?post_type=product&amp;...</td>\n",
       "    </tr>\n",
       "    <tr>\n",
       "      <th>1511</th>\n",
       "      <td>13127-1</td>\n",
       "      <td>0.0</td>\n",
       "      <td>NaN</td>\n",
       "      <td>2.0</td>\n",
       "      <td>2020-06-09 15:42:04</td>\n",
       "      <td>2020-06-09 13:42:04</td>\n",
       "      <td>Clos du Mont-Olivet Châteauneuf-du-Pape 2007</td>\n",
       "      <td>NaN</td>\n",
       "      <td>clos-du-mont-olivet-chateauneuf-du-pape-2007-2</td>\n",
       "      <td>2020-07-20 17:09:06</td>\n",
       "      <td>2020-07-20 15:09:06</td>\n",
       "      <td>https://www.bottle-neck.fr/wp-content/uploads/...</td>\n",
       "    </tr>\n",
       "  </tbody>\n",
       "</table>\n",
       "</div>"
      ],
      "text/plain": [
       "          sku  total_sales tax_status  post_author           post_date  \\\n",
       "797   13127-1          0.0    taxable          2.0 2020-06-09 15:42:04   \n",
       "1511  13127-1          0.0        NaN          2.0 2020-06-09 15:42:04   \n",
       "\n",
       "           post_date_gmt                                    post_title  \\\n",
       "797  2020-06-09 13:42:04  Clos du Mont-Olivet Châteauneuf-du-Pape 2007   \n",
       "1511 2020-06-09 13:42:04  Clos du Mont-Olivet Châteauneuf-du-Pape 2007   \n",
       "\n",
       "                                           post_excerpt  \\\n",
       "797   Nez gracieux, très élégant avec une touche flo...   \n",
       "1511                                                NaN   \n",
       "\n",
       "                                           post_name       post_modified  \\\n",
       "797   clos-du-mont-olivet-chateauneuf-du-pape-2007-2 2020-07-20 17:09:06   \n",
       "1511  clos-du-mont-olivet-chateauneuf-du-pape-2007-2 2020-07-20 17:09:06   \n",
       "\n",
       "       post_modified_gmt                                               guid  \n",
       "797  2020-07-20 15:09:06  https://www.bottle-neck.fr/?post_type=product&...  \n",
       "1511 2020-07-20 15:09:06  https://www.bottle-neck.fr/wp-content/uploads/...  "
      ]
     },
     "execution_count": 209,
     "metadata": {},
     "output_type": "execute_result"
    }
   ],
   "source": [
    "###Si vous avez identifié des codes articles ne respectant pas la régle de codification, consultez-les?\n",
    "\n",
    "df_web_new.loc[df_web_new['sku'] == \"13127-1\", :]"
   ]
  },
  {
   "cell_type": "code",
   "execution_count": 210,
   "id": "ffa790f3",
   "metadata": {},
   "outputs": [],
   "source": [
    "###remplacer 13127-1 par 13127 et bon-cadeau-25-euros par 99999\n",
    "df_web_new.loc[df_web_new['sku']=='13127-1', 'sku'] = '13127'\n",
    "df_web_new.loc[df_web_new['sku']=='bon-cadeau-25-euros', 'sku'] = '99999'"
   ]
  },
  {
   "cell_type": "code",
   "execution_count": 211,
   "id": "57d3d4d2",
   "metadata": {},
   "outputs": [
    {
     "name": "stdout",
     "output_type": "stream",
     "text": [
      "     sku  total_sales tax_status  post_author post_date post_date_gmt  \\\n",
      "178  NaN          NaN        NaN          NaN       NaT           NaT   \n",
      "179  NaN          NaN        NaN          NaN       NaT           NaT   \n",
      "227  NaN          NaN        NaN          NaN       NaT           NaT   \n",
      "230  NaN          NaN        NaN          NaN       NaT           NaT   \n",
      "231  NaN          NaN        NaN          NaN       NaT           NaT   \n",
      "..   ...          ...        ...          ...       ...           ...   \n",
      "792  NaN          NaN        NaN          NaN       NaT           NaT   \n",
      "793  NaN          NaN        NaN          NaN       NaT           NaT   \n",
      "794  NaN          NaN        NaN          NaN       NaT           NaT   \n",
      "795  NaN          NaN        NaN          NaN       NaT           NaT   \n",
      "796  NaN          NaN        NaN          NaN       NaT           NaT   \n",
      "\n",
      "    post_title post_excerpt post_name post_modified post_modified_gmt guid  \n",
      "178        NaN          NaN       NaN           NaT               NaT  NaN  \n",
      "179        NaN          NaN       NaN           NaT               NaT  NaN  \n",
      "227        NaN          NaN       NaN           NaT               NaT  NaN  \n",
      "230        NaN          NaN       NaN           NaT               NaT  NaN  \n",
      "231        NaN          NaN       NaN           NaT               NaT  NaN  \n",
      "..         ...          ...       ...           ...               ...  ...  \n",
      "792        NaN          NaN       NaN           NaT               NaT  NaN  \n",
      "793        NaN          NaN       NaN           NaT               NaT  NaN  \n",
      "794        NaN          NaN       NaN           NaT               NaT  NaN  \n",
      "795        NaN          NaN       NaN           NaT               NaT  NaN  \n",
      "796        NaN          NaN       NaN           NaT               NaT  NaN  \n",
      "\n",
      "[85 rows x 12 columns]\n"
     ]
    }
   ],
   "source": [
    "####Identifier les lignes sans code articles\n",
    "####Les lignes sans code article semble être toutes non renseignés\n",
    "df_websans_code=df_web_new.loc[df_web_new['sku'].isnull(),:]\n",
    "print(df_websans_code)"
   ]
  },
  {
   "cell_type": "code",
   "execution_count": 212,
   "id": "fa5b7b52",
   "metadata": {},
   "outputs": [
    {
     "data": {
      "text/plain": [
       "sku                    0\n",
       "total_sales            0\n",
       "tax_status           714\n",
       "post_author            0\n",
       "post_date              0\n",
       "post_date_gmt          0\n",
       "post_title             0\n",
       "post_excerpt         714\n",
       "post_name              0\n",
       "post_modified          0\n",
       "post_modified_gmt      0\n",
       "guid                   0\n",
       "dtype: int64"
      ]
     },
     "execution_count": 212,
     "metadata": {},
     "output_type": "execute_result"
    }
   ],
   "source": [
    "###Les lignes sans code article semble être toutes non renseignés(suite)\n",
    "identifiant='sku'\n",
    "df_web_new_ss=df_web_new.dropna(subset=[identifiant])\n",
    "df_web_new_ss.isnull().sum()"
   ]
  },
  {
   "cell_type": "code",
   "execution_count": 213,
   "id": "7b9fbd03",
   "metadata": {},
   "outputs": [
    {
     "data": {
      "text/plain": [
       "sku                  0\n",
       "total_sales          0\n",
       "tax_status           0\n",
       "post_author          0\n",
       "post_date            0\n",
       "post_date_gmt        0\n",
       "post_title           0\n",
       "post_excerpt         0\n",
       "post_name            0\n",
       "post_modified        0\n",
       "post_modified_gmt    0\n",
       "guid                 0\n",
       "dtype: int64"
      ]
     },
     "execution_count": 213,
     "metadata": {},
     "output_type": "execute_result"
    }
   ],
   "source": [
    "####La clé pour chaque ligne est-elle uniques? ou autrement dit, y a-t-il des doublons?\n",
    "\n",
    "df_web_new_ss2=df_web_new_ss.loc[df_web_new_ss['tax_status'] == \"taxable\", :]\n",
    "df_web_new_ss2.isnull().sum()\n"
   ]
  },
  {
   "cell_type": "code",
   "execution_count": 214,
   "id": "c0992ac2",
   "metadata": {},
   "outputs": [
    {
     "name": "stdout",
     "output_type": "stream",
     "text": [
      "Le tableau comporte 714 observation(s) ou article(s)\n",
      "Le tableau comporte 12 colonne(s)\n"
     ]
    }
   ],
   "source": [
    "print(\"Le tableau comporte {} observation(s) ou article(s)\".format(df_web_new_ss2.shape[0]))\n",
    "print(\"Le tableau comporte {} colonne(s)\".format(df_web_new_ss2.shape[1]))"
   ]
  },
  {
   "cell_type": "code",
   "execution_count": 215,
   "id": "4ea5ac88",
   "metadata": {},
   "outputs": [],
   "source": [
    "####exporter la table web sans sku manquant sous csv\n",
    "df_web_new_ss2.to_csv('webnew_sans_manquant_1.csv', index=False)"
   ]
  },
  {
   "cell_type": "code",
   "execution_count": 166,
   "id": "17462ce8",
   "metadata": {},
   "outputs": [
    {
     "name": "stdout",
     "output_type": "stream",
     "text": [
      "<class 'pandas.core.frame.DataFrame'>\n",
      "Int64Index: 85 entries, 178 to 796\n",
      "Data columns (total 12 columns):\n",
      " #   Column             Non-Null Count  Dtype         \n",
      "---  ------             --------------  -----         \n",
      " 0   sku                0 non-null      object        \n",
      " 1   total_sales        2 non-null      float64       \n",
      " 2   tax_status         2 non-null      object        \n",
      " 3   post_author        2 non-null      float64       \n",
      " 4   post_date          2 non-null      datetime64[ns]\n",
      " 5   post_date_gmt      2 non-null      datetime64[ns]\n",
      " 6   post_title         2 non-null      object        \n",
      " 7   post_excerpt       2 non-null      object        \n",
      " 8   post_name          2 non-null      object        \n",
      " 9   post_modified      2 non-null      datetime64[ns]\n",
      " 10  post_modified_gmt  2 non-null      datetime64[ns]\n",
      " 11  guid               2 non-null      object        \n",
      "dtypes: datetime64[ns](4), float64(2), object(6)\n",
      "memory usage: 8.6+ KB\n"
     ]
    },
    {
     "data": {
      "text/html": [
       "<div>\n",
       "<style scoped>\n",
       "    .dataframe tbody tr th:only-of-type {\n",
       "        vertical-align: middle;\n",
       "    }\n",
       "\n",
       "    .dataframe tbody tr th {\n",
       "        vertical-align: top;\n",
       "    }\n",
       "\n",
       "    .dataframe thead th {\n",
       "        text-align: right;\n",
       "    }\n",
       "</style>\n",
       "<table border=\"1\" class=\"dataframe\">\n",
       "  <thead>\n",
       "    <tr style=\"text-align: right;\">\n",
       "      <th></th>\n",
       "      <th>sku</th>\n",
       "      <th>total_sales</th>\n",
       "      <th>tax_status</th>\n",
       "      <th>post_author</th>\n",
       "      <th>post_date</th>\n",
       "      <th>post_date_gmt</th>\n",
       "      <th>post_title</th>\n",
       "      <th>post_excerpt</th>\n",
       "      <th>post_name</th>\n",
       "      <th>post_modified</th>\n",
       "      <th>post_modified_gmt</th>\n",
       "      <th>guid</th>\n",
       "    </tr>\n",
       "  </thead>\n",
       "  <tbody>\n",
       "    <tr>\n",
       "      <th>178</th>\n",
       "      <td>NaN</td>\n",
       "      <td>NaN</td>\n",
       "      <td>NaN</td>\n",
       "      <td>NaN</td>\n",
       "      <td>NaT</td>\n",
       "      <td>NaT</td>\n",
       "      <td>NaN</td>\n",
       "      <td>NaN</td>\n",
       "      <td>NaN</td>\n",
       "      <td>NaT</td>\n",
       "      <td>NaT</td>\n",
       "      <td>NaN</td>\n",
       "    </tr>\n",
       "    <tr>\n",
       "      <th>179</th>\n",
       "      <td>NaN</td>\n",
       "      <td>NaN</td>\n",
       "      <td>NaN</td>\n",
       "      <td>NaN</td>\n",
       "      <td>NaT</td>\n",
       "      <td>NaT</td>\n",
       "      <td>NaN</td>\n",
       "      <td>NaN</td>\n",
       "      <td>NaN</td>\n",
       "      <td>NaT</td>\n",
       "      <td>NaT</td>\n",
       "      <td>NaN</td>\n",
       "    </tr>\n",
       "    <tr>\n",
       "      <th>227</th>\n",
       "      <td>NaN</td>\n",
       "      <td>NaN</td>\n",
       "      <td>NaN</td>\n",
       "      <td>NaN</td>\n",
       "      <td>NaT</td>\n",
       "      <td>NaT</td>\n",
       "      <td>NaN</td>\n",
       "      <td>NaN</td>\n",
       "      <td>NaN</td>\n",
       "      <td>NaT</td>\n",
       "      <td>NaT</td>\n",
       "      <td>NaN</td>\n",
       "    </tr>\n",
       "    <tr>\n",
       "      <th>230</th>\n",
       "      <td>NaN</td>\n",
       "      <td>NaN</td>\n",
       "      <td>NaN</td>\n",
       "      <td>NaN</td>\n",
       "      <td>NaT</td>\n",
       "      <td>NaT</td>\n",
       "      <td>NaN</td>\n",
       "      <td>NaN</td>\n",
       "      <td>NaN</td>\n",
       "      <td>NaT</td>\n",
       "      <td>NaT</td>\n",
       "      <td>NaN</td>\n",
       "    </tr>\n",
       "    <tr>\n",
       "      <th>231</th>\n",
       "      <td>NaN</td>\n",
       "      <td>NaN</td>\n",
       "      <td>NaN</td>\n",
       "      <td>NaN</td>\n",
       "      <td>NaT</td>\n",
       "      <td>NaT</td>\n",
       "      <td>NaN</td>\n",
       "      <td>NaN</td>\n",
       "      <td>NaN</td>\n",
       "      <td>NaT</td>\n",
       "      <td>NaT</td>\n",
       "      <td>NaN</td>\n",
       "    </tr>\n",
       "  </tbody>\n",
       "</table>\n",
       "</div>"
      ],
      "text/plain": [
       "     sku  total_sales tax_status  post_author post_date post_date_gmt  \\\n",
       "178  NaN          NaN        NaN          NaN       NaT           NaT   \n",
       "179  NaN          NaN        NaN          NaN       NaT           NaT   \n",
       "227  NaN          NaN        NaN          NaN       NaT           NaT   \n",
       "230  NaN          NaN        NaN          NaN       NaT           NaT   \n",
       "231  NaN          NaN        NaN          NaN       NaT           NaT   \n",
       "\n",
       "    post_title post_excerpt post_name post_modified post_modified_gmt guid  \n",
       "178        NaN          NaN       NaN           NaT               NaT  NaN  \n",
       "179        NaN          NaN       NaN           NaT               NaT  NaN  \n",
       "227        NaN          NaN       NaN           NaT               NaT  NaN  \n",
       "230        NaN          NaN       NaN           NaT               NaT  NaN  \n",
       "231        NaN          NaN       NaN           NaT               NaT  NaN  "
      ]
     },
     "execution_count": 166,
     "metadata": {},
     "output_type": "execute_result"
    }
   ],
   "source": [
    "df_websans_code\n",
    "####1 - Créer un dataframe avec uniquement les lignes sans code article\n",
    "df_websans_code=df_web_new.loc[df_web_new['sku'].isnull(),:]\n",
    "###2 - utiliser la fonction df.info() sur ce nouveau dataframe pour observer le nombre de valeur reseigner dans chacune des colonnes\n",
    "df_websans_code.info()\n",
    "df_websans_code.head()\n",
    "####3 - Que constatez-vous? je constate que les valeurs affichées ne sont pas exploitables"
   ]
  },
  {
   "cell_type": "code",
   "execution_count": 216,
   "id": "f0ec5388",
   "metadata": {},
   "outputs": [
    {
     "name": "stdout",
     "output_type": "stream",
     "text": [
      "Empty DataFrame\n",
      "Columns: [sku, total_sales, tax_status, post_author, post_date, post_date_gmt, post_title, post_excerpt, post_name, post_modified, post_modified_gmt, guid]\n",
      "Index: []\n"
     ]
    }
   ],
   "source": [
    "###recherche de doublons dans la table finale web\n",
    "colonne_id_vf='sku'\n",
    "doublons_web_vf=df_web_new_ss2.duplicated(subset=[colonne_id_vf], keep=False)\n",
    "print(df_web_new_ss2[doublons_web_vf])"
   ]
  },
  {
   "cell_type": "markdown",
   "id": "dbff6403",
   "metadata": {},
   "source": [
    "<div style=\"border: 1px solid RGB(51,165,182);\" >\n",
    "<h3 style=\"margin: auto; padding: 20px; color: RGB(51,165,182); \">2.3 - Analyse exploratoire du fichier liaison.xlsx</h3>\n",
    "</div>"
   ]
  },
  {
   "cell_type": "code",
   "execution_count": 217,
   "id": "de426b74",
   "metadata": {},
   "outputs": [
    {
     "name": "stdout",
     "output_type": "stream",
     "text": [
      "Le tableau comporte 825 observation(s) ou article(s)\n",
      "Le tableau comporte 2 colonne(s)\n"
     ]
    },
    {
     "data": {
      "text/html": [
       "<div>\n",
       "<style scoped>\n",
       "    .dataframe tbody tr th:only-of-type {\n",
       "        vertical-align: middle;\n",
       "    }\n",
       "\n",
       "    .dataframe tbody tr th {\n",
       "        vertical-align: top;\n",
       "    }\n",
       "\n",
       "    .dataframe thead th {\n",
       "        text-align: right;\n",
       "    }\n",
       "</style>\n",
       "<table border=\"1\" class=\"dataframe\">\n",
       "  <thead>\n",
       "    <tr style=\"text-align: right;\">\n",
       "      <th></th>\n",
       "      <th>product_id</th>\n",
       "      <th>id_web</th>\n",
       "    </tr>\n",
       "  </thead>\n",
       "  <tbody>\n",
       "    <tr>\n",
       "      <th>0</th>\n",
       "      <td>3847</td>\n",
       "      <td>15298</td>\n",
       "    </tr>\n",
       "    <tr>\n",
       "      <th>1</th>\n",
       "      <td>3849</td>\n",
       "      <td>15296</td>\n",
       "    </tr>\n",
       "    <tr>\n",
       "      <th>2</th>\n",
       "      <td>3850</td>\n",
       "      <td>15300</td>\n",
       "    </tr>\n",
       "    <tr>\n",
       "      <th>3</th>\n",
       "      <td>4032</td>\n",
       "      <td>19814</td>\n",
       "    </tr>\n",
       "    <tr>\n",
       "      <th>4</th>\n",
       "      <td>4039</td>\n",
       "      <td>19815</td>\n",
       "    </tr>\n",
       "  </tbody>\n",
       "</table>\n",
       "</div>"
      ],
      "text/plain": [
       "   product_id id_web\n",
       "0        3847  15298\n",
       "1        3849  15296\n",
       "2        3850  15300\n",
       "3        4032  19814\n",
       "4        4039  19815"
      ]
     },
     "execution_count": 217,
     "metadata": {},
     "output_type": "execute_result"
    }
   ],
   "source": [
    "#Dimension du dataset\n",
    "#Nombre d'observations\n",
    "\n",
    "print(\"Le tableau comporte {} observation(s) ou article(s)\".format(df_liaison.shape[0]))\n",
    "print(\"Le tableau comporte {} colonne(s)\".format(df_liaison.shape[1]))\n",
    "df_liaison.head()\n"
   ]
  },
  {
   "cell_type": "code",
   "execution_count": 219,
   "id": "9834ae33",
   "metadata": {},
   "outputs": [
    {
     "name": "stdout",
     "output_type": "stream",
     "text": [
      "2\n",
      "product_id     int64\n",
      "id_web        object\n",
      "dtype: object\n",
      "product_id    825\n",
      "id_web        734\n",
      "dtype: int64\n"
     ]
    },
    {
     "data": {
      "text/plain": [
       "product_id     0\n",
       "id_web        91\n",
       "dtype: int64"
      ]
     },
     "execution_count": 219,
     "metadata": {},
     "output_type": "execute_result"
    }
   ],
   "source": [
    "#Consulter le nombre de colonnes\n",
    "nombre_colonne_liaison=df_liaison.shape[1]\n",
    "print(nombre_colonne_liaison)\n",
    "\n",
    "#La nature des données dans chacune des colonnes\n",
    "type_donnees_liaison=df_liaison.dtypes\n",
    "print(type_donnees_liaison)\n",
    "\n",
    "#Le nombre de valeurs présentes dans chacune des colonnes\n",
    "nombre_valeur_colonne_liaison=df_liaison.count()\n",
    "print(nombre_valeur_colonne_liaison)\n",
    "\n",
    "#Valeurs manquantes\n",
    "df_liaison.isnull().sum()\n"
   ]
  },
  {
   "cell_type": "code",
   "execution_count": 220,
   "id": "2b30d6b2",
   "metadata": {},
   "outputs": [
    {
     "name": "stdout",
     "output_type": "stream",
     "text": [
      "Empty DataFrame\n",
      "Columns: [product_id, id_web]\n",
      "Index: []\n"
     ]
    }
   ],
   "source": [
    "#Les valeurs de la colonne \"product_id\" sont elles toutes uniques?\n",
    "colonne_product_id_liaison='product_id'\n",
    "doublons_liaison_id=df_liaison.duplicated(subset=[colonne_product_id_liaison], keep=False)\n",
    "print(df_liaison[doublons_liaison_id])"
   ]
  },
  {
   "cell_type": "code",
   "execution_count": 221,
   "id": "4d8ca13c",
   "metadata": {},
   "outputs": [
    {
     "name": "stdout",
     "output_type": "stream",
     "text": [
      "     product_id id_web\n",
      "19         4055    NaN\n",
      "49         4090    NaN\n",
      "50         4092    NaN\n",
      "119        4195    NaN\n",
      "131        4209    NaN\n",
      "..          ...    ...\n",
      "817        7196    NaN\n",
      "818        7200    NaN\n",
      "819        7201    NaN\n",
      "820        7203    NaN\n",
      "821        7204    NaN\n",
      "\n",
      "[91 rows x 2 columns]\n"
     ]
    }
   ],
   "source": [
    "#Les valeurs de la colonne \"id_web\" sont-elles toutes uniques?\n",
    "colonne_id_web_liaison='id_web'\n",
    "doublons_id_web=df_liaison.duplicated(subset=[colonne_id_web_liaison], keep=False)\n",
    "print(df_liaison[doublons_id_web])"
   ]
  },
  {
   "cell_type": "code",
   "execution_count": null,
   "id": "52f7c843",
   "metadata": {},
   "outputs": [],
   "source": [
    "#Avons-nous des articles sans correspondances? oui 91 articles\n"
   ]
  },
  {
   "cell_type": "code",
   "execution_count": null,
   "id": "25c75e1e",
   "metadata": {},
   "outputs": [],
   "source": [
    "colonne_a_verifier2 = 'id_web'\n",
    "valeurs_incorrectes2 = df_liaison[df_liaison[colonne_a_verifier2].astype(str).str.len() > 5]\n",
    "print(valeurs_incorrectes2)"
   ]
  },
  {
   "cell_type": "code",
   "execution_count": 228,
   "id": "c25c7c26",
   "metadata": {},
   "outputs": [
    {
     "name": "stdout",
     "output_type": "stream",
     "text": [
      "Empty DataFrame\n",
      "Columns: [product_id, id_web, sku]\n",
      "Index: []\n"
     ]
    }
   ],
   "source": [
    "\n",
    "#### correction id_web atypique\n",
    "df_liaison.loc[df_liaison['product_id']==4954, 'id_web'] = '99999'\n",
    "df_liaison.loc[df_liaison['id_web']=='13127-1', 'id_web'] = '13127'\n",
    "df_liaison.loc[df_liaison['id_web']=='14680-1', 'id_web'] = '14680'\n",
    "nouvelle_ligne = {'product_id': 9999, 'id_web': '99999'}\n",
    "colonne_a_verifier2 = 'id_web'\n",
    "valeurs_incorrectes2 = df_liaison[df_liaison[colonne_a_verifier2].astype(str).str.len() > 5]\n",
    "print(valeurs_incorrectes2)"
   ]
  },
  {
   "cell_type": "markdown",
   "id": "6a278ffc",
   "metadata": {},
   "source": [
    "<div style=\"border: 1px solid RGB(51,165,182);\" >\n",
    "<h3 style=\"margin: auto; padding: 20px; color: RGB(51,165,182); \">2.4 - Analyse exploratoire du fichier caracteristiques_vins.xlsx</h3>\n",
    "</div>"
   ]
  },
  {
   "cell_type": "code",
   "execution_count": 229,
   "id": "d0daa5a3",
   "metadata": {},
   "outputs": [
    {
     "name": "stdout",
     "output_type": "stream",
     "text": [
      "Le tableau comporte 611 observation(s) ou article(s)\n",
      "Le tableau comporte 13 colonne(s)\n"
     ]
    }
   ],
   "source": [
    "#Dimension du dataset\n",
    "#Nombre d'observations\n",
    "\n",
    "print(\"Le tableau comporte {} observation(s) ou article(s)\".format(df_caracteristiques.shape[0]))\n",
    "print(\"Le tableau comporte {} colonne(s)\".format(df_caracteristiques.shape[1]))\n"
   ]
  },
  {
   "cell_type": "code",
   "execution_count": 230,
   "id": "2e893258",
   "metadata": {},
   "outputs": [
    {
     "name": "stdout",
     "output_type": "stream",
     "text": [
      "13\n",
      "post_name                   object\n",
      "poids                       object\n",
      "Région                      object\n",
      "Domaine                     object\n",
      "Appellation                 object\n",
      "Couleur                     object\n",
      "Cépage                      object\n",
      "Millésime                  float64\n",
      "Garde                       object\n",
      "Contenance                  object\n",
      "Degré d'alcool              object\n",
      "Température dégustation     object\n",
      "Alliance mets               object\n",
      "dtype: object\n",
      "post_name                  611\n",
      "poids                      611\n",
      "Région                     586\n",
      "Domaine                    577\n",
      "Appellation                559\n",
      "Couleur                    566\n",
      "Cépage                     571\n",
      "Millésime                  541\n",
      "Garde                      569\n",
      "Contenance                 611\n",
      "Degré d'alcool             586\n",
      "Température dégustation    574\n",
      "Alliance mets              574\n",
      "dtype: int64\n"
     ]
    }
   ],
   "source": [
    "#Consulter le nombre de colonnes\n",
    "nombre_colonne_caracteristiques=df_caracteristiques.shape[1]\n",
    "print(nombre_colonne_caracteristiques)\n",
    "\n",
    "#La nature des données dans chacune des colonnes\n",
    "type_donnees_caracteristiques=df_caracteristiques.dtypes\n",
    "print(type_donnees_caracteristiques)\n",
    "\n",
    "#Le nombre de valeurs présentes dans chacune des colonnes\n",
    "nombre_valeur_colonne_caracteristiques=df_caracteristiques.count()\n",
    "print(nombre_valeur_colonne_caracteristiques)\n"
   ]
  },
  {
   "cell_type": "code",
   "execution_count": 231,
   "id": "31f1a87b",
   "metadata": {},
   "outputs": [
    {
     "data": {
      "text/html": [
       "<div>\n",
       "<style scoped>\n",
       "    .dataframe tbody tr th:only-of-type {\n",
       "        vertical-align: middle;\n",
       "    }\n",
       "\n",
       "    .dataframe tbody tr th {\n",
       "        vertical-align: top;\n",
       "    }\n",
       "\n",
       "    .dataframe thead th {\n",
       "        text-align: right;\n",
       "    }\n",
       "</style>\n",
       "<table border=\"1\" class=\"dataframe\">\n",
       "  <thead>\n",
       "    <tr style=\"text-align: right;\">\n",
       "      <th></th>\n",
       "      <th>post_name</th>\n",
       "      <th>poids</th>\n",
       "      <th>Région</th>\n",
       "      <th>Domaine</th>\n",
       "      <th>Appellation</th>\n",
       "      <th>Couleur</th>\n",
       "      <th>Cépage</th>\n",
       "      <th>Millésime</th>\n",
       "      <th>Garde</th>\n",
       "      <th>Contenance</th>\n",
       "      <th>Degré d'alcool</th>\n",
       "      <th>Température dégustation</th>\n",
       "      <th>Alliance mets</th>\n",
       "    </tr>\n",
       "  </thead>\n",
       "  <tbody>\n",
       "    <tr>\n",
       "      <th>0</th>\n",
       "      <td>pierre-jean-villa-saint-joseph-preface-2018</td>\n",
       "      <td>1.5 kg</td>\n",
       "      <td>Rhône</td>\n",
       "      <td>Pierre Jean Villa</td>\n",
       "      <td>Saint Joseph</td>\n",
       "      <td>Rouge</td>\n",
       "      <td>100% Syrah</td>\n",
       "      <td>2020.0</td>\n",
       "      <td>4-7 ans</td>\n",
       "      <td>75cl</td>\n",
       "      <td>13%</td>\n",
       "      <td>15°C</td>\n",
       "      <td>Charcuterie, Lapin, Viande rouge, Volaille</td>\n",
       "    </tr>\n",
       "    <tr>\n",
       "      <th>1</th>\n",
       "      <td>pierre-jean-villa-saint-joseph-tilde-2017</td>\n",
       "      <td>1.5 kg</td>\n",
       "      <td>Rhône</td>\n",
       "      <td>Pierre Jean Villa</td>\n",
       "      <td>Saint Joseph</td>\n",
       "      <td>Rouge</td>\n",
       "      <td>100% Syrah</td>\n",
       "      <td>2019.0</td>\n",
       "      <td>6-8 ans</td>\n",
       "      <td>75cl</td>\n",
       "      <td>13%</td>\n",
       "      <td>15°C</td>\n",
       "      <td>Charcuterie, Viande rouge, Volaille</td>\n",
       "    </tr>\n",
       "    <tr>\n",
       "      <th>2</th>\n",
       "      <td>pierre-jean-villa-croze-hermitage-accroche-coe...</td>\n",
       "      <td>1.5 kg</td>\n",
       "      <td>Rhône</td>\n",
       "      <td>Pierre Jean Villa</td>\n",
       "      <td>Crozes-Hermitage</td>\n",
       "      <td>Rouge</td>\n",
       "      <td>100% Syrah</td>\n",
       "      <td>2020.0</td>\n",
       "      <td>3-5 ans</td>\n",
       "      <td>75cl</td>\n",
       "      <td>13%</td>\n",
       "      <td>15°C</td>\n",
       "      <td>Viande rouge, Volaille</td>\n",
       "    </tr>\n",
       "    <tr>\n",
       "      <th>3</th>\n",
       "      <td>pierre-jean-villa-igp-gamine-2018</td>\n",
       "      <td>1.5 kg</td>\n",
       "      <td>Rhône</td>\n",
       "      <td>Pierre Jean Villa</td>\n",
       "      <td>Collines Rhodaniennes</td>\n",
       "      <td>Rouge</td>\n",
       "      <td>100% Syrah</td>\n",
       "      <td>2020.0</td>\n",
       "      <td>3-5 ans</td>\n",
       "      <td>75cl</td>\n",
       "      <td>13%</td>\n",
       "      <td>14°C</td>\n",
       "      <td>Charcuterie, Viande rouge, Volaille</td>\n",
       "    </tr>\n",
       "    <tr>\n",
       "      <th>4</th>\n",
       "      <td>pierre-jean-villa-cote-rotie-carmina-2017</td>\n",
       "      <td>1.5 kg</td>\n",
       "      <td>Rhône</td>\n",
       "      <td>Pierre Jean Villa</td>\n",
       "      <td>Côte Rôtie</td>\n",
       "      <td>Rouge</td>\n",
       "      <td>100% Syrah</td>\n",
       "      <td>2019.0</td>\n",
       "      <td>10-20 ans</td>\n",
       "      <td>75cl</td>\n",
       "      <td>13%</td>\n",
       "      <td>17°C</td>\n",
       "      <td>Gibier, Viande rouge</td>\n",
       "    </tr>\n",
       "  </tbody>\n",
       "</table>\n",
       "</div>"
      ],
      "text/plain": [
       "                                           post_name   poids Région  \\\n",
       "0        pierre-jean-villa-saint-joseph-preface-2018  1.5 kg  Rhône   \n",
       "1          pierre-jean-villa-saint-joseph-tilde-2017  1.5 kg  Rhône   \n",
       "2  pierre-jean-villa-croze-hermitage-accroche-coe...  1.5 kg  Rhône   \n",
       "3                  pierre-jean-villa-igp-gamine-2018  1.5 kg  Rhône   \n",
       "4          pierre-jean-villa-cote-rotie-carmina-2017  1.5 kg  Rhône   \n",
       "\n",
       "             Domaine            Appellation Couleur      Cépage  Millésime  \\\n",
       "0  Pierre Jean Villa           Saint Joseph   Rouge  100% Syrah     2020.0   \n",
       "1  Pierre Jean Villa           Saint Joseph   Rouge  100% Syrah     2019.0   \n",
       "2  Pierre Jean Villa       Crozes-Hermitage   Rouge  100% Syrah     2020.0   \n",
       "3  Pierre Jean Villa  Collines Rhodaniennes   Rouge  100% Syrah     2020.0   \n",
       "4  Pierre Jean Villa             Côte Rôtie   Rouge  100% Syrah     2019.0   \n",
       "\n",
       "       Garde Contenance Degré d'alcool Température dégustation  \\\n",
       "0    4-7 ans       75cl            13%                    15°C   \n",
       "1    6-8 ans       75cl            13%                    15°C   \n",
       "2    3-5 ans       75cl            13%                    15°C   \n",
       "3    3-5 ans       75cl            13%                    14°C   \n",
       "4  10-20 ans       75cl            13%                    17°C   \n",
       "\n",
       "                                Alliance mets  \n",
       "0  Charcuterie, Lapin, Viande rouge, Volaille  \n",
       "1         Charcuterie, Viande rouge, Volaille  \n",
       "2                      Viande rouge, Volaille  \n",
       "3         Charcuterie, Viande rouge, Volaille  \n",
       "4                        Gibier, Viande rouge  "
      ]
     },
     "execution_count": 231,
     "metadata": {},
     "output_type": "execute_result"
    }
   ],
   "source": [
    "#Affichage des 5 premières lignes du dataset\n",
    "df_caracteristiques.head()"
   ]
  },
  {
   "cell_type": "code",
   "execution_count": 232,
   "id": "6c7ede58",
   "metadata": {},
   "outputs": [
    {
     "data": {
      "text/plain": [
       "post_name                   0\n",
       "poids                       0\n",
       "Région                     25\n",
       "Domaine                    34\n",
       "Appellation                52\n",
       "Couleur                    45\n",
       "Cépage                     40\n",
       "Millésime                  70\n",
       "Garde                      42\n",
       "Contenance                  0\n",
       "Degré d'alcool             25\n",
       "Température dégustation    37\n",
       "Alliance mets              37\n",
       "dtype: int64"
      ]
     },
     "execution_count": 232,
     "metadata": {},
     "output_type": "execute_result"
    }
   ],
   "source": [
    "#Quels sont les produits avec des informations manquantes?\n",
    "df_caracteristiques.isnull().sum()"
   ]
  },
  {
   "cell_type": "code",
   "execution_count": null,
   "id": "5b179d11",
   "metadata": {},
   "outputs": [],
   "source": [
    "#Est-il possible de corriger les données manquantes? NON impossible de les subtistuer par autre chose\n"
   ]
  },
  {
   "cell_type": "markdown",
   "id": "1a359137",
   "metadata": {},
   "source": [
    "<div style=\"background-color: RGB(51,165,182);\" >\n",
    "<h2 style=\"margin: auto; padding: 20px; color:#fff; \">Etape 3 - Jonction des fichiers</h2>\n",
    "</div>"
   ]
  },
  {
   "cell_type": "markdown",
   "id": "b7750c10",
   "metadata": {},
   "source": [
    "<div style=\"border: 1px solid RGB(51,165,182);\" >\n",
    "<h3 style=\"margin: auto; padding: 20px; color: RGB(51,165,182); \">Etape 3.1 - Jonction du fichier df_erp et df_liaison</h3>\n",
    "</div>"
   ]
  },
  {
   "cell_type": "code",
   "execution_count": 233,
   "id": "e756ec7d",
   "metadata": {},
   "outputs": [
    {
     "data": {
      "text/html": [
       "<div>\n",
       "<style scoped>\n",
       "    .dataframe tbody tr th:only-of-type {\n",
       "        vertical-align: middle;\n",
       "    }\n",
       "\n",
       "    .dataframe tbody tr th {\n",
       "        vertical-align: top;\n",
       "    }\n",
       "\n",
       "    .dataframe thead th {\n",
       "        text-align: right;\n",
       "    }\n",
       "</style>\n",
       "<table border=\"1\" class=\"dataframe\">\n",
       "  <thead>\n",
       "    <tr style=\"text-align: right;\">\n",
       "      <th></th>\n",
       "      <th>product_id</th>\n",
       "      <th>onsale_web</th>\n",
       "      <th>price</th>\n",
       "      <th>stock_status_2</th>\n",
       "      <th>id_web</th>\n",
       "      <th>sku</th>\n",
       "    </tr>\n",
       "  </thead>\n",
       "  <tbody>\n",
       "    <tr>\n",
       "      <th>0</th>\n",
       "      <td>3847</td>\n",
       "      <td>1</td>\n",
       "      <td>24.2</td>\n",
       "      <td>outofstock</td>\n",
       "      <td>15298</td>\n",
       "      <td>NaN</td>\n",
       "    </tr>\n",
       "    <tr>\n",
       "      <th>1</th>\n",
       "      <td>3849</td>\n",
       "      <td>1</td>\n",
       "      <td>34.3</td>\n",
       "      <td>outofstock</td>\n",
       "      <td>15296</td>\n",
       "      <td>NaN</td>\n",
       "    </tr>\n",
       "    <tr>\n",
       "      <th>2</th>\n",
       "      <td>3850</td>\n",
       "      <td>1</td>\n",
       "      <td>20.8</td>\n",
       "      <td>outofstock</td>\n",
       "      <td>15300</td>\n",
       "      <td>NaN</td>\n",
       "    </tr>\n",
       "    <tr>\n",
       "      <th>3</th>\n",
       "      <td>4032</td>\n",
       "      <td>1</td>\n",
       "      <td>14.1</td>\n",
       "      <td>outofstock</td>\n",
       "      <td>19814</td>\n",
       "      <td>NaN</td>\n",
       "    </tr>\n",
       "    <tr>\n",
       "      <th>4</th>\n",
       "      <td>4039</td>\n",
       "      <td>1</td>\n",
       "      <td>46.0</td>\n",
       "      <td>outofstock</td>\n",
       "      <td>19815</td>\n",
       "      <td>NaN</td>\n",
       "    </tr>\n",
       "  </tbody>\n",
       "</table>\n",
       "</div>"
      ],
      "text/plain": [
       "   product_id  onsale_web  price stock_status_2 id_web  sku\n",
       "0        3847           1   24.2     outofstock  15298  NaN\n",
       "1        3849           1   34.3     outofstock  15296  NaN\n",
       "2        3850           1   20.8     outofstock  15300  NaN\n",
       "3        4032           1   14.1     outofstock  19814  NaN\n",
       "4        4039           1   46.0     outofstock  19815  NaN"
      ]
     },
     "execution_count": 233,
     "metadata": {},
     "output_type": "execute_result"
    }
   ],
   "source": [
    "#Fusion des fichiers df_erp et df_liaison (df_erp_2 : 825 observations, df_liaison :825 observations)\n",
    "cle_id='product_id'\n",
    "df_merge_1=pd.merge(df_erp_2, df_liaison, on=cle_id, how='left')\n",
    "df_merge_1.head()\n"
   ]
  },
  {
   "cell_type": "code",
   "execution_count": 239,
   "id": "483b3568",
   "metadata": {},
   "outputs": [
    {
     "data": {
      "text/html": [
       "<div>\n",
       "<style scoped>\n",
       "    .dataframe tbody tr th:only-of-type {\n",
       "        vertical-align: middle;\n",
       "    }\n",
       "\n",
       "    .dataframe tbody tr th {\n",
       "        vertical-align: top;\n",
       "    }\n",
       "\n",
       "    .dataframe thead th {\n",
       "        text-align: right;\n",
       "    }\n",
       "</style>\n",
       "<table border=\"1\" class=\"dataframe\">\n",
       "  <thead>\n",
       "    <tr style=\"text-align: right;\">\n",
       "      <th></th>\n",
       "      <th>product_id</th>\n",
       "      <th>onsale_web</th>\n",
       "      <th>price</th>\n",
       "      <th>stock_status_2</th>\n",
       "      <th>id_web</th>\n",
       "      <th>sku</th>\n",
       "    </tr>\n",
       "  </thead>\n",
       "  <tbody>\n",
       "    <tr>\n",
       "      <th>443</th>\n",
       "      <td>4954</td>\n",
       "      <td>1</td>\n",
       "      <td>25.0</td>\n",
       "      <td>outofstock</td>\n",
       "      <td>99999</td>\n",
       "      <td>99999</td>\n",
       "    </tr>\n",
       "  </tbody>\n",
       "</table>\n",
       "</div>"
      ],
      "text/plain": [
       "     product_id  onsale_web  price stock_status_2 id_web    sku\n",
       "443        4954           1   25.0     outofstock  99999  99999"
      ]
     },
     "execution_count": 239,
     "metadata": {},
     "output_type": "execute_result"
    }
   ],
   "source": [
    "df_merge_1.loc[df_merge_1['id_web'] == \"99999\", :]"
   ]
  },
  {
   "cell_type": "code",
   "execution_count": null,
   "id": "b7e1da5e",
   "metadata": {},
   "outputs": [],
   "source": [
    "#Y a t-il des lignes ne \"matchant\" entre les 2 fichiers? NON\n"
   ]
  },
  {
   "cell_type": "markdown",
   "id": "fe4c51d7",
   "metadata": {},
   "source": [
    "Etape 3.2 - Jonction du fichier df_merge_1 et df_web\n"
   ]
  },
  {
   "cell_type": "code",
   "execution_count": 240,
   "id": "46d9382b",
   "metadata": {},
   "outputs": [
    {
     "data": {
      "text/html": [
       "<div>\n",
       "<style scoped>\n",
       "    .dataframe tbody tr th:only-of-type {\n",
       "        vertical-align: middle;\n",
       "    }\n",
       "\n",
       "    .dataframe tbody tr th {\n",
       "        vertical-align: top;\n",
       "    }\n",
       "\n",
       "    .dataframe thead th {\n",
       "        text-align: right;\n",
       "    }\n",
       "</style>\n",
       "<table border=\"1\" class=\"dataframe\">\n",
       "  <thead>\n",
       "    <tr style=\"text-align: right;\">\n",
       "      <th></th>\n",
       "      <th>product_id</th>\n",
       "      <th>onsale_web</th>\n",
       "      <th>price</th>\n",
       "      <th>stock_status_2</th>\n",
       "      <th>id_web</th>\n",
       "      <th>sku_x</th>\n",
       "      <th>sku_y</th>\n",
       "      <th>total_sales</th>\n",
       "      <th>tax_status</th>\n",
       "      <th>post_author</th>\n",
       "      <th>post_date</th>\n",
       "      <th>post_date_gmt</th>\n",
       "      <th>post_title</th>\n",
       "      <th>post_excerpt</th>\n",
       "      <th>post_name</th>\n",
       "      <th>post_modified</th>\n",
       "      <th>post_modified_gmt</th>\n",
       "      <th>guid</th>\n",
       "    </tr>\n",
       "  </thead>\n",
       "  <tbody>\n",
       "    <tr>\n",
       "      <th>0</th>\n",
       "      <td>3847</td>\n",
       "      <td>1</td>\n",
       "      <td>24.2</td>\n",
       "      <td>outofstock</td>\n",
       "      <td>15298</td>\n",
       "      <td>NaN</td>\n",
       "      <td>15298</td>\n",
       "      <td>6.0</td>\n",
       "      <td>taxable</td>\n",
       "      <td>2.0</td>\n",
       "      <td>2018-02-08 12:58:52</td>\n",
       "      <td>2018-02-08 11:58:52</td>\n",
       "      <td>Pierre Jean Villa Saint-Joseph Préface 2018</td>\n",
       "      <td>Il exhale un nez subtil, racé avec du poivre f...</td>\n",
       "      <td>pierre-jean-villa-saint-joseph-preface-2018</td>\n",
       "      <td>2019-12-30 09:30:29</td>\n",
       "      <td>2019-12-30 08:30:29</td>\n",
       "      <td>https://www.bottle-neck.fr/?post_type=product&amp;...</td>\n",
       "    </tr>\n",
       "    <tr>\n",
       "      <th>1</th>\n",
       "      <td>3849</td>\n",
       "      <td>1</td>\n",
       "      <td>34.3</td>\n",
       "      <td>outofstock</td>\n",
       "      <td>15296</td>\n",
       "      <td>NaN</td>\n",
       "      <td>15296</td>\n",
       "      <td>0.0</td>\n",
       "      <td>taxable</td>\n",
       "      <td>2.0</td>\n",
       "      <td>2018-02-08 13:49:41</td>\n",
       "      <td>2018-02-08 12:49:41</td>\n",
       "      <td>Pierre Jean Villa Saint-Joseph Rouge Tildé 2017</td>\n",
       "      <td>Les vieilles vignes lui apportent une rare pro...</td>\n",
       "      <td>pierre-jean-villa-saint-joseph-tilde-2017</td>\n",
       "      <td>2019-12-21 09:00:17</td>\n",
       "      <td>2019-12-21 08:00:17</td>\n",
       "      <td>https://www.bottle-neck.fr/?post_type=product&amp;...</td>\n",
       "    </tr>\n",
       "    <tr>\n",
       "      <th>2</th>\n",
       "      <td>3850</td>\n",
       "      <td>1</td>\n",
       "      <td>20.8</td>\n",
       "      <td>outofstock</td>\n",
       "      <td>15300</td>\n",
       "      <td>NaN</td>\n",
       "      <td>15300</td>\n",
       "      <td>0.0</td>\n",
       "      <td>taxable</td>\n",
       "      <td>2.0</td>\n",
       "      <td>2018-02-08 14:08:36</td>\n",
       "      <td>2018-02-08 13:08:36</td>\n",
       "      <td>Pierre Jean Villa Crozes-Hermitage Accroche Co...</td>\n",
       "      <td>Dentelle de fruit de jeunes syrah, aux tanins ...</td>\n",
       "      <td>pierre-jean-villa-croze-hermitage-accroche-coe...</td>\n",
       "      <td>2020-06-26 18:15:03</td>\n",
       "      <td>2020-06-26 16:15:03</td>\n",
       "      <td>https://www.bottle-neck.fr/?post_type=product&amp;...</td>\n",
       "    </tr>\n",
       "    <tr>\n",
       "      <th>3</th>\n",
       "      <td>4032</td>\n",
       "      <td>1</td>\n",
       "      <td>14.1</td>\n",
       "      <td>outofstock</td>\n",
       "      <td>19814</td>\n",
       "      <td>NaN</td>\n",
       "      <td>19814</td>\n",
       "      <td>3.0</td>\n",
       "      <td>taxable</td>\n",
       "      <td>2.0</td>\n",
       "      <td>2018-02-09 14:01:05</td>\n",
       "      <td>2018-02-09 13:01:05</td>\n",
       "      <td>Pierre Jean Villa IGP Collines Rhodaniennes Ga...</td>\n",
       "      <td>Gamine représente tout le fruité et la gourman...</td>\n",
       "      <td>pierre-jean-villa-igp-gamine-2018</td>\n",
       "      <td>2020-01-04 16:36:01</td>\n",
       "      <td>2020-01-04 15:36:01</td>\n",
       "      <td>https://www.bottle-neck.fr/?post_type=product&amp;...</td>\n",
       "    </tr>\n",
       "    <tr>\n",
       "      <th>4</th>\n",
       "      <td>4039</td>\n",
       "      <td>1</td>\n",
       "      <td>46.0</td>\n",
       "      <td>outofstock</td>\n",
       "      <td>19815</td>\n",
       "      <td>NaN</td>\n",
       "      <td>19815</td>\n",
       "      <td>0.0</td>\n",
       "      <td>taxable</td>\n",
       "      <td>2.0</td>\n",
       "      <td>2018-02-12 09:04:37</td>\n",
       "      <td>2018-02-12 08:04:37</td>\n",
       "      <td>Pierre Jean Villa Côte Rôtie Carmina 2017</td>\n",
       "      <td>Le côte rôtie Carmina monte en puissance mais ...</td>\n",
       "      <td>pierre-jean-villa-cote-rotie-carmina-2017</td>\n",
       "      <td>2020-01-04 16:36:10</td>\n",
       "      <td>2020-01-04 15:36:10</td>\n",
       "      <td>https://www.bottle-neck.fr/?post_type=product&amp;...</td>\n",
       "    </tr>\n",
       "  </tbody>\n",
       "</table>\n",
       "</div>"
      ],
      "text/plain": [
       "   product_id  onsale_web  price stock_status_2 id_web sku_x  sku_y  \\\n",
       "0        3847           1   24.2     outofstock  15298   NaN  15298   \n",
       "1        3849           1   34.3     outofstock  15296   NaN  15296   \n",
       "2        3850           1   20.8     outofstock  15300   NaN  15300   \n",
       "3        4032           1   14.1     outofstock  19814   NaN  19814   \n",
       "4        4039           1   46.0     outofstock  19815   NaN  19815   \n",
       "\n",
       "   total_sales tax_status  post_author           post_date  \\\n",
       "0          6.0    taxable          2.0 2018-02-08 12:58:52   \n",
       "1          0.0    taxable          2.0 2018-02-08 13:49:41   \n",
       "2          0.0    taxable          2.0 2018-02-08 14:08:36   \n",
       "3          3.0    taxable          2.0 2018-02-09 14:01:05   \n",
       "4          0.0    taxable          2.0 2018-02-12 09:04:37   \n",
       "\n",
       "        post_date_gmt                                         post_title  \\\n",
       "0 2018-02-08 11:58:52        Pierre Jean Villa Saint-Joseph Préface 2018   \n",
       "1 2018-02-08 12:49:41    Pierre Jean Villa Saint-Joseph Rouge Tildé 2017   \n",
       "2 2018-02-08 13:08:36  Pierre Jean Villa Crozes-Hermitage Accroche Co...   \n",
       "3 2018-02-09 13:01:05  Pierre Jean Villa IGP Collines Rhodaniennes Ga...   \n",
       "4 2018-02-12 08:04:37          Pierre Jean Villa Côte Rôtie Carmina 2017   \n",
       "\n",
       "                                        post_excerpt  \\\n",
       "0  Il exhale un nez subtil, racé avec du poivre f...   \n",
       "1  Les vieilles vignes lui apportent une rare pro...   \n",
       "2  Dentelle de fruit de jeunes syrah, aux tanins ...   \n",
       "3  Gamine représente tout le fruité et la gourman...   \n",
       "4  Le côte rôtie Carmina monte en puissance mais ...   \n",
       "\n",
       "                                           post_name       post_modified  \\\n",
       "0        pierre-jean-villa-saint-joseph-preface-2018 2019-12-30 09:30:29   \n",
       "1          pierre-jean-villa-saint-joseph-tilde-2017 2019-12-21 09:00:17   \n",
       "2  pierre-jean-villa-croze-hermitage-accroche-coe... 2020-06-26 18:15:03   \n",
       "3                  pierre-jean-villa-igp-gamine-2018 2020-01-04 16:36:01   \n",
       "4          pierre-jean-villa-cote-rotie-carmina-2017 2020-01-04 16:36:10   \n",
       "\n",
       "    post_modified_gmt                                               guid  \n",
       "0 2019-12-30 08:30:29  https://www.bottle-neck.fr/?post_type=product&...  \n",
       "1 2019-12-21 08:00:17  https://www.bottle-neck.fr/?post_type=product&...  \n",
       "2 2020-06-26 16:15:03  https://www.bottle-neck.fr/?post_type=product&...  \n",
       "3 2020-01-04 15:36:01  https://www.bottle-neck.fr/?post_type=product&...  \n",
       "4 2020-01-04 15:36:10  https://www.bottle-neck.fr/?post_type=product&...  "
      ]
     },
     "execution_count": 240,
     "metadata": {},
     "output_type": "execute_result"
    }
   ],
   "source": [
    "###Fusionnez les datasets df_merge et df_web\n",
    "\n",
    "####df_merge_1 : 825 observations, df_web_new_ss2 :714 observations\n",
    "cle_id_web_1='id_web' \n",
    "cle_id_web_2='sku'\n",
    "df_merge_22=pd.merge(df_merge_1, df_web_new_ss2, left_on=cle_id_web_1, right_on=cle_id_web_2,how='left')\n",
    "df_merge_22.head()"
   ]
  },
  {
   "cell_type": "code",
   "execution_count": 241,
   "id": "fe85e2e5",
   "metadata": {},
   "outputs": [
    {
     "data": {
      "text/html": [
       "<div>\n",
       "<style scoped>\n",
       "    .dataframe tbody tr th:only-of-type {\n",
       "        vertical-align: middle;\n",
       "    }\n",
       "\n",
       "    .dataframe tbody tr th {\n",
       "        vertical-align: top;\n",
       "    }\n",
       "\n",
       "    .dataframe thead th {\n",
       "        text-align: right;\n",
       "    }\n",
       "</style>\n",
       "<table border=\"1\" class=\"dataframe\">\n",
       "  <thead>\n",
       "    <tr style=\"text-align: right;\">\n",
       "      <th></th>\n",
       "      <th>product_id</th>\n",
       "      <th>onsale_web</th>\n",
       "      <th>price</th>\n",
       "      <th>stock_status_2</th>\n",
       "      <th>id_web</th>\n",
       "      <th>sku_x</th>\n",
       "      <th>sku_y</th>\n",
       "      <th>total_sales</th>\n",
       "      <th>tax_status</th>\n",
       "      <th>post_author</th>\n",
       "      <th>post_date</th>\n",
       "      <th>post_date_gmt</th>\n",
       "      <th>post_title</th>\n",
       "      <th>post_excerpt</th>\n",
       "      <th>post_name</th>\n",
       "      <th>post_modified</th>\n",
       "      <th>post_modified_gmt</th>\n",
       "      <th>guid</th>\n",
       "    </tr>\n",
       "  </thead>\n",
       "  <tbody>\n",
       "    <tr>\n",
       "      <th>443</th>\n",
       "      <td>4954</td>\n",
       "      <td>1</td>\n",
       "      <td>25.0</td>\n",
       "      <td>outofstock</td>\n",
       "      <td>99999</td>\n",
       "      <td>99999</td>\n",
       "      <td>99999</td>\n",
       "      <td>10.0</td>\n",
       "      <td>taxable</td>\n",
       "      <td>1.0</td>\n",
       "      <td>2018-06-01 13:53:46</td>\n",
       "      <td>2018-06-01 11:53:46</td>\n",
       "      <td>Bon cadeau de 25€</td>\n",
       "      <td>&lt;span style=\"color: #a85253;\"&gt;&lt;strong&gt;Parlons ...</td>\n",
       "      <td>bon-cadeau-de-25-euros</td>\n",
       "      <td>2018-06-01 14:13:57</td>\n",
       "      <td>2018-06-01 12:13:57</td>\n",
       "      <td>https://www.bottle-neck.fr/?post_type=product&amp;...</td>\n",
       "    </tr>\n",
       "  </tbody>\n",
       "</table>\n",
       "</div>"
      ],
      "text/plain": [
       "     product_id  onsale_web  price stock_status_2 id_web  sku_x  sku_y  \\\n",
       "443        4954           1   25.0     outofstock  99999  99999  99999   \n",
       "\n",
       "     total_sales tax_status  post_author           post_date  \\\n",
       "443         10.0    taxable          1.0 2018-06-01 13:53:46   \n",
       "\n",
       "          post_date_gmt         post_title  \\\n",
       "443 2018-06-01 11:53:46  Bon cadeau de 25€   \n",
       "\n",
       "                                          post_excerpt  \\\n",
       "443  <span style=\"color: #a85253;\"><strong>Parlons ...   \n",
       "\n",
       "                  post_name       post_modified   post_modified_gmt  \\\n",
       "443  bon-cadeau-de-25-euros 2018-06-01 14:13:57 2018-06-01 12:13:57   \n",
       "\n",
       "                                                  guid  \n",
       "443  https://www.bottle-neck.fr/?post_type=product&...  "
      ]
     },
     "execution_count": 241,
     "metadata": {},
     "output_type": "execute_result"
    }
   ],
   "source": [
    "df_merge_22.loc[df_merge_22['id_web'] == \"99999\", :]"
   ]
  },
  {
   "cell_type": "code",
   "execution_count": 242,
   "id": "6a0d9d85",
   "metadata": {},
   "outputs": [
    {
     "name": "stdout",
     "output_type": "stream",
     "text": [
      "Le tableau comporte 825 observation(s) ou article(s)\n",
      "Le tableau comporte 18 colonne(s)\n"
     ]
    }
   ],
   "source": [
    "\n",
    "print(\"Le tableau comporte {} observation(s) ou article(s)\".format(df_merge_22.shape[0]))\n",
    "print(\"Le tableau comporte {} colonne(s)\".format(df_merge_22.shape[1]))"
   ]
  },
  {
   "cell_type": "code",
   "execution_count": null,
   "id": "2021762f",
   "metadata": {},
   "outputs": [],
   "source": [
    "#Avons-nous des lignes sans correspondances? NON\n"
   ]
  },
  {
   "cell_type": "markdown",
   "id": "9130b729",
   "metadata": {},
   "source": [
    "<div style=\"border: 1px solid RGB(51,165,182);\" >\n",
    "<h3 style=\"margin: auto; padding: 20px; color: RGB(51,165,182); \">Etape 3.3 - Jonction du fichier df_merge et df_caracteristiques</h3>\n",
    "</div>"
   ]
  },
  {
   "cell_type": "code",
   "execution_count": 243,
   "id": "3adf8bbc",
   "metadata": {},
   "outputs": [
    {
     "name": "stdout",
     "output_type": "stream",
     "text": [
      "<class 'pandas.core.frame.DataFrame'>\n",
      "Int64Index: 825 entries, 0 to 824\n",
      "Data columns (total 30 columns):\n",
      " #   Column                   Non-Null Count  Dtype         \n",
      "---  ------                   --------------  -----         \n",
      " 0   product_id               825 non-null    int64         \n",
      " 1   onsale_web               825 non-null    int64         \n",
      " 2   price                    825 non-null    float64       \n",
      " 3   stock_status_2           825 non-null    object        \n",
      " 4   id_web                   734 non-null    object        \n",
      " 5   sku_x                    1 non-null      object        \n",
      " 6   sku_y                    714 non-null    object        \n",
      " 7   total_sales              714 non-null    float64       \n",
      " 8   tax_status               714 non-null    object        \n",
      " 9   post_author              714 non-null    float64       \n",
      " 10  post_date                714 non-null    datetime64[ns]\n",
      " 11  post_date_gmt            714 non-null    datetime64[ns]\n",
      " 12  post_title               714 non-null    object        \n",
      " 13  post_excerpt             714 non-null    object        \n",
      " 14  post_name                714 non-null    object        \n",
      " 15  post_modified            714 non-null    datetime64[ns]\n",
      " 16  post_modified_gmt        714 non-null    datetime64[ns]\n",
      " 17  guid                     714 non-null    object        \n",
      " 18  poids                    611 non-null    object        \n",
      " 19  Région                   586 non-null    object        \n",
      " 20  Domaine                  577 non-null    object        \n",
      " 21  Appellation              559 non-null    object        \n",
      " 22  Couleur                  566 non-null    object        \n",
      " 23  Cépage                   571 non-null    object        \n",
      " 24  Millésime                541 non-null    float64       \n",
      " 25  Garde                    569 non-null    object        \n",
      " 26  Contenance               611 non-null    object        \n",
      " 27  Degré d'alcool           586 non-null    object        \n",
      " 28  Température dégustation  574 non-null    object        \n",
      " 29  Alliance mets            574 non-null    object        \n",
      "dtypes: datetime64[ns](4), float64(4), int64(2), object(20)\n",
      "memory usage: 199.8+ KB\n"
     ]
    }
   ],
   "source": [
    "#Fusion de la table df_merge et df_caracteristiques \n",
    " \n",
    "cle_post_name='post_name'\n",
    "df_merge_vf=pd.merge(df_merge_22, df_caracteristiques, on=cle_post_name, how='left')\n",
    "df_merge_vf.head()\n",
    "df_merge_vf.info()\n",
    "df_merge_vf.isnull().sum()\n",
    "\n",
    "#exporter la table df_merge_vf sous csv\n",
    "df_merge_vf.to_csv('merge_vf.csv', index=False)"
   ]
  },
  {
   "cell_type": "markdown",
   "id": "13d81fd6",
   "metadata": {},
   "source": [
    "<div style=\"background-color: RGB(51,165,182);\" >\n",
    "<h2 style=\"margin: auto; padding: 20px; color:#fff; \">Etape 4 - Analyse univarié des prix</h2>\n",
    "</div>"
   ]
  },
  {
   "cell_type": "markdown",
   "id": "9c8d0615",
   "metadata": {},
   "source": [
    "<div style=\"border: 1px solid RGB(51,165,182);\" >\n",
    "<h3 style=\"margin: auto; padding: 20px; color: RGB(51,165,182); \">Etape 4.1 - Exploration par la visualisation de données</h3>\n",
    "</div>"
   ]
  },
  {
   "cell_type": "code",
   "execution_count": 244,
   "id": "6dd8c9a8",
   "metadata": {},
   "outputs": [
    {
     "data": {
      "text/plain": [
       "count    825.000000\n",
       "mean      32.415636\n",
       "std       26.795849\n",
       "min        5.200000\n",
       "25%       14.600000\n",
       "50%       24.400000\n",
       "75%       42.000000\n",
       "max      225.000000\n",
       "Name: price, dtype: float64"
      ]
     },
     "execution_count": 244,
     "metadata": {},
     "output_type": "execute_result"
    }
   ],
   "source": [
    "##description de la variable prix\n",
    "df_merge_vf[\"price\"].describe()"
   ]
  },
  {
   "cell_type": "code",
   "execution_count": 245,
   "id": "3be61f06",
   "metadata": {},
   "outputs": [
    {
     "data": {
      "text/html": [
       "<div>\n",
       "<style scoped>\n",
       "    .dataframe tbody tr th:only-of-type {\n",
       "        vertical-align: middle;\n",
       "    }\n",
       "\n",
       "    .dataframe tbody tr th {\n",
       "        vertical-align: top;\n",
       "    }\n",
       "\n",
       "    .dataframe thead th {\n",
       "        text-align: right;\n",
       "    }\n",
       "</style>\n",
       "<table border=\"1\" class=\"dataframe\">\n",
       "  <thead>\n",
       "    <tr style=\"text-align: right;\">\n",
       "      <th></th>\n",
       "      <th>product_id</th>\n",
       "      <th>onsale_web</th>\n",
       "      <th>price</th>\n",
       "      <th>stock_status_2</th>\n",
       "      <th>id_web</th>\n",
       "      <th>sku_x</th>\n",
       "      <th>sku_y</th>\n",
       "      <th>total_sales</th>\n",
       "      <th>tax_status</th>\n",
       "      <th>post_author</th>\n",
       "      <th>...</th>\n",
       "      <th>Appellation</th>\n",
       "      <th>Couleur</th>\n",
       "      <th>Cépage</th>\n",
       "      <th>Millésime</th>\n",
       "      <th>Garde</th>\n",
       "      <th>Contenance</th>\n",
       "      <th>Degré d'alcool</th>\n",
       "      <th>Température dégustation</th>\n",
       "      <th>Alliance mets</th>\n",
       "      <th>categ_prix</th>\n",
       "    </tr>\n",
       "  </thead>\n",
       "  <tbody>\n",
       "    <tr>\n",
       "      <th>0</th>\n",
       "      <td>3847</td>\n",
       "      <td>1</td>\n",
       "      <td>24.2</td>\n",
       "      <td>outofstock</td>\n",
       "      <td>15298</td>\n",
       "      <td>NaN</td>\n",
       "      <td>15298</td>\n",
       "      <td>6.0</td>\n",
       "      <td>taxable</td>\n",
       "      <td>2.0</td>\n",
       "      <td>...</td>\n",
       "      <td>Saint Joseph</td>\n",
       "      <td>Rouge</td>\n",
       "      <td>100% Syrah</td>\n",
       "      <td>2020.0</td>\n",
       "      <td>4-7 ans</td>\n",
       "      <td>75cl</td>\n",
       "      <td>13%</td>\n",
       "      <td>15°C</td>\n",
       "      <td>Charcuterie, Lapin, Viande rouge, Volaille</td>\n",
       "      <td>20-29€</td>\n",
       "    </tr>\n",
       "    <tr>\n",
       "      <th>1</th>\n",
       "      <td>3849</td>\n",
       "      <td>1</td>\n",
       "      <td>34.3</td>\n",
       "      <td>outofstock</td>\n",
       "      <td>15296</td>\n",
       "      <td>NaN</td>\n",
       "      <td>15296</td>\n",
       "      <td>0.0</td>\n",
       "      <td>taxable</td>\n",
       "      <td>2.0</td>\n",
       "      <td>...</td>\n",
       "      <td>Saint Joseph</td>\n",
       "      <td>Rouge</td>\n",
       "      <td>100% Syrah</td>\n",
       "      <td>2019.0</td>\n",
       "      <td>6-8 ans</td>\n",
       "      <td>75cl</td>\n",
       "      <td>13%</td>\n",
       "      <td>15°C</td>\n",
       "      <td>Charcuterie, Viande rouge, Volaille</td>\n",
       "      <td>30-49€</td>\n",
       "    </tr>\n",
       "    <tr>\n",
       "      <th>2</th>\n",
       "      <td>3850</td>\n",
       "      <td>1</td>\n",
       "      <td>20.8</td>\n",
       "      <td>outofstock</td>\n",
       "      <td>15300</td>\n",
       "      <td>NaN</td>\n",
       "      <td>15300</td>\n",
       "      <td>0.0</td>\n",
       "      <td>taxable</td>\n",
       "      <td>2.0</td>\n",
       "      <td>...</td>\n",
       "      <td>Crozes-Hermitage</td>\n",
       "      <td>Rouge</td>\n",
       "      <td>100% Syrah</td>\n",
       "      <td>2020.0</td>\n",
       "      <td>3-5 ans</td>\n",
       "      <td>75cl</td>\n",
       "      <td>13%</td>\n",
       "      <td>15°C</td>\n",
       "      <td>Viande rouge, Volaille</td>\n",
       "      <td>20-29€</td>\n",
       "    </tr>\n",
       "    <tr>\n",
       "      <th>3</th>\n",
       "      <td>4032</td>\n",
       "      <td>1</td>\n",
       "      <td>14.1</td>\n",
       "      <td>outofstock</td>\n",
       "      <td>19814</td>\n",
       "      <td>NaN</td>\n",
       "      <td>19814</td>\n",
       "      <td>3.0</td>\n",
       "      <td>taxable</td>\n",
       "      <td>2.0</td>\n",
       "      <td>...</td>\n",
       "      <td>Collines Rhodaniennes</td>\n",
       "      <td>Rouge</td>\n",
       "      <td>100% Syrah</td>\n",
       "      <td>2020.0</td>\n",
       "      <td>3-5 ans</td>\n",
       "      <td>75cl</td>\n",
       "      <td>13%</td>\n",
       "      <td>14°C</td>\n",
       "      <td>Charcuterie, Viande rouge, Volaille</td>\n",
       "      <td>10-19€</td>\n",
       "    </tr>\n",
       "    <tr>\n",
       "      <th>4</th>\n",
       "      <td>4039</td>\n",
       "      <td>1</td>\n",
       "      <td>46.0</td>\n",
       "      <td>outofstock</td>\n",
       "      <td>19815</td>\n",
       "      <td>NaN</td>\n",
       "      <td>19815</td>\n",
       "      <td>0.0</td>\n",
       "      <td>taxable</td>\n",
       "      <td>2.0</td>\n",
       "      <td>...</td>\n",
       "      <td>Côte Rôtie</td>\n",
       "      <td>Rouge</td>\n",
       "      <td>100% Syrah</td>\n",
       "      <td>2019.0</td>\n",
       "      <td>10-20 ans</td>\n",
       "      <td>75cl</td>\n",
       "      <td>13%</td>\n",
       "      <td>17°C</td>\n",
       "      <td>Gibier, Viande rouge</td>\n",
       "      <td>30-49€</td>\n",
       "    </tr>\n",
       "  </tbody>\n",
       "</table>\n",
       "<p>5 rows × 31 columns</p>\n",
       "</div>"
      ],
      "text/plain": [
       "   product_id  onsale_web  price stock_status_2 id_web sku_x  sku_y  \\\n",
       "0        3847           1   24.2     outofstock  15298   NaN  15298   \n",
       "1        3849           1   34.3     outofstock  15296   NaN  15296   \n",
       "2        3850           1   20.8     outofstock  15300   NaN  15300   \n",
       "3        4032           1   14.1     outofstock  19814   NaN  19814   \n",
       "4        4039           1   46.0     outofstock  19815   NaN  19815   \n",
       "\n",
       "   total_sales tax_status  post_author  ...            Appellation Couleur  \\\n",
       "0          6.0    taxable          2.0  ...           Saint Joseph   Rouge   \n",
       "1          0.0    taxable          2.0  ...           Saint Joseph   Rouge   \n",
       "2          0.0    taxable          2.0  ...       Crozes-Hermitage   Rouge   \n",
       "3          3.0    taxable          2.0  ...  Collines Rhodaniennes   Rouge   \n",
       "4          0.0    taxable          2.0  ...             Côte Rôtie   Rouge   \n",
       "\n",
       "       Cépage Millésime      Garde Contenance Degré d'alcool  \\\n",
       "0  100% Syrah    2020.0    4-7 ans       75cl            13%   \n",
       "1  100% Syrah    2019.0    6-8 ans       75cl            13%   \n",
       "2  100% Syrah    2020.0    3-5 ans       75cl            13%   \n",
       "3  100% Syrah    2020.0    3-5 ans       75cl            13%   \n",
       "4  100% Syrah    2019.0  10-20 ans       75cl            13%   \n",
       "\n",
       "  Température dégustation                               Alliance mets  \\\n",
       "0                    15°C  Charcuterie, Lapin, Viande rouge, Volaille   \n",
       "1                    15°C         Charcuterie, Viande rouge, Volaille   \n",
       "2                    15°C                      Viande rouge, Volaille   \n",
       "3                    14°C         Charcuterie, Viande rouge, Volaille   \n",
       "4                    17°C                        Gibier, Viande rouge   \n",
       "\n",
       "  categ_prix  \n",
       "0     20-29€  \n",
       "1     30-49€  \n",
       "2     20-29€  \n",
       "3     10-19€  \n",
       "4     30-49€  \n",
       "\n",
       "[5 rows x 31 columns]"
      ]
     },
     "execution_count": 245,
     "metadata": {},
     "output_type": "execute_result"
    }
   ],
   "source": [
    "#Création d'une Boite à moustache de la répartition des prix grâce à Pandas\n",
    "\n",
    "intervalle_1 = [0,10,20,30,50,100,200,300]\n",
    "etiquette_1 = ['0-9€', '10-19€', '20-29€', '30-49€', '50-99€', '100-199€', '+200€']\n",
    "df_merge_vf[\"categ_prix\"]=pd.cut(df_merge_vf[\"price\"], bins= intervalle_1, labels = etiquette_1)\n",
    "df_merge_vf.head()"
   ]
  },
  {
   "cell_type": "code",
   "execution_count": 246,
   "id": "d0a75bb3",
   "metadata": {},
   "outputs": [
    {
     "data": {
      "text/plain": [
       "<Figure size 800x600 with 0 Axes>"
      ]
     },
     "metadata": {},
     "output_type": "display_data"
    },
    {
     "data": {
      "image/png": "[encoded data removed]",
      "text/plain": [
       "<Figure size 640x480 with 1 Axes>"
      ]
     },
     "metadata": {},
     "output_type": "display_data"
    }
   ],
   "source": [
    "#création de la figure\n",
    "plt.figure(figsize = (8, 6))\n",
    "df_merge_vf.boxplot(column='price', by='categ_prix', vert=False)\n",
    "plt.title('Boite à moustache catégorie de prix')\n",
    "plt.suptitle('')\n",
    "plt.show()"
   ]
  },
  {
   "cell_type": "code",
   "execution_count": 247,
   "id": "cbfe6346",
   "metadata": {},
   "outputs": [
    {
     "data": {
      "application/vnd.plotly.v1+json": {
       "config": {
        "plotlyServerURL": "https://plot.ly"
       },
       "data": [
        {
         "alignmentgroup": "True",
         "boxpoints": "all",
         "hovertemplate": "price=%{x}<br>categ_prix=%{y}<extra></extra>",
         "legendgroup": "",
         "marker": {
          "color": "#636efa"
         },
         "name": "",
         "notched": false,
         "offsetgroup": "",
         "orientation": "h",
         "showlegend": false,
         "type": "box",
         "x": [
          24.2,
          34.3,
          20.8,
          14.1,
          46,
          34.3,
          32.7,
          31.2,
          60,
          42.6,
          80,
          18.3,
          22.8,
          19.3,
          21.8,
          7.7,
          33.7,
          44.3,
          71.6,
          86.1,
          12.7,
          8.7,
          8.7,
          8.7,
          11.9,
          11.9,
          14.5,
          14.4,
          19.5,
          20.8,
          22,
          16.6,
          60,
          23.4,
          33.2,
          32,
          77.8,
          12.7,
          14.7,
          14.05,
          22.9,
          44,
          37,
          39,
          17,
          23.2,
          19,
          16.4,
          14.4,
          73,
          47,
          13.7,
          12.6,
          22.8,
          12.8,
          22.1,
          12.8,
          15.8,
          15.8,
          16.3,
          16.3,
          9.7,
          6.8,
          12.6,
          35,
          31.7,
          100,
          23,
          88.4,
          29.8,
          25.7,
          77.4,
          39,
          53,
          49,
          29.5,
          33,
          37.5,
          69,
          59,
          13.7,
          19.2,
          29,
          9.8,
          14.5,
          20.35,
          12,
          18.5,
          9.3,
          9.3,
          11.6,
          14.3,
          10.8,
          7.6,
          12,
          20.5,
          14.3,
          18.2,
          9,
          7.8,
          5.7,
          5.7,
          5.7,
          13.5,
          13.5,
          11.5,
          24,
          24,
          11.9,
          16.7,
          21.4,
          16.6,
          13.3,
          9.5,
          12.1,
          9.3,
          17.8,
          13.5,
          10.8,
          14.1,
          27.2,
          9.4,
          5.8,
          5.8,
          38,
          38,
          9.9,
          11.3,
          23,
          6.7,
          7.6,
          73.5,
          79.8,
          48.5,
          39.8,
          58.8,
          26.5,
          13.4,
          17.1,
          16.7,
          11.6,
          12.8,
          8.9,
          9.7,
          17.2,
          16.9,
          12.6,
          29.9,
          9.6,
          11.1,
          11.1,
          20,
          17.1,
          28,
          28,
          8.9,
          8.6,
          13.5,
          8.9,
          15.3,
          14.8,
          19.5,
          14.1,
          59.6,
          26.9,
          24.4,
          31.7,
          32.1,
          12.2,
          9.9,
          15.8,
          15.8,
          17.8,
          9.6,
          19,
          15.2,
          10.2,
          15.5,
          16.6,
          9.2,
          12.9,
          14.9,
          17.6,
          24.8,
          21.5,
          10.8,
          18.9,
          11.6,
          27,
          41,
          69.8,
          38.6,
          26.7,
          22.8,
          19,
          23.2,
          39.1,
          44,
          17.5,
          30,
          8.1,
          10.7,
          10.9,
          49,
          35.5,
          83,
          59,
          79.5,
          225,
          79.5,
          126.5,
          51.6,
          39,
          77,
          85.6,
          49.5,
          49.5,
          49.5,
          57,
          59.8,
          27.5,
          62,
          59,
          59,
          59,
          44,
          62.5,
          176,
          108.5,
          68.1,
          157,
          104,
          28.1,
          21.7,
          30.5,
          28.5,
          21.5,
          67.2,
          49,
          40,
          109.6,
          32.3,
          144,
          43.9,
          61.6,
          41.8,
          36.9,
          26.5,
          16.1,
          31.5,
          31.5,
          49,
          32.2,
          50.1,
          13.4,
          11.8,
          13.1,
          26.2,
          20.6,
          16.9,
          19,
          24,
          57,
          67.5,
          30.6,
          59,
          11.9,
          16.5,
          52.4,
          52.9,
          58.3,
          39.6,
          52.4,
          62.4,
          76.8,
          50,
          52.4,
          41,
          62.4,
          50,
          21.5,
          28.5,
          24.3,
          16.5,
          25.3,
          49,
          36.2,
          33.4,
          40.2,
          43,
          43,
          48.8,
          23.6,
          20.8,
          16.4,
          14.4,
          21,
          12.3,
          20.2,
          17,
          21.9,
          17.8,
          19.8,
          19,
          10.7,
          12.9,
          9.5,
          29.8,
          13.2,
          6.3,
          7.1,
          9.1,
          9.1,
          18.1,
          14,
          30.1,
          12.8,
          12.8,
          12,
          18.5,
          34.5,
          20.5,
          23.8,
          19.8,
          18.2,
          31.6,
          16.8,
          22.8,
          32.6,
          44,
          55.4,
          15.8,
          18.4,
          13.3,
          11.1,
          18.6,
          23.4,
          18.2,
          12.5,
          15.9,
          20.2,
          13.7,
          29,
          23.4,
          12.7,
          26,
          29.5,
          8.6,
          14.3,
          22,
          16.8,
          15.3,
          13.5,
          7.4,
          9.7,
          12.4,
          13.8,
          14.5,
          11.9,
          16.4,
          27.9,
          12,
          7.4,
          26.5,
          24.3,
          16.9,
          6.8,
          13.9,
          7.8,
          13.7,
          9.8,
          29.5,
          28.5,
          10.1,
          12.1,
          12.3,
          11.1,
          11.1,
          13.6,
          21,
          18.7,
          41.6,
          12,
          78,
          12.7,
          14.9,
          6.5,
          8.7,
          8.5,
          9.9,
          8.2,
          8.3,
          9.8,
          9.9,
          17.2,
          9.3,
          14.6,
          22.8,
          18.7,
          28.4,
          27.9,
          25.3,
          17,
          27.9,
          20.1,
          27.9,
          21.2,
          20.8,
          41,
          46,
          102.3,
          137,
          22.9,
          53.2,
          25.9,
          17.3,
          23,
          25.9,
          28,
          25.9,
          25.9,
          37.2,
          24.4,
          24.4,
          13.8,
          21.5,
          7,
          12.8,
          23.2,
          7.9,
          6.5,
          7.9,
          16.7,
          17.5,
          27.8,
          25.7,
          18.4,
          22.2,
          11.1,
          9.9,
          12.5,
          12.9,
          20.5,
          25,
          11.3,
          7,
          12.1,
          7.1,
          49.5,
          10,
          23,
          23.7,
          16.45,
          16.3,
          18.5,
          26.5,
          78,
          78,
          78,
          27.3,
          217.5,
          64.9,
          48.7,
          59.4,
          48.7,
          105,
          105,
          55.6,
          9.3,
          8,
          15.4,
          19.8,
          10,
          17.1,
          45,
          112,
          86.8,
          62.1,
          22.5,
          7.5,
          52.6,
          45,
          67,
          59.9,
          59.9,
          65,
          84.7,
          43.3,
          15.2,
          19,
          11.1,
          18,
          22.8,
          19.5,
          28.8,
          16.1,
          24.2,
          35.3,
          10.7,
          12.7,
          17.1,
          24,
          39,
          13.2,
          23.6,
          15.5,
          16.3,
          16.2,
          7.2,
          54.8,
          42,
          19.8,
          10.2,
          10.4,
          11.5,
          17.9,
          21.6,
          33.4,
          49.5,
          43.5,
          43.5,
          26.5,
          13.8,
          10.1,
          18.2,
          12.9,
          38.6,
          48.4,
          60.4,
          38.6,
          12,
          61.6,
          65.9,
          15.2,
          24.6,
          48.8,
          34.3,
          36.3,
          57.7,
          38,
          27.9,
          47,
          58,
          58,
          30.8,
          92,
          27.5,
          19.9,
          22.5,
          34.7,
          59.6,
          83.7,
          30.5,
          38.6,
          18,
          63.4,
          124.8,
          19.2,
          19.2,
          56.4,
          38.4,
          27.8,
          71.3,
          71.3,
          25,
          10.3,
          28,
          44.6,
          13,
          12.7,
          6.5,
          17.5,
          29.9,
          44.5,
          29.4,
          16.9,
          19.8,
          10.3,
          10.8,
          31.7,
          25,
          57.6,
          13.7,
          7.1,
          14.9,
          11,
          14.6,
          10.7,
          73.3,
          42.1,
          57,
          24.5,
          10.1,
          42.2,
          13.1,
          19.5,
          12.9,
          35.6,
          175,
          35.6,
          33.6,
          34.4,
          38.4,
          29.7,
          32.8,
          5.7,
          5.8,
          5.8,
          21.7,
          23,
          12.5,
          17.2,
          40.2,
          32.3,
          24,
          23.8,
          17.1,
          25,
          29.2,
          17.4,
          27.3,
          34.2,
          17.9,
          24,
          16.6,
          16.9,
          57.6,
          63.5,
          56,
          63.5,
          41.2,
          55,
          57,
          19.3,
          19,
          191.3,
          26.6,
          15.4,
          24.7,
          28.1,
          18.25,
          35.1,
          27.3,
          18.8,
          43.9,
          19.8,
          17.7,
          57,
          36,
          36,
          93,
          122,
          114,
          48.5,
          49.5,
          14.1,
          59.9,
          46,
          74.5,
          42.5,
          47.5,
          18.8,
          27.3,
          17.2,
          39,
          8.7,
          15.4,
          12.7,
          30,
          13.5,
          16.3,
          56.3,
          71.5,
          69,
          17.9,
          48.5,
          71.7,
          8.5,
          10.9,
          21.8,
          38.5,
          9.3,
          13.6,
          24.5,
          12.6,
          13.4,
          29.8,
          12.9,
          36.9,
          40.7,
          33.2,
          34.8,
          74.8,
          62.4,
          46,
          39.2,
          14.2,
          135,
          10.6,
          10.6,
          5.2,
          46,
          105.6,
          116.4,
          31,
          20.2,
          25.2,
          25.2,
          115,
          121,
          99,
          115,
          121,
          23.5,
          26.4,
          26.7,
          20.4,
          20.4,
          40.2,
          9,
          45.9,
          10.4,
          78,
          40.5,
          92,
          27.9,
          28.5,
          22.4,
          28.4,
          72,
          29,
          29.2,
          44,
          68.3,
          41.8,
          40,
          13.5,
          19,
          24.4,
          9.1,
          32.8,
          15.4,
          9.9,
          13.5,
          51,
          35.2,
          42.2,
          33.2,
          41.8,
          32.2,
          37.7,
          47.2,
          52.7,
          22.4,
          50.4,
          35.6,
          27.7,
          48.5,
          15.4,
          46.5,
          46.5,
          28,
          28,
          24,
          18,
          40,
          40,
          40,
          40,
          46.5,
          42,
          21.8,
          30,
          26,
          30,
          20,
          31,
          27,
          31,
          21,
          31,
          27,
          31,
          21,
          50.5,
          49.9,
          19,
          8.4,
          40,
          40,
          47,
          45,
          27.5,
          69,
          45,
          45,
          30,
          26,
          30,
          20,
          45,
          45,
          45,
          45,
          45,
          31,
          21,
          27,
          31,
          31,
          45,
          45,
          45,
          31,
          27,
          31,
          21,
          31,
          31,
          31,
          45,
          45,
          54.8,
          26.5,
          16.3
         ],
         "x0": " ",
         "xaxis": "x",
         "y": [
          "20-29€",
          "30-49€",
          "20-29€",
          "10-19€",
          "30-49€",
          "30-49€",
          "30-49€",
          "30-49€",
          "50-99€",
          "30-49€",
          "50-99€",
          "10-19€",
          "20-29€",
          "10-19€",
          "20-29€",
          "0-9€",
          "30-49€",
          "30-49€",
          "50-99€",
          "50-99€",
          "10-19€",
          "0-9€",
          "0-9€",
          "0-9€",
          "10-19€",
          "10-19€",
          "10-19€",
          "10-19€",
          "10-19€",
          "20-29€",
          "20-29€",
          "10-19€",
          "50-99€",
          "20-29€",
          "30-49€",
          "30-49€",
          "50-99€",
          "10-19€",
          "10-19€",
          "10-19€",
          "20-29€",
          "30-49€",
          "30-49€",
          "30-49€",
          "10-19€",
          "20-29€",
          "10-19€",
          "10-19€",
          "10-19€",
          "50-99€",
          "30-49€",
          "10-19€",
          "10-19€",
          "20-29€",
          "10-19€",
          "20-29€",
          "10-19€",
          "10-19€",
          "10-19€",
          "10-19€",
          "10-19€",
          "0-9€",
          "0-9€",
          "10-19€",
          "30-49€",
          "30-49€",
          "50-99€",
          "20-29€",
          "50-99€",
          "20-29€",
          "20-29€",
          "50-99€",
          "30-49€",
          "50-99€",
          "30-49€",
          "20-29€",
          "30-49€",
          "30-49€",
          "50-99€",
          "50-99€",
          "10-19€",
          "10-19€",
          "20-29€",
          "0-9€",
          "10-19€",
          "20-29€",
          "10-19€",
          "10-19€",
          "0-9€",
          "0-9€",
          "10-19€",
          "10-19€",
          "10-19€",
          "0-9€",
          "10-19€",
          "20-29€",
          "10-19€",
          "10-19€",
          "0-9€",
          "0-9€",
          "0-9€",
          "0-9€",
          "0-9€",
          "10-19€",
          "10-19€",
          "10-19€",
          "20-29€",
          "20-29€",
          "10-19€",
          "10-19€",
          "20-29€",
          "10-19€",
          "10-19€",
          "0-9€",
          "10-19€",
          "0-9€",
          "10-19€",
          "10-19€",
          "10-19€",
          "10-19€",
          "20-29€",
          "0-9€",
          "0-9€",
          "0-9€",
          "30-49€",
          "30-49€",
          "0-9€",
          "10-19€",
          "20-29€",
          "0-9€",
          "0-9€",
          "50-99€",
          "50-99€",
          "30-49€",
          "30-49€",
          "50-99€",
          "20-29€",
          "10-19€",
          "10-19€",
          "10-19€",
          "10-19€",
          "10-19€",
          "0-9€",
          "0-9€",
          "10-19€",
          "10-19€",
          "10-19€",
          "20-29€",
          "0-9€",
          "10-19€",
          "10-19€",
          "10-19€",
          "10-19€",
          "20-29€",
          "20-29€",
          "0-9€",
          "0-9€",
          "10-19€",
          "0-9€",
          "10-19€",
          "10-19€",
          "10-19€",
          "10-19€",
          "50-99€",
          "20-29€",
          "20-29€",
          "30-49€",
          "30-49€",
          "10-19€",
          "0-9€",
          "10-19€",
          "10-19€",
          "10-19€",
          "0-9€",
          "10-19€",
          "10-19€",
          "10-19€",
          "10-19€",
          "10-19€",
          "0-9€",
          "10-19€",
          "10-19€",
          "10-19€",
          "20-29€",
          "20-29€",
          "10-19€",
          "10-19€",
          "10-19€",
          "20-29€",
          "30-49€",
          "50-99€",
          "30-49€",
          "20-29€",
          "20-29€",
          "10-19€",
          "20-29€",
          "30-49€",
          "30-49€",
          "10-19€",
          "20-29€",
          "0-9€",
          "10-19€",
          "10-19€",
          "30-49€",
          "30-49€",
          "50-99€",
          "50-99€",
          "50-99€",
          "+200€",
          "50-99€",
          "100-199€",
          "50-99€",
          "30-49€",
          "50-99€",
          "50-99€",
          "30-49€",
          "30-49€",
          "30-49€",
          "50-99€",
          "50-99€",
          "20-29€",
          "50-99€",
          "50-99€",
          "50-99€",
          "50-99€",
          "30-49€",
          "50-99€",
          "100-199€",
          "100-199€",
          "50-99€",
          "100-199€",
          "100-199€",
          "20-29€",
          "20-29€",
          "30-49€",
          "20-29€",
          "20-29€",
          "50-99€",
          "30-49€",
          "30-49€",
          "100-199€",
          "30-49€",
          "100-199€",
          "30-49€",
          "50-99€",
          "30-49€",
          "30-49€",
          "20-29€",
          "10-19€",
          "30-49€",
          "30-49€",
          "30-49€",
          "30-49€",
          "50-99€",
          "10-19€",
          "10-19€",
          "10-19€",
          "20-29€",
          "20-29€",
          "10-19€",
          "10-19€",
          "20-29€",
          "50-99€",
          "50-99€",
          "30-49€",
          "50-99€",
          "10-19€",
          "10-19€",
          "50-99€",
          "50-99€",
          "50-99€",
          "30-49€",
          "50-99€",
          "50-99€",
          "50-99€",
          "30-49€",
          "50-99€",
          "30-49€",
          "50-99€",
          "30-49€",
          "20-29€",
          "20-29€",
          "20-29€",
          "10-19€",
          "20-29€",
          "30-49€",
          "30-49€",
          "30-49€",
          "30-49€",
          "30-49€",
          "30-49€",
          "30-49€",
          "20-29€",
          "20-29€",
          "10-19€",
          "10-19€",
          "20-29€",
          "10-19€",
          "20-29€",
          "10-19€",
          "20-29€",
          "10-19€",
          "10-19€",
          "10-19€",
          "10-19€",
          "10-19€",
          "0-9€",
          "20-29€",
          "10-19€",
          "0-9€",
          "0-9€",
          "0-9€",
          "0-9€",
          "10-19€",
          "10-19€",
          "30-49€",
          "10-19€",
          "10-19€",
          "10-19€",
          "10-19€",
          "30-49€",
          "20-29€",
          "20-29€",
          "10-19€",
          "10-19€",
          "30-49€",
          "10-19€",
          "20-29€",
          "30-49€",
          "30-49€",
          "50-99€",
          "10-19€",
          "10-19€",
          "10-19€",
          "10-19€",
          "10-19€",
          "20-29€",
          "10-19€",
          "10-19€",
          "10-19€",
          "20-29€",
          "10-19€",
          "20-29€",
          "20-29€",
          "10-19€",
          "20-29€",
          "20-29€",
          "0-9€",
          "10-19€",
          "20-29€",
          "10-19€",
          "10-19€",
          "10-19€",
          "0-9€",
          "0-9€",
          "10-19€",
          "10-19€",
          "10-19€",
          "10-19€",
          "10-19€",
          "20-29€",
          "10-19€",
          "0-9€",
          "20-29€",
          "20-29€",
          "10-19€",
          "0-9€",
          "10-19€",
          "0-9€",
          "10-19€",
          "0-9€",
          "20-29€",
          "20-29€",
          "10-19€",
          "10-19€",
          "10-19€",
          "10-19€",
          "10-19€",
          "10-19€",
          "20-29€",
          "10-19€",
          "30-49€",
          "10-19€",
          "50-99€",
          "10-19€",
          "10-19€",
          "0-9€",
          "0-9€",
          "0-9€",
          "0-9€",
          "0-9€",
          "0-9€",
          "0-9€",
          "0-9€",
          "10-19€",
          "0-9€",
          "10-19€",
          "20-29€",
          "10-19€",
          "20-29€",
          "20-29€",
          "20-29€",
          "10-19€",
          "20-29€",
          "20-29€",
          "20-29€",
          "20-29€",
          "20-29€",
          "30-49€",
          "30-49€",
          "100-199€",
          "100-199€",
          "20-29€",
          "50-99€",
          "20-29€",
          "10-19€",
          "20-29€",
          "20-29€",
          "20-29€",
          "20-29€",
          "20-29€",
          "30-49€",
          "20-29€",
          "20-29€",
          "10-19€",
          "20-29€",
          "0-9€",
          "10-19€",
          "20-29€",
          "0-9€",
          "0-9€",
          "0-9€",
          "10-19€",
          "10-19€",
          "20-29€",
          "20-29€",
          "10-19€",
          "20-29€",
          "10-19€",
          "0-9€",
          "10-19€",
          "10-19€",
          "20-29€",
          "20-29€",
          "10-19€",
          "0-9€",
          "10-19€",
          "0-9€",
          "30-49€",
          "0-9€",
          "20-29€",
          "20-29€",
          "10-19€",
          "10-19€",
          "10-19€",
          "20-29€",
          "50-99€",
          "50-99€",
          "50-99€",
          "20-29€",
          "+200€",
          "50-99€",
          "30-49€",
          "50-99€",
          "30-49€",
          "100-199€",
          "100-199€",
          "50-99€",
          "0-9€",
          "0-9€",
          "10-19€",
          "10-19€",
          "0-9€",
          "10-19€",
          "30-49€",
          "100-199€",
          "50-99€",
          "50-99€",
          "20-29€",
          "0-9€",
          "50-99€",
          "30-49€",
          "50-99€",
          "50-99€",
          "50-99€",
          "50-99€",
          "50-99€",
          "30-49€",
          "10-19€",
          "10-19€",
          "10-19€",
          "10-19€",
          "20-29€",
          "10-19€",
          "20-29€",
          "10-19€",
          "20-29€",
          "30-49€",
          "10-19€",
          "10-19€",
          "10-19€",
          "20-29€",
          "30-49€",
          "10-19€",
          "20-29€",
          "10-19€",
          "10-19€",
          "10-19€",
          "0-9€",
          "50-99€",
          "30-49€",
          "10-19€",
          "10-19€",
          "10-19€",
          "10-19€",
          "10-19€",
          "20-29€",
          "30-49€",
          "30-49€",
          "30-49€",
          "30-49€",
          "20-29€",
          "10-19€",
          "10-19€",
          "10-19€",
          "10-19€",
          "30-49€",
          "30-49€",
          "50-99€",
          "30-49€",
          "10-19€",
          "50-99€",
          "50-99€",
          "10-19€",
          "20-29€",
          "30-49€",
          "30-49€",
          "30-49€",
          "50-99€",
          "30-49€",
          "20-29€",
          "30-49€",
          "50-99€",
          "50-99€",
          "30-49€",
          "50-99€",
          "20-29€",
          "10-19€",
          "20-29€",
          "30-49€",
          "50-99€",
          "50-99€",
          "30-49€",
          "30-49€",
          "10-19€",
          "50-99€",
          "100-199€",
          "10-19€",
          "10-19€",
          "50-99€",
          "30-49€",
          "20-29€",
          "50-99€",
          "50-99€",
          "20-29€",
          "10-19€",
          "20-29€",
          "30-49€",
          "10-19€",
          "10-19€",
          "0-9€",
          "10-19€",
          "20-29€",
          "30-49€",
          "20-29€",
          "10-19€",
          "10-19€",
          "10-19€",
          "10-19€",
          "30-49€",
          "20-29€",
          "50-99€",
          "10-19€",
          "0-9€",
          "10-19€",
          "10-19€",
          "10-19€",
          "10-19€",
          "50-99€",
          "30-49€",
          "50-99€",
          "20-29€",
          "10-19€",
          "30-49€",
          "10-19€",
          "10-19€",
          "10-19€",
          "30-49€",
          "100-199€",
          "30-49€",
          "30-49€",
          "30-49€",
          "30-49€",
          "20-29€",
          "30-49€",
          "0-9€",
          "0-9€",
          "0-9€",
          "20-29€",
          "20-29€",
          "10-19€",
          "10-19€",
          "30-49€",
          "30-49€",
          "20-29€",
          "20-29€",
          "10-19€",
          "20-29€",
          "20-29€",
          "10-19€",
          "20-29€",
          "30-49€",
          "10-19€",
          "20-29€",
          "10-19€",
          "10-19€",
          "50-99€",
          "50-99€",
          "50-99€",
          "50-99€",
          "30-49€",
          "50-99€",
          "50-99€",
          "10-19€",
          "10-19€",
          "100-199€",
          "20-29€",
          "10-19€",
          "20-29€",
          "20-29€",
          "10-19€",
          "30-49€",
          "20-29€",
          "10-19€",
          "30-49€",
          "10-19€",
          "10-19€",
          "50-99€",
          "30-49€",
          "30-49€",
          "50-99€",
          "100-199€",
          "100-199€",
          "30-49€",
          "30-49€",
          "10-19€",
          "50-99€",
          "30-49€",
          "50-99€",
          "30-49€",
          "30-49€",
          "10-19€",
          "20-29€",
          "10-19€",
          "30-49€",
          "0-9€",
          "10-19€",
          "10-19€",
          "20-29€",
          "10-19€",
          "10-19€",
          "50-99€",
          "50-99€",
          "50-99€",
          "10-19€",
          "30-49€",
          "50-99€",
          "0-9€",
          "10-19€",
          "20-29€",
          "30-49€",
          "0-9€",
          "10-19€",
          "20-29€",
          "10-19€",
          "10-19€",
          "20-29€",
          "10-19€",
          "30-49€",
          "30-49€",
          "30-49€",
          "30-49€",
          "50-99€",
          "50-99€",
          "30-49€",
          "30-49€",
          "10-19€",
          "100-199€",
          "10-19€",
          "10-19€",
          "0-9€",
          "30-49€",
          "100-199€",
          "100-199€",
          "30-49€",
          "20-29€",
          "20-29€",
          "20-29€",
          "100-199€",
          "100-199€",
          "50-99€",
          "100-199€",
          "100-199€",
          "20-29€",
          "20-29€",
          "20-29€",
          "20-29€",
          "20-29€",
          "30-49€",
          "0-9€",
          "30-49€",
          "10-19€",
          "50-99€",
          "30-49€",
          "50-99€",
          "20-29€",
          "20-29€",
          "20-29€",
          "20-29€",
          "50-99€",
          "20-29€",
          "20-29€",
          "30-49€",
          "50-99€",
          "30-49€",
          "30-49€",
          "10-19€",
          "10-19€",
          "20-29€",
          "0-9€",
          "30-49€",
          "10-19€",
          "0-9€",
          "10-19€",
          "50-99€",
          "30-49€",
          "30-49€",
          "30-49€",
          "30-49€",
          "30-49€",
          "30-49€",
          "30-49€",
          "50-99€",
          "20-29€",
          "50-99€",
          "30-49€",
          "20-29€",
          "30-49€",
          "10-19€",
          "30-49€",
          "30-49€",
          "20-29€",
          "20-29€",
          "20-29€",
          "10-19€",
          "30-49€",
          "30-49€",
          "30-49€",
          "30-49€",
          "30-49€",
          "30-49€",
          "20-29€",
          "20-29€",
          "20-29€",
          "20-29€",
          "10-19€",
          "30-49€",
          "20-29€",
          "30-49€",
          "20-29€",
          "30-49€",
          "20-29€",
          "30-49€",
          "20-29€",
          "50-99€",
          "30-49€",
          "10-19€",
          "0-9€",
          "30-49€",
          "30-49€",
          "30-49€",
          "30-49€",
          "20-29€",
          "50-99€",
          "30-49€",
          "30-49€",
          "20-29€",
          "20-29€",
          "20-29€",
          "10-19€",
          "30-49€",
          "30-49€",
          "30-49€",
          "30-49€",
          "30-49€",
          "30-49€",
          "20-29€",
          "20-29€",
          "30-49€",
          "30-49€",
          "30-49€",
          "30-49€",
          "30-49€",
          "30-49€",
          "20-29€",
          "30-49€",
          "20-29€",
          "30-49€",
          "30-49€",
          "30-49€",
          "30-49€",
          "30-49€",
          "50-99€",
          "20-29€",
          "10-19€"
         ],
         "y0": " ",
         "yaxis": "y"
        }
       ],
       "layout": {
        "boxmode": "group",
        "legend": {
         "tracegroupgap": 0
        },
        "margin": {
         "t": 60
        },
        "template": {
         "data": {
          "bar": [
           {
            "error_x": {
             "color": "#2a3f5f"
            },
            "error_y": {
             "color": "#2a3f5f"
            },
            "marker": {
             "line": {
              "color": "#E5ECF6",
              "width": 0.5
             },
             "pattern": {
              "fillmode": "overlay",
              "size": 10,
              "solidity": 0.2
             }
            },
            "type": "bar"
           }
          ],
          "barpolar": [
           {
            "marker": {
             "line": {
              "color": "#E5ECF6",
              "width": 0.5
             },
             "pattern": {
              "fillmode": "overlay",
              "size": 10,
              "solidity": 0.2
             }
            },
            "type": "barpolar"
           }
          ],
          "carpet": [
           {
            "aaxis": {
             "endlinecolor": "#2a3f5f",
             "gridcolor": "white",
             "linecolor": "white",
             "minorgridcolor": "white",
             "startlinecolor": "#2a3f5f"
            },
            "baxis": {
             "endlinecolor": "#2a3f5f",
             "gridcolor": "white",
             "linecolor": "white",
             "minorgridcolor": "white",
             "startlinecolor": "#2a3f5f"
            },
            "type": "carpet"
           }
          ],
          "choropleth": [
           {
            "colorbar": {
             "outlinewidth": 0,
             "ticks": ""
            },
            "type": "choropleth"
           }
          ],
          "contour": [
           {
            "colorbar": {
             "outlinewidth": 0,
             "ticks": ""
            },
            "colorscale": [
             [
              0,
              "#0d0887"
             ],
             [
              0.1111111111111111,
              "#46039f"
             ],
             [
              0.2222222222222222,
              "#7201a8"
             ],
             [
              0.3333333333333333,
              "#9c179e"
             ],
             [
              0.4444444444444444,
              "#bd3786"
             ],
             [
              0.5555555555555556,
              "#d8576b"
             ],
             [
              0.6666666666666666,
              "#ed7953"
             ],
             [
              0.7777777777777778,
              "#fb9f3a"
             ],
             [
              0.8888888888888888,
              "#fdca26"
             ],
             [
              1,
              "#f0f921"
             ]
            ],
            "type": "contour"
           }
          ],
          "contourcarpet": [
           {
            "colorbar": {
             "outlinewidth": 0,
             "ticks": ""
            },
            "type": "contourcarpet"
           }
          ],
          "heatmap": [
           {
            "colorbar": {
             "outlinewidth": 0,
             "ticks": ""
            },
            "colorscale": [
             [
              0,
              "#0d0887"
             ],
             [
              0.1111111111111111,
              "#46039f"
             ],
             [
              0.2222222222222222,
              "#7201a8"
             ],
             [
              0.3333333333333333,
              "#9c179e"
             ],
             [
              0.4444444444444444,
              "#bd3786"
             ],
             [
              0.5555555555555556,
              "#d8576b"
             ],
             [
              0.6666666666666666,
              "#ed7953"
             ],
             [
              0.7777777777777778,
              "#fb9f3a"
             ],
             [
              0.8888888888888888,
              "#fdca26"
             ],
             [
              1,
              "#f0f921"
             ]
            ],
            "type": "heatmap"
           }
          ],
          "heatmapgl": [
           {
            "colorbar": {
             "outlinewidth": 0,
             "ticks": ""
            },
            "colorscale": [
             [
              0,
              "#0d0887"
             ],
             [
              0.1111111111111111,
              "#46039f"
             ],
             [
              0.2222222222222222,
              "#7201a8"
             ],
             [
              0.3333333333333333,
              "#9c179e"
             ],
             [
              0.4444444444444444,
              "#bd3786"
             ],
             [
              0.5555555555555556,
              "#d8576b"
             ],
             [
              0.6666666666666666,
              "#ed7953"
             ],
             [
              0.7777777777777778,
              "#fb9f3a"
             ],
             [
              0.8888888888888888,
              "#fdca26"
             ],
             [
              1,
              "#f0f921"
             ]
            ],
            "type": "heatmapgl"
           }
          ],
          "histogram": [
           {
            "marker": {
             "pattern": {
              "fillmode": "overlay",
              "size": 10,
              "solidity": 0.2
             }
            },
            "type": "histogram"
           }
          ],
          "histogram2d": [
           {
            "colorbar": {
             "outlinewidth": 0,
             "ticks": ""
            },
            "colorscale": [
             [
              0,
              "#0d0887"
             ],
             [
              0.1111111111111111,
              "#46039f"
             ],
             [
              0.2222222222222222,
              "#7201a8"
             ],
             [
              0.3333333333333333,
              "#9c179e"
             ],
             [
              0.4444444444444444,
              "#bd3786"
             ],
             [
              0.5555555555555556,
              "#d8576b"
             ],
             [
              0.6666666666666666,
              "#ed7953"
             ],
             [
              0.7777777777777778,
              "#fb9f3a"
             ],
             [
              0.8888888888888888,
              "#fdca26"
             ],
             [
              1,
              "#f0f921"
             ]
            ],
            "type": "histogram2d"
           }
          ],
          "histogram2dcontour": [
           {
            "colorbar": {
             "outlinewidth": 0,
             "ticks": ""
            },
            "colorscale": [
             [
              0,
              "#0d0887"
             ],
             [
              0.1111111111111111,
              "#46039f"
             ],
             [
              0.2222222222222222,
              "#7201a8"
             ],
             [
              0.3333333333333333,
              "#9c179e"
             ],
             [
              0.4444444444444444,
              "#bd3786"
             ],
             [
              0.5555555555555556,
              "#d8576b"
             ],
             [
              0.6666666666666666,
              "#ed7953"
             ],
             [
              0.7777777777777778,
              "#fb9f3a"
             ],
             [
              0.8888888888888888,
              "#fdca26"
             ],
             [
              1,
              "#f0f921"
             ]
            ],
            "type": "histogram2dcontour"
           }
          ],
          "mesh3d": [
           {
            "colorbar": {
             "outlinewidth": 0,
             "ticks": ""
            },
            "type": "mesh3d"
           }
          ],
          "parcoords": [
           {
            "line": {
             "colorbar": {
              "outlinewidth": 0,
              "ticks": ""
             }
            },
            "type": "parcoords"
           }
          ],
          "pie": [
           {
            "automargin": true,
            "type": "pie"
           }
          ],
          "scatter": [
           {
            "fillpattern": {
             "fillmode": "overlay",
             "size": 10,
             "solidity": 0.2
            },
            "type": "scatter"
           }
          ],
          "scatter3d": [
           {
            "line": {
             "colorbar": {
              "outlinewidth": 0,
              "ticks": ""
             }
            },
            "marker": {
             "colorbar": {
              "outlinewidth": 0,
              "ticks": ""
             }
            },
            "type": "scatter3d"
           }
          ],
          "scattercarpet": [
           {
            "marker": {
             "colorbar": {
              "outlinewidth": 0,
              "ticks": ""
             }
            },
            "type": "scattercarpet"
           }
          ],
          "scattergeo": [
           {
            "marker": {
             "colorbar": {
              "outlinewidth": 0,
              "ticks": ""
             }
            },
            "type": "scattergeo"
           }
          ],
          "scattergl": [
           {
            "marker": {
             "colorbar": {
              "outlinewidth": 0,
              "ticks": ""
             }
            },
            "type": "scattergl"
           }
          ],
          "scattermapbox": [
           {
            "marker": {
             "colorbar": {
              "outlinewidth": 0,
              "ticks": ""
             }
            },
            "type": "scattermapbox"
           }
          ],
          "scatterpolar": [
           {
            "marker": {
             "colorbar": {
              "outlinewidth": 0,
              "ticks": ""
             }
            },
            "type": "scatterpolar"
           }
          ],
          "scatterpolargl": [
           {
            "marker": {
             "colorbar": {
              "outlinewidth": 0,
              "ticks": ""
             }
            },
            "type": "scatterpolargl"
           }
          ],
          "scatterternary": [
           {
            "marker": {
             "colorbar": {
              "outlinewidth": 0,
              "ticks": ""
             }
            },
            "type": "scatterternary"
           }
          ],
          "surface": [
           {
            "colorbar": {
             "outlinewidth": 0,
             "ticks": ""
            },
            "colorscale": [
             [
              0,
              "#0d0887"
             ],
             [
              0.1111111111111111,
              "#46039f"
             ],
             [
              0.2222222222222222,
              "#7201a8"
             ],
             [
              0.3333333333333333,
              "#9c179e"
             ],
             [
              0.4444444444444444,
              "#bd3786"
             ],
             [
              0.5555555555555556,
              "#d8576b"
             ],
             [
              0.6666666666666666,
              "#ed7953"
             ],
             [
              0.7777777777777778,
              "#fb9f3a"
             ],
             [
              0.8888888888888888,
              "#fdca26"
             ],
             [
              1,
              "#f0f921"
             ]
            ],
            "type": "surface"
           }
          ],
          "table": [
           {
            "cells": {
             "fill": {
              "color": "#EBF0F8"
             },
             "line": {
              "color": "white"
             }
            },
            "header": {
             "fill": {
              "color": "#C8D4E3"
             },
             "line": {
              "color": "white"
             }
            },
            "type": "table"
           }
          ]
         },
         "layout": {
          "annotationdefaults": {
           "arrowcolor": "#2a3f5f",
           "arrowhead": 0,
           "arrowwidth": 1
          },
          "autotypenumbers": "strict",
          "coloraxis": {
           "colorbar": {
            "outlinewidth": 0,
            "ticks": ""
           }
          },
          "colorscale": {
           "diverging": [
            [
             0,
             "#8e0152"
            ],
            [
             0.1,
             "#c51b7d"
            ],
            [
             0.2,
             "#de77ae"
            ],
            [
             0.3,
             "#f1b6da"
            ],
            [
             0.4,
             "#fde0ef"
            ],
            [
             0.5,
             "#f7f7f7"
            ],
            [
             0.6,
             "#e6f5d0"
            ],
            [
             0.7,
             "#b8e186"
            ],
            [
             0.8,
             "#7fbc41"
            ],
            [
             0.9,
             "#4d9221"
            ],
            [
             1,
             "#276419"
            ]
           ],
           "sequential": [
            [
             0,
             "#0d0887"
            ],
            [
             0.1111111111111111,
             "#46039f"
            ],
            [
             0.2222222222222222,
             "#7201a8"
            ],
            [
             0.3333333333333333,
             "#9c179e"
            ],
            [
             0.4444444444444444,
             "#bd3786"
            ],
            [
             0.5555555555555556,
             "#d8576b"
            ],
            [
             0.6666666666666666,
             "#ed7953"
            ],
            [
             0.7777777777777778,
             "#fb9f3a"
            ],
            [
             0.8888888888888888,
             "#fdca26"
            ],
            [
             1,
             "#f0f921"
            ]
           ],
           "sequentialminus": [
            [
             0,
             "#0d0887"
            ],
            [
             0.1111111111111111,
             "#46039f"
            ],
            [
             0.2222222222222222,
             "#7201a8"
            ],
            [
             0.3333333333333333,
             "#9c179e"
            ],
            [
             0.4444444444444444,
             "#bd3786"
            ],
            [
             0.5555555555555556,
             "#d8576b"
            ],
            [
             0.6666666666666666,
             "#ed7953"
            ],
            [
             0.7777777777777778,
             "#fb9f3a"
            ],
            [
             0.8888888888888888,
             "#fdca26"
            ],
            [
             1,
             "#f0f921"
            ]
           ]
          },
          "colorway": [
           "#636efa",
           "#EF553B",
           "#00cc96",
           "#ab63fa",
           "#FFA15A",
           "#19d3f3",
           "#FF6692",
           "#B6E880",
           "#FF97FF",
           "#FECB52"
          ],
          "font": {
           "color": "#2a3f5f"
          },
          "geo": {
           "bgcolor": "white",
           "lakecolor": "white",
           "landcolor": "#E5ECF6",
           "showlakes": true,
           "showland": true,
           "subunitcolor": "white"
          },
          "hoverlabel": {
           "align": "left"
          },
          "hovermode": "closest",
          "mapbox": {
           "style": "light"
          },
          "paper_bgcolor": "white",
          "plot_bgcolor": "#E5ECF6",
          "polar": {
           "angularaxis": {
            "gridcolor": "white",
            "linecolor": "white",
            "ticks": ""
           },
           "bgcolor": "#E5ECF6",
           "radialaxis": {
            "gridcolor": "white",
            "linecolor": "white",
            "ticks": ""
           }
          },
          "scene": {
           "xaxis": {
            "backgroundcolor": "#E5ECF6",
            "gridcolor": "white",
            "gridwidth": 2,
            "linecolor": "white",
            "showbackground": true,
            "ticks": "",
            "zerolinecolor": "white"
           },
           "yaxis": {
            "backgroundcolor": "#E5ECF6",
            "gridcolor": "white",
            "gridwidth": 2,
            "linecolor": "white",
            "showbackground": true,
            "ticks": "",
            "zerolinecolor": "white"
           },
           "zaxis": {
            "backgroundcolor": "#E5ECF6",
            "gridcolor": "white",
            "gridwidth": 2,
            "linecolor": "white",
            "showbackground": true,
            "ticks": "",
            "zerolinecolor": "white"
           }
          },
          "shapedefaults": {
           "line": {
            "color": "#2a3f5f"
           }
          },
          "ternary": {
           "aaxis": {
            "gridcolor": "white",
            "linecolor": "white",
            "ticks": ""
           },
           "baxis": {
            "gridcolor": "white",
            "linecolor": "white",
            "ticks": ""
           },
           "bgcolor": "#E5ECF6",
           "caxis": {
            "gridcolor": "white",
            "linecolor": "white",
            "ticks": ""
           }
          },
          "title": {
           "x": 0.05
          },
          "xaxis": {
           "automargin": true,
           "gridcolor": "white",
           "linecolor": "white",
           "ticks": "",
           "title": {
            "standoff": 15
           },
           "zerolinecolor": "white",
           "zerolinewidth": 2
          },
          "yaxis": {
           "automargin": true,
           "gridcolor": "white",
           "linecolor": "white",
           "ticks": "",
           "title": {
            "standoff": 15
           },
           "zerolinecolor": "white",
           "zerolinewidth": 2
          }
         }
        },
        "title": {
         "text": "Boite à moustache plotly"
        },
        "xaxis": {
         "anchor": "y",
         "domain": [
          0,
          1
         ],
         "title": {
          "text": "categ_prix"
         }
        },
        "yaxis": {
         "anchor": "x",
         "domain": [
          0,
          1
         ],
         "title": {
          "text": "price"
         }
        }
       }
      },
      "text/html": [
       "<div>                            <div id=\"a39da812-6dd3-4d43-803d-1086f8a70795\" class=\"plotly-graph-div\" style=\"height:525px; width:100%;\"></div>            <script type=\"text/javascript\">                require([\"plotly\"], function(Plotly) {                    window.PLOTLYENV=window.PLOTLYENV || {};                                    if (document.getElementById(\"a39da812-6dd3-4d43-803d-1086f8a70795\")) {                    Plotly.newPlot(                        \"a39da812-6dd3-4d43-803d-1086f8a70795\",                        [{\"alignmentgroup\":\"True\",\"boxpoints\":\"all\",\"hovertemplate\":\"price=%{x}<br>categ_prix=%{y}<extra></extra>\",\"legendgroup\":\"\",\"marker\":{\"color\":\"#636efa\"},\"name\":\"\",\"notched\":false,\"offsetgroup\":\"\",\"orientation\":\"h\",\"showlegend\":false,\"x\":[24.2,34.3,20.8,14.1,46.0,34.3,32.7,31.2,60.0,42.6,80.0,18.3,22.8,19.3,21.8,7.7,33.7,44.3,71.6,86.1,12.7,8.7,8.7,8.7,11.9,11.9,14.5,14.4,19.5,20.8,22.0,16.6,60.0,23.4,33.2,32.0,77.8,12.7,14.7,14.05,22.9,44.0,37.0,39.0,17.0,23.2,19.0,16.4,14.4,73.0,47.0,13.7,12.6,22.8,12.8,22.1,12.8,15.8,15.8,16.3,16.3,9.7,6.8,12.6,35.0,31.7,100.0,23.0,88.4,29.8,25.7,77.4,39.0,53.0,49.0,29.5,33.0,37.5,69.0,59.0,13.7,19.2,29.0,9.8,14.5,20.35,12.0,18.5,9.3,9.3,11.6,14.3,10.8,7.6,12.0,20.5,14.3,18.2,9.0,7.8,5.7,5.7,5.7,13.5,13.5,11.5,24.0,24.0,11.9,16.7,21.4,16.6,13.3,9.5,12.1,9.3,17.8,13.5,10.8,14.1,27.2,9.4,5.8,5.8,38.0,38.0,9.9,11.3,23.0,6.7,7.6,73.5,79.8,48.5,39.8,58.8,26.5,13.4,17.1,16.7,11.6,12.8,8.9,9.7,17.2,16.9,12.6,29.9,9.6,11.1,11.1,20.0,17.1,28.0,28.0,8.9,8.6,13.5,8.9,15.3,14.8,19.5,14.1,59.6,26.9,24.4,31.7,32.1,12.2,9.9,15.8,15.8,17.8,9.6,19.0,15.2,10.2,15.5,16.6,9.2,12.9,14.9,17.6,24.8,21.5,10.8,18.9,11.6,27.0,41.0,69.8,38.6,26.7,22.8,19.0,23.2,39.1,44.0,17.5,30.0,8.1,10.7,10.9,49.0,35.5,83.0,59.0,79.5,225.0,79.5,126.5,51.6,39.0,77.0,85.6,49.5,49.5,49.5,57.0,59.8,27.5,62.0,59.0,59.0,59.0,44.0,62.5,176.0,108.5,68.1,157.0,104.0,28.1,21.7,30.5,28.5,21.5,67.2,49.0,40.0,109.6,32.3,144.0,43.9,61.6,41.8,36.9,26.5,16.1,31.5,31.5,49.0,32.2,50.1,13.4,11.8,13.1,26.2,20.6,16.9,19.0,24.0,57.0,67.5,30.6,59.0,11.9,16.5,52.4,52.9,58.3,39.6,52.4,62.4,76.8,50.0,52.4,41.0,62.4,50.0,21.5,28.5,24.3,16.5,25.3,49.0,36.2,33.4,40.2,43.0,43.0,48.8,23.6,20.8,16.4,14.4,21.0,12.3,20.2,17.0,21.9,17.8,19.8,19.0,10.7,12.9,9.5,29.8,13.2,6.3,7.1,9.1,9.1,18.1,14.0,30.1,12.8,12.8,12.0,18.5,34.5,20.5,23.8,19.8,18.2,31.6,16.8,22.8,32.6,44.0,55.4,15.8,18.4,13.3,11.1,18.6,23.4,18.2,12.5,15.9,20.2,13.7,29.0,23.4,12.7,26.0,29.5,8.6,14.3,22.0,16.8,15.3,13.5,7.4,9.7,12.4,13.8,14.5,11.9,16.4,27.9,12.0,7.4,26.5,24.3,16.9,6.8,13.9,7.8,13.7,9.8,29.5,28.5,10.1,12.1,12.3,11.1,11.1,13.6,21.0,18.7,41.6,12.0,78.0,12.7,14.9,6.5,8.7,8.5,9.9,8.2,8.3,9.8,9.9,17.2,9.3,14.6,22.8,18.7,28.4,27.9,25.3,17.0,27.9,20.1,27.9,21.2,20.8,41.0,46.0,102.3,137.0,22.9,53.2,25.9,17.3,23.0,25.9,28.0,25.9,25.9,37.2,24.4,24.4,13.8,21.5,7.0,12.8,23.2,7.9,6.5,7.9,16.7,17.5,27.8,25.7,18.4,22.2,11.1,9.9,12.5,12.9,20.5,25.0,11.3,7.0,12.1,7.1,49.5,10.0,23.0,23.7,16.45,16.3,18.5,26.5,78.0,78.0,78.0,27.3,217.5,64.9,48.7,59.4,48.7,105.0,105.0,55.6,9.3,8.0,15.4,19.8,10.0,17.1,45.0,112.0,86.8,62.1,22.5,7.5,52.6,45.0,67.0,59.9,59.9,65.0,84.7,43.3,15.2,19.0,11.1,18.0,22.8,19.5,28.8,16.1,24.2,35.3,10.7,12.7,17.1,24.0,39.0,13.2,23.6,15.5,16.3,16.2,7.2,54.8,42.0,19.8,10.2,10.4,11.5,17.9,21.6,33.4,49.5,43.5,43.5,26.5,13.8,10.1,18.2,12.9,38.6,48.4,60.4,38.6,12.0,61.6,65.9,15.2,24.6,48.8,34.3,36.3,57.7,38.0,27.9,47.0,58.0,58.0,30.8,92.0,27.5,19.9,22.5,34.7,59.6,83.7,30.5,38.6,18.0,63.4,124.8,19.2,19.2,56.4,38.4,27.8,71.3,71.3,25.0,10.3,28.0,44.6,13.0,12.7,6.5,17.5,29.9,44.5,29.4,16.9,19.8,10.3,10.8,31.7,25.0,57.6,13.7,7.1,14.9,11.0,14.6,10.7,73.3,42.1,57.0,24.5,10.1,42.2,13.1,19.5,12.9,35.6,175.0,35.6,33.6,34.4,38.4,29.7,32.8,5.7,5.8,5.8,21.7,23.0,12.5,17.2,40.2,32.3,24.0,23.8,17.1,25.0,29.2,17.4,27.3,34.2,17.9,24.0,16.6,16.9,57.6,63.5,56.0,63.5,41.2,55.0,57.0,19.3,19.0,191.3,26.6,15.4,24.7,28.1,18.25,35.1,27.3,18.8,43.9,19.8,17.7,57.0,36.0,36.0,93.0,122.0,114.0,48.5,49.5,14.1,59.9,46.0,74.5,42.5,47.5,18.8,27.3,17.2,39.0,8.7,15.4,12.7,30.0,13.5,16.3,56.3,71.5,69.0,17.9,48.5,71.7,8.5,10.9,21.8,38.5,9.3,13.6,24.5,12.6,13.4,29.8,12.9,36.9,40.7,33.2,34.8,74.8,62.4,46.0,39.2,14.2,135.0,10.6,10.6,5.2,46.0,105.6,116.4,31.0,20.2,25.2,25.2,115.0,121.0,99.0,115.0,121.0,23.5,26.4,26.7,20.4,20.4,40.2,9.0,45.9,10.4,78.0,40.5,92.0,27.9,28.5,22.4,28.4,72.0,29.0,29.2,44.0,68.3,41.8,40.0,13.5,19.0,24.4,9.1,32.8,15.4,9.9,13.5,51.0,35.2,42.2,33.2,41.8,32.2,37.7,47.2,52.7,22.4,50.4,35.6,27.7,48.5,15.4,46.5,46.5,28.0,28.0,24.0,18.0,40.0,40.0,40.0,40.0,46.5,42.0,21.8,30.0,26.0,30.0,20.0,31.0,27.0,31.0,21.0,31.0,27.0,31.0,21.0,50.5,49.9,19.0,8.4,40.0,40.0,47.0,45.0,27.5,69.0,45.0,45.0,30.0,26.0,30.0,20.0,45.0,45.0,45.0,45.0,45.0,31.0,21.0,27.0,31.0,31.0,45.0,45.0,45.0,31.0,27.0,31.0,21.0,31.0,31.0,31.0,45.0,45.0,54.8,26.5,16.3],\"x0\":\" \",\"xaxis\":\"x\",\"y\":[\"20-29\\u20ac\",\"30-49\\u20ac\",\"20-29\\u20ac\",\"10-19\\u20ac\",\"30-49\\u20ac\",\"30-49\\u20ac\",\"30-49\\u20ac\",\"30-49\\u20ac\",\"50-99\\u20ac\",\"30-49\\u20ac\",\"50-99\\u20ac\",\"10-19\\u20ac\",\"20-29\\u20ac\",\"10-19\\u20ac\",\"20-29\\u20ac\",\"0-9\\u20ac\",\"30-49\\u20ac\",\"30-49\\u20ac\",\"50-99\\u20ac\",\"50-99\\u20ac\",\"10-19\\u20ac\",\"0-9\\u20ac\",\"0-9\\u20ac\",\"0-9\\u20ac\",\"10-19\\u20ac\",\"10-19\\u20ac\",\"10-19\\u20ac\",\"10-19\\u20ac\",\"10-19\\u20ac\",\"20-29\\u20ac\",\"20-29\\u20ac\",\"10-19\\u20ac\",\"50-99\\u20ac\",\"20-29\\u20ac\",\"30-49\\u20ac\",\"30-49\\u20ac\",\"50-99\\u20ac\",\"10-19\\u20ac\",\"10-19\\u20ac\",\"10-19\\u20ac\",\"20-29\\u20ac\",\"30-49\\u20ac\",\"30-49\\u20ac\",\"30-49\\u20ac\",\"10-19\\u20ac\",\"20-29\\u20ac\",\"10-19\\u20ac\",\"10-19\\u20ac\",\"10-19\\u20ac\",\"50-99\\u20ac\",\"30-49\\u20ac\",\"10-19\\u20ac\",\"10-19\\u20ac\",\"20-29\\u20ac\",\"10-19\\u20ac\",\"20-29\\u20ac\",\"10-19\\u20ac\",\"10-19\\u20ac\",\"10-19\\u20ac\",\"10-19\\u20ac\",\"10-19\\u20ac\",\"0-9\\u20ac\",\"0-9\\u20ac\",\"10-19\\u20ac\",\"30-49\\u20ac\",\"30-49\\u20ac\",\"50-99\\u20ac\",\"20-29\\u20ac\",\"50-99\\u20ac\",\"20-29\\u20ac\",\"20-29\\u20ac\",\"50-99\\u20ac\",\"30-49\\u20ac\",\"50-99\\u20ac\",\"30-49\\u20ac\",\"20-29\\u20ac\",\"30-49\\u20ac\",\"30-49\\u20ac\",\"50-99\\u20ac\",\"50-99\\u20ac\",\"10-19\\u20ac\",\"10-19\\u20ac\",\"20-29\\u20ac\",\"0-9\\u20ac\",\"10-19\\u20ac\",\"20-29\\u20ac\",\"10-19\\u20ac\",\"10-19\\u20ac\",\"0-9\\u20ac\",\"0-9\\u20ac\",\"10-19\\u20ac\",\"10-19\\u20ac\",\"10-19\\u20ac\",\"0-9\\u20ac\",\"10-19\\u20ac\",\"20-29\\u20ac\",\"10-19\\u20ac\",\"10-19\\u20ac\",\"0-9\\u20ac\",\"0-9\\u20ac\",\"0-9\\u20ac\",\"0-9\\u20ac\",\"0-9\\u20ac\",\"10-19\\u20ac\",\"10-19\\u20ac\",\"10-19\\u20ac\",\"20-29\\u20ac\",\"20-29\\u20ac\",\"10-19\\u20ac\",\"10-19\\u20ac\",\"20-29\\u20ac\",\"10-19\\u20ac\",\"10-19\\u20ac\",\"0-9\\u20ac\",\"10-19\\u20ac\",\"0-9\\u20ac\",\"10-19\\u20ac\",\"10-19\\u20ac\",\"10-19\\u20ac\",\"10-19\\u20ac\",\"20-29\\u20ac\",\"0-9\\u20ac\",\"0-9\\u20ac\",\"0-9\\u20ac\",\"30-49\\u20ac\",\"30-49\\u20ac\",\"0-9\\u20ac\",\"10-19\\u20ac\",\"20-29\\u20ac\",\"0-9\\u20ac\",\"0-9\\u20ac\",\"50-99\\u20ac\",\"50-99\\u20ac\",\"30-49\\u20ac\",\"30-49\\u20ac\",\"50-99\\u20ac\",\"20-29\\u20ac\",\"10-19\\u20ac\",\"10-19\\u20ac\",\"10-19\\u20ac\",\"10-19\\u20ac\",\"10-19\\u20ac\",\"0-9\\u20ac\",\"0-9\\u20ac\",\"10-19\\u20ac\",\"10-19\\u20ac\",\"10-19\\u20ac\",\"20-29\\u20ac\",\"0-9\\u20ac\",\"10-19\\u20ac\",\"10-19\\u20ac\",\"10-19\\u20ac\",\"10-19\\u20ac\",\"20-29\\u20ac\",\"20-29\\u20ac\",\"0-9\\u20ac\",\"0-9\\u20ac\",\"10-19\\u20ac\",\"0-9\\u20ac\",\"10-19\\u20ac\",\"10-19\\u20ac\",\"10-19\\u20ac\",\"10-19\\u20ac\",\"50-99\\u20ac\",\"20-29\\u20ac\",\"20-29\\u20ac\",\"30-49\\u20ac\",\"30-49\\u20ac\",\"10-19\\u20ac\",\"0-9\\u20ac\",\"10-19\\u20ac\",\"10-19\\u20ac\",\"10-19\\u20ac\",\"0-9\\u20ac\",\"10-19\\u20ac\",\"10-19\\u20ac\",\"10-19\\u20ac\",\"10-19\\u20ac\",\"10-19\\u20ac\",\"0-9\\u20ac\",\"10-19\\u20ac\",\"10-19\\u20ac\",\"10-19\\u20ac\",\"20-29\\u20ac\",\"20-29\\u20ac\",\"10-19\\u20ac\",\"10-19\\u20ac\",\"10-19\\u20ac\",\"20-29\\u20ac\",\"30-49\\u20ac\",\"50-99\\u20ac\",\"30-49\\u20ac\",\"20-29\\u20ac\",\"20-29\\u20ac\",\"10-19\\u20ac\",\"20-29\\u20ac\",\"30-49\\u20ac\",\"30-49\\u20ac\",\"10-19\\u20ac\",\"20-29\\u20ac\",\"0-9\\u20ac\",\"10-19\\u20ac\",\"10-19\\u20ac\",\"30-49\\u20ac\",\"30-49\\u20ac\",\"50-99\\u20ac\",\"50-99\\u20ac\",\"50-99\\u20ac\",\"+200\\u20ac\",\"50-99\\u20ac\",\"100-199\\u20ac\",\"50-99\\u20ac\",\"30-49\\u20ac\",\"50-99\\u20ac\",\"50-99\\u20ac\",\"30-49\\u20ac\",\"30-49\\u20ac\",\"30-49\\u20ac\",\"50-99\\u20ac\",\"50-99\\u20ac\",\"20-29\\u20ac\",\"50-99\\u20ac\",\"50-99\\u20ac\",\"50-99\\u20ac\",\"50-99\\u20ac\",\"30-49\\u20ac\",\"50-99\\u20ac\",\"100-199\\u20ac\",\"100-199\\u20ac\",\"50-99\\u20ac\",\"100-199\\u20ac\",\"100-199\\u20ac\",\"20-29\\u20ac\",\"20-29\\u20ac\",\"30-49\\u20ac\",\"20-29\\u20ac\",\"20-29\\u20ac\",\"50-99\\u20ac\",\"30-49\\u20ac\",\"30-49\\u20ac\",\"100-199\\u20ac\",\"30-49\\u20ac\",\"100-199\\u20ac\",\"30-49\\u20ac\",\"50-99\\u20ac\",\"30-49\\u20ac\",\"30-49\\u20ac\",\"20-29\\u20ac\",\"10-19\\u20ac\",\"30-49\\u20ac\",\"30-49\\u20ac\",\"30-49\\u20ac\",\"30-49\\u20ac\",\"50-99\\u20ac\",\"10-19\\u20ac\",\"10-19\\u20ac\",\"10-19\\u20ac\",\"20-29\\u20ac\",\"20-29\\u20ac\",\"10-19\\u20ac\",\"10-19\\u20ac\",\"20-29\\u20ac\",\"50-99\\u20ac\",\"50-99\\u20ac\",\"30-49\\u20ac\",\"50-99\\u20ac\",\"10-19\\u20ac\",\"10-19\\u20ac\",\"50-99\\u20ac\",\"50-99\\u20ac\",\"50-99\\u20ac\",\"30-49\\u20ac\",\"50-99\\u20ac\",\"50-99\\u20ac\",\"50-99\\u20ac\",\"30-49\\u20ac\",\"50-99\\u20ac\",\"30-49\\u20ac\",\"50-99\\u20ac\",\"30-49\\u20ac\",\"20-29\\u20ac\",\"20-29\\u20ac\",\"20-29\\u20ac\",\"10-19\\u20ac\",\"20-29\\u20ac\",\"30-49\\u20ac\",\"30-49\\u20ac\",\"30-49\\u20ac\",\"30-49\\u20ac\",\"30-49\\u20ac\",\"30-49\\u20ac\",\"30-49\\u20ac\",\"20-29\\u20ac\",\"20-29\\u20ac\",\"10-19\\u20ac\",\"10-19\\u20ac\",\"20-29\\u20ac\",\"10-19\\u20ac\",\"20-29\\u20ac\",\"10-19\\u20ac\",\"20-29\\u20ac\",\"10-19\\u20ac\",\"10-19\\u20ac\",\"10-19\\u20ac\",\"10-19\\u20ac\",\"10-19\\u20ac\",\"0-9\\u20ac\",\"20-29\\u20ac\",\"10-19\\u20ac\",\"0-9\\u20ac\",\"0-9\\u20ac\",\"0-9\\u20ac\",\"0-9\\u20ac\",\"10-19\\u20ac\",\"10-19\\u20ac\",\"30-49\\u20ac\",\"10-19\\u20ac\",\"10-19\\u20ac\",\"10-19\\u20ac\",\"10-19\\u20ac\",\"30-49\\u20ac\",\"20-29\\u20ac\",\"20-29\\u20ac\",\"10-19\\u20ac\",\"10-19\\u20ac\",\"30-49\\u20ac\",\"10-19\\u20ac\",\"20-29\\u20ac\",\"30-49\\u20ac\",\"30-49\\u20ac\",\"50-99\\u20ac\",\"10-19\\u20ac\",\"10-19\\u20ac\",\"10-19\\u20ac\",\"10-19\\u20ac\",\"10-19\\u20ac\",\"20-29\\u20ac\",\"10-19\\u20ac\",\"10-19\\u20ac\",\"10-19\\u20ac\",\"20-29\\u20ac\",\"10-19\\u20ac\",\"20-29\\u20ac\",\"20-29\\u20ac\",\"10-19\\u20ac\",\"20-29\\u20ac\",\"20-29\\u20ac\",\"0-9\\u20ac\",\"10-19\\u20ac\",\"20-29\\u20ac\",\"10-19\\u20ac\",\"10-19\\u20ac\",\"10-19\\u20ac\",\"0-9\\u20ac\",\"0-9\\u20ac\",\"10-19\\u20ac\",\"10-19\\u20ac\",\"10-19\\u20ac\",\"10-19\\u20ac\",\"10-19\\u20ac\",\"20-29\\u20ac\",\"10-19\\u20ac\",\"0-9\\u20ac\",\"20-29\\u20ac\",\"20-29\\u20ac\",\"10-19\\u20ac\",\"0-9\\u20ac\",\"10-19\\u20ac\",\"0-9\\u20ac\",\"10-19\\u20ac\",\"0-9\\u20ac\",\"20-29\\u20ac\",\"20-29\\u20ac\",\"10-19\\u20ac\",\"10-19\\u20ac\",\"10-19\\u20ac\",\"10-19\\u20ac\",\"10-19\\u20ac\",\"10-19\\u20ac\",\"20-29\\u20ac\",\"10-19\\u20ac\",\"30-49\\u20ac\",\"10-19\\u20ac\",\"50-99\\u20ac\",\"10-19\\u20ac\",\"10-19\\u20ac\",\"0-9\\u20ac\",\"0-9\\u20ac\",\"0-9\\u20ac\",\"0-9\\u20ac\",\"0-9\\u20ac\",\"0-9\\u20ac\",\"0-9\\u20ac\",\"0-9\\u20ac\",\"10-19\\u20ac\",\"0-9\\u20ac\",\"10-19\\u20ac\",\"20-29\\u20ac\",\"10-19\\u20ac\",\"20-29\\u20ac\",\"20-29\\u20ac\",\"20-29\\u20ac\",\"10-19\\u20ac\",\"20-29\\u20ac\",\"20-29\\u20ac\",\"20-29\\u20ac\",\"20-29\\u20ac\",\"20-29\\u20ac\",\"30-49\\u20ac\",\"30-49\\u20ac\",\"100-199\\u20ac\",\"100-199\\u20ac\",\"20-29\\u20ac\",\"50-99\\u20ac\",\"20-29\\u20ac\",\"10-19\\u20ac\",\"20-29\\u20ac\",\"20-29\\u20ac\",\"20-29\\u20ac\",\"20-29\\u20ac\",\"20-29\\u20ac\",\"30-49\\u20ac\",\"20-29\\u20ac\",\"20-29\\u20ac\",\"10-19\\u20ac\",\"20-29\\u20ac\",\"0-9\\u20ac\",\"10-19\\u20ac\",\"20-29\\u20ac\",\"0-9\\u20ac\",\"0-9\\u20ac\",\"0-9\\u20ac\",\"10-19\\u20ac\",\"10-19\\u20ac\",\"20-29\\u20ac\",\"20-29\\u20ac\",\"10-19\\u20ac\",\"20-29\\u20ac\",\"10-19\\u20ac\",\"0-9\\u20ac\",\"10-19\\u20ac\",\"10-19\\u20ac\",\"20-29\\u20ac\",\"20-29\\u20ac\",\"10-19\\u20ac\",\"0-9\\u20ac\",\"10-19\\u20ac\",\"0-9\\u20ac\",\"30-49\\u20ac\",\"0-9\\u20ac\",\"20-29\\u20ac\",\"20-29\\u20ac\",\"10-19\\u20ac\",\"10-19\\u20ac\",\"10-19\\u20ac\",\"20-29\\u20ac\",\"50-99\\u20ac\",\"50-99\\u20ac\",\"50-99\\u20ac\",\"20-29\\u20ac\",\"+200\\u20ac\",\"50-99\\u20ac\",\"30-49\\u20ac\",\"50-99\\u20ac\",\"30-49\\u20ac\",\"100-199\\u20ac\",\"100-199\\u20ac\",\"50-99\\u20ac\",\"0-9\\u20ac\",\"0-9\\u20ac\",\"10-19\\u20ac\",\"10-19\\u20ac\",\"0-9\\u20ac\",\"10-19\\u20ac\",\"30-49\\u20ac\",\"100-199\\u20ac\",\"50-99\\u20ac\",\"50-99\\u20ac\",\"20-29\\u20ac\",\"0-9\\u20ac\",\"50-99\\u20ac\",\"30-49\\u20ac\",\"50-99\\u20ac\",\"50-99\\u20ac\",\"50-99\\u20ac\",\"50-99\\u20ac\",\"50-99\\u20ac\",\"30-49\\u20ac\",\"10-19\\u20ac\",\"10-19\\u20ac\",\"10-19\\u20ac\",\"10-19\\u20ac\",\"20-29\\u20ac\",\"10-19\\u20ac\",\"20-29\\u20ac\",\"10-19\\u20ac\",\"20-29\\u20ac\",\"30-49\\u20ac\",\"10-19\\u20ac\",\"10-19\\u20ac\",\"10-19\\u20ac\",\"20-29\\u20ac\",\"30-49\\u20ac\",\"10-19\\u20ac\",\"20-29\\u20ac\",\"10-19\\u20ac\",\"10-19\\u20ac\",\"10-19\\u20ac\",\"0-9\\u20ac\",\"50-99\\u20ac\",\"30-49\\u20ac\",\"10-19\\u20ac\",\"10-19\\u20ac\",\"10-19\\u20ac\",\"10-19\\u20ac\",\"10-19\\u20ac\",\"20-29\\u20ac\",\"30-49\\u20ac\",\"30-49\\u20ac\",\"30-49\\u20ac\",\"30-49\\u20ac\",\"20-29\\u20ac\",\"10-19\\u20ac\",\"10-19\\u20ac\",\"10-19\\u20ac\",\"10-19\\u20ac\",\"30-49\\u20ac\",\"30-49\\u20ac\",\"50-99\\u20ac\",\"30-49\\u20ac\",\"10-19\\u20ac\",\"50-99\\u20ac\",\"50-99\\u20ac\",\"10-19\\u20ac\",\"20-29\\u20ac\",\"30-49\\u20ac\",\"30-49\\u20ac\",\"30-49\\u20ac\",\"50-99\\u20ac\",\"30-49\\u20ac\",\"20-29\\u20ac\",\"30-49\\u20ac\",\"50-99\\u20ac\",\"50-99\\u20ac\",\"30-49\\u20ac\",\"50-99\\u20ac\",\"20-29\\u20ac\",\"10-19\\u20ac\",\"20-29\\u20ac\",\"30-49\\u20ac\",\"50-99\\u20ac\",\"50-99\\u20ac\",\"30-49\\u20ac\",\"30-49\\u20ac\",\"10-19\\u20ac\",\"50-99\\u20ac\",\"100-199\\u20ac\",\"10-19\\u20ac\",\"10-19\\u20ac\",\"50-99\\u20ac\",\"30-49\\u20ac\",\"20-29\\u20ac\",\"50-99\\u20ac\",\"50-99\\u20ac\",\"20-29\\u20ac\",\"10-19\\u20ac\",\"20-29\\u20ac\",\"30-49\\u20ac\",\"10-19\\u20ac\",\"10-19\\u20ac\",\"0-9\\u20ac\",\"10-19\\u20ac\",\"20-29\\u20ac\",\"30-49\\u20ac\",\"20-29\\u20ac\",\"10-19\\u20ac\",\"10-19\\u20ac\",\"10-19\\u20ac\",\"10-19\\u20ac\",\"30-49\\u20ac\",\"20-29\\u20ac\",\"50-99\\u20ac\",\"10-19\\u20ac\",\"0-9\\u20ac\",\"10-19\\u20ac\",\"10-19\\u20ac\",\"10-19\\u20ac\",\"10-19\\u20ac\",\"50-99\\u20ac\",\"30-49\\u20ac\",\"50-99\\u20ac\",\"20-29\\u20ac\",\"10-19\\u20ac\",\"30-49\\u20ac\",\"10-19\\u20ac\",\"10-19\\u20ac\",\"10-19\\u20ac\",\"30-49\\u20ac\",\"100-199\\u20ac\",\"30-49\\u20ac\",\"30-49\\u20ac\",\"30-49\\u20ac\",\"30-49\\u20ac\",\"20-29\\u20ac\",\"30-49\\u20ac\",\"0-9\\u20ac\",\"0-9\\u20ac\",\"0-9\\u20ac\",\"20-29\\u20ac\",\"20-29\\u20ac\",\"10-19\\u20ac\",\"10-19\\u20ac\",\"30-49\\u20ac\",\"30-49\\u20ac\",\"20-29\\u20ac\",\"20-29\\u20ac\",\"10-19\\u20ac\",\"20-29\\u20ac\",\"20-29\\u20ac\",\"10-19\\u20ac\",\"20-29\\u20ac\",\"30-49\\u20ac\",\"10-19\\u20ac\",\"20-29\\u20ac\",\"10-19\\u20ac\",\"10-19\\u20ac\",\"50-99\\u20ac\",\"50-99\\u20ac\",\"50-99\\u20ac\",\"50-99\\u20ac\",\"30-49\\u20ac\",\"50-99\\u20ac\",\"50-99\\u20ac\",\"10-19\\u20ac\",\"10-19\\u20ac\",\"100-199\\u20ac\",\"20-29\\u20ac\",\"10-19\\u20ac\",\"20-29\\u20ac\",\"20-29\\u20ac\",\"10-19\\u20ac\",\"30-49\\u20ac\",\"20-29\\u20ac\",\"10-19\\u20ac\",\"30-49\\u20ac\",\"10-19\\u20ac\",\"10-19\\u20ac\",\"50-99\\u20ac\",\"30-49\\u20ac\",\"30-49\\u20ac\",\"50-99\\u20ac\",\"100-199\\u20ac\",\"100-199\\u20ac\",\"30-49\\u20ac\",\"30-49\\u20ac\",\"10-19\\u20ac\",\"50-99\\u20ac\",\"30-49\\u20ac\",\"50-99\\u20ac\",\"30-49\\u20ac\",\"30-49\\u20ac\",\"10-19\\u20ac\",\"20-29\\u20ac\",\"10-19\\u20ac\",\"30-49\\u20ac\",\"0-9\\u20ac\",\"10-19\\u20ac\",\"10-19\\u20ac\",\"20-29\\u20ac\",\"10-19\\u20ac\",\"10-19\\u20ac\",\"50-99\\u20ac\",\"50-99\\u20ac\",\"50-99\\u20ac\",\"10-19\\u20ac\",\"30-49\\u20ac\",\"50-99\\u20ac\",\"0-9\\u20ac\",\"10-19\\u20ac\",\"20-29\\u20ac\",\"30-49\\u20ac\",\"0-9\\u20ac\",\"10-19\\u20ac\",\"20-29\\u20ac\",\"10-19\\u20ac\",\"10-19\\u20ac\",\"20-29\\u20ac\",\"10-19\\u20ac\",\"30-49\\u20ac\",\"30-49\\u20ac\",\"30-49\\u20ac\",\"30-49\\u20ac\",\"50-99\\u20ac\",\"50-99\\u20ac\",\"30-49\\u20ac\",\"30-49\\u20ac\",\"10-19\\u20ac\",\"100-199\\u20ac\",\"10-19\\u20ac\",\"10-19\\u20ac\",\"0-9\\u20ac\",\"30-49\\u20ac\",\"100-199\\u20ac\",\"100-199\\u20ac\",\"30-49\\u20ac\",\"20-29\\u20ac\",\"20-29\\u20ac\",\"20-29\\u20ac\",\"100-199\\u20ac\",\"100-199\\u20ac\",\"50-99\\u20ac\",\"100-199\\u20ac\",\"100-199\\u20ac\",\"20-29\\u20ac\",\"20-29\\u20ac\",\"20-29\\u20ac\",\"20-29\\u20ac\",\"20-29\\u20ac\",\"30-49\\u20ac\",\"0-9\\u20ac\",\"30-49\\u20ac\",\"10-19\\u20ac\",\"50-99\\u20ac\",\"30-49\\u20ac\",\"50-99\\u20ac\",\"20-29\\u20ac\",\"20-29\\u20ac\",\"20-29\\u20ac\",\"20-29\\u20ac\",\"50-99\\u20ac\",\"20-29\\u20ac\",\"20-29\\u20ac\",\"30-49\\u20ac\",\"50-99\\u20ac\",\"30-49\\u20ac\",\"30-49\\u20ac\",\"10-19\\u20ac\",\"10-19\\u20ac\",\"20-29\\u20ac\",\"0-9\\u20ac\",\"30-49\\u20ac\",\"10-19\\u20ac\",\"0-9\\u20ac\",\"10-19\\u20ac\",\"50-99\\u20ac\",\"30-49\\u20ac\",\"30-49\\u20ac\",\"30-49\\u20ac\",\"30-49\\u20ac\",\"30-49\\u20ac\",\"30-49\\u20ac\",\"30-49\\u20ac\",\"50-99\\u20ac\",\"20-29\\u20ac\",\"50-99\\u20ac\",\"30-49\\u20ac\",\"20-29\\u20ac\",\"30-49\\u20ac\",\"10-19\\u20ac\",\"30-49\\u20ac\",\"30-49\\u20ac\",\"20-29\\u20ac\",\"20-29\\u20ac\",\"20-29\\u20ac\",\"10-19\\u20ac\",\"30-49\\u20ac\",\"30-49\\u20ac\",\"30-49\\u20ac\",\"30-49\\u20ac\",\"30-49\\u20ac\",\"30-49\\u20ac\",\"20-29\\u20ac\",\"20-29\\u20ac\",\"20-29\\u20ac\",\"20-29\\u20ac\",\"10-19\\u20ac\",\"30-49\\u20ac\",\"20-29\\u20ac\",\"30-49\\u20ac\",\"20-29\\u20ac\",\"30-49\\u20ac\",\"20-29\\u20ac\",\"30-49\\u20ac\",\"20-29\\u20ac\",\"50-99\\u20ac\",\"30-49\\u20ac\",\"10-19\\u20ac\",\"0-9\\u20ac\",\"30-49\\u20ac\",\"30-49\\u20ac\",\"30-49\\u20ac\",\"30-49\\u20ac\",\"20-29\\u20ac\",\"50-99\\u20ac\",\"30-49\\u20ac\",\"30-49\\u20ac\",\"20-29\\u20ac\",\"20-29\\u20ac\",\"20-29\\u20ac\",\"10-19\\u20ac\",\"30-49\\u20ac\",\"30-49\\u20ac\",\"30-49\\u20ac\",\"30-49\\u20ac\",\"30-49\\u20ac\",\"30-49\\u20ac\",\"20-29\\u20ac\",\"20-29\\u20ac\",\"30-49\\u20ac\",\"30-49\\u20ac\",\"30-49\\u20ac\",\"30-49\\u20ac\",\"30-49\\u20ac\",\"30-49\\u20ac\",\"20-29\\u20ac\",\"30-49\\u20ac\",\"20-29\\u20ac\",\"30-49\\u20ac\",\"30-49\\u20ac\",\"30-49\\u20ac\",\"30-49\\u20ac\",\"30-49\\u20ac\",\"50-99\\u20ac\",\"20-29\\u20ac\",\"10-19\\u20ac\"],\"y0\":\" \",\"yaxis\":\"y\",\"type\":\"box\"}],                        {\"template\":{\"data\":{\"histogram2dcontour\":[{\"type\":\"histogram2dcontour\",\"colorbar\":{\"outlinewidth\":0,\"ticks\":\"\"},\"colorscale\":[[0.0,\"#0d0887\"],[0.1111111111111111,\"#46039f\"],[0.2222222222222222,\"#7201a8\"],[0.3333333333333333,\"#9c179e\"],[0.4444444444444444,\"#bd3786\"],[0.5555555555555556,\"#d8576b\"],[0.6666666666666666,\"#ed7953\"],[0.7777777777777778,\"#fb9f3a\"],[0.8888888888888888,\"#fdca26\"],[1.0,\"#f0f921\"]]}],\"choropleth\":[{\"type\":\"choropleth\",\"colorbar\":{\"outlinewidth\":0,\"ticks\":\"\"}}],\"histogram2d\":[{\"type\":\"histogram2d\",\"colorbar\":{\"outlinewidth\":0,\"ticks\":\"\"},\"colorscale\":[[0.0,\"#0d0887\"],[0.1111111111111111,\"#46039f\"],[0.2222222222222222,\"#7201a8\"],[0.3333333333333333,\"#9c179e\"],[0.4444444444444444,\"#bd3786\"],[0.5555555555555556,\"#d8576b\"],[0.6666666666666666,\"#ed7953\"],[0.7777777777777778,\"#fb9f3a\"],[0.8888888888888888,\"#fdca26\"],[1.0,\"#f0f921\"]]}],\"heatmap\":[{\"type\":\"heatmap\",\"colorbar\":{\"outlinewidth\":0,\"ticks\":\"\"},\"colorscale\":[[0.0,\"#0d0887\"],[0.1111111111111111,\"#46039f\"],[0.2222222222222222,\"#7201a8\"],[0.3333333333333333,\"#9c179e\"],[0.4444444444444444,\"#bd3786\"],[0.5555555555555556,\"#d8576b\"],[0.6666666666666666,\"#ed7953\"],[0.7777777777777778,\"#fb9f3a\"],[0.8888888888888888,\"#fdca26\"],[1.0,\"#f0f921\"]]}],\"heatmapgl\":[{\"type\":\"heatmapgl\",\"colorbar\":{\"outlinewidth\":0,\"ticks\":\"\"},\"colorscale\":[[0.0,\"#0d0887\"],[0.1111111111111111,\"#46039f\"],[0.2222222222222222,\"#7201a8\"],[0.3333333333333333,\"#9c179e\"],[0.4444444444444444,\"#bd3786\"],[0.5555555555555556,\"#d8576b\"],[0.6666666666666666,\"#ed7953\"],[0.7777777777777778,\"#fb9f3a\"],[0.8888888888888888,\"#fdca26\"],[1.0,\"#f0f921\"]]}],\"contourcarpet\":[{\"type\":\"contourcarpet\",\"colorbar\":{\"outlinewidth\":0,\"ticks\":\"\"}}],\"contour\":[{\"type\":\"contour\",\"colorbar\":{\"outlinewidth\":0,\"ticks\":\"\"},\"colorscale\":[[0.0,\"#0d0887\"],[0.1111111111111111,\"#46039f\"],[0.2222222222222222,\"#7201a8\"],[0.3333333333333333,\"#9c179e\"],[0.4444444444444444,\"#bd3786\"],[0.5555555555555556,\"#d8576b\"],[0.6666666666666666,\"#ed7953\"],[0.7777777777777778,\"#fb9f3a\"],[0.8888888888888888,\"#fdca26\"],[1.0,\"#f0f921\"]]}],\"surface\":[{\"type\":\"surface\",\"colorbar\":{\"outlinewidth\":0,\"ticks\":\"\"},\"colorscale\":[[0.0,\"#0d0887\"],[0.1111111111111111,\"#46039f\"],[0.2222222222222222,\"#7201a8\"],[0.3333333333333333,\"#9c179e\"],[0.4444444444444444,\"#bd3786\"],[0.5555555555555556,\"#d8576b\"],[0.6666666666666666,\"#ed7953\"],[0.7777777777777778,\"#fb9f3a\"],[0.8888888888888888,\"#fdca26\"],[1.0,\"#f0f921\"]]}],\"mesh3d\":[{\"type\":\"mesh3d\",\"colorbar\":{\"outlinewidth\":0,\"ticks\":\"\"}}],\"scatter\":[{\"fillpattern\":{\"fillmode\":\"overlay\",\"size\":10,\"solidity\":0.2},\"type\":\"scatter\"}],\"parcoords\":[{\"type\":\"parcoords\",\"line\":{\"colorbar\":{\"outlinewidth\":0,\"ticks\":\"\"}}}],\"scatterpolargl\":[{\"type\":\"scatterpolargl\",\"marker\":{\"colorbar\":{\"outlinewidth\":0,\"ticks\":\"\"}}}],\"bar\":[{\"error_x\":{\"color\":\"#2a3f5f\"},\"error_y\":{\"color\":\"#2a3f5f\"},\"marker\":{\"line\":{\"color\":\"#E5ECF6\",\"width\":0.5},\"pattern\":{\"fillmode\":\"overlay\",\"size\":10,\"solidity\":0.2}},\"type\":\"bar\"}],\"scattergeo\":[{\"type\":\"scattergeo\",\"marker\":{\"colorbar\":{\"outlinewidth\":0,\"ticks\":\"\"}}}],\"scatterpolar\":[{\"type\":\"scatterpolar\",\"marker\":{\"colorbar\":{\"outlinewidth\":0,\"ticks\":\"\"}}}],\"histogram\":[{\"marker\":{\"pattern\":{\"fillmode\":\"overlay\",\"size\":10,\"solidity\":0.2}},\"type\":\"histogram\"}],\"scattergl\":[{\"type\":\"scattergl\",\"marker\":{\"colorbar\":{\"outlinewidth\":0,\"ticks\":\"\"}}}],\"scatter3d\":[{\"type\":\"scatter3d\",\"line\":{\"colorbar\":{\"outlinewidth\":0,\"ticks\":\"\"}},\"marker\":{\"colorbar\":{\"outlinewidth\":0,\"ticks\":\"\"}}}],\"scattermapbox\":[{\"type\":\"scattermapbox\",\"marker\":{\"colorbar\":{\"outlinewidth\":0,\"ticks\":\"\"}}}],\"scatterternary\":[{\"type\":\"scatterternary\",\"marker\":{\"colorbar\":{\"outlinewidth\":0,\"ticks\":\"\"}}}],\"scattercarpet\":[{\"type\":\"scattercarpet\",\"marker\":{\"colorbar\":{\"outlinewidth\":0,\"ticks\":\"\"}}}],\"carpet\":[{\"aaxis\":{\"endlinecolor\":\"#2a3f5f\",\"gridcolor\":\"white\",\"linecolor\":\"white\",\"minorgridcolor\":\"white\",\"startlinecolor\":\"#2a3f5f\"},\"baxis\":{\"endlinecolor\":\"#2a3f5f\",\"gridcolor\":\"white\",\"linecolor\":\"white\",\"minorgridcolor\":\"white\",\"startlinecolor\":\"#2a3f5f\"},\"type\":\"carpet\"}],\"table\":[{\"cells\":{\"fill\":{\"color\":\"#EBF0F8\"},\"line\":{\"color\":\"white\"}},\"header\":{\"fill\":{\"color\":\"#C8D4E3\"},\"line\":{\"color\":\"white\"}},\"type\":\"table\"}],\"barpolar\":[{\"marker\":{\"line\":{\"color\":\"#E5ECF6\",\"width\":0.5},\"pattern\":{\"fillmode\":\"overlay\",\"size\":10,\"solidity\":0.2}},\"type\":\"barpolar\"}],\"pie\":[{\"automargin\":true,\"type\":\"pie\"}]},\"layout\":{\"autotypenumbers\":\"strict\",\"colorway\":[\"#636efa\",\"#EF553B\",\"#00cc96\",\"#ab63fa\",\"#FFA15A\",\"#19d3f3\",\"#FF6692\",\"#B6E880\",\"#FF97FF\",\"#FECB52\"],\"font\":{\"color\":\"#2a3f5f\"},\"hovermode\":\"closest\",\"hoverlabel\":{\"align\":\"left\"},\"paper_bgcolor\":\"white\",\"plot_bgcolor\":\"#E5ECF6\",\"polar\":{\"bgcolor\":\"#E5ECF6\",\"angularaxis\":{\"gridcolor\":\"white\",\"linecolor\":\"white\",\"ticks\":\"\"},\"radialaxis\":{\"gridcolor\":\"white\",\"linecolor\":\"white\",\"ticks\":\"\"}},\"ternary\":{\"bgcolor\":\"#E5ECF6\",\"aaxis\":{\"gridcolor\":\"white\",\"linecolor\":\"white\",\"ticks\":\"\"},\"baxis\":{\"gridcolor\":\"white\",\"linecolor\":\"white\",\"ticks\":\"\"},\"caxis\":{\"gridcolor\":\"white\",\"linecolor\":\"white\",\"ticks\":\"\"}},\"coloraxis\":{\"colorbar\":{\"outlinewidth\":0,\"ticks\":\"\"}},\"colorscale\":{\"sequential\":[[0.0,\"#0d0887\"],[0.1111111111111111,\"#46039f\"],[0.2222222222222222,\"#7201a8\"],[0.3333333333333333,\"#9c179e\"],[0.4444444444444444,\"#bd3786\"],[0.5555555555555556,\"#d8576b\"],[0.6666666666666666,\"#ed7953\"],[0.7777777777777778,\"#fb9f3a\"],[0.8888888888888888,\"#fdca26\"],[1.0,\"#f0f921\"]],\"sequentialminus\":[[0.0,\"#0d0887\"],[0.1111111111111111,\"#46039f\"],[0.2222222222222222,\"#7201a8\"],[0.3333333333333333,\"#9c179e\"],[0.4444444444444444,\"#bd3786\"],[0.5555555555555556,\"#d8576b\"],[0.6666666666666666,\"#ed7953\"],[0.7777777777777778,\"#fb9f3a\"],[0.8888888888888888,\"#fdca26\"],[1.0,\"#f0f921\"]],\"diverging\":[[0,\"#8e0152\"],[0.1,\"#c51b7d\"],[0.2,\"#de77ae\"],[0.3,\"#f1b6da\"],[0.4,\"#fde0ef\"],[0.5,\"#f7f7f7\"],[0.6,\"#e6f5d0\"],[0.7,\"#b8e186\"],[0.8,\"#7fbc41\"],[0.9,\"#4d9221\"],[1,\"#276419\"]]},\"xaxis\":{\"gridcolor\":\"white\",\"linecolor\":\"white\",\"ticks\":\"\",\"title\":{\"standoff\":15},\"zerolinecolor\":\"white\",\"automargin\":true,\"zerolinewidth\":2},\"yaxis\":{\"gridcolor\":\"white\",\"linecolor\":\"white\",\"ticks\":\"\",\"title\":{\"standoff\":15},\"zerolinecolor\":\"white\",\"automargin\":true,\"zerolinewidth\":2},\"scene\":{\"xaxis\":{\"backgroundcolor\":\"#E5ECF6\",\"gridcolor\":\"white\",\"linecolor\":\"white\",\"showbackground\":true,\"ticks\":\"\",\"zerolinecolor\":\"white\",\"gridwidth\":2},\"yaxis\":{\"backgroundcolor\":\"#E5ECF6\",\"gridcolor\":\"white\",\"linecolor\":\"white\",\"showbackground\":true,\"ticks\":\"\",\"zerolinecolor\":\"white\",\"gridwidth\":2},\"zaxis\":{\"backgroundcolor\":\"#E5ECF6\",\"gridcolor\":\"white\",\"linecolor\":\"white\",\"showbackground\":true,\"ticks\":\"\",\"zerolinecolor\":\"white\",\"gridwidth\":2}},\"shapedefaults\":{\"line\":{\"color\":\"#2a3f5f\"}},\"annotationdefaults\":{\"arrowcolor\":\"#2a3f5f\",\"arrowhead\":0,\"arrowwidth\":1},\"geo\":{\"bgcolor\":\"white\",\"landcolor\":\"#E5ECF6\",\"subunitcolor\":\"white\",\"showland\":true,\"showlakes\":true,\"lakecolor\":\"white\"},\"title\":{\"x\":0.05},\"mapbox\":{\"style\":\"light\"}}},\"xaxis\":{\"anchor\":\"y\",\"domain\":[0.0,1.0],\"title\":{\"text\":\"categ_prix\"}},\"yaxis\":{\"anchor\":\"x\",\"domain\":[0.0,1.0],\"title\":{\"text\":\"price\"}},\"legend\":{\"tracegroupgap\":0},\"margin\":{\"t\":60},\"boxmode\":\"group\",\"title\":{\"text\":\"Boite \\u00e0 moustache plotly\"}},                        {\"responsive\": true}                    ).then(function(){\n",
       "                            \n",
       "var gd = document.getElementById('a39da812-6dd3-4d43-803d-1086f8a70795');\n",
       "var x = new MutationObserver(function (mutations, observer) {{\n",
       "        var display = window.getComputedStyle(gd).display;\n",
       "        if (!display || display === 'none') {{\n",
       "            console.log([gd, 'removed!']);\n",
       "            Plotly.purge(gd);\n",
       "            observer.disconnect();\n",
       "        }}\n",
       "}});\n",
       "\n",
       "// Listen for the removal of the full notebook cells\n",
       "var notebookContainer = gd.closest('#notebook-container');\n",
       "if (notebookContainer) {{\n",
       "    x.observe(notebookContainer, {childList: true});\n",
       "}}\n",
       "\n",
       "// Listen for the clearing of the current output cell\n",
       "var outputEl = gd.closest('.output');\n",
       "if (outputEl) {{\n",
       "    x.observe(outputEl, {childList: true});\n",
       "}}\n",
       "\n",
       "                        })                };                });            </script>        </div>"
      ]
     },
     "metadata": {},
     "output_type": "display_data"
    }
   ],
   "source": [
    "#Autre méthode avec plotly express\n",
    "fig = px.box(df_merge_vf,x='price',y='categ_prix',points='all')\n",
    "fig.update_layout(title='Boite à moustache plotly',xaxis_title='categ_prix',yaxis_title='price')\n",
    "fig.show()\n"
   ]
  },
  {
   "cell_type": "markdown",
   "id": "79e2f2eb",
   "metadata": {},
   "source": [
    "<div style=\"border: 1px solid RGB(51,165,182);\" >\n",
    "<h3 style=\"margin: auto; padding: 20px; color: RGB(51,165,182); \">Etape 4.2 - Exploration par l'utisation de méthodes statistique</h3>\n",
    "</div>"
   ]
  },
  {
   "cell_type": "markdown",
   "id": "0735c3b2",
   "metadata": {},
   "source": [
    "<div style=\"border: 1px solid RGB(51,165,182);\" >\n",
    "<h3 style=\"margin: auto; padding: 20px; color: RGB(51,165,182); \">Etape 4.2.1 - Identification par le Z-index</h3>\n",
    "</div>"
   ]
  },
  {
   "cell_type": "code",
   "execution_count": 248,
   "id": "1950ef8d",
   "metadata": {},
   "outputs": [
    {
     "name": "stdout",
     "output_type": "stream",
     "text": [
      "La moyenne du prix est : 32.41563636363637\n",
      "L'écart-type du prix est : 26.795849199710535\n"
     ]
    }
   ],
   "source": [
    "#Calculer la moyenne du prix\n",
    "moyenne_prix = df_merge_vf[\"price\"].mean()\n",
    "\n",
    "#Calculer l'écart-type du prix\n",
    "ecart_type_prix = df_merge_vf['price'].std()\n",
    "\n",
    "print(\"La moyenne du prix est :\", moyenne_prix)\n",
    "print(\"L'écart-type du prix est :\", ecart_type_prix)\n"
   ]
  },
  {
   "cell_type": "code",
   "execution_count": 249,
   "id": "f7c1e023",
   "metadata": {},
   "outputs": [
    {
     "name": "stdout",
     "output_type": "stream",
     "text": [
      "le Z-score du prix est : 0     -0.306601\n",
      "1      0.070323\n",
      "2     -0.433486\n",
      "3     -0.683525\n",
      "4      0.506958\n",
      "         ...   \n",
      "820    0.469639\n",
      "821    0.469639\n",
      "822    0.835367\n",
      "823   -0.220767\n",
      "824   -0.601423\n",
      "Name: Z-score_price, Length: 825, dtype: float64\n"
     ]
    },
    {
     "data": {
      "text/plain": [
       "count    8.250000e+02\n",
       "mean    -8.612639e-17\n",
       "std      1.000000e+00\n",
       "min     -1.015666e+00\n",
       "25%     -6.648655e-01\n",
       "50%     -2.991372e-01\n",
       "75%      3.576809e-01\n",
       "max      7.187097e+00\n",
       "Name: Z-score_price, dtype: float64"
      ]
     },
     "execution_count": 249,
     "metadata": {},
     "output_type": "execute_result"
    }
   ],
   "source": [
    "#Calculer le Z-score\n",
    "\n",
    "df_merge_vf['Z-score_price'] = (df_merge_vf['price'] - moyenne_prix) / ecart_type_prix\n",
    "print(\"le Z-score du prix est :\", df_merge_vf['Z-score_price'])\n",
    "\n",
    "df_merge_vf['Z-score_price'].describe()"
   ]
  },
  {
   "cell_type": "code",
   "execution_count": 250,
   "id": "9c2f435f",
   "metadata": {},
   "outputs": [
    {
     "name": "stdout",
     "output_type": "stream",
     "text": [
      "Le seuil de prix dont le Z-score est supérieur à 3 est : 114.0\n"
     ]
    }
   ],
   "source": [
    "#Quel est le seuil prix dont z-score est supérieur à 3?\n",
    "seuil_z_score = 3\n",
    "prix_outliers = df_merge_vf[df_merge_vf['Z-score_price'] > seuil_z_score]\n",
    "seuil_prix_outliers = prix_outliers['price'].min()\n",
    "print(\"Le seuil de prix dont le Z-score est supérieur à 3 est :\", seuil_prix_outliers)\n"
   ]
  },
  {
   "cell_type": "markdown",
   "id": "750f54f3",
   "metadata": {},
   "source": [
    "<div style=\"border: 1px solid RGB(51,165,182);\" >\n",
    "<h3 style=\"margin: auto; padding: 20px; color: RGB(51,165,182); \">Etape 4.2.2 - Identification par l'interval interquartile</h3>\n",
    "</div>"
   ]
  },
  {
   "cell_type": "code",
   "execution_count": 251,
   "id": "6c0db8c0",
   "metadata": {},
   "outputs": [
    {
     "data": {
      "text/plain": [
       "count    825.000000\n",
       "mean      32.415636\n",
       "std       26.795849\n",
       "min        5.200000\n",
       "25%       14.600000\n",
       "50%       24.400000\n",
       "75%       42.000000\n",
       "max      225.000000\n",
       "Name: price, dtype: float64"
      ]
     },
     "execution_count": 251,
     "metadata": {},
     "output_type": "execute_result"
    }
   ],
   "source": [
    "#Utilisation de la fonction describe de Pandas pour l'etude des mesures de dispersions\n",
    "df_merge_vf[\"price\"].describe()"
   ]
  },
  {
   "cell_type": "code",
   "execution_count": null,
   "id": "a458ca14",
   "metadata": {},
   "outputs": [],
   "source": [
    "#Définissez un seuil pour les articles \"outliers\" en prix: 114.0 €\n"
   ]
  },
  {
   "cell_type": "code",
   "execution_count": 252,
   "id": "7d05cde7",
   "metadata": {},
   "outputs": [
    {
     "name": "stdout",
     "output_type": "stream",
     "text": [
      "     product_id  onsale_web  price stock_status_2 id_web sku_x  sku_y  \\\n",
      "208        4352           1  225.0     outofstock  15940   NaN  15940   \n",
      "210        4355           1  126.5        instock  12589   NaN  12589   \n",
      "227        4402           1  176.0        instock   3510   NaN   3510   \n",
      "230        4406           1  157.0        instock   7819   NaN   7819   \n",
      "242        4594           1  144.0     outofstock    NaN   NaN    NaN   \n",
      "411        4904           1  137.0        instock  14220   NaN  14220   \n",
      "460        5001           1  217.5        instock  14581   NaN  14581   \n",
      "556        5612           1  124.8        instock  14915   NaN  14915   \n",
      "598        5767           1  175.0        instock  15185   NaN  15185   \n",
      "635        5892           1  191.3        instock  14983   NaN  14983   \n",
      "651        5917           1  122.0        instock  14775   NaN  14775   \n",
      "652        5918           1  114.0        instock  14773   NaN  14773   \n",
      "697        6126           1  135.0        instock  14923   NaN  14923   \n",
      "703        6202           1  116.4        instock  15126   NaN  15126   \n",
      "708        6212           1  115.0        instock  13996   NaN  13996   \n",
      "709        6213           1  121.0        instock  15072   NaN  15072   \n",
      "711        6215           1  115.0        instock  12790   NaN  12790   \n",
      "712        6216           1  121.0        instock  15070   NaN  15070   \n",
      "\n",
      "     total_sales tax_status  post_author  ... Couleur  \\\n",
      "208          5.0    taxable          2.0  ...   Blanc   \n",
      "210         11.0    taxable          2.0  ...   Blanc   \n",
      "227         13.0    taxable          2.0  ...     NaN   \n",
      "230          0.0    taxable          2.0  ...     NaN   \n",
      "242          NaN        NaN          NaN  ...     NaN   \n",
      "411          5.0    taxable          2.0  ...   Blanc   \n",
      "460          0.0    taxable          2.0  ...   Rouge   \n",
      "556          0.0    taxable          2.0  ...   Blanc   \n",
      "598          0.0    taxable          2.0  ...   Rouge   \n",
      "635          3.0    taxable          2.0  ...   Rouge   \n",
      "651          0.0    taxable          2.0  ...     NaN   \n",
      "652          0.0    taxable          2.0  ...     NaN   \n",
      "697          2.0    taxable          2.0  ...   Blanc   \n",
      "703          0.0    taxable          2.0  ...   Rouge   \n",
      "708          2.0    taxable          2.0  ...     NaN   \n",
      "709          0.0    taxable          2.0  ...     NaN   \n",
      "711          0.0    taxable          2.0  ...   Rouge   \n",
      "712          0.0    taxable          2.0  ...   Rouge   \n",
      "\n",
      "                             Cépage Millésime        Garde Contenance  \\\n",
      "208  30% Chardonnay, 70% Pinot Noir       NaN  10 ans et +       75cl   \n",
      "210                      Pinot Noir       NaN     5-10 ans       75cl   \n",
      "227                             NaN       NaN          NaN       70cl   \n",
      "230                             NaN       NaN          NaN       70cl   \n",
      "242                             NaN       NaN          NaN        NaN   \n",
      "411                      Chardonnay    2019.0  15 ans et +       75cl   \n",
      "460                      Pinot Noir    2014.0  15 ans et +       75cl   \n",
      "556                  Gewurztraminer    2010.0  15 ans et +     37,5cl   \n",
      "598                      Pinot Noir    2016.0  15 ans et +       75cl   \n",
      "635                      Pinot Noir       NaN  10 ans et +       75cl   \n",
      "651                             NaN       NaN          NaN        NaN   \n",
      "652                             NaN       NaN          NaN       70cl   \n",
      "697  45% Pinot Noir, 55% Chardonnay    2007.0  10 ans et +       75cl   \n",
      "703                      Pinot Noir    2016.0  15 ans et +       75cl   \n",
      "708                             NaN       NaN          NaN        NaN   \n",
      "709                             NaN       NaN          NaN        NaN   \n",
      "711                      Pinot Noir    2014.0    10-12 ans       75cl   \n",
      "712                      Pinot Noir    2016.0    10-12 ans       75cl   \n",
      "\n",
      "    Degré d'alcool Température dégustation  \\\n",
      "208         12,50%                    10°C   \n",
      "210         12,50%                    10°C   \n",
      "227            40%                     NaN   \n",
      "230          41,3%                     NaN   \n",
      "242            NaN                     NaN   \n",
      "411            13%                    12°C   \n",
      "460          13,5%                    15°C   \n",
      "556            11%                    10°C   \n",
      "598            13%                    15°C   \n",
      "635         12,50%                    15°C   \n",
      "651            NaN                     NaN   \n",
      "652            46%                     NaN   \n",
      "697            12%                    10°C   \n",
      "703          13,5%                    15°C   \n",
      "708            NaN                     NaN   \n",
      "709            NaN                     NaN   \n",
      "711          13,5%                    15°C   \n",
      "712          13,5%                    15°C   \n",
      "\n",
      "                                         Alliance mets categ_prix  \\\n",
      "208            Apéritif, Crustacés, Desserts, Poissons      +200€   \n",
      "210              Apéritif, Desserts, Tartes aux fruits   100-199€   \n",
      "227                                                NaN   100-199€   \n",
      "230                                                NaN   100-199€   \n",
      "242                                                NaN   100-199€   \n",
      "411          Poissons nobles, Viande Blanche, Volaille   100-199€   \n",
      "460  Andouillettes, Escargots de Bourgogne, Lapin, ...      +200€   \n",
      "556  Cuisine Exotique, Foie gras poêlé, Munster, Pa...   100-199€   \n",
      "598             Viande Blanche, Viande rouge, Volaille   100-199€   \n",
      "635             Viande Blanche, Viande rouge, Volaille   100-199€   \n",
      "651                                                NaN   100-199€   \n",
      "652                                                NaN   100-199€   \n",
      "697       Agneau de l'Aveyron, Apéritif, Brie de Meaux   100-199€   \n",
      "703                     Fromages, Gibier, Viande rouge   100-199€   \n",
      "708                                                NaN   100-199€   \n",
      "709                                                NaN   100-199€   \n",
      "711       Côtes de Veau, Lapin, Viande rouge, Volaille   100-199€   \n",
      "712       Côtes de Veau, Lapin, Viande rouge, Volaille   100-199€   \n",
      "\n",
      "    Z-score_price  \n",
      "208      7.187097  \n",
      "210      3.511154  \n",
      "227      5.358455  \n",
      "230      4.649390  \n",
      "242      4.164241  \n",
      "411      3.903006  \n",
      "460      6.907203  \n",
      "556      3.447712  \n",
      "598      5.321136  \n",
      "635      5.929439  \n",
      "651      3.343218  \n",
      "652      3.044664  \n",
      "697      3.828368  \n",
      "703      3.134230  \n",
      "708      3.081983  \n",
      "709      3.305899  \n",
      "711      3.081983  \n",
      "712      3.305899  \n",
      "\n",
      "[18 rows x 32 columns]\n"
     ]
    }
   ],
   "source": [
    "#Définissez le nombre d'articles et la proportion de l'ensemble du catalogue \"outliers\"\n",
    "##Définissez le nombre d'articles \n",
    "outliers = df_merge_vf[df_merge_vf['Z-score_price'].abs() > seuil_z_score]\n",
    "print(outliers)\n",
    "outliers.to_csv('outliers.csv', index=False)\n"
   ]
  },
  {
   "cell_type": "code",
   "execution_count": 253,
   "id": "e55aad0f",
   "metadata": {},
   "outputs": [
    {
     "name": "stdout",
     "output_type": "stream",
     "text": [
      "Proportion d'outliers : 2.181818181818182 %\n"
     ]
    }
   ],
   "source": [
    "#Définissez le nombre d'articles \"outliers\" : 18\n",
    "## Définissez la proportion de l'ensemble du catalogue \"outliers\"\n",
    "\n",
    "proportion_outliers = len(outliers) / len(df_merge_vf)*100\n",
    "\n",
    "print(\"Proportion d'outliers :\", proportion_outliers, '%')"
   ]
  },
  {
   "cell_type": "code",
   "execution_count": null,
   "id": "06138432",
   "metadata": {},
   "outputs": [],
   "source": [
    "#Selon vous, ces outliers sont-ils justifiés ? Comment le démontrer si cela est possible ?\n",
    "##oui,cela se justifie par la qualité du produit(region, domaine, appelation, cepage, millesime, age),validation croisée etc\n"
   ]
  },
  {
   "cell_type": "markdown",
   "id": "640da2c8",
   "metadata": {},
   "source": [
    "<div style=\"background-color: RGB(51,165,182);\" >\n",
    "<h2 style=\"margin: auto; padding: 20px; color:#fff; \">Etape 5 - Analyse univarié du CA et des quantités vendues</h2>\n",
    "</div>"
   ]
  },
  {
   "cell_type": "markdown",
   "id": "5871c808",
   "metadata": {},
   "source": [
    "<div style=\"border: 1px solid RGB(51,165,182);\" >\n",
    "<h3 style=\"margin: auto; padding: 20px; color: RGB(51,165,182); \">Etape 5.1 - Analyse des ventes en CA</h3>\n",
    "</div>"
   ]
  },
  {
   "cell_type": "code",
   "execution_count": 254,
   "id": "da0d5834",
   "metadata": {},
   "outputs": [
    {
     "data": {
      "text/plain": [
       "0    145.2\n",
       "1      0.0\n",
       "2      0.0\n",
       "3     42.3\n",
       "4      0.0\n",
       "Name: chiffre_affaires, dtype: float64"
      ]
     },
     "execution_count": 254,
     "metadata": {},
     "output_type": "execute_result"
    }
   ],
   "source": [
    "##############################\n",
    "# Calculer le CA su site web #\n",
    "##############################\n",
    "\n",
    "#Créez une colonne calculant le CA par article\n",
    "\n",
    "df_merge_vf['chiffre_affaires'] = df_merge_vf['total_sales'] * df_merge_vf['price']\n",
    "\n",
    "df_merge_vf['chiffre_affaires'].head()\n"
   ]
  },
  {
   "cell_type": "code",
   "execution_count": 255,
   "id": "f884c64e",
   "metadata": {},
   "outputs": [
    {
     "name": "stdout",
     "output_type": "stream",
     "text": [
      "Le chiffre d'affaires total est : 70568.6\n"
     ]
    }
   ],
   "source": [
    "#Calculez la somme de la colonne \"ca_par_article\"\n",
    "chiffre_affaires_total = df_merge_vf['chiffre_affaires'].sum()\n",
    "print(\"Le chiffre d'affaires total est :\", chiffre_affaires_total)"
   ]
  },
  {
   "cell_type": "code",
   "execution_count": 256,
   "id": "c9d79f78",
   "metadata": {},
   "outputs": [
    {
     "name": "stdout",
     "output_type": "stream",
     "text": [
      "Le chiffre d'affaires total des ventes en ligne est : 70568.6\n"
     ]
    },
    {
     "name": "stderr",
     "output_type": "stream",
     "text": [
      "C:\\Users\\33666\\AppData\\Local\\Temp\\ipykernel_11048\\2475394993.py:3: SettingWithCopyWarning:\n",
      "\n",
      "\n",
      "A value is trying to be set on a copy of a slice from a DataFrame.\n",
      "Try using .loc[row_indexer,col_indexer] = value instead\n",
      "\n",
      "See the caveats in the documentation: https://pandas.pydata.org/pandas-docs/stable/user_guide/indexing.html#returning-a-view-versus-a-copy\n",
      "\n"
     ]
    }
   ],
   "source": [
    "#Ce résultat correspond au chiffre d'affaire du site web\n",
    "ventes_en_ligne = df_merge_vf[df_merge_vf['onsale_web'] == 1]\n",
    "ventes_en_ligne['chiffre_affaires'] = ventes_en_ligne['total_sales'] * ventes_en_ligne['price']\n",
    "\n",
    "# Calculer le chiffre d'affaires total des ventes en ligne\n",
    "chiffre_affaires_ventes_en_ligne = ventes_en_ligne['chiffre_affaires'].sum()\n",
    "\n",
    "# Afficher le chiffre d'affaires total des ventes en ligne\n",
    "print(\"Le chiffre d'affaires total des ventes en ligne est :\", chiffre_affaires_ventes_en_ligne)"
   ]
  },
  {
   "cell_type": "code",
   "execution_count": 257,
   "id": "91d73102",
   "metadata": {},
   "outputs": [
    {
     "name": "stdout",
     "output_type": "stream",
     "text": [
      "onsale_web\n",
      "0        0.0\n",
      "1    70568.6\n",
      "Name: chiffre_affaires, dtype: float64\n"
     ]
    }
   ],
   "source": [
    "## Calculer le chiffre d'affaires total des ventes en ligne(autre méthode)\n",
    "chiffre_affaires_par_type = df_merge_vf.groupby('onsale_web')['chiffre_affaires'].sum()\n",
    "print(chiffre_affaires_par_type)"
   ]
  },
  {
   "cell_type": "code",
   "execution_count": 258,
   "id": "4040ced7",
   "metadata": {},
   "outputs": [
    {
     "name": "stdout",
     "output_type": "stream",
     "text": [
      "    product_id  onsale_web  price stock_status_2 id_web sku_x  sku_y  \\\n",
      "0         4334           1   49.0     outofstock   7818   NaN   7818   \n",
      "1         4144           1   49.0        instock   1662   NaN   1662   \n",
      "2         4402           1  176.0        instock   3510   NaN   3510   \n",
      "3         4142           1   53.0        instock  11641   NaN  11641   \n",
      "4         4141           1   39.0        instock    304   NaN    304   \n",
      "5         4355           1  126.5        instock  12589   NaN  12589   \n",
      "6         4352           1  225.0     outofstock  15940   NaN  15940   \n",
      "7         4153           1   29.0     outofstock  16237   NaN  16237   \n",
      "8         6206           1   25.2        instock  16580   NaN  16580   \n",
      "9         4068           1   16.6        instock  16416   NaN  16416   \n",
      "10        4053           1   44.3        instock  13127   NaN  13127   \n",
      "11        4596           1   43.9     outofstock  15476   NaN  15476   \n",
      "12        4891           1   27.9     outofstock  15807   NaN  15807   \n",
      "13        5067           1   59.9     outofstock  15346   NaN  15346   \n",
      "14        6207           1   25.2        instock  16077   NaN  16077   \n",
      "15        4918           1   37.2     outofstock  15533   NaN  15533   \n",
      "16        5922           1   48.5     outofstock  15343   NaN  15343   \n",
      "17        4054           1   71.6     outofstock  19816   NaN  19816   \n",
      "18        4286           1   69.8        instock  16066   NaN  16066   \n",
      "19        4904           1  137.0        instock  14220   NaN  14220   \n",
      "\n",
      "    total_sales tax_status  post_author  ...  \\\n",
      "0          96.0    taxable          2.0  ...   \n",
      "1          87.0    taxable          2.0  ...   \n",
      "2          13.0    taxable          2.0  ...   \n",
      "3          30.0    taxable          2.0  ...   \n",
      "4          40.0    taxable          2.0  ...   \n",
      "5          11.0    taxable          2.0  ...   \n",
      "6           5.0    taxable          2.0  ...   \n",
      "7          36.0    taxable          2.0  ...   \n",
      "8          41.0    taxable          2.0  ...   \n",
      "9          62.0    taxable          2.0  ...   \n",
      "10         23.0    taxable          2.0  ...   \n",
      "11         23.0    taxable          2.0  ...   \n",
      "12         36.0    taxable          2.0  ...   \n",
      "13         16.0    taxable          2.0  ...   \n",
      "14         37.0    taxable          2.0  ...   \n",
      "15         24.0    taxable          2.0  ...   \n",
      "16         17.0    taxable          2.0  ...   \n",
      "17         10.0    taxable          2.0  ...   \n",
      "18         10.0    taxable          2.0  ...   \n",
      "19          5.0    taxable          2.0  ...   \n",
      "\n",
      "                                               Cépage Millésime        Garde  \\\n",
      "0                                          Chardonnay       NaN        4 ans   \n",
      "1                      50% Chardonnay, 50% Pinot Noir       NaN        4 ans   \n",
      "2                                                 NaN       NaN          NaN   \n",
      "3                      44% Chardonnay, 56% Pinot Noir    2015.0     8-10 ans   \n",
      "4   10% Pinot Meunier, 45% Chardonnay, 45% Pinot Noir       NaN        4 ans   \n",
      "5                                          Pinot Noir       NaN     5-10 ans   \n",
      "6                      30% Chardonnay, 70% Pinot Noir       NaN  10 ans et +   \n",
      "7   Abouriou, Cabernet Franc, Cabernet Sauvignon, ...    2014.0    10-15 ans   \n",
      "8                                          Vermentino    2020.0      3-5 ans   \n",
      "9                                          100% Syrah    2021.0      3-5 ans   \n",
      "10               Cinsault, Grenache, Mourvèdre, Syrah    2007.0  15 ans et +   \n",
      "11                                         Chardonnay    2018.0      4-7 ans   \n",
      "12                                         Chardonnay    2020.0      4-7 ans   \n",
      "13                                                NaN       NaN          NaN   \n",
      "14                                         Nielluccio    2018.0      6-8 ans   \n",
      "15                                         100% Syrah    2018.0    10-15 ans   \n",
      "16                                                NaN       NaN          NaN   \n",
      "17                         Grenache, Mourvèdre, Syrah    2018.0  15 ans et +   \n",
      "18                       Carignan, Cinsault, Grenache    2018.0    10-15 ans   \n",
      "19                                         Chardonnay    2019.0  15 ans et +   \n",
      "\n",
      "   Contenance Degré d'alcool Température dégustation  \\\n",
      "0        75cl            12%                    10°C   \n",
      "1        75cl            12%                    10°C   \n",
      "2        70cl            40%                     NaN   \n",
      "3        75cl            12%                    10°C   \n",
      "4        75cl            12%                    10°C   \n",
      "5        75cl         12,50%                    10°C   \n",
      "6        75cl         12,50%                    10°C   \n",
      "7        75cl            13%                    16°C   \n",
      "8        75cl          13,5%                    11°C   \n",
      "9        75cl          13,5%                    15°C   \n",
      "10       75cl            15%                    16°C   \n",
      "11       75cl            13%                    12°C   \n",
      "12       75cl          13,5%                    12°C   \n",
      "13        NaN            NaN                     NaN   \n",
      "14       75cl            14%                    15°C   \n",
      "15       75cl            13%                    15°C   \n",
      "16        NaN            NaN                     NaN   \n",
      "17       75cl            15%                    16°C   \n",
      "18       75cl         12,50%                    16°C   \n",
      "19       75cl            13%                    12°C   \n",
      "\n",
      "                                        Alliance mets categ_prix  \\\n",
      "0   Apéritif, Coquilles Saint Jacques, Huîtres, Po...     30-49€   \n",
      "1             Apéritif, Desserts, Foie gras, Poissons     30-49€   \n",
      "2                                                 NaN   100-199€   \n",
      "3   Agneau, Apéritif, Fromage de chèvre, Noix de S...     50-99€   \n",
      "4          Apéritif, Fruits cuits, Sucré-salé, Tajine     30-49€   \n",
      "5               Apéritif, Desserts, Tartes aux fruits   100-199€   \n",
      "6             Apéritif, Crustacés, Desserts, Poissons      +200€   \n",
      "7                     Gibier, Grillades, Viande rouge     20-29€   \n",
      "8        Fruits de mer, Langoustes, Poissons, Risotto     20-29€   \n",
      "9       Apéritif, Charcuterie, Viande rouge, Volaille     10-19€   \n",
      "10                               Gibier, Viande rouge     30-49€   \n",
      "11  Bouchées à la Reine, Ris de veau, Risotto, Vol...     30-49€   \n",
      "12  Fromages, Poisson en sauce, Viande Blanche, Vo...     20-29€   \n",
      "13                                                NaN     50-99€   \n",
      "14  Cuisine méditerranéenne, Gibiers à plumes, Pig...     20-29€   \n",
      "15            Agneau, Gibier, Grillades, Viande rouge     30-49€   \n",
      "16                                                NaN     30-49€   \n",
      "17                               Gibier, Viande rouge     50-99€   \n",
      "18  Grillades, Légumes du Soleil, Mouton, Viande r...     50-99€   \n",
      "19          Poissons nobles, Viande Blanche, Volaille   100-199€   \n",
      "\n",
      "   Z-score_price chiffre_affaires  \n",
      "0       0.618915           4704.0  \n",
      "1       0.618915           4263.0  \n",
      "2       5.358455           2288.0  \n",
      "3       0.768192           1590.0  \n",
      "4       0.245723           1560.0  \n",
      "5       3.511154           1391.5  \n",
      "6       7.187097           1125.0  \n",
      "7      -0.127469           1044.0  \n",
      "8      -0.269282           1033.2  \n",
      "9      -0.590227           1029.2  \n",
      "10      0.443515           1018.9  \n",
      "11      0.428587           1009.7  \n",
      "12     -0.168520           1004.4  \n",
      "13      1.025695            958.4  \n",
      "14     -0.269282            932.4  \n",
      "15      0.178549            892.8  \n",
      "16      0.600256            824.5  \n",
      "17      1.462330            716.0  \n",
      "18      1.395155            698.0  \n",
      "19      3.903006            685.0  \n",
      "\n",
      "[20 rows x 33 columns]\n"
     ]
    }
   ],
   "source": [
    "###############################\n",
    "# Palmares des articles en CA #\n",
    "###############################\n",
    "\n",
    "#Effectuer le tri dans l'ordre décroissant du CA du dataset df_merge\n",
    "df_merge_vf_trie = df_merge_vf.sort_values(by='chiffre_affaires', ascending=False)\n",
    "\n",
    "#Réinitialiser l'index du dataset par un reset_index\n",
    "df_merge_vf_trie = df_merge_vf_trie.reset_index(drop=True)\n",
    "\n",
    "#Afficher les 20 premier articles en CA\n",
    "\n",
    "top_20_articles = df_merge_vf_trie.head(20)\n",
    "print(top_20_articles)\n"
   ]
  },
  {
   "cell_type": "code",
   "execution_count": 259,
   "id": "ca042156",
   "metadata": {},
   "outputs": [
    {
     "data": {
      "application/vnd.plotly.v1+json": {
       "config": {
        "plotlyServerURL": "https://plot.ly"
       },
       "data": [
        {
         "alignmentgroup": "True",
         "hovertemplate": "post_name=%{x}<br>chiffre_affaires=%{y}<extra></extra>",
         "legendgroup": "",
         "marker": {
          "color": "#636efa",
          "pattern": {
           "shape": ""
          }
         },
         "name": "",
         "offsetgroup": "",
         "orientation": "v",
         "showlegend": false,
         "textfont": {
          "color": "black",
          "family": "Cambria",
          "size": 12
         },
         "textposition": "outside",
         "texttemplate": "%{y}",
         "type": "bar",
         "x": [
          "champagne-gosset-grand-blanc-de-blanc",
          "champagne-gosset-grand-rose",
          "cognac-frapin-vip-xo",
          "champagne-gosset-grand-millesime-2006",
          "gosset-champagne-grande-reserve",
          "champagne-egly-ouriet-grand-cru-brut-blanc-de-noirs",
          "champagne-egly-ouriet-grand-cru-millesime-2008",
          "elian-daros-cotes-du-marmandais-clos-baquey-2015",
          "domaine-giudicelli-patrimonio-blanc-2019",
          "gilles-robin-crozes-hermitage-papillon-2019",
          "clos-du-mont-olivet-chateauneuf-du-pape-2012",
          "marc-colin-et-fils-chassagne-montrachet-blanc-margot-2017",
          "jacqueson-rully-blanc-1er-cru-la-pucelle-2018",
          "albert-mann-pinot-noir-grand-h-2017",
          "domaine-giudicelli-patrimonio-rouge-2016",
          "alain-graillot-crozes-hermitage-rouge-la-guiraude-2016",
          "albert-mann-pinot-noir-clos-de-la-faille-2017",
          "clos-du-mont-olivet-chateauneuf-du-pape-papet-2018",
          "hauvette-baux-provence-amethyste-2017",
          "domaine-des-croix-corton-charlemagne-grand-cru-2016"
         ],
         "xaxis": "x",
         "y": [
          4704,
          4263,
          2288,
          1590,
          1560,
          1391.5,
          1125,
          1044,
          1033.2,
          1029.2,
          1018.9,
          1009.6999999999999,
          1004.4,
          958.4,
          932.4,
          892.8000000000001,
          824.5,
          716,
          698,
          685
         ],
         "yaxis": "y"
        }
       ],
       "layout": {
        "barmode": "relative",
        "height": 900,
        "legend": {
         "tracegroupgap": 0
        },
        "template": {
         "data": {
          "bar": [
           {
            "error_x": {
             "color": "#2a3f5f"
            },
            "error_y": {
             "color": "#2a3f5f"
            },
            "marker": {
             "line": {
              "color": "#E5ECF6",
              "width": 0.5
             },
             "pattern": {
              "fillmode": "overlay",
              "size": 10,
              "solidity": 0.2
             }
            },
            "type": "bar"
           }
          ],
          "barpolar": [
           {
            "marker": {
             "line": {
              "color": "#E5ECF6",
              "width": 0.5
             },
             "pattern": {
              "fillmode": "overlay",
              "size": 10,
              "solidity": 0.2
             }
            },
            "type": "barpolar"
           }
          ],
          "carpet": [
           {
            "aaxis": {
             "endlinecolor": "#2a3f5f",
             "gridcolor": "white",
             "linecolor": "white",
             "minorgridcolor": "white",
             "startlinecolor": "#2a3f5f"
            },
            "baxis": {
             "endlinecolor": "#2a3f5f",
             "gridcolor": "white",
             "linecolor": "white",
             "minorgridcolor": "white",
             "startlinecolor": "#2a3f5f"
            },
            "type": "carpet"
           }
          ],
          "choropleth": [
           {
            "colorbar": {
             "outlinewidth": 0,
             "ticks": ""
            },
            "type": "choropleth"
           }
          ],
          "contour": [
           {
            "colorbar": {
             "outlinewidth": 0,
             "ticks": ""
            },
            "colorscale": [
             [
              0,
              "#0d0887"
             ],
             [
              0.1111111111111111,
              "#46039f"
             ],
             [
              0.2222222222222222,
              "#7201a8"
             ],
             [
              0.3333333333333333,
              "#9c179e"
             ],
             [
              0.4444444444444444,
              "#bd3786"
             ],
             [
              0.5555555555555556,
              "#d8576b"
             ],
             [
              0.6666666666666666,
              "#ed7953"
             ],
             [
              0.7777777777777778,
              "#fb9f3a"
             ],
             [
              0.8888888888888888,
              "#fdca26"
             ],
             [
              1,
              "#f0f921"
             ]
            ],
            "type": "contour"
           }
          ],
          "contourcarpet": [
           {
            "colorbar": {
             "outlinewidth": 0,
             "ticks": ""
            },
            "type": "contourcarpet"
           }
          ],
          "heatmap": [
           {
            "colorbar": {
             "outlinewidth": 0,
             "ticks": ""
            },
            "colorscale": [
             [
              0,
              "#0d0887"
             ],
             [
              0.1111111111111111,
              "#46039f"
             ],
             [
              0.2222222222222222,
              "#7201a8"
             ],
             [
              0.3333333333333333,
              "#9c179e"
             ],
             [
              0.4444444444444444,
              "#bd3786"
             ],
             [
              0.5555555555555556,
              "#d8576b"
             ],
             [
              0.6666666666666666,
              "#ed7953"
             ],
             [
              0.7777777777777778,
              "#fb9f3a"
             ],
             [
              0.8888888888888888,
              "#fdca26"
             ],
             [
              1,
              "#f0f921"
             ]
            ],
            "type": "heatmap"
           }
          ],
          "heatmapgl": [
           {
            "colorbar": {
             "outlinewidth": 0,
             "ticks": ""
            },
            "colorscale": [
             [
              0,
              "#0d0887"
             ],
             [
              0.1111111111111111,
              "#46039f"
             ],
             [
              0.2222222222222222,
              "#7201a8"
             ],
             [
              0.3333333333333333,
              "#9c179e"
             ],
             [
              0.4444444444444444,
              "#bd3786"
             ],
             [
              0.5555555555555556,
              "#d8576b"
             ],
             [
              0.6666666666666666,
              "#ed7953"
             ],
             [
              0.7777777777777778,
              "#fb9f3a"
             ],
             [
              0.8888888888888888,
              "#fdca26"
             ],
             [
              1,
              "#f0f921"
             ]
            ],
            "type": "heatmapgl"
           }
          ],
          "histogram": [
           {
            "marker": {
             "pattern": {
              "fillmode": "overlay",
              "size": 10,
              "solidity": 0.2
             }
            },
            "type": "histogram"
           }
          ],
          "histogram2d": [
           {
            "colorbar": {
             "outlinewidth": 0,
             "ticks": ""
            },
            "colorscale": [
             [
              0,
              "#0d0887"
             ],
             [
              0.1111111111111111,
              "#46039f"
             ],
             [
              0.2222222222222222,
              "#7201a8"
             ],
             [
              0.3333333333333333,
              "#9c179e"
             ],
             [
              0.4444444444444444,
              "#bd3786"
             ],
             [
              0.5555555555555556,
              "#d8576b"
             ],
             [
              0.6666666666666666,
              "#ed7953"
             ],
             [
              0.7777777777777778,
              "#fb9f3a"
             ],
             [
              0.8888888888888888,
              "#fdca26"
             ],
             [
              1,
              "#f0f921"
             ]
            ],
            "type": "histogram2d"
           }
          ],
          "histogram2dcontour": [
           {
            "colorbar": {
             "outlinewidth": 0,
             "ticks": ""
            },
            "colorscale": [
             [
              0,
              "#0d0887"
             ],
             [
              0.1111111111111111,
              "#46039f"
             ],
             [
              0.2222222222222222,
              "#7201a8"
             ],
             [
              0.3333333333333333,
              "#9c179e"
             ],
             [
              0.4444444444444444,
              "#bd3786"
             ],
             [
              0.5555555555555556,
              "#d8576b"
             ],
             [
              0.6666666666666666,
              "#ed7953"
             ],
             [
              0.7777777777777778,
              "#fb9f3a"
             ],
             [
              0.8888888888888888,
              "#fdca26"
             ],
             [
              1,
              "#f0f921"
             ]
            ],
            "type": "histogram2dcontour"
           }
          ],
          "mesh3d": [
           {
            "colorbar": {
             "outlinewidth": 0,
             "ticks": ""
            },
            "type": "mesh3d"
           }
          ],
          "parcoords": [
           {
            "line": {
             "colorbar": {
              "outlinewidth": 0,
              "ticks": ""
             }
            },
            "type": "parcoords"
           }
          ],
          "pie": [
           {
            "automargin": true,
            "type": "pie"
           }
          ],
          "scatter": [
           {
            "fillpattern": {
             "fillmode": "overlay",
             "size": 10,
             "solidity": 0.2
            },
            "type": "scatter"
           }
          ],
          "scatter3d": [
           {
            "line": {
             "colorbar": {
              "outlinewidth": 0,
              "ticks": ""
             }
            },
            "marker": {
             "colorbar": {
              "outlinewidth": 0,
              "ticks": ""
             }
            },
            "type": "scatter3d"
           }
          ],
          "scattercarpet": [
           {
            "marker": {
             "colorbar": {
              "outlinewidth": 0,
              "ticks": ""
             }
            },
            "type": "scattercarpet"
           }
          ],
          "scattergeo": [
           {
            "marker": {
             "colorbar": {
              "outlinewidth": 0,
              "ticks": ""
             }
            },
            "type": "scattergeo"
           }
          ],
          "scattergl": [
           {
            "marker": {
             "colorbar": {
              "outlinewidth": 0,
              "ticks": ""
             }
            },
            "type": "scattergl"
           }
          ],
          "scattermapbox": [
           {
            "marker": {
             "colorbar": {
              "outlinewidth": 0,
              "ticks": ""
             }
            },
            "type": "scattermapbox"
           }
          ],
          "scatterpolar": [
           {
            "marker": {
             "colorbar": {
              "outlinewidth": 0,
              "ticks": ""
             }
            },
            "type": "scatterpolar"
           }
          ],
          "scatterpolargl": [
           {
            "marker": {
             "colorbar": {
              "outlinewidth": 0,
              "ticks": ""
             }
            },
            "type": "scatterpolargl"
           }
          ],
          "scatterternary": [
           {
            "marker": {
             "colorbar": {
              "outlinewidth": 0,
              "ticks": ""
             }
            },
            "type": "scatterternary"
           }
          ],
          "surface": [
           {
            "colorbar": {
             "outlinewidth": 0,
             "ticks": ""
            },
            "colorscale": [
             [
              0,
              "#0d0887"
             ],
             [
              0.1111111111111111,
              "#46039f"
             ],
             [
              0.2222222222222222,
              "#7201a8"
             ],
             [
              0.3333333333333333,
              "#9c179e"
             ],
             [
              0.4444444444444444,
              "#bd3786"
             ],
             [
              0.5555555555555556,
              "#d8576b"
             ],
             [
              0.6666666666666666,
              "#ed7953"
             ],
             [
              0.7777777777777778,
              "#fb9f3a"
             ],
             [
              0.8888888888888888,
              "#fdca26"
             ],
             [
              1,
              "#f0f921"
             ]
            ],
            "type": "surface"
           }
          ],
          "table": [
           {
            "cells": {
             "fill": {
              "color": "#EBF0F8"
             },
             "line": {
              "color": "white"
             }
            },
            "header": {
             "fill": {
              "color": "#C8D4E3"
             },
             "line": {
              "color": "white"
             }
            },
            "type": "table"
           }
          ]
         },
         "layout": {
          "annotationdefaults": {
           "arrowcolor": "#2a3f5f",
           "arrowhead": 0,
           "arrowwidth": 1
          },
          "autotypenumbers": "strict",
          "coloraxis": {
           "colorbar": {
            "outlinewidth": 0,
            "ticks": ""
           }
          },
          "colorscale": {
           "diverging": [
            [
             0,
             "#8e0152"
            ],
            [
             0.1,
             "#c51b7d"
            ],
            [
             0.2,
             "#de77ae"
            ],
            [
             0.3,
             "#f1b6da"
            ],
            [
             0.4,
             "#fde0ef"
            ],
            [
             0.5,
             "#f7f7f7"
            ],
            [
             0.6,
             "#e6f5d0"
            ],
            [
             0.7,
             "#b8e186"
            ],
            [
             0.8,
             "#7fbc41"
            ],
            [
             0.9,
             "#4d9221"
            ],
            [
             1,
             "#276419"
            ]
           ],
           "sequential": [
            [
             0,
             "#0d0887"
            ],
            [
             0.1111111111111111,
             "#46039f"
            ],
            [
             0.2222222222222222,
             "#7201a8"
            ],
            [
             0.3333333333333333,
             "#9c179e"
            ],
            [
             0.4444444444444444,
             "#bd3786"
            ],
            [
             0.5555555555555556,
             "#d8576b"
            ],
            [
             0.6666666666666666,
             "#ed7953"
            ],
            [
             0.7777777777777778,
             "#fb9f3a"
            ],
            [
             0.8888888888888888,
             "#fdca26"
            ],
            [
             1,
             "#f0f921"
            ]
           ],
           "sequentialminus": [
            [
             0,
             "#0d0887"
            ],
            [
             0.1111111111111111,
             "#46039f"
            ],
            [
             0.2222222222222222,
             "#7201a8"
            ],
            [
             0.3333333333333333,
             "#9c179e"
            ],
            [
             0.4444444444444444,
             "#bd3786"
            ],
            [
             0.5555555555555556,
             "#d8576b"
            ],
            [
             0.6666666666666666,
             "#ed7953"
            ],
            [
             0.7777777777777778,
             "#fb9f3a"
            ],
            [
             0.8888888888888888,
             "#fdca26"
            ],
            [
             1,
             "#f0f921"
            ]
           ]
          },
          "colorway": [
           "#636efa",
           "#EF553B",
           "#00cc96",
           "#ab63fa",
           "#FFA15A",
           "#19d3f3",
           "#FF6692",
           "#B6E880",
           "#FF97FF",
           "#FECB52"
          ],
          "font": {
           "color": "#2a3f5f"
          },
          "geo": {
           "bgcolor": "white",
           "lakecolor": "white",
           "landcolor": "#E5ECF6",
           "showlakes": true,
           "showland": true,
           "subunitcolor": "white"
          },
          "hoverlabel": {
           "align": "left"
          },
          "hovermode": "closest",
          "mapbox": {
           "style": "light"
          },
          "paper_bgcolor": "white",
          "plot_bgcolor": "#E5ECF6",
          "polar": {
           "angularaxis": {
            "gridcolor": "white",
            "linecolor": "white",
            "ticks": ""
           },
           "bgcolor": "#E5ECF6",
           "radialaxis": {
            "gridcolor": "white",
            "linecolor": "white",
            "ticks": ""
           }
          },
          "scene": {
           "xaxis": {
            "backgroundcolor": "#E5ECF6",
            "gridcolor": "white",
            "gridwidth": 2,
            "linecolor": "white",
            "showbackground": true,
            "ticks": "",
            "zerolinecolor": "white"
           },
           "yaxis": {
            "backgroundcolor": "#E5ECF6",
            "gridcolor": "white",
            "gridwidth": 2,
            "linecolor": "white",
            "showbackground": true,
            "ticks": "",
            "zerolinecolor": "white"
           },
           "zaxis": {
            "backgroundcolor": "#E5ECF6",
            "gridcolor": "white",
            "gridwidth": 2,
            "linecolor": "white",
            "showbackground": true,
            "ticks": "",
            "zerolinecolor": "white"
           }
          },
          "shapedefaults": {
           "line": {
            "color": "#2a3f5f"
           }
          },
          "ternary": {
           "aaxis": {
            "gridcolor": "white",
            "linecolor": "white",
            "ticks": ""
           },
           "baxis": {
            "gridcolor": "white",
            "linecolor": "white",
            "ticks": ""
           },
           "bgcolor": "#E5ECF6",
           "caxis": {
            "gridcolor": "white",
            "linecolor": "white",
            "ticks": ""
           }
          },
          "title": {
           "x": 0.05
          },
          "xaxis": {
           "automargin": true,
           "gridcolor": "white",
           "linecolor": "white",
           "ticks": "",
           "title": {
            "standoff": 15
           },
           "zerolinecolor": "white",
           "zerolinewidth": 2
          },
          "yaxis": {
           "automargin": true,
           "gridcolor": "white",
           "linecolor": "white",
           "ticks": "",
           "title": {
            "standoff": 15
           },
           "zerolinecolor": "white",
           "zerolinewidth": 2
          }
         }
        },
        "title": {
         "text": "Top 20 des articles en CA"
        },
        "width": 900,
        "xaxis": {
         "anchor": "y",
         "domain": [
          0,
          1
         ],
         "title": {
          "text": "post_name"
         }
        },
        "yaxis": {
         "anchor": "x",
         "domain": [
          0,
          1
         ],
         "title": {
          "text": "chiffre_affaires"
         }
        }
       }
      },
      "text/html": [
       "<div>                            <div id=\"1a679e56-5828-4855-997d-c74c5c12954e\" class=\"plotly-graph-div\" style=\"height:900px; width:900px;\"></div>            <script type=\"text/javascript\">                require([\"plotly\"], function(Plotly) {                    window.PLOTLYENV=window.PLOTLYENV || {};                                    if (document.getElementById(\"1a679e56-5828-4855-997d-c74c5c12954e\")) {                    Plotly.newPlot(                        \"1a679e56-5828-4855-997d-c74c5c12954e\",                        [{\"alignmentgroup\":\"True\",\"hovertemplate\":\"post_name=%{x}<br>chiffre_affaires=%{y}<extra></extra>\",\"legendgroup\":\"\",\"marker\":{\"color\":\"#636efa\",\"pattern\":{\"shape\":\"\"}},\"name\":\"\",\"offsetgroup\":\"\",\"orientation\":\"v\",\"showlegend\":false,\"textposition\":\"outside\",\"x\":[\"champagne-gosset-grand-blanc-de-blanc\",\"champagne-gosset-grand-rose\",\"cognac-frapin-vip-xo\",\"champagne-gosset-grand-millesime-2006\",\"gosset-champagne-grande-reserve\",\"champagne-egly-ouriet-grand-cru-brut-blanc-de-noirs\",\"champagne-egly-ouriet-grand-cru-millesime-2008\",\"elian-daros-cotes-du-marmandais-clos-baquey-2015\",\"domaine-giudicelli-patrimonio-blanc-2019\",\"gilles-robin-crozes-hermitage-papillon-2019\",\"clos-du-mont-olivet-chateauneuf-du-pape-2012\",\"marc-colin-et-fils-chassagne-montrachet-blanc-margot-2017\",\"jacqueson-rully-blanc-1er-cru-la-pucelle-2018\",\"albert-mann-pinot-noir-grand-h-2017\",\"domaine-giudicelli-patrimonio-rouge-2016\",\"alain-graillot-crozes-hermitage-rouge-la-guiraude-2016\",\"albert-mann-pinot-noir-clos-de-la-faille-2017\",\"clos-du-mont-olivet-chateauneuf-du-pape-papet-2018\",\"hauvette-baux-provence-amethyste-2017\",\"domaine-des-croix-corton-charlemagne-grand-cru-2016\"],\"xaxis\":\"x\",\"y\":[4704.0,4263.0,2288.0,1590.0,1560.0,1391.5,1125.0,1044.0,1033.2,1029.2,1018.9,1009.6999999999999,1004.4,958.4,932.4,892.8000000000001,824.5,716.0,698.0,685.0],\"yaxis\":\"y\",\"type\":\"bar\",\"textfont\":{\"color\":\"black\",\"family\":\"Cambria\",\"size\":12},\"texttemplate\":\"%{y}\"}],                        {\"template\":{\"data\":{\"histogram2dcontour\":[{\"type\":\"histogram2dcontour\",\"colorbar\":{\"outlinewidth\":0,\"ticks\":\"\"},\"colorscale\":[[0.0,\"#0d0887\"],[0.1111111111111111,\"#46039f\"],[0.2222222222222222,\"#7201a8\"],[0.3333333333333333,\"#9c179e\"],[0.4444444444444444,\"#bd3786\"],[0.5555555555555556,\"#d8576b\"],[0.6666666666666666,\"#ed7953\"],[0.7777777777777778,\"#fb9f3a\"],[0.8888888888888888,\"#fdca26\"],[1.0,\"#f0f921\"]]}],\"choropleth\":[{\"type\":\"choropleth\",\"colorbar\":{\"outlinewidth\":0,\"ticks\":\"\"}}],\"histogram2d\":[{\"type\":\"histogram2d\",\"colorbar\":{\"outlinewidth\":0,\"ticks\":\"\"},\"colorscale\":[[0.0,\"#0d0887\"],[0.1111111111111111,\"#46039f\"],[0.2222222222222222,\"#7201a8\"],[0.3333333333333333,\"#9c179e\"],[0.4444444444444444,\"#bd3786\"],[0.5555555555555556,\"#d8576b\"],[0.6666666666666666,\"#ed7953\"],[0.7777777777777778,\"#fb9f3a\"],[0.8888888888888888,\"#fdca26\"],[1.0,\"#f0f921\"]]}],\"heatmap\":[{\"type\":\"heatmap\",\"colorbar\":{\"outlinewidth\":0,\"ticks\":\"\"},\"colorscale\":[[0.0,\"#0d0887\"],[0.1111111111111111,\"#46039f\"],[0.2222222222222222,\"#7201a8\"],[0.3333333333333333,\"#9c179e\"],[0.4444444444444444,\"#bd3786\"],[0.5555555555555556,\"#d8576b\"],[0.6666666666666666,\"#ed7953\"],[0.7777777777777778,\"#fb9f3a\"],[0.8888888888888888,\"#fdca26\"],[1.0,\"#f0f921\"]]}],\"heatmapgl\":[{\"type\":\"heatmapgl\",\"colorbar\":{\"outlinewidth\":0,\"ticks\":\"\"},\"colorscale\":[[0.0,\"#0d0887\"],[0.1111111111111111,\"#46039f\"],[0.2222222222222222,\"#7201a8\"],[0.3333333333333333,\"#9c179e\"],[0.4444444444444444,\"#bd3786\"],[0.5555555555555556,\"#d8576b\"],[0.6666666666666666,\"#ed7953\"],[0.7777777777777778,\"#fb9f3a\"],[0.8888888888888888,\"#fdca26\"],[1.0,\"#f0f921\"]]}],\"contourcarpet\":[{\"type\":\"contourcarpet\",\"colorbar\":{\"outlinewidth\":0,\"ticks\":\"\"}}],\"contour\":[{\"type\":\"contour\",\"colorbar\":{\"outlinewidth\":0,\"ticks\":\"\"},\"colorscale\":[[0.0,\"#0d0887\"],[0.1111111111111111,\"#46039f\"],[0.2222222222222222,\"#7201a8\"],[0.3333333333333333,\"#9c179e\"],[0.4444444444444444,\"#bd3786\"],[0.5555555555555556,\"#d8576b\"],[0.6666666666666666,\"#ed7953\"],[0.7777777777777778,\"#fb9f3a\"],[0.8888888888888888,\"#fdca26\"],[1.0,\"#f0f921\"]]}],\"surface\":[{\"type\":\"surface\",\"colorbar\":{\"outlinewidth\":0,\"ticks\":\"\"},\"colorscale\":[[0.0,\"#0d0887\"],[0.1111111111111111,\"#46039f\"],[0.2222222222222222,\"#7201a8\"],[0.3333333333333333,\"#9c179e\"],[0.4444444444444444,\"#bd3786\"],[0.5555555555555556,\"#d8576b\"],[0.6666666666666666,\"#ed7953\"],[0.7777777777777778,\"#fb9f3a\"],[0.8888888888888888,\"#fdca26\"],[1.0,\"#f0f921\"]]}],\"mesh3d\":[{\"type\":\"mesh3d\",\"colorbar\":{\"outlinewidth\":0,\"ticks\":\"\"}}],\"scatter\":[{\"fillpattern\":{\"fillmode\":\"overlay\",\"size\":10,\"solidity\":0.2},\"type\":\"scatter\"}],\"parcoords\":[{\"type\":\"parcoords\",\"line\":{\"colorbar\":{\"outlinewidth\":0,\"ticks\":\"\"}}}],\"scatterpolargl\":[{\"type\":\"scatterpolargl\",\"marker\":{\"colorbar\":{\"outlinewidth\":0,\"ticks\":\"\"}}}],\"bar\":[{\"error_x\":{\"color\":\"#2a3f5f\"},\"error_y\":{\"color\":\"#2a3f5f\"},\"marker\":{\"line\":{\"color\":\"#E5ECF6\",\"width\":0.5},\"pattern\":{\"fillmode\":\"overlay\",\"size\":10,\"solidity\":0.2}},\"type\":\"bar\"}],\"scattergeo\":[{\"type\":\"scattergeo\",\"marker\":{\"colorbar\":{\"outlinewidth\":0,\"ticks\":\"\"}}}],\"scatterpolar\":[{\"type\":\"scatterpolar\",\"marker\":{\"colorbar\":{\"outlinewidth\":0,\"ticks\":\"\"}}}],\"histogram\":[{\"marker\":{\"pattern\":{\"fillmode\":\"overlay\",\"size\":10,\"solidity\":0.2}},\"type\":\"histogram\"}],\"scattergl\":[{\"type\":\"scattergl\",\"marker\":{\"colorbar\":{\"outlinewidth\":0,\"ticks\":\"\"}}}],\"scatter3d\":[{\"type\":\"scatter3d\",\"line\":{\"colorbar\":{\"outlinewidth\":0,\"ticks\":\"\"}},\"marker\":{\"colorbar\":{\"outlinewidth\":0,\"ticks\":\"\"}}}],\"scattermapbox\":[{\"type\":\"scattermapbox\",\"marker\":{\"colorbar\":{\"outlinewidth\":0,\"ticks\":\"\"}}}],\"scatterternary\":[{\"type\":\"scatterternary\",\"marker\":{\"colorbar\":{\"outlinewidth\":0,\"ticks\":\"\"}}}],\"scattercarpet\":[{\"type\":\"scattercarpet\",\"marker\":{\"colorbar\":{\"outlinewidth\":0,\"ticks\":\"\"}}}],\"carpet\":[{\"aaxis\":{\"endlinecolor\":\"#2a3f5f\",\"gridcolor\":\"white\",\"linecolor\":\"white\",\"minorgridcolor\":\"white\",\"startlinecolor\":\"#2a3f5f\"},\"baxis\":{\"endlinecolor\":\"#2a3f5f\",\"gridcolor\":\"white\",\"linecolor\":\"white\",\"minorgridcolor\":\"white\",\"startlinecolor\":\"#2a3f5f\"},\"type\":\"carpet\"}],\"table\":[{\"cells\":{\"fill\":{\"color\":\"#EBF0F8\"},\"line\":{\"color\":\"white\"}},\"header\":{\"fill\":{\"color\":\"#C8D4E3\"},\"line\":{\"color\":\"white\"}},\"type\":\"table\"}],\"barpolar\":[{\"marker\":{\"line\":{\"color\":\"#E5ECF6\",\"width\":0.5},\"pattern\":{\"fillmode\":\"overlay\",\"size\":10,\"solidity\":0.2}},\"type\":\"barpolar\"}],\"pie\":[{\"automargin\":true,\"type\":\"pie\"}]},\"layout\":{\"autotypenumbers\":\"strict\",\"colorway\":[\"#636efa\",\"#EF553B\",\"#00cc96\",\"#ab63fa\",\"#FFA15A\",\"#19d3f3\",\"#FF6692\",\"#B6E880\",\"#FF97FF\",\"#FECB52\"],\"font\":{\"color\":\"#2a3f5f\"},\"hovermode\":\"closest\",\"hoverlabel\":{\"align\":\"left\"},\"paper_bgcolor\":\"white\",\"plot_bgcolor\":\"#E5ECF6\",\"polar\":{\"bgcolor\":\"#E5ECF6\",\"angularaxis\":{\"gridcolor\":\"white\",\"linecolor\":\"white\",\"ticks\":\"\"},\"radialaxis\":{\"gridcolor\":\"white\",\"linecolor\":\"white\",\"ticks\":\"\"}},\"ternary\":{\"bgcolor\":\"#E5ECF6\",\"aaxis\":{\"gridcolor\":\"white\",\"linecolor\":\"white\",\"ticks\":\"\"},\"baxis\":{\"gridcolor\":\"white\",\"linecolor\":\"white\",\"ticks\":\"\"},\"caxis\":{\"gridcolor\":\"white\",\"linecolor\":\"white\",\"ticks\":\"\"}},\"coloraxis\":{\"colorbar\":{\"outlinewidth\":0,\"ticks\":\"\"}},\"colorscale\":{\"sequential\":[[0.0,\"#0d0887\"],[0.1111111111111111,\"#46039f\"],[0.2222222222222222,\"#7201a8\"],[0.3333333333333333,\"#9c179e\"],[0.4444444444444444,\"#bd3786\"],[0.5555555555555556,\"#d8576b\"],[0.6666666666666666,\"#ed7953\"],[0.7777777777777778,\"#fb9f3a\"],[0.8888888888888888,\"#fdca26\"],[1.0,\"#f0f921\"]],\"sequentialminus\":[[0.0,\"#0d0887\"],[0.1111111111111111,\"#46039f\"],[0.2222222222222222,\"#7201a8\"],[0.3333333333333333,\"#9c179e\"],[0.4444444444444444,\"#bd3786\"],[0.5555555555555556,\"#d8576b\"],[0.6666666666666666,\"#ed7953\"],[0.7777777777777778,\"#fb9f3a\"],[0.8888888888888888,\"#fdca26\"],[1.0,\"#f0f921\"]],\"diverging\":[[0,\"#8e0152\"],[0.1,\"#c51b7d\"],[0.2,\"#de77ae\"],[0.3,\"#f1b6da\"],[0.4,\"#fde0ef\"],[0.5,\"#f7f7f7\"],[0.6,\"#e6f5d0\"],[0.7,\"#b8e186\"],[0.8,\"#7fbc41\"],[0.9,\"#4d9221\"],[1,\"#276419\"]]},\"xaxis\":{\"gridcolor\":\"white\",\"linecolor\":\"white\",\"ticks\":\"\",\"title\":{\"standoff\":15},\"zerolinecolor\":\"white\",\"automargin\":true,\"zerolinewidth\":2},\"yaxis\":{\"gridcolor\":\"white\",\"linecolor\":\"white\",\"ticks\":\"\",\"title\":{\"standoff\":15},\"zerolinecolor\":\"white\",\"automargin\":true,\"zerolinewidth\":2},\"scene\":{\"xaxis\":{\"backgroundcolor\":\"#E5ECF6\",\"gridcolor\":\"white\",\"linecolor\":\"white\",\"showbackground\":true,\"ticks\":\"\",\"zerolinecolor\":\"white\",\"gridwidth\":2},\"yaxis\":{\"backgroundcolor\":\"#E5ECF6\",\"gridcolor\":\"white\",\"linecolor\":\"white\",\"showbackground\":true,\"ticks\":\"\",\"zerolinecolor\":\"white\",\"gridwidth\":2},\"zaxis\":{\"backgroundcolor\":\"#E5ECF6\",\"gridcolor\":\"white\",\"linecolor\":\"white\",\"showbackground\":true,\"ticks\":\"\",\"zerolinecolor\":\"white\",\"gridwidth\":2}},\"shapedefaults\":{\"line\":{\"color\":\"#2a3f5f\"}},\"annotationdefaults\":{\"arrowcolor\":\"#2a3f5f\",\"arrowhead\":0,\"arrowwidth\":1},\"geo\":{\"bgcolor\":\"white\",\"landcolor\":\"#E5ECF6\",\"subunitcolor\":\"white\",\"showland\":true,\"showlakes\":true,\"lakecolor\":\"white\"},\"title\":{\"x\":0.05},\"mapbox\":{\"style\":\"light\"}}},\"xaxis\":{\"anchor\":\"y\",\"domain\":[0.0,1.0],\"title\":{\"text\":\"post_name\"}},\"yaxis\":{\"anchor\":\"x\",\"domain\":[0.0,1.0],\"title\":{\"text\":\"chiffre_affaires\"}},\"legend\":{\"tracegroupgap\":0},\"title\":{\"text\":\"Top 20 des articles en CA\"},\"barmode\":\"relative\",\"width\":900,\"height\":900},                        {\"responsive\": true}                    ).then(function(){\n",
       "                            \n",
       "var gd = document.getElementById('1a679e56-5828-4855-997d-c74c5c12954e');\n",
       "var x = new MutationObserver(function (mutations, observer) {{\n",
       "        var display = window.getComputedStyle(gd).display;\n",
       "        if (!display || display === 'none') {{\n",
       "            console.log([gd, 'removed!']);\n",
       "            Plotly.purge(gd);\n",
       "            observer.disconnect();\n",
       "        }}\n",
       "}});\n",
       "\n",
       "// Listen for the removal of the full notebook cells\n",
       "var notebookContainer = gd.closest('#notebook-container');\n",
       "if (notebookContainer) {{\n",
       "    x.observe(notebookContainer, {childList: true});\n",
       "}}\n",
       "\n",
       "// Listen for the clearing of the current output cell\n",
       "var outputEl = gd.closest('.output');\n",
       "if (outputEl) {{\n",
       "    x.observe(outputEl, {childList: true});\n",
       "}}\n",
       "\n",
       "                        })                };                });            </script>        </div>"
      ]
     },
     "metadata": {},
     "output_type": "display_data"
    }
   ],
   "source": [
    "#Graphique en barre des 20 premiers articles avec plotly express\n",
    "\n",
    "fig = px.bar(top_20_articles, x='post_name', y='chiffre_affaires', title='Top 20 des articles en CA')\n",
    "fig.update_traces(texttemplate='%{y}', textposition='outside', textfont=dict(family=\"Cambria\", size=12, color=\"black\"))\n",
    "# Augmenter la taille de la figure\n",
    "fig.update_layout(width=900, height=900)\n",
    "fig.show()"
   ]
  },
  {
   "cell_type": "code",
   "execution_count": 261,
   "id": "d7e5e87b",
   "metadata": {},
   "outputs": [
    {
     "data": {
      "text/html": [
       "<div>\n",
       "<style scoped>\n",
       "    .dataframe tbody tr th:only-of-type {\n",
       "        vertical-align: middle;\n",
       "    }\n",
       "\n",
       "    .dataframe tbody tr th {\n",
       "        vertical-align: top;\n",
       "    }\n",
       "\n",
       "    .dataframe thead th {\n",
       "        text-align: right;\n",
       "    }\n",
       "</style>\n",
       "<table border=\"1\" class=\"dataframe\">\n",
       "  <thead>\n",
       "    <tr style=\"text-align: right;\">\n",
       "      <th></th>\n",
       "      <th>product_id</th>\n",
       "      <th>onsale_web</th>\n",
       "      <th>price</th>\n",
       "      <th>stock_status_2</th>\n",
       "      <th>id_web</th>\n",
       "      <th>sku_x</th>\n",
       "      <th>sku_y</th>\n",
       "      <th>total_sales</th>\n",
       "      <th>tax_status</th>\n",
       "      <th>post_author</th>\n",
       "      <th>...</th>\n",
       "      <th>Millésime</th>\n",
       "      <th>Garde</th>\n",
       "      <th>Contenance</th>\n",
       "      <th>Degré d'alcool</th>\n",
       "      <th>Température dégustation</th>\n",
       "      <th>Alliance mets</th>\n",
       "      <th>categ_prix</th>\n",
       "      <th>Z-score_price</th>\n",
       "      <th>chiffre_affaires</th>\n",
       "      <th>part_ca</th>\n",
       "    </tr>\n",
       "  </thead>\n",
       "  <tbody>\n",
       "    <tr>\n",
       "      <th>0</th>\n",
       "      <td>4334</td>\n",
       "      <td>1</td>\n",
       "      <td>49.0</td>\n",
       "      <td>outofstock</td>\n",
       "      <td>7818</td>\n",
       "      <td>NaN</td>\n",
       "      <td>7818</td>\n",
       "      <td>96.0</td>\n",
       "      <td>taxable</td>\n",
       "      <td>2.0</td>\n",
       "      <td>...</td>\n",
       "      <td>NaN</td>\n",
       "      <td>4 ans</td>\n",
       "      <td>75cl</td>\n",
       "      <td>12%</td>\n",
       "      <td>10°C</td>\n",
       "      <td>Apéritif, Coquilles Saint Jacques, Huîtres, Po...</td>\n",
       "      <td>30-49€</td>\n",
       "      <td>0.618915</td>\n",
       "      <td>4704.0</td>\n",
       "      <td>0.066659</td>\n",
       "    </tr>\n",
       "    <tr>\n",
       "      <th>1</th>\n",
       "      <td>4144</td>\n",
       "      <td>1</td>\n",
       "      <td>49.0</td>\n",
       "      <td>instock</td>\n",
       "      <td>1662</td>\n",
       "      <td>NaN</td>\n",
       "      <td>1662</td>\n",
       "      <td>87.0</td>\n",
       "      <td>taxable</td>\n",
       "      <td>2.0</td>\n",
       "      <td>...</td>\n",
       "      <td>NaN</td>\n",
       "      <td>4 ans</td>\n",
       "      <td>75cl</td>\n",
       "      <td>12%</td>\n",
       "      <td>10°C</td>\n",
       "      <td>Apéritif, Desserts, Foie gras, Poissons</td>\n",
       "      <td>30-49€</td>\n",
       "      <td>0.618915</td>\n",
       "      <td>4263.0</td>\n",
       "      <td>0.060409</td>\n",
       "    </tr>\n",
       "    <tr>\n",
       "      <th>2</th>\n",
       "      <td>4402</td>\n",
       "      <td>1</td>\n",
       "      <td>176.0</td>\n",
       "      <td>instock</td>\n",
       "      <td>3510</td>\n",
       "      <td>NaN</td>\n",
       "      <td>3510</td>\n",
       "      <td>13.0</td>\n",
       "      <td>taxable</td>\n",
       "      <td>2.0</td>\n",
       "      <td>...</td>\n",
       "      <td>NaN</td>\n",
       "      <td>NaN</td>\n",
       "      <td>70cl</td>\n",
       "      <td>40%</td>\n",
       "      <td>NaN</td>\n",
       "      <td>NaN</td>\n",
       "      <td>100-199€</td>\n",
       "      <td>5.358455</td>\n",
       "      <td>2288.0</td>\n",
       "      <td>0.032422</td>\n",
       "    </tr>\n",
       "    <tr>\n",
       "      <th>3</th>\n",
       "      <td>4142</td>\n",
       "      <td>1</td>\n",
       "      <td>53.0</td>\n",
       "      <td>instock</td>\n",
       "      <td>11641</td>\n",
       "      <td>NaN</td>\n",
       "      <td>11641</td>\n",
       "      <td>30.0</td>\n",
       "      <td>taxable</td>\n",
       "      <td>2.0</td>\n",
       "      <td>...</td>\n",
       "      <td>2015.0</td>\n",
       "      <td>8-10 ans</td>\n",
       "      <td>75cl</td>\n",
       "      <td>12%</td>\n",
       "      <td>10°C</td>\n",
       "      <td>Agneau, Apéritif, Fromage de chèvre, Noix de S...</td>\n",
       "      <td>50-99€</td>\n",
       "      <td>0.768192</td>\n",
       "      <td>1590.0</td>\n",
       "      <td>0.022531</td>\n",
       "    </tr>\n",
       "    <tr>\n",
       "      <th>4</th>\n",
       "      <td>4141</td>\n",
       "      <td>1</td>\n",
       "      <td>39.0</td>\n",
       "      <td>instock</td>\n",
       "      <td>304</td>\n",
       "      <td>NaN</td>\n",
       "      <td>304</td>\n",
       "      <td>40.0</td>\n",
       "      <td>taxable</td>\n",
       "      <td>2.0</td>\n",
       "      <td>...</td>\n",
       "      <td>NaN</td>\n",
       "      <td>4 ans</td>\n",
       "      <td>75cl</td>\n",
       "      <td>12%</td>\n",
       "      <td>10°C</td>\n",
       "      <td>Apéritif, Fruits cuits, Sucré-salé, Tajine</td>\n",
       "      <td>30-49€</td>\n",
       "      <td>0.245723</td>\n",
       "      <td>1560.0</td>\n",
       "      <td>0.022106</td>\n",
       "    </tr>\n",
       "  </tbody>\n",
       "</table>\n",
       "<p>5 rows × 34 columns</p>\n",
       "</div>"
      ],
      "text/plain": [
       "   product_id  onsale_web  price stock_status_2 id_web sku_x  sku_y  \\\n",
       "0        4334           1   49.0     outofstock   7818   NaN   7818   \n",
       "1        4144           1   49.0        instock   1662   NaN   1662   \n",
       "2        4402           1  176.0        instock   3510   NaN   3510   \n",
       "3        4142           1   53.0        instock  11641   NaN  11641   \n",
       "4        4141           1   39.0        instock    304   NaN    304   \n",
       "\n",
       "   total_sales tax_status  post_author  ... Millésime     Garde Contenance  \\\n",
       "0         96.0    taxable          2.0  ...       NaN     4 ans       75cl   \n",
       "1         87.0    taxable          2.0  ...       NaN     4 ans       75cl   \n",
       "2         13.0    taxable          2.0  ...       NaN       NaN       70cl   \n",
       "3         30.0    taxable          2.0  ...    2015.0  8-10 ans       75cl   \n",
       "4         40.0    taxable          2.0  ...       NaN     4 ans       75cl   \n",
       "\n",
       "  Degré d'alcool Température dégustation  \\\n",
       "0            12%                    10°C   \n",
       "1            12%                    10°C   \n",
       "2            40%                     NaN   \n",
       "3            12%                    10°C   \n",
       "4            12%                    10°C   \n",
       "\n",
       "                                       Alliance mets categ_prix Z-score_price  \\\n",
       "0  Apéritif, Coquilles Saint Jacques, Huîtres, Po...     30-49€      0.618915   \n",
       "1            Apéritif, Desserts, Foie gras, Poissons     30-49€      0.618915   \n",
       "2                                                NaN   100-199€      5.358455   \n",
       "3  Agneau, Apéritif, Fromage de chèvre, Noix de S...     50-99€      0.768192   \n",
       "4         Apéritif, Fruits cuits, Sucré-salé, Tajine     30-49€      0.245723   \n",
       "\n",
       "  chiffre_affaires   part_ca  \n",
       "0           4704.0  0.066659  \n",
       "1           4263.0  0.060409  \n",
       "2           2288.0  0.032422  \n",
       "3           1590.0  0.022531  \n",
       "4           1560.0  0.022106  \n",
       "\n",
       "[5 rows x 34 columns]"
      ]
     },
     "execution_count": 261,
     "metadata": {},
     "output_type": "execute_result"
    }
   ],
   "source": [
    "#############################\n",
    "# Calculer le 20 / 80 en CA #\n",
    "#############################\n",
    "\n",
    "#Créer une colonne calculant la part du CA de la ligne dans le dataset\n",
    "\n",
    "df_merge_vf_trie['part_ca'] =df_merge_vf_trie['chiffre_affaires'] / chiffre_affaires_total\n",
    "df_merge_vf_trie.head()\n"
   ]
  },
  {
   "cell_type": "code",
   "execution_count": 262,
   "id": "32db7b87",
   "metadata": {},
   "outputs": [
    {
     "data": {
      "text/html": [
       "<div>\n",
       "<style scoped>\n",
       "    .dataframe tbody tr th:only-of-type {\n",
       "        vertical-align: middle;\n",
       "    }\n",
       "\n",
       "    .dataframe tbody tr th {\n",
       "        vertical-align: top;\n",
       "    }\n",
       "\n",
       "    .dataframe thead th {\n",
       "        text-align: right;\n",
       "    }\n",
       "</style>\n",
       "<table border=\"1\" class=\"dataframe\">\n",
       "  <thead>\n",
       "    <tr style=\"text-align: right;\">\n",
       "      <th></th>\n",
       "      <th>product_id</th>\n",
       "      <th>onsale_web</th>\n",
       "      <th>price</th>\n",
       "      <th>stock_status_2</th>\n",
       "      <th>id_web</th>\n",
       "      <th>sku_x</th>\n",
       "      <th>sku_y</th>\n",
       "      <th>total_sales</th>\n",
       "      <th>tax_status</th>\n",
       "      <th>post_author</th>\n",
       "      <th>...</th>\n",
       "      <th>Garde</th>\n",
       "      <th>Contenance</th>\n",
       "      <th>Degré d'alcool</th>\n",
       "      <th>Température dégustation</th>\n",
       "      <th>Alliance mets</th>\n",
       "      <th>categ_prix</th>\n",
       "      <th>Z-score_price</th>\n",
       "      <th>chiffre_affaires</th>\n",
       "      <th>part_ca</th>\n",
       "      <th>somme_cumulative</th>\n",
       "    </tr>\n",
       "  </thead>\n",
       "  <tbody>\n",
       "    <tr>\n",
       "      <th>0</th>\n",
       "      <td>4334</td>\n",
       "      <td>1</td>\n",
       "      <td>49.0</td>\n",
       "      <td>outofstock</td>\n",
       "      <td>7818</td>\n",
       "      <td>NaN</td>\n",
       "      <td>7818</td>\n",
       "      <td>96.0</td>\n",
       "      <td>taxable</td>\n",
       "      <td>2.0</td>\n",
       "      <td>...</td>\n",
       "      <td>4 ans</td>\n",
       "      <td>75cl</td>\n",
       "      <td>12%</td>\n",
       "      <td>10°C</td>\n",
       "      <td>Apéritif, Coquilles Saint Jacques, Huîtres, Po...</td>\n",
       "      <td>30-49€</td>\n",
       "      <td>0.618915</td>\n",
       "      <td>4704.0</td>\n",
       "      <td>0.066659</td>\n",
       "      <td>0.066659</td>\n",
       "    </tr>\n",
       "    <tr>\n",
       "      <th>1</th>\n",
       "      <td>4144</td>\n",
       "      <td>1</td>\n",
       "      <td>49.0</td>\n",
       "      <td>instock</td>\n",
       "      <td>1662</td>\n",
       "      <td>NaN</td>\n",
       "      <td>1662</td>\n",
       "      <td>87.0</td>\n",
       "      <td>taxable</td>\n",
       "      <td>2.0</td>\n",
       "      <td>...</td>\n",
       "      <td>4 ans</td>\n",
       "      <td>75cl</td>\n",
       "      <td>12%</td>\n",
       "      <td>10°C</td>\n",
       "      <td>Apéritif, Desserts, Foie gras, Poissons</td>\n",
       "      <td>30-49€</td>\n",
       "      <td>0.618915</td>\n",
       "      <td>4263.0</td>\n",
       "      <td>0.060409</td>\n",
       "      <td>0.127068</td>\n",
       "    </tr>\n",
       "    <tr>\n",
       "      <th>2</th>\n",
       "      <td>4402</td>\n",
       "      <td>1</td>\n",
       "      <td>176.0</td>\n",
       "      <td>instock</td>\n",
       "      <td>3510</td>\n",
       "      <td>NaN</td>\n",
       "      <td>3510</td>\n",
       "      <td>13.0</td>\n",
       "      <td>taxable</td>\n",
       "      <td>2.0</td>\n",
       "      <td>...</td>\n",
       "      <td>NaN</td>\n",
       "      <td>70cl</td>\n",
       "      <td>40%</td>\n",
       "      <td>NaN</td>\n",
       "      <td>NaN</td>\n",
       "      <td>100-199€</td>\n",
       "      <td>5.358455</td>\n",
       "      <td>2288.0</td>\n",
       "      <td>0.032422</td>\n",
       "      <td>0.159490</td>\n",
       "    </tr>\n",
       "    <tr>\n",
       "      <th>3</th>\n",
       "      <td>4142</td>\n",
       "      <td>1</td>\n",
       "      <td>53.0</td>\n",
       "      <td>instock</td>\n",
       "      <td>11641</td>\n",
       "      <td>NaN</td>\n",
       "      <td>11641</td>\n",
       "      <td>30.0</td>\n",
       "      <td>taxable</td>\n",
       "      <td>2.0</td>\n",
       "      <td>...</td>\n",
       "      <td>8-10 ans</td>\n",
       "      <td>75cl</td>\n",
       "      <td>12%</td>\n",
       "      <td>10°C</td>\n",
       "      <td>Agneau, Apéritif, Fromage de chèvre, Noix de S...</td>\n",
       "      <td>50-99€</td>\n",
       "      <td>0.768192</td>\n",
       "      <td>1590.0</td>\n",
       "      <td>0.022531</td>\n",
       "      <td>0.182021</td>\n",
       "    </tr>\n",
       "    <tr>\n",
       "      <th>4</th>\n",
       "      <td>4141</td>\n",
       "      <td>1</td>\n",
       "      <td>39.0</td>\n",
       "      <td>instock</td>\n",
       "      <td>304</td>\n",
       "      <td>NaN</td>\n",
       "      <td>304</td>\n",
       "      <td>40.0</td>\n",
       "      <td>taxable</td>\n",
       "      <td>2.0</td>\n",
       "      <td>...</td>\n",
       "      <td>4 ans</td>\n",
       "      <td>75cl</td>\n",
       "      <td>12%</td>\n",
       "      <td>10°C</td>\n",
       "      <td>Apéritif, Fruits cuits, Sucré-salé, Tajine</td>\n",
       "      <td>30-49€</td>\n",
       "      <td>0.245723</td>\n",
       "      <td>1560.0</td>\n",
       "      <td>0.022106</td>\n",
       "      <td>0.204128</td>\n",
       "    </tr>\n",
       "  </tbody>\n",
       "</table>\n",
       "<p>5 rows × 35 columns</p>\n",
       "</div>"
      ],
      "text/plain": [
       "   product_id  onsale_web  price stock_status_2 id_web sku_x  sku_y  \\\n",
       "0        4334           1   49.0     outofstock   7818   NaN   7818   \n",
       "1        4144           1   49.0        instock   1662   NaN   1662   \n",
       "2        4402           1  176.0        instock   3510   NaN   3510   \n",
       "3        4142           1   53.0        instock  11641   NaN  11641   \n",
       "4        4141           1   39.0        instock    304   NaN    304   \n",
       "\n",
       "   total_sales tax_status  post_author  ...     Garde Contenance  \\\n",
       "0         96.0    taxable          2.0  ...     4 ans       75cl   \n",
       "1         87.0    taxable          2.0  ...     4 ans       75cl   \n",
       "2         13.0    taxable          2.0  ...       NaN       70cl   \n",
       "3         30.0    taxable          2.0  ...  8-10 ans       75cl   \n",
       "4         40.0    taxable          2.0  ...     4 ans       75cl   \n",
       "\n",
       "  Degré d'alcool Température dégustation  \\\n",
       "0            12%                    10°C   \n",
       "1            12%                    10°C   \n",
       "2            40%                     NaN   \n",
       "3            12%                    10°C   \n",
       "4            12%                    10°C   \n",
       "\n",
       "                                       Alliance mets categ_prix Z-score_price  \\\n",
       "0  Apéritif, Coquilles Saint Jacques, Huîtres, Po...     30-49€      0.618915   \n",
       "1            Apéritif, Desserts, Foie gras, Poissons     30-49€      0.618915   \n",
       "2                                                NaN   100-199€      5.358455   \n",
       "3  Agneau, Apéritif, Fromage de chèvre, Noix de S...     50-99€      0.768192   \n",
       "4         Apéritif, Fruits cuits, Sucré-salé, Tajine     30-49€      0.245723   \n",
       "\n",
       "  chiffre_affaires   part_ca somme_cumulative  \n",
       "0           4704.0  0.066659         0.066659  \n",
       "1           4263.0  0.060409         0.127068  \n",
       "2           2288.0  0.032422         0.159490  \n",
       "3           1590.0  0.022531         0.182021  \n",
       "4           1560.0  0.022106         0.204128  \n",
       "\n",
       "[5 rows x 35 columns]"
      ]
     },
     "execution_count": 262,
     "metadata": {},
     "output_type": "execute_result"
    }
   ],
   "source": [
    "\n",
    "#Créer une colonne réalisant la somme cumulative de la colonne précedemment créée(colonne 'part_ca')\n",
    "\n",
    "df_merge_vf_trie['somme_cumulative'] = df_merge_vf_trie['part_ca'].cumsum()\n",
    "df_merge_vf_trie.head()\n"
   ]
  },
  {
   "cell_type": "code",
   "execution_count": 263,
   "id": "14fd46c1",
   "metadata": {},
   "outputs": [
    {
     "name": "stdout",
     "output_type": "stream",
     "text": [
      "le nombre d'articles représentant 80.0% du CA : 130\n"
     ]
    }
   ],
   "source": [
    "#Grâce au deux colonnes créées précedemment, calculer le nombre d'articles représentant 80% du CA\n",
    "\n",
    "#### Trouver le nombre d'articles représentant 80% du CA\n",
    "articles_80_pct_ca  = 0.8\n",
    "filtered_df = df_merge_vf_trie[df_merge_vf_trie['somme_cumulative'] <= articles_80_pct_ca ]\n",
    "num_articles = len(filtered_df)\n",
    "\n",
    "print(f\"le nombre d'articles représentant {articles_80_pct_ca  * 100}% du CA : {num_articles}\")"
   ]
  },
  {
   "cell_type": "code",
   "execution_count": 264,
   "id": "7806952d",
   "metadata": {},
   "outputs": [
    {
     "name": "stdout",
     "output_type": "stream",
     "text": [
      "La proportion du catalogue entier du site web représentée par les 80% des articles est : 15.76\n"
     ]
    }
   ],
   "source": [
    "#Afficher la proportion que représentent ce groupe d'articles dans le catalogue entier du site web\n",
    "proportion = round((len(filtered_df)/len(df_merge_vf_trie))*100,2)\n",
    "print(\"La proportion du catalogue entier du site web représentée par les 80% des articles est :\", proportion)\n"
   ]
  },
  {
   "cell_type": "markdown",
   "id": "8de7af87",
   "metadata": {},
   "source": [
    "<div style=\"border: 1px solid RGB(51,165,182);\" >\n",
    "<h3 style=\"margin: auto; padding: 20px; color: RGB(51,165,182); \">Etape 5.2 - Analyse des ventes en Quantités</h3>\n",
    "</div>"
   ]
  },
  {
   "cell_type": "code",
   "execution_count": 265,
   "id": "ab222e08",
   "metadata": {},
   "outputs": [
    {
     "data": {
      "text/html": [
       "<div>\n",
       "<style scoped>\n",
       "    .dataframe tbody tr th:only-of-type {\n",
       "        vertical-align: middle;\n",
       "    }\n",
       "\n",
       "    .dataframe tbody tr th {\n",
       "        vertical-align: top;\n",
       "    }\n",
       "\n",
       "    .dataframe thead th {\n",
       "        text-align: right;\n",
       "    }\n",
       "</style>\n",
       "<table border=\"1\" class=\"dataframe\">\n",
       "  <thead>\n",
       "    <tr style=\"text-align: right;\">\n",
       "      <th></th>\n",
       "      <th>product_id</th>\n",
       "      <th>onsale_web</th>\n",
       "      <th>price</th>\n",
       "      <th>stock_status_2</th>\n",
       "      <th>id_web</th>\n",
       "      <th>sku_x</th>\n",
       "      <th>sku_y</th>\n",
       "      <th>total_sales</th>\n",
       "      <th>tax_status</th>\n",
       "      <th>post_author</th>\n",
       "      <th>...</th>\n",
       "      <th>Garde</th>\n",
       "      <th>Contenance</th>\n",
       "      <th>Degré d'alcool</th>\n",
       "      <th>Température dégustation</th>\n",
       "      <th>Alliance mets</th>\n",
       "      <th>categ_prix</th>\n",
       "      <th>Z-score_price</th>\n",
       "      <th>chiffre_affaires</th>\n",
       "      <th>part_ca</th>\n",
       "      <th>somme_cumulative</th>\n",
       "    </tr>\n",
       "  </thead>\n",
       "  <tbody>\n",
       "    <tr>\n",
       "      <th>0</th>\n",
       "      <td>4334</td>\n",
       "      <td>1</td>\n",
       "      <td>49.0</td>\n",
       "      <td>outofstock</td>\n",
       "      <td>7818</td>\n",
       "      <td>NaN</td>\n",
       "      <td>7818</td>\n",
       "      <td>96.0</td>\n",
       "      <td>taxable</td>\n",
       "      <td>2.0</td>\n",
       "      <td>...</td>\n",
       "      <td>4 ans</td>\n",
       "      <td>75cl</td>\n",
       "      <td>12%</td>\n",
       "      <td>10°C</td>\n",
       "      <td>Apéritif, Coquilles Saint Jacques, Huîtres, Po...</td>\n",
       "      <td>30-49€</td>\n",
       "      <td>0.618915</td>\n",
       "      <td>4704.0</td>\n",
       "      <td>0.066659</td>\n",
       "      <td>0.066659</td>\n",
       "    </tr>\n",
       "    <tr>\n",
       "      <th>1</th>\n",
       "      <td>4144</td>\n",
       "      <td>1</td>\n",
       "      <td>49.0</td>\n",
       "      <td>instock</td>\n",
       "      <td>1662</td>\n",
       "      <td>NaN</td>\n",
       "      <td>1662</td>\n",
       "      <td>87.0</td>\n",
       "      <td>taxable</td>\n",
       "      <td>2.0</td>\n",
       "      <td>...</td>\n",
       "      <td>4 ans</td>\n",
       "      <td>75cl</td>\n",
       "      <td>12%</td>\n",
       "      <td>10°C</td>\n",
       "      <td>Apéritif, Desserts, Foie gras, Poissons</td>\n",
       "      <td>30-49€</td>\n",
       "      <td>0.618915</td>\n",
       "      <td>4263.0</td>\n",
       "      <td>0.060409</td>\n",
       "      <td>0.127068</td>\n",
       "    </tr>\n",
       "    <tr>\n",
       "      <th>9</th>\n",
       "      <td>4068</td>\n",
       "      <td>1</td>\n",
       "      <td>16.6</td>\n",
       "      <td>instock</td>\n",
       "      <td>16416</td>\n",
       "      <td>NaN</td>\n",
       "      <td>16416</td>\n",
       "      <td>62.0</td>\n",
       "      <td>taxable</td>\n",
       "      <td>2.0</td>\n",
       "      <td>...</td>\n",
       "      <td>3-5 ans</td>\n",
       "      <td>75cl</td>\n",
       "      <td>13,5%</td>\n",
       "      <td>15°C</td>\n",
       "      <td>Apéritif, Charcuterie, Viande rouge, Volaille</td>\n",
       "      <td>10-19€</td>\n",
       "      <td>-0.590227</td>\n",
       "      <td>1029.2</td>\n",
       "      <td>0.014584</td>\n",
       "      <td>0.283808</td>\n",
       "    </tr>\n",
       "    <tr>\n",
       "      <th>50</th>\n",
       "      <td>4200</td>\n",
       "      <td>1</td>\n",
       "      <td>5.8</td>\n",
       "      <td>instock</td>\n",
       "      <td>16295</td>\n",
       "      <td>NaN</td>\n",
       "      <td>16295</td>\n",
       "      <td>46.0</td>\n",
       "      <td>taxable</td>\n",
       "      <td>2.0</td>\n",
       "      <td>...</td>\n",
       "      <td>2 ans</td>\n",
       "      <td>75cl</td>\n",
       "      <td>12%</td>\n",
       "      <td>11°C</td>\n",
       "      <td>Apéritif, Grillades, Légumes croquants, Salade</td>\n",
       "      <td>0-9€</td>\n",
       "      <td>-0.993275</td>\n",
       "      <td>266.8</td>\n",
       "      <td>0.003781</td>\n",
       "      <td>0.591857</td>\n",
       "    </tr>\n",
       "    <tr>\n",
       "      <th>57</th>\n",
       "      <td>4172</td>\n",
       "      <td>1</td>\n",
       "      <td>5.7</td>\n",
       "      <td>instock</td>\n",
       "      <td>16210</td>\n",
       "      <td>NaN</td>\n",
       "      <td>16210</td>\n",
       "      <td>43.0</td>\n",
       "      <td>taxable</td>\n",
       "      <td>2.0</td>\n",
       "      <td>...</td>\n",
       "      <td>3 ans</td>\n",
       "      <td>75cl</td>\n",
       "      <td>12,50%</td>\n",
       "      <td>11°C</td>\n",
       "      <td>Apéritif, Poissons, Volaille</td>\n",
       "      <td>0-9€</td>\n",
       "      <td>-0.997007</td>\n",
       "      <td>245.1</td>\n",
       "      <td>0.003473</td>\n",
       "      <td>0.616854</td>\n",
       "    </tr>\n",
       "  </tbody>\n",
       "</table>\n",
       "<p>5 rows × 35 columns</p>\n",
       "</div>"
      ],
      "text/plain": [
       "    product_id  onsale_web  price stock_status_2 id_web sku_x  sku_y  \\\n",
       "0         4334           1   49.0     outofstock   7818   NaN   7818   \n",
       "1         4144           1   49.0        instock   1662   NaN   1662   \n",
       "9         4068           1   16.6        instock  16416   NaN  16416   \n",
       "50        4200           1    5.8        instock  16295   NaN  16295   \n",
       "57        4172           1    5.7        instock  16210   NaN  16210   \n",
       "\n",
       "    total_sales tax_status  post_author  ...    Garde Contenance  \\\n",
       "0          96.0    taxable          2.0  ...    4 ans       75cl   \n",
       "1          87.0    taxable          2.0  ...    4 ans       75cl   \n",
       "9          62.0    taxable          2.0  ...  3-5 ans       75cl   \n",
       "50         46.0    taxable          2.0  ...    2 ans       75cl   \n",
       "57         43.0    taxable          2.0  ...    3 ans       75cl   \n",
       "\n",
       "   Degré d'alcool Température dégustation  \\\n",
       "0             12%                    10°C   \n",
       "1             12%                    10°C   \n",
       "9           13,5%                    15°C   \n",
       "50            12%                    11°C   \n",
       "57         12,50%                    11°C   \n",
       "\n",
       "                                        Alliance mets categ_prix  \\\n",
       "0   Apéritif, Coquilles Saint Jacques, Huîtres, Po...     30-49€   \n",
       "1             Apéritif, Desserts, Foie gras, Poissons     30-49€   \n",
       "9       Apéritif, Charcuterie, Viande rouge, Volaille     10-19€   \n",
       "50     Apéritif, Grillades, Légumes croquants, Salade       0-9€   \n",
       "57                       Apéritif, Poissons, Volaille       0-9€   \n",
       "\n",
       "   Z-score_price chiffre_affaires   part_ca somme_cumulative  \n",
       "0       0.618915           4704.0  0.066659         0.066659  \n",
       "1       0.618915           4263.0  0.060409         0.127068  \n",
       "9      -0.590227           1029.2  0.014584         0.283808  \n",
       "50     -0.993275            266.8  0.003781         0.591857  \n",
       "57     -0.997007            245.1  0.003473         0.616854  \n",
       "\n",
       "[5 rows x 35 columns]"
      ]
     },
     "execution_count": 265,
     "metadata": {},
     "output_type": "execute_result"
    }
   ],
   "source": [
    "###############################\n",
    "# Palmares des articles en quantité #\n",
    "###############################\n",
    "\n",
    "#Effectuer le tri dans l'ordre décroissant de quantités vendues du dataset df_merge\n",
    "df_sorted = df_merge_vf_trie.sort_values(by='total_sales', ascending=False)\n",
    "\n",
    "df_sorted.head()\n",
    "\n",
    "\n"
   ]
  },
  {
   "cell_type": "code",
   "execution_count": 267,
   "id": "73420fec",
   "metadata": {},
   "outputs": [
    {
     "data": {
      "text/html": [
       "<div>\n",
       "<style scoped>\n",
       "    .dataframe tbody tr th:only-of-type {\n",
       "        vertical-align: middle;\n",
       "    }\n",
       "\n",
       "    .dataframe tbody tr th {\n",
       "        vertical-align: top;\n",
       "    }\n",
       "\n",
       "    .dataframe thead th {\n",
       "        text-align: right;\n",
       "    }\n",
       "</style>\n",
       "<table border=\"1\" class=\"dataframe\">\n",
       "  <thead>\n",
       "    <tr style=\"text-align: right;\">\n",
       "      <th></th>\n",
       "      <th>product_id</th>\n",
       "      <th>onsale_web</th>\n",
       "      <th>price</th>\n",
       "      <th>stock_status_2</th>\n",
       "      <th>id_web</th>\n",
       "      <th>sku_x</th>\n",
       "      <th>sku_y</th>\n",
       "      <th>total_sales</th>\n",
       "      <th>tax_status</th>\n",
       "      <th>post_author</th>\n",
       "      <th>...</th>\n",
       "      <th>Garde</th>\n",
       "      <th>Contenance</th>\n",
       "      <th>Degré d'alcool</th>\n",
       "      <th>Température dégustation</th>\n",
       "      <th>Alliance mets</th>\n",
       "      <th>categ_prix</th>\n",
       "      <th>Z-score_price</th>\n",
       "      <th>chiffre_affaires</th>\n",
       "      <th>part_ca</th>\n",
       "      <th>somme_cumulative</th>\n",
       "    </tr>\n",
       "  </thead>\n",
       "  <tbody>\n",
       "    <tr>\n",
       "      <th>0</th>\n",
       "      <td>4334</td>\n",
       "      <td>1</td>\n",
       "      <td>49.0</td>\n",
       "      <td>outofstock</td>\n",
       "      <td>7818</td>\n",
       "      <td>NaN</td>\n",
       "      <td>7818</td>\n",
       "      <td>96.0</td>\n",
       "      <td>taxable</td>\n",
       "      <td>2.0</td>\n",
       "      <td>...</td>\n",
       "      <td>4 ans</td>\n",
       "      <td>75cl</td>\n",
       "      <td>12%</td>\n",
       "      <td>10°C</td>\n",
       "      <td>Apéritif, Coquilles Saint Jacques, Huîtres, Po...</td>\n",
       "      <td>30-49€</td>\n",
       "      <td>0.618915</td>\n",
       "      <td>4704.0</td>\n",
       "      <td>0.066659</td>\n",
       "      <td>0.066659</td>\n",
       "    </tr>\n",
       "    <tr>\n",
       "      <th>1</th>\n",
       "      <td>4144</td>\n",
       "      <td>1</td>\n",
       "      <td>49.0</td>\n",
       "      <td>instock</td>\n",
       "      <td>1662</td>\n",
       "      <td>NaN</td>\n",
       "      <td>1662</td>\n",
       "      <td>87.0</td>\n",
       "      <td>taxable</td>\n",
       "      <td>2.0</td>\n",
       "      <td>...</td>\n",
       "      <td>4 ans</td>\n",
       "      <td>75cl</td>\n",
       "      <td>12%</td>\n",
       "      <td>10°C</td>\n",
       "      <td>Apéritif, Desserts, Foie gras, Poissons</td>\n",
       "      <td>30-49€</td>\n",
       "      <td>0.618915</td>\n",
       "      <td>4263.0</td>\n",
       "      <td>0.060409</td>\n",
       "      <td>0.127068</td>\n",
       "    </tr>\n",
       "    <tr>\n",
       "      <th>2</th>\n",
       "      <td>4068</td>\n",
       "      <td>1</td>\n",
       "      <td>16.6</td>\n",
       "      <td>instock</td>\n",
       "      <td>16416</td>\n",
       "      <td>NaN</td>\n",
       "      <td>16416</td>\n",
       "      <td>62.0</td>\n",
       "      <td>taxable</td>\n",
       "      <td>2.0</td>\n",
       "      <td>...</td>\n",
       "      <td>3-5 ans</td>\n",
       "      <td>75cl</td>\n",
       "      <td>13,5%</td>\n",
       "      <td>15°C</td>\n",
       "      <td>Apéritif, Charcuterie, Viande rouge, Volaille</td>\n",
       "      <td>10-19€</td>\n",
       "      <td>-0.590227</td>\n",
       "      <td>1029.2</td>\n",
       "      <td>0.014584</td>\n",
       "      <td>0.283808</td>\n",
       "    </tr>\n",
       "    <tr>\n",
       "      <th>3</th>\n",
       "      <td>4200</td>\n",
       "      <td>1</td>\n",
       "      <td>5.8</td>\n",
       "      <td>instock</td>\n",
       "      <td>16295</td>\n",
       "      <td>NaN</td>\n",
       "      <td>16295</td>\n",
       "      <td>46.0</td>\n",
       "      <td>taxable</td>\n",
       "      <td>2.0</td>\n",
       "      <td>...</td>\n",
       "      <td>2 ans</td>\n",
       "      <td>75cl</td>\n",
       "      <td>12%</td>\n",
       "      <td>11°C</td>\n",
       "      <td>Apéritif, Grillades, Légumes croquants, Salade</td>\n",
       "      <td>0-9€</td>\n",
       "      <td>-0.993275</td>\n",
       "      <td>266.8</td>\n",
       "      <td>0.003781</td>\n",
       "      <td>0.591857</td>\n",
       "    </tr>\n",
       "    <tr>\n",
       "      <th>4</th>\n",
       "      <td>4172</td>\n",
       "      <td>1</td>\n",
       "      <td>5.7</td>\n",
       "      <td>instock</td>\n",
       "      <td>16210</td>\n",
       "      <td>NaN</td>\n",
       "      <td>16210</td>\n",
       "      <td>43.0</td>\n",
       "      <td>taxable</td>\n",
       "      <td>2.0</td>\n",
       "      <td>...</td>\n",
       "      <td>3 ans</td>\n",
       "      <td>75cl</td>\n",
       "      <td>12,50%</td>\n",
       "      <td>11°C</td>\n",
       "      <td>Apéritif, Poissons, Volaille</td>\n",
       "      <td>0-9€</td>\n",
       "      <td>-0.997007</td>\n",
       "      <td>245.1</td>\n",
       "      <td>0.003473</td>\n",
       "      <td>0.616854</td>\n",
       "    </tr>\n",
       "  </tbody>\n",
       "</table>\n",
       "<p>5 rows × 35 columns</p>\n",
       "</div>"
      ],
      "text/plain": [
       "   product_id  onsale_web  price stock_status_2 id_web sku_x  sku_y  \\\n",
       "0        4334           1   49.0     outofstock   7818   NaN   7818   \n",
       "1        4144           1   49.0        instock   1662   NaN   1662   \n",
       "2        4068           1   16.6        instock  16416   NaN  16416   \n",
       "3        4200           1    5.8        instock  16295   NaN  16295   \n",
       "4        4172           1    5.7        instock  16210   NaN  16210   \n",
       "\n",
       "   total_sales tax_status  post_author  ...    Garde Contenance  \\\n",
       "0         96.0    taxable          2.0  ...    4 ans       75cl   \n",
       "1         87.0    taxable          2.0  ...    4 ans       75cl   \n",
       "2         62.0    taxable          2.0  ...  3-5 ans       75cl   \n",
       "3         46.0    taxable          2.0  ...    2 ans       75cl   \n",
       "4         43.0    taxable          2.0  ...    3 ans       75cl   \n",
       "\n",
       "  Degré d'alcool Température dégustation  \\\n",
       "0            12%                    10°C   \n",
       "1            12%                    10°C   \n",
       "2          13,5%                    15°C   \n",
       "3            12%                    11°C   \n",
       "4         12,50%                    11°C   \n",
       "\n",
       "                                       Alliance mets categ_prix Z-score_price  \\\n",
       "0  Apéritif, Coquilles Saint Jacques, Huîtres, Po...     30-49€      0.618915   \n",
       "1            Apéritif, Desserts, Foie gras, Poissons     30-49€      0.618915   \n",
       "2      Apéritif, Charcuterie, Viande rouge, Volaille     10-19€     -0.590227   \n",
       "3     Apéritif, Grillades, Légumes croquants, Salade       0-9€     -0.993275   \n",
       "4                       Apéritif, Poissons, Volaille       0-9€     -0.997007   \n",
       "\n",
       "  chiffre_affaires   part_ca somme_cumulative  \n",
       "0           4704.0  0.066659         0.066659  \n",
       "1           4263.0  0.060409         0.127068  \n",
       "2           1029.2  0.014584         0.283808  \n",
       "3            266.8  0.003781         0.591857  \n",
       "4            245.1  0.003473         0.616854  \n",
       "\n",
       "[5 rows x 35 columns]"
      ]
     },
     "execution_count": 267,
     "metadata": {},
     "output_type": "execute_result"
    }
   ],
   "source": [
    "#Réinitialiser l'index du dataset par un reset_index\n",
    "df_merge_final = df_sorted.reset_index(drop=True)\n",
    "df_merge_final.head()\n"
   ]
  },
  {
   "cell_type": "code",
   "execution_count": 268,
   "id": "14f1d0bf",
   "metadata": {},
   "outputs": [
    {
     "name": "stdout",
     "output_type": "stream",
     "text": [
      "    product_id  onsale_web  price stock_status_2 id_web sku_x  sku_y  \\\n",
      "0         4334           1   49.0     outofstock   7818   NaN   7818   \n",
      "1         4144           1   49.0        instock   1662   NaN   1662   \n",
      "2         4068           1   16.6        instock  16416   NaN  16416   \n",
      "3         4200           1    5.8        instock  16295   NaN  16295   \n",
      "4         4172           1    5.7        instock  16210   NaN  16210   \n",
      "5         4187           1   13.3        instock  16189   NaN  16189   \n",
      "6         6206           1   25.2        instock  16580   NaN  16580   \n",
      "7         4141           1   39.0        instock    304   NaN    304   \n",
      "8         4729           1    8.6        instock     38   NaN     38   \n",
      "9         6047           1   10.9        instock  16264   NaN  16264   \n",
      "10        6207           1   25.2        instock  16077   NaN  16077   \n",
      "11        4891           1   27.9     outofstock  15807   NaN  15807   \n",
      "12        4153           1   29.0     outofstock  16237   NaN  16237   \n",
      "13        4870           1    9.3     outofstock  16149   NaN  16149   \n",
      "14        4706           1   16.8        instock  15349   NaN  15349   \n",
      "15        4142           1   53.0        instock  11641   NaN  11641   \n",
      "16        4250           1   19.5        instock  16317   NaN  16317   \n",
      "17        4861           1    8.5        instock  15307   NaN  15307   \n",
      "18        4965           1    7.1        instock  16586   NaN  16586   \n",
      "19        4918           1   37.2     outofstock  15533   NaN  15533   \n",
      "\n",
      "    total_sales tax_status  post_author  ...      Garde Contenance  \\\n",
      "0          96.0    taxable          2.0  ...      4 ans       75cl   \n",
      "1          87.0    taxable          2.0  ...      4 ans       75cl   \n",
      "2          62.0    taxable          2.0  ...    3-5 ans       75cl   \n",
      "3          46.0    taxable          2.0  ...      2 ans       75cl   \n",
      "4          43.0    taxable          2.0  ...      3 ans       75cl   \n",
      "5          42.0    taxable          2.0  ...    3-5 ans       75cl   \n",
      "6          41.0    taxable          2.0  ...    3-5 ans       75cl   \n",
      "7          40.0    taxable          2.0  ...      4 ans       75cl   \n",
      "8          38.0    taxable          2.0  ...    3-5 ans       75cl   \n",
      "9          38.0    taxable          2.0  ...      3 ans       75cl   \n",
      "10         37.0    taxable          2.0  ...    6-8 ans       75cl   \n",
      "11         36.0    taxable          2.0  ...    4-7 ans       75cl   \n",
      "12         36.0    taxable          2.0  ...  10-15 ans       75cl   \n",
      "13         33.0    taxable          2.0  ...      3 ans       75cl   \n",
      "14         32.0    taxable          2.0  ...        NaN        NaN   \n",
      "15         30.0    taxable          2.0  ...   8-10 ans       75cl   \n",
      "16         30.0    taxable          2.0  ...    3-5 ans       75cl   \n",
      "17         29.0    taxable          2.0  ...    3-5 ans       75cl   \n",
      "18         26.0    taxable          2.0  ...      3 ans       75cl   \n",
      "19         24.0    taxable          2.0  ...  10-15 ans       75cl   \n",
      "\n",
      "   Degré d'alcool Température dégustation  \\\n",
      "0             12%                    10°C   \n",
      "1             12%                    10°C   \n",
      "2           13,5%                    15°C   \n",
      "3             12%                    11°C   \n",
      "4          12,50%                    11°C   \n",
      "5           13,5%                    14°C   \n",
      "6           13,5%                    11°C   \n",
      "7             12%                    10°C   \n",
      "8             12%                     9°C   \n",
      "9             14%                    14°C   \n",
      "10            14%                    15°C   \n",
      "11          13,5%                    12°C   \n",
      "12            13%                    16°C   \n",
      "13            13%                    11°C   \n",
      "14            NaN                     NaN   \n",
      "15            12%                    10°C   \n",
      "16            13%                    14°C   \n",
      "17          13,5%                    15°C   \n",
      "18            13%                    11°C   \n",
      "19            13%                    15°C   \n",
      "\n",
      "                                        Alliance mets categ_prix  \\\n",
      "0   Apéritif, Coquilles Saint Jacques, Huîtres, Po...     30-49€   \n",
      "1             Apéritif, Desserts, Foie gras, Poissons     30-49€   \n",
      "2       Apéritif, Charcuterie, Viande rouge, Volaille     10-19€   \n",
      "3      Apéritif, Grillades, Légumes croquants, Salade       0-9€   \n",
      "4                        Apéritif, Poissons, Volaille       0-9€   \n",
      "5                      Agneau, Charcuterie, Grillades     10-19€   \n",
      "6        Fruits de mer, Langoustes, Poissons, Risotto     20-29€   \n",
      "7          Apéritif, Fruits cuits, Sucré-salé, Tajine     30-49€   \n",
      "8               Apéritif, Fromages, Huîtres, Poissons       0-9€   \n",
      "9                     Apéritif, Charcuterie, Volaille     10-19€   \n",
      "10  Cuisine méditerranéenne, Gibiers à plumes, Pig...     20-29€   \n",
      "11  Fromages, Poisson en sauce, Viande Blanche, Vo...     20-29€   \n",
      "12                    Gibier, Grillades, Viande rouge     20-29€   \n",
      "13        Apéritif, Grillades, Poisson grillé, Salade       0-9€   \n",
      "14                                                NaN     10-19€   \n",
      "15  Agneau, Apéritif, Fromage de chèvre, Noix de S...     50-99€   \n",
      "16      Charcuterie, Tourte, Viande Blanche, Volaille     10-19€   \n",
      "17  Grillades, Viande Blanche, Viande rouge, Volaille       0-9€   \n",
      "18  Apéritif, Crustacés, Fromages, Fruits de mer, ...       0-9€   \n",
      "19            Agneau, Gibier, Grillades, Viande rouge     30-49€   \n",
      "\n",
      "   Z-score_price chiffre_affaires   part_ca somme_cumulative  \n",
      "0       0.618915           4704.0  0.066659         0.066659  \n",
      "1       0.618915           4263.0  0.060409         0.127068  \n",
      "2      -0.590227           1029.2  0.014584         0.283808  \n",
      "3      -0.993275            266.8  0.003781         0.591857  \n",
      "4      -0.997007            245.1  0.003473         0.616854  \n",
      "5      -0.713381            558.6  0.007916         0.458163  \n",
      "6      -0.269282           1033.2  0.014641         0.269223  \n",
      "7       0.245723           1560.0  0.022106         0.204128  \n",
      "8      -0.888781            326.8  0.004631         0.555710  \n",
      "9      -0.802947            414.2  0.005869         0.523754  \n",
      "10     -0.269282            932.4  0.013213         0.353581  \n",
      "11     -0.168520           1004.4  0.014233         0.326787  \n",
      "12     -0.127469           1044.0  0.014794         0.254582  \n",
      "13     -0.862657            306.9  0.004349         0.560059  \n",
      "14     -0.582763            537.6  0.007618         0.465781  \n",
      "15      0.768192           1590.0  0.022531         0.182021  \n",
      "16     -0.482001            585.0  0.008290         0.442114  \n",
      "17     -0.892513            246.5  0.003493         0.613380  \n",
      "18     -0.944760            184.6  0.002616         0.699587  \n",
      "19      0.178549            892.8  0.012652         0.366232  \n",
      "\n",
      "[20 rows x 35 columns]\n"
     ]
    }
   ],
   "source": [
    "#Afficher les 20 premier articles en quantité\n",
    "premiers_articles = df_merge_final.head(20)\n",
    "print(premiers_articles)\n",
    "\n"
   ]
  },
  {
   "cell_type": "code",
   "execution_count": 269,
   "id": "85048547",
   "metadata": {},
   "outputs": [
    {
     "data": {
      "application/vnd.plotly.v1+json": {
       "config": {
        "plotlyServerURL": "https://plot.ly"
       },
       "data": [
        {
         "alignmentgroup": "True",
         "hovertemplate": "post_name=%{x}<br>total_sales=%{y}<extra></extra>",
         "legendgroup": "",
         "marker": {
          "color": "#636efa",
          "pattern": {
           "shape": ""
          }
         },
         "name": "",
         "offsetgroup": "",
         "orientation": "v",
         "showlegend": false,
         "textfont": {
          "color": "black",
          "family": "Cambria",
          "size": 12
         },
         "textposition": "outside",
         "texttemplate": "%{y}",
         "type": "bar",
         "x": [
          "champagne-gosset-grand-blanc-de-blanc",
          "champagne-gosset-grand-rose",
          "gilles-robin-crozes-hermitage-papillon-2019",
          "moulin-de-gassac-igp-pays-dherault-guilhem-rose-2019",
          "maurel-pays-oc-chardonnay-2019",
          "le-pas-de-lescalette-languedoc-petits-pas-2019",
          "domaine-giudicelli-patrimonio-blanc-2019",
          "gosset-champagne-grande-reserve",
          "emile-boeckel-cremant-brut-blanc-de-blancs",
          "chateau-de-la-liquiere-faugeres-ampoule-2019",
          "domaine-giudicelli-patrimonio-rouge-2016",
          "jacqueson-rully-blanc-1er-cru-la-pucelle-2018",
          "elian-daros-cotes-du-marmandais-clos-baquey-2015",
          "triennes-igp-mediterranee-rose-2019",
          "albert-mann-muscat-2018",
          "champagne-gosset-grand-millesime-2006",
          "domaine-saint-denis-bourgogne-clos-coque-2018",
          "philippe-nusswitz-duche-uzes-orenia-rouge-2017",
          "chateau-turcaud-entre-deux-mers-2019",
          "alain-graillot-crozes-hermitage-rouge-la-guiraude-2016"
         ],
         "xaxis": "x",
         "y": [
          96,
          87,
          62,
          46,
          43,
          42,
          41,
          40,
          38,
          38,
          37,
          36,
          36,
          33,
          32,
          30,
          30,
          29,
          26,
          24
         ],
         "yaxis": "y"
        }
       ],
       "layout": {
        "barmode": "relative",
        "height": 900,
        "legend": {
         "tracegroupgap": 0
        },
        "template": {
         "data": {
          "bar": [
           {
            "error_x": {
             "color": "#2a3f5f"
            },
            "error_y": {
             "color": "#2a3f5f"
            },
            "marker": {
             "line": {
              "color": "#E5ECF6",
              "width": 0.5
             },
             "pattern": {
              "fillmode": "overlay",
              "size": 10,
              "solidity": 0.2
             }
            },
            "type": "bar"
           }
          ],
          "barpolar": [
           {
            "marker": {
             "line": {
              "color": "#E5ECF6",
              "width": 0.5
             },
             "pattern": {
              "fillmode": "overlay",
              "size": 10,
              "solidity": 0.2
             }
            },
            "type": "barpolar"
           }
          ],
          "carpet": [
           {
            "aaxis": {
             "endlinecolor": "#2a3f5f",
             "gridcolor": "white",
             "linecolor": "white",
             "minorgridcolor": "white",
             "startlinecolor": "#2a3f5f"
            },
            "baxis": {
             "endlinecolor": "#2a3f5f",
             "gridcolor": "white",
             "linecolor": "white",
             "minorgridcolor": "white",
             "startlinecolor": "#2a3f5f"
            },
            "type": "carpet"
           }
          ],
          "choropleth": [
           {
            "colorbar": {
             "outlinewidth": 0,
             "ticks": ""
            },
            "type": "choropleth"
           }
          ],
          "contour": [
           {
            "colorbar": {
             "outlinewidth": 0,
             "ticks": ""
            },
            "colorscale": [
             [
              0,
              "#0d0887"
             ],
             [
              0.1111111111111111,
              "#46039f"
             ],
             [
              0.2222222222222222,
              "#7201a8"
             ],
             [
              0.3333333333333333,
              "#9c179e"
             ],
             [
              0.4444444444444444,
              "#bd3786"
             ],
             [
              0.5555555555555556,
              "#d8576b"
             ],
             [
              0.6666666666666666,
              "#ed7953"
             ],
             [
              0.7777777777777778,
              "#fb9f3a"
             ],
             [
              0.8888888888888888,
              "#fdca26"
             ],
             [
              1,
              "#f0f921"
             ]
            ],
            "type": "contour"
           }
          ],
          "contourcarpet": [
           {
            "colorbar": {
             "outlinewidth": 0,
             "ticks": ""
            },
            "type": "contourcarpet"
           }
          ],
          "heatmap": [
           {
            "colorbar": {
             "outlinewidth": 0,
             "ticks": ""
            },
            "colorscale": [
             [
              0,
              "#0d0887"
             ],
             [
              0.1111111111111111,
              "#46039f"
             ],
             [
              0.2222222222222222,
              "#7201a8"
             ],
             [
              0.3333333333333333,
              "#9c179e"
             ],
             [
              0.4444444444444444,
              "#bd3786"
             ],
             [
              0.5555555555555556,
              "#d8576b"
             ],
             [
              0.6666666666666666,
              "#ed7953"
             ],
             [
              0.7777777777777778,
              "#fb9f3a"
             ],
             [
              0.8888888888888888,
              "#fdca26"
             ],
             [
              1,
              "#f0f921"
             ]
            ],
            "type": "heatmap"
           }
          ],
          "heatmapgl": [
           {
            "colorbar": {
             "outlinewidth": 0,
             "ticks": ""
            },
            "colorscale": [
             [
              0,
              "#0d0887"
             ],
             [
              0.1111111111111111,
              "#46039f"
             ],
             [
              0.2222222222222222,
              "#7201a8"
             ],
             [
              0.3333333333333333,
              "#9c179e"
             ],
             [
              0.4444444444444444,
              "#bd3786"
             ],
             [
              0.5555555555555556,
              "#d8576b"
             ],
             [
              0.6666666666666666,
              "#ed7953"
             ],
             [
              0.7777777777777778,
              "#fb9f3a"
             ],
             [
              0.8888888888888888,
              "#fdca26"
             ],
             [
              1,
              "#f0f921"
             ]
            ],
            "type": "heatmapgl"
           }
          ],
          "histogram": [
           {
            "marker": {
             "pattern": {
              "fillmode": "overlay",
              "size": 10,
              "solidity": 0.2
             }
            },
            "type": "histogram"
           }
          ],
          "histogram2d": [
           {
            "colorbar": {
             "outlinewidth": 0,
             "ticks": ""
            },
            "colorscale": [
             [
              0,
              "#0d0887"
             ],
             [
              0.1111111111111111,
              "#46039f"
             ],
             [
              0.2222222222222222,
              "#7201a8"
             ],
             [
              0.3333333333333333,
              "#9c179e"
             ],
             [
              0.4444444444444444,
              "#bd3786"
             ],
             [
              0.5555555555555556,
              "#d8576b"
             ],
             [
              0.6666666666666666,
              "#ed7953"
             ],
             [
              0.7777777777777778,
              "#fb9f3a"
             ],
             [
              0.8888888888888888,
              "#fdca26"
             ],
             [
              1,
              "#f0f921"
             ]
            ],
            "type": "histogram2d"
           }
          ],
          "histogram2dcontour": [
           {
            "colorbar": {
             "outlinewidth": 0,
             "ticks": ""
            },
            "colorscale": [
             [
              0,
              "#0d0887"
             ],
             [
              0.1111111111111111,
              "#46039f"
             ],
             [
              0.2222222222222222,
              "#7201a8"
             ],
             [
              0.3333333333333333,
              "#9c179e"
             ],
             [
              0.4444444444444444,
              "#bd3786"
             ],
             [
              0.5555555555555556,
              "#d8576b"
             ],
             [
              0.6666666666666666,
              "#ed7953"
             ],
             [
              0.7777777777777778,
              "#fb9f3a"
             ],
             [
              0.8888888888888888,
              "#fdca26"
             ],
             [
              1,
              "#f0f921"
             ]
            ],
            "type": "histogram2dcontour"
           }
          ],
          "mesh3d": [
           {
            "colorbar": {
             "outlinewidth": 0,
             "ticks": ""
            },
            "type": "mesh3d"
           }
          ],
          "parcoords": [
           {
            "line": {
             "colorbar": {
              "outlinewidth": 0,
              "ticks": ""
             }
            },
            "type": "parcoords"
           }
          ],
          "pie": [
           {
            "automargin": true,
            "type": "pie"
           }
          ],
          "scatter": [
           {
            "fillpattern": {
             "fillmode": "overlay",
             "size": 10,
             "solidity": 0.2
            },
            "type": "scatter"
           }
          ],
          "scatter3d": [
           {
            "line": {
             "colorbar": {
              "outlinewidth": 0,
              "ticks": ""
             }
            },
            "marker": {
             "colorbar": {
              "outlinewidth": 0,
              "ticks": ""
             }
            },
            "type": "scatter3d"
           }
          ],
          "scattercarpet": [
           {
            "marker": {
             "colorbar": {
              "outlinewidth": 0,
              "ticks": ""
             }
            },
            "type": "scattercarpet"
           }
          ],
          "scattergeo": [
           {
            "marker": {
             "colorbar": {
              "outlinewidth": 0,
              "ticks": ""
             }
            },
            "type": "scattergeo"
           }
          ],
          "scattergl": [
           {
            "marker": {
             "colorbar": {
              "outlinewidth": 0,
              "ticks": ""
             }
            },
            "type": "scattergl"
           }
          ],
          "scattermapbox": [
           {
            "marker": {
             "colorbar": {
              "outlinewidth": 0,
              "ticks": ""
             }
            },
            "type": "scattermapbox"
           }
          ],
          "scatterpolar": [
           {
            "marker": {
             "colorbar": {
              "outlinewidth": 0,
              "ticks": ""
             }
            },
            "type": "scatterpolar"
           }
          ],
          "scatterpolargl": [
           {
            "marker": {
             "colorbar": {
              "outlinewidth": 0,
              "ticks": ""
             }
            },
            "type": "scatterpolargl"
           }
          ],
          "scatterternary": [
           {
            "marker": {
             "colorbar": {
              "outlinewidth": 0,
              "ticks": ""
             }
            },
            "type": "scatterternary"
           }
          ],
          "surface": [
           {
            "colorbar": {
             "outlinewidth": 0,
             "ticks": ""
            },
            "colorscale": [
             [
              0,
              "#0d0887"
             ],
             [
              0.1111111111111111,
              "#46039f"
             ],
             [
              0.2222222222222222,
              "#7201a8"
             ],
             [
              0.3333333333333333,
              "#9c179e"
             ],
             [
              0.4444444444444444,
              "#bd3786"
             ],
             [
              0.5555555555555556,
              "#d8576b"
             ],
             [
              0.6666666666666666,
              "#ed7953"
             ],
             [
              0.7777777777777778,
              "#fb9f3a"
             ],
             [
              0.8888888888888888,
              "#fdca26"
             ],
             [
              1,
              "#f0f921"
             ]
            ],
            "type": "surface"
           }
          ],
          "table": [
           {
            "cells": {
             "fill": {
              "color": "#EBF0F8"
             },
             "line": {
              "color": "white"
             }
            },
            "header": {
             "fill": {
              "color": "#C8D4E3"
             },
             "line": {
              "color": "white"
             }
            },
            "type": "table"
           }
          ]
         },
         "layout": {
          "annotationdefaults": {
           "arrowcolor": "#2a3f5f",
           "arrowhead": 0,
           "arrowwidth": 1
          },
          "autotypenumbers": "strict",
          "coloraxis": {
           "colorbar": {
            "outlinewidth": 0,
            "ticks": ""
           }
          },
          "colorscale": {
           "diverging": [
            [
             0,
             "#8e0152"
            ],
            [
             0.1,
             "#c51b7d"
            ],
            [
             0.2,
             "#de77ae"
            ],
            [
             0.3,
             "#f1b6da"
            ],
            [
             0.4,
             "#fde0ef"
            ],
            [
             0.5,
             "#f7f7f7"
            ],
            [
             0.6,
             "#e6f5d0"
            ],
            [
             0.7,
             "#b8e186"
            ],
            [
             0.8,
             "#7fbc41"
            ],
            [
             0.9,
             "#4d9221"
            ],
            [
             1,
             "#276419"
            ]
           ],
           "sequential": [
            [
             0,
             "#0d0887"
            ],
            [
             0.1111111111111111,
             "#46039f"
            ],
            [
             0.2222222222222222,
             "#7201a8"
            ],
            [
             0.3333333333333333,
             "#9c179e"
            ],
            [
             0.4444444444444444,
             "#bd3786"
            ],
            [
             0.5555555555555556,
             "#d8576b"
            ],
            [
             0.6666666666666666,
             "#ed7953"
            ],
            [
             0.7777777777777778,
             "#fb9f3a"
            ],
            [
             0.8888888888888888,
             "#fdca26"
            ],
            [
             1,
             "#f0f921"
            ]
           ],
           "sequentialminus": [
            [
             0,
             "#0d0887"
            ],
            [
             0.1111111111111111,
             "#46039f"
            ],
            [
             0.2222222222222222,
             "#7201a8"
            ],
            [
             0.3333333333333333,
             "#9c179e"
            ],
            [
             0.4444444444444444,
             "#bd3786"
            ],
            [
             0.5555555555555556,
             "#d8576b"
            ],
            [
             0.6666666666666666,
             "#ed7953"
            ],
            [
             0.7777777777777778,
             "#fb9f3a"
            ],
            [
             0.8888888888888888,
             "#fdca26"
            ],
            [
             1,
             "#f0f921"
            ]
           ]
          },
          "colorway": [
           "#636efa",
           "#EF553B",
           "#00cc96",
           "#ab63fa",
           "#FFA15A",
           "#19d3f3",
           "#FF6692",
           "#B6E880",
           "#FF97FF",
           "#FECB52"
          ],
          "font": {
           "color": "#2a3f5f"
          },
          "geo": {
           "bgcolor": "white",
           "lakecolor": "white",
           "landcolor": "#E5ECF6",
           "showlakes": true,
           "showland": true,
           "subunitcolor": "white"
          },
          "hoverlabel": {
           "align": "left"
          },
          "hovermode": "closest",
          "mapbox": {
           "style": "light"
          },
          "paper_bgcolor": "white",
          "plot_bgcolor": "#E5ECF6",
          "polar": {
           "angularaxis": {
            "gridcolor": "white",
            "linecolor": "white",
            "ticks": ""
           },
           "bgcolor": "#E5ECF6",
           "radialaxis": {
            "gridcolor": "white",
            "linecolor": "white",
            "ticks": ""
           }
          },
          "scene": {
           "xaxis": {
            "backgroundcolor": "#E5ECF6",
            "gridcolor": "white",
            "gridwidth": 2,
            "linecolor": "white",
            "showbackground": true,
            "ticks": "",
            "zerolinecolor": "white"
           },
           "yaxis": {
            "backgroundcolor": "#E5ECF6",
            "gridcolor": "white",
            "gridwidth": 2,
            "linecolor": "white",
            "showbackground": true,
            "ticks": "",
            "zerolinecolor": "white"
           },
           "zaxis": {
            "backgroundcolor": "#E5ECF6",
            "gridcolor": "white",
            "gridwidth": 2,
            "linecolor": "white",
            "showbackground": true,
            "ticks": "",
            "zerolinecolor": "white"
           }
          },
          "shapedefaults": {
           "line": {
            "color": "#2a3f5f"
           }
          },
          "ternary": {
           "aaxis": {
            "gridcolor": "white",
            "linecolor": "white",
            "ticks": ""
           },
           "baxis": {
            "gridcolor": "white",
            "linecolor": "white",
            "ticks": ""
           },
           "bgcolor": "#E5ECF6",
           "caxis": {
            "gridcolor": "white",
            "linecolor": "white",
            "ticks": ""
           }
          },
          "title": {
           "x": 0.05
          },
          "xaxis": {
           "automargin": true,
           "gridcolor": "white",
           "linecolor": "white",
           "ticks": "",
           "title": {
            "standoff": 15
           },
           "zerolinecolor": "white",
           "zerolinewidth": 2
          },
          "yaxis": {
           "automargin": true,
           "gridcolor": "white",
           "linecolor": "white",
           "ticks": "",
           "title": {
            "standoff": 15
           },
           "zerolinecolor": "white",
           "zerolinewidth": 2
          }
         }
        },
        "title": {
         "text": "Top 20 des articles en quantité vendue"
        },
        "width": 900,
        "xaxis": {
         "anchor": "y",
         "domain": [
          0,
          1
         ],
         "title": {
          "text": "post_name"
         }
        },
        "yaxis": {
         "anchor": "x",
         "domain": [
          0,
          1
         ],
         "title": {
          "text": "total_sales"
         }
        }
       }
      },
      "text/html": [
       "<div>                            <div id=\"1a3bc5ae-d02e-4fe3-840c-0da4c0ac5695\" class=\"plotly-graph-div\" style=\"height:900px; width:900px;\"></div>            <script type=\"text/javascript\">                require([\"plotly\"], function(Plotly) {                    window.PLOTLYENV=window.PLOTLYENV || {};                                    if (document.getElementById(\"1a3bc5ae-d02e-4fe3-840c-0da4c0ac5695\")) {                    Plotly.newPlot(                        \"1a3bc5ae-d02e-4fe3-840c-0da4c0ac5695\",                        [{\"alignmentgroup\":\"True\",\"hovertemplate\":\"post_name=%{x}<br>total_sales=%{y}<extra></extra>\",\"legendgroup\":\"\",\"marker\":{\"color\":\"#636efa\",\"pattern\":{\"shape\":\"\"}},\"name\":\"\",\"offsetgroup\":\"\",\"orientation\":\"v\",\"showlegend\":false,\"textposition\":\"outside\",\"x\":[\"champagne-gosset-grand-blanc-de-blanc\",\"champagne-gosset-grand-rose\",\"gilles-robin-crozes-hermitage-papillon-2019\",\"moulin-de-gassac-igp-pays-dherault-guilhem-rose-2019\",\"maurel-pays-oc-chardonnay-2019\",\"le-pas-de-lescalette-languedoc-petits-pas-2019\",\"domaine-giudicelli-patrimonio-blanc-2019\",\"gosset-champagne-grande-reserve\",\"emile-boeckel-cremant-brut-blanc-de-blancs\",\"chateau-de-la-liquiere-faugeres-ampoule-2019\",\"domaine-giudicelli-patrimonio-rouge-2016\",\"jacqueson-rully-blanc-1er-cru-la-pucelle-2018\",\"elian-daros-cotes-du-marmandais-clos-baquey-2015\",\"triennes-igp-mediterranee-rose-2019\",\"albert-mann-muscat-2018\",\"champagne-gosset-grand-millesime-2006\",\"domaine-saint-denis-bourgogne-clos-coque-2018\",\"philippe-nusswitz-duche-uzes-orenia-rouge-2017\",\"chateau-turcaud-entre-deux-mers-2019\",\"alain-graillot-crozes-hermitage-rouge-la-guiraude-2016\"],\"xaxis\":\"x\",\"y\":[96.0,87.0,62.0,46.0,43.0,42.0,41.0,40.0,38.0,38.0,37.0,36.0,36.0,33.0,32.0,30.0,30.0,29.0,26.0,24.0],\"yaxis\":\"y\",\"type\":\"bar\",\"textfont\":{\"color\":\"black\",\"family\":\"Cambria\",\"size\":12},\"texttemplate\":\"%{y}\"}],                        {\"template\":{\"data\":{\"histogram2dcontour\":[{\"type\":\"histogram2dcontour\",\"colorbar\":{\"outlinewidth\":0,\"ticks\":\"\"},\"colorscale\":[[0.0,\"#0d0887\"],[0.1111111111111111,\"#46039f\"],[0.2222222222222222,\"#7201a8\"],[0.3333333333333333,\"#9c179e\"],[0.4444444444444444,\"#bd3786\"],[0.5555555555555556,\"#d8576b\"],[0.6666666666666666,\"#ed7953\"],[0.7777777777777778,\"#fb9f3a\"],[0.8888888888888888,\"#fdca26\"],[1.0,\"#f0f921\"]]}],\"choropleth\":[{\"type\":\"choropleth\",\"colorbar\":{\"outlinewidth\":0,\"ticks\":\"\"}}],\"histogram2d\":[{\"type\":\"histogram2d\",\"colorbar\":{\"outlinewidth\":0,\"ticks\":\"\"},\"colorscale\":[[0.0,\"#0d0887\"],[0.1111111111111111,\"#46039f\"],[0.2222222222222222,\"#7201a8\"],[0.3333333333333333,\"#9c179e\"],[0.4444444444444444,\"#bd3786\"],[0.5555555555555556,\"#d8576b\"],[0.6666666666666666,\"#ed7953\"],[0.7777777777777778,\"#fb9f3a\"],[0.8888888888888888,\"#fdca26\"],[1.0,\"#f0f921\"]]}],\"heatmap\":[{\"type\":\"heatmap\",\"colorbar\":{\"outlinewidth\":0,\"ticks\":\"\"},\"colorscale\":[[0.0,\"#0d0887\"],[0.1111111111111111,\"#46039f\"],[0.2222222222222222,\"#7201a8\"],[0.3333333333333333,\"#9c179e\"],[0.4444444444444444,\"#bd3786\"],[0.5555555555555556,\"#d8576b\"],[0.6666666666666666,\"#ed7953\"],[0.7777777777777778,\"#fb9f3a\"],[0.8888888888888888,\"#fdca26\"],[1.0,\"#f0f921\"]]}],\"heatmapgl\":[{\"type\":\"heatmapgl\",\"colorbar\":{\"outlinewidth\":0,\"ticks\":\"\"},\"colorscale\":[[0.0,\"#0d0887\"],[0.1111111111111111,\"#46039f\"],[0.2222222222222222,\"#7201a8\"],[0.3333333333333333,\"#9c179e\"],[0.4444444444444444,\"#bd3786\"],[0.5555555555555556,\"#d8576b\"],[0.6666666666666666,\"#ed7953\"],[0.7777777777777778,\"#fb9f3a\"],[0.8888888888888888,\"#fdca26\"],[1.0,\"#f0f921\"]]}],\"contourcarpet\":[{\"type\":\"contourcarpet\",\"colorbar\":{\"outlinewidth\":0,\"ticks\":\"\"}}],\"contour\":[{\"type\":\"contour\",\"colorbar\":{\"outlinewidth\":0,\"ticks\":\"\"},\"colorscale\":[[0.0,\"#0d0887\"],[0.1111111111111111,\"#46039f\"],[0.2222222222222222,\"#7201a8\"],[0.3333333333333333,\"#9c179e\"],[0.4444444444444444,\"#bd3786\"],[0.5555555555555556,\"#d8576b\"],[0.6666666666666666,\"#ed7953\"],[0.7777777777777778,\"#fb9f3a\"],[0.8888888888888888,\"#fdca26\"],[1.0,\"#f0f921\"]]}],\"surface\":[{\"type\":\"surface\",\"colorbar\":{\"outlinewidth\":0,\"ticks\":\"\"},\"colorscale\":[[0.0,\"#0d0887\"],[0.1111111111111111,\"#46039f\"],[0.2222222222222222,\"#7201a8\"],[0.3333333333333333,\"#9c179e\"],[0.4444444444444444,\"#bd3786\"],[0.5555555555555556,\"#d8576b\"],[0.6666666666666666,\"#ed7953\"],[0.7777777777777778,\"#fb9f3a\"],[0.8888888888888888,\"#fdca26\"],[1.0,\"#f0f921\"]]}],\"mesh3d\":[{\"type\":\"mesh3d\",\"colorbar\":{\"outlinewidth\":0,\"ticks\":\"\"}}],\"scatter\":[{\"fillpattern\":{\"fillmode\":\"overlay\",\"size\":10,\"solidity\":0.2},\"type\":\"scatter\"}],\"parcoords\":[{\"type\":\"parcoords\",\"line\":{\"colorbar\":{\"outlinewidth\":0,\"ticks\":\"\"}}}],\"scatterpolargl\":[{\"type\":\"scatterpolargl\",\"marker\":{\"colorbar\":{\"outlinewidth\":0,\"ticks\":\"\"}}}],\"bar\":[{\"error_x\":{\"color\":\"#2a3f5f\"},\"error_y\":{\"color\":\"#2a3f5f\"},\"marker\":{\"line\":{\"color\":\"#E5ECF6\",\"width\":0.5},\"pattern\":{\"fillmode\":\"overlay\",\"size\":10,\"solidity\":0.2}},\"type\":\"bar\"}],\"scattergeo\":[{\"type\":\"scattergeo\",\"marker\":{\"colorbar\":{\"outlinewidth\":0,\"ticks\":\"\"}}}],\"scatterpolar\":[{\"type\":\"scatterpolar\",\"marker\":{\"colorbar\":{\"outlinewidth\":0,\"ticks\":\"\"}}}],\"histogram\":[{\"marker\":{\"pattern\":{\"fillmode\":\"overlay\",\"size\":10,\"solidity\":0.2}},\"type\":\"histogram\"}],\"scattergl\":[{\"type\":\"scattergl\",\"marker\":{\"colorbar\":{\"outlinewidth\":0,\"ticks\":\"\"}}}],\"scatter3d\":[{\"type\":\"scatter3d\",\"line\":{\"colorbar\":{\"outlinewidth\":0,\"ticks\":\"\"}},\"marker\":{\"colorbar\":{\"outlinewidth\":0,\"ticks\":\"\"}}}],\"scattermapbox\":[{\"type\":\"scattermapbox\",\"marker\":{\"colorbar\":{\"outlinewidth\":0,\"ticks\":\"\"}}}],\"scatterternary\":[{\"type\":\"scatterternary\",\"marker\":{\"colorbar\":{\"outlinewidth\":0,\"ticks\":\"\"}}}],\"scattercarpet\":[{\"type\":\"scattercarpet\",\"marker\":{\"colorbar\":{\"outlinewidth\":0,\"ticks\":\"\"}}}],\"carpet\":[{\"aaxis\":{\"endlinecolor\":\"#2a3f5f\",\"gridcolor\":\"white\",\"linecolor\":\"white\",\"minorgridcolor\":\"white\",\"startlinecolor\":\"#2a3f5f\"},\"baxis\":{\"endlinecolor\":\"#2a3f5f\",\"gridcolor\":\"white\",\"linecolor\":\"white\",\"minorgridcolor\":\"white\",\"startlinecolor\":\"#2a3f5f\"},\"type\":\"carpet\"}],\"table\":[{\"cells\":{\"fill\":{\"color\":\"#EBF0F8\"},\"line\":{\"color\":\"white\"}},\"header\":{\"fill\":{\"color\":\"#C8D4E3\"},\"line\":{\"color\":\"white\"}},\"type\":\"table\"}],\"barpolar\":[{\"marker\":{\"line\":{\"color\":\"#E5ECF6\",\"width\":0.5},\"pattern\":{\"fillmode\":\"overlay\",\"size\":10,\"solidity\":0.2}},\"type\":\"barpolar\"}],\"pie\":[{\"automargin\":true,\"type\":\"pie\"}]},\"layout\":{\"autotypenumbers\":\"strict\",\"colorway\":[\"#636efa\",\"#EF553B\",\"#00cc96\",\"#ab63fa\",\"#FFA15A\",\"#19d3f3\",\"#FF6692\",\"#B6E880\",\"#FF97FF\",\"#FECB52\"],\"font\":{\"color\":\"#2a3f5f\"},\"hovermode\":\"closest\",\"hoverlabel\":{\"align\":\"left\"},\"paper_bgcolor\":\"white\",\"plot_bgcolor\":\"#E5ECF6\",\"polar\":{\"bgcolor\":\"#E5ECF6\",\"angularaxis\":{\"gridcolor\":\"white\",\"linecolor\":\"white\",\"ticks\":\"\"},\"radialaxis\":{\"gridcolor\":\"white\",\"linecolor\":\"white\",\"ticks\":\"\"}},\"ternary\":{\"bgcolor\":\"#E5ECF6\",\"aaxis\":{\"gridcolor\":\"white\",\"linecolor\":\"white\",\"ticks\":\"\"},\"baxis\":{\"gridcolor\":\"white\",\"linecolor\":\"white\",\"ticks\":\"\"},\"caxis\":{\"gridcolor\":\"white\",\"linecolor\":\"white\",\"ticks\":\"\"}},\"coloraxis\":{\"colorbar\":{\"outlinewidth\":0,\"ticks\":\"\"}},\"colorscale\":{\"sequential\":[[0.0,\"#0d0887\"],[0.1111111111111111,\"#46039f\"],[0.2222222222222222,\"#7201a8\"],[0.3333333333333333,\"#9c179e\"],[0.4444444444444444,\"#bd3786\"],[0.5555555555555556,\"#d8576b\"],[0.6666666666666666,\"#ed7953\"],[0.7777777777777778,\"#fb9f3a\"],[0.8888888888888888,\"#fdca26\"],[1.0,\"#f0f921\"]],\"sequentialminus\":[[0.0,\"#0d0887\"],[0.1111111111111111,\"#46039f\"],[0.2222222222222222,\"#7201a8\"],[0.3333333333333333,\"#9c179e\"],[0.4444444444444444,\"#bd3786\"],[0.5555555555555556,\"#d8576b\"],[0.6666666666666666,\"#ed7953\"],[0.7777777777777778,\"#fb9f3a\"],[0.8888888888888888,\"#fdca26\"],[1.0,\"#f0f921\"]],\"diverging\":[[0,\"#8e0152\"],[0.1,\"#c51b7d\"],[0.2,\"#de77ae\"],[0.3,\"#f1b6da\"],[0.4,\"#fde0ef\"],[0.5,\"#f7f7f7\"],[0.6,\"#e6f5d0\"],[0.7,\"#b8e186\"],[0.8,\"#7fbc41\"],[0.9,\"#4d9221\"],[1,\"#276419\"]]},\"xaxis\":{\"gridcolor\":\"white\",\"linecolor\":\"white\",\"ticks\":\"\",\"title\":{\"standoff\":15},\"zerolinecolor\":\"white\",\"automargin\":true,\"zerolinewidth\":2},\"yaxis\":{\"gridcolor\":\"white\",\"linecolor\":\"white\",\"ticks\":\"\",\"title\":{\"standoff\":15},\"zerolinecolor\":\"white\",\"automargin\":true,\"zerolinewidth\":2},\"scene\":{\"xaxis\":{\"backgroundcolor\":\"#E5ECF6\",\"gridcolor\":\"white\",\"linecolor\":\"white\",\"showbackground\":true,\"ticks\":\"\",\"zerolinecolor\":\"white\",\"gridwidth\":2},\"yaxis\":{\"backgroundcolor\":\"#E5ECF6\",\"gridcolor\":\"white\",\"linecolor\":\"white\",\"showbackground\":true,\"ticks\":\"\",\"zerolinecolor\":\"white\",\"gridwidth\":2},\"zaxis\":{\"backgroundcolor\":\"#E5ECF6\",\"gridcolor\":\"white\",\"linecolor\":\"white\",\"showbackground\":true,\"ticks\":\"\",\"zerolinecolor\":\"white\",\"gridwidth\":2}},\"shapedefaults\":{\"line\":{\"color\":\"#2a3f5f\"}},\"annotationdefaults\":{\"arrowcolor\":\"#2a3f5f\",\"arrowhead\":0,\"arrowwidth\":1},\"geo\":{\"bgcolor\":\"white\",\"landcolor\":\"#E5ECF6\",\"subunitcolor\":\"white\",\"showland\":true,\"showlakes\":true,\"lakecolor\":\"white\"},\"title\":{\"x\":0.05},\"mapbox\":{\"style\":\"light\"}}},\"xaxis\":{\"anchor\":\"y\",\"domain\":[0.0,1.0],\"title\":{\"text\":\"post_name\"}},\"yaxis\":{\"anchor\":\"x\",\"domain\":[0.0,1.0],\"title\":{\"text\":\"total_sales\"}},\"legend\":{\"tracegroupgap\":0},\"title\":{\"text\":\"Top 20 des articles en quantit\\u00e9 vendue\"},\"barmode\":\"relative\",\"width\":900,\"height\":900},                        {\"responsive\": true}                    ).then(function(){\n",
       "                            \n",
       "var gd = document.getElementById('1a3bc5ae-d02e-4fe3-840c-0da4c0ac5695');\n",
       "var x = new MutationObserver(function (mutations, observer) {{\n",
       "        var display = window.getComputedStyle(gd).display;\n",
       "        if (!display || display === 'none') {{\n",
       "            console.log([gd, 'removed!']);\n",
       "            Plotly.purge(gd);\n",
       "            observer.disconnect();\n",
       "        }}\n",
       "}});\n",
       "\n",
       "// Listen for the removal of the full notebook cells\n",
       "var notebookContainer = gd.closest('#notebook-container');\n",
       "if (notebookContainer) {{\n",
       "    x.observe(notebookContainer, {childList: true});\n",
       "}}\n",
       "\n",
       "// Listen for the clearing of the current output cell\n",
       "var outputEl = gd.closest('.output');\n",
       "if (outputEl) {{\n",
       "    x.observe(outputEl, {childList: true});\n",
       "}}\n",
       "\n",
       "                        })                };                });            </script>        </div>"
      ]
     },
     "metadata": {},
     "output_type": "display_data"
    }
   ],
   "source": [
    "#Graphique en barre des 20 premiers articles avec plotly express\n",
    "\n",
    "fig = px.bar(premiers_articles, x='post_name', y='total_sales', title='Top 20 des articles en quantité vendue')\n",
    "fig.update_traces(texttemplate='%{y}', textposition='outside', textfont=dict(family=\"Cambria\", size=12, color=\"black\"))\n",
    "\n",
    "# Augmenter la taille de la figure\n",
    "fig.update_layout(width=900, height=900)\n",
    "fig.show()"
   ]
  },
  {
   "cell_type": "code",
   "execution_count": 270,
   "id": "2aad021e",
   "metadata": {},
   "outputs": [
    {
     "data": {
      "text/html": [
       "<div>\n",
       "<style scoped>\n",
       "    .dataframe tbody tr th:only-of-type {\n",
       "        vertical-align: middle;\n",
       "    }\n",
       "\n",
       "    .dataframe tbody tr th {\n",
       "        vertical-align: top;\n",
       "    }\n",
       "\n",
       "    .dataframe thead th {\n",
       "        text-align: right;\n",
       "    }\n",
       "</style>\n",
       "<table border=\"1\" class=\"dataframe\">\n",
       "  <thead>\n",
       "    <tr style=\"text-align: right;\">\n",
       "      <th></th>\n",
       "      <th>product_id</th>\n",
       "      <th>onsale_web</th>\n",
       "      <th>price</th>\n",
       "      <th>stock_status_2</th>\n",
       "      <th>id_web</th>\n",
       "      <th>sku_x</th>\n",
       "      <th>sku_y</th>\n",
       "      <th>total_sales</th>\n",
       "      <th>tax_status</th>\n",
       "      <th>post_author</th>\n",
       "      <th>...</th>\n",
       "      <th>Contenance</th>\n",
       "      <th>Degré d'alcool</th>\n",
       "      <th>Température dégustation</th>\n",
       "      <th>Alliance mets</th>\n",
       "      <th>categ_prix</th>\n",
       "      <th>Z-score_price</th>\n",
       "      <th>chiffre_affaires</th>\n",
       "      <th>part_ca</th>\n",
       "      <th>somme_cumulative</th>\n",
       "      <th>part_quantite</th>\n",
       "    </tr>\n",
       "  </thead>\n",
       "  <tbody>\n",
       "    <tr>\n",
       "      <th>0</th>\n",
       "      <td>4334</td>\n",
       "      <td>1</td>\n",
       "      <td>49.0</td>\n",
       "      <td>outofstock</td>\n",
       "      <td>7818</td>\n",
       "      <td>NaN</td>\n",
       "      <td>7818</td>\n",
       "      <td>96.0</td>\n",
       "      <td>taxable</td>\n",
       "      <td>2.0</td>\n",
       "      <td>...</td>\n",
       "      <td>75cl</td>\n",
       "      <td>12%</td>\n",
       "      <td>10°C</td>\n",
       "      <td>Apéritif, Coquilles Saint Jacques, Huîtres, Po...</td>\n",
       "      <td>30-49€</td>\n",
       "      <td>0.618915</td>\n",
       "      <td>4704.0</td>\n",
       "      <td>0.066659</td>\n",
       "      <td>0.066659</td>\n",
       "      <td>0.033508</td>\n",
       "    </tr>\n",
       "    <tr>\n",
       "      <th>1</th>\n",
       "      <td>4144</td>\n",
       "      <td>1</td>\n",
       "      <td>49.0</td>\n",
       "      <td>instock</td>\n",
       "      <td>1662</td>\n",
       "      <td>NaN</td>\n",
       "      <td>1662</td>\n",
       "      <td>87.0</td>\n",
       "      <td>taxable</td>\n",
       "      <td>2.0</td>\n",
       "      <td>...</td>\n",
       "      <td>75cl</td>\n",
       "      <td>12%</td>\n",
       "      <td>10°C</td>\n",
       "      <td>Apéritif, Desserts, Foie gras, Poissons</td>\n",
       "      <td>30-49€</td>\n",
       "      <td>0.618915</td>\n",
       "      <td>4263.0</td>\n",
       "      <td>0.060409</td>\n",
       "      <td>0.127068</td>\n",
       "      <td>0.030366</td>\n",
       "    </tr>\n",
       "    <tr>\n",
       "      <th>2</th>\n",
       "      <td>4068</td>\n",
       "      <td>1</td>\n",
       "      <td>16.6</td>\n",
       "      <td>instock</td>\n",
       "      <td>16416</td>\n",
       "      <td>NaN</td>\n",
       "      <td>16416</td>\n",
       "      <td>62.0</td>\n",
       "      <td>taxable</td>\n",
       "      <td>2.0</td>\n",
       "      <td>...</td>\n",
       "      <td>75cl</td>\n",
       "      <td>13,5%</td>\n",
       "      <td>15°C</td>\n",
       "      <td>Apéritif, Charcuterie, Viande rouge, Volaille</td>\n",
       "      <td>10-19€</td>\n",
       "      <td>-0.590227</td>\n",
       "      <td>1029.2</td>\n",
       "      <td>0.014584</td>\n",
       "      <td>0.283808</td>\n",
       "      <td>0.021640</td>\n",
       "    </tr>\n",
       "    <tr>\n",
       "      <th>3</th>\n",
       "      <td>4200</td>\n",
       "      <td>1</td>\n",
       "      <td>5.8</td>\n",
       "      <td>instock</td>\n",
       "      <td>16295</td>\n",
       "      <td>NaN</td>\n",
       "      <td>16295</td>\n",
       "      <td>46.0</td>\n",
       "      <td>taxable</td>\n",
       "      <td>2.0</td>\n",
       "      <td>...</td>\n",
       "      <td>75cl</td>\n",
       "      <td>12%</td>\n",
       "      <td>11°C</td>\n",
       "      <td>Apéritif, Grillades, Légumes croquants, Salade</td>\n",
       "      <td>0-9€</td>\n",
       "      <td>-0.993275</td>\n",
       "      <td>266.8</td>\n",
       "      <td>0.003781</td>\n",
       "      <td>0.591857</td>\n",
       "      <td>0.016056</td>\n",
       "    </tr>\n",
       "    <tr>\n",
       "      <th>4</th>\n",
       "      <td>4172</td>\n",
       "      <td>1</td>\n",
       "      <td>5.7</td>\n",
       "      <td>instock</td>\n",
       "      <td>16210</td>\n",
       "      <td>NaN</td>\n",
       "      <td>16210</td>\n",
       "      <td>43.0</td>\n",
       "      <td>taxable</td>\n",
       "      <td>2.0</td>\n",
       "      <td>...</td>\n",
       "      <td>75cl</td>\n",
       "      <td>12,50%</td>\n",
       "      <td>11°C</td>\n",
       "      <td>Apéritif, Poissons, Volaille</td>\n",
       "      <td>0-9€</td>\n",
       "      <td>-0.997007</td>\n",
       "      <td>245.1</td>\n",
       "      <td>0.003473</td>\n",
       "      <td>0.616854</td>\n",
       "      <td>0.015009</td>\n",
       "    </tr>\n",
       "  </tbody>\n",
       "</table>\n",
       "<p>5 rows × 36 columns</p>\n",
       "</div>"
      ],
      "text/plain": [
       "   product_id  onsale_web  price stock_status_2 id_web sku_x  sku_y  \\\n",
       "0        4334           1   49.0     outofstock   7818   NaN   7818   \n",
       "1        4144           1   49.0        instock   1662   NaN   1662   \n",
       "2        4068           1   16.6        instock  16416   NaN  16416   \n",
       "3        4200           1    5.8        instock  16295   NaN  16295   \n",
       "4        4172           1    5.7        instock  16210   NaN  16210   \n",
       "\n",
       "   total_sales tax_status  post_author  ... Contenance Degré d'alcool  \\\n",
       "0         96.0    taxable          2.0  ...       75cl            12%   \n",
       "1         87.0    taxable          2.0  ...       75cl            12%   \n",
       "2         62.0    taxable          2.0  ...       75cl          13,5%   \n",
       "3         46.0    taxable          2.0  ...       75cl            12%   \n",
       "4         43.0    taxable          2.0  ...       75cl         12,50%   \n",
       "\n",
       "  Température dégustation                                      Alliance mets  \\\n",
       "0                    10°C  Apéritif, Coquilles Saint Jacques, Huîtres, Po...   \n",
       "1                    10°C            Apéritif, Desserts, Foie gras, Poissons   \n",
       "2                    15°C      Apéritif, Charcuterie, Viande rouge, Volaille   \n",
       "3                    11°C     Apéritif, Grillades, Légumes croquants, Salade   \n",
       "4                    11°C                       Apéritif, Poissons, Volaille   \n",
       "\n",
       "  categ_prix Z-score_price chiffre_affaires   part_ca somme_cumulative  \\\n",
       "0     30-49€      0.618915           4704.0  0.066659         0.066659   \n",
       "1     30-49€      0.618915           4263.0  0.060409         0.127068   \n",
       "2     10-19€     -0.590227           1029.2  0.014584         0.283808   \n",
       "3       0-9€     -0.993275            266.8  0.003781         0.591857   \n",
       "4       0-9€     -0.997007            245.1  0.003473         0.616854   \n",
       "\n",
       "  part_quantite  \n",
       "0      0.033508  \n",
       "1      0.030366  \n",
       "2      0.021640  \n",
       "3      0.016056  \n",
       "4      0.015009  \n",
       "\n",
       "[5 rows x 36 columns]"
      ]
     },
     "execution_count": 270,
     "metadata": {},
     "output_type": "execute_result"
    }
   ],
   "source": [
    "#############################\n",
    "# Calculer le 20 / 80 en CA #\n",
    "#############################\n",
    "\n",
    "#Créer une colonne calculant la part en quantité de la ligne dans le dataset\n",
    "somme_totale_quantites = df_merge_final['total_sales'].sum()\n",
    "\n",
    "# Créer la nouvelle colonne pour la part en quantité\n",
    "df_merge_final['part_quantite'] = df_merge_final['total_sales'] / somme_totale_quantites\n",
    "\n",
    "\n",
    "df_merge_final.head()\n",
    "\n",
    "\n"
   ]
  },
  {
   "cell_type": "code",
   "execution_count": 271,
   "id": "a4ebde7f",
   "metadata": {},
   "outputs": [
    {
     "data": {
      "text/html": [
       "<div>\n",
       "<style scoped>\n",
       "    .dataframe tbody tr th:only-of-type {\n",
       "        vertical-align: middle;\n",
       "    }\n",
       "\n",
       "    .dataframe tbody tr th {\n",
       "        vertical-align: top;\n",
       "    }\n",
       "\n",
       "    .dataframe thead th {\n",
       "        text-align: right;\n",
       "    }\n",
       "</style>\n",
       "<table border=\"1\" class=\"dataframe\">\n",
       "  <thead>\n",
       "    <tr style=\"text-align: right;\">\n",
       "      <th></th>\n",
       "      <th>product_id</th>\n",
       "      <th>onsale_web</th>\n",
       "      <th>price</th>\n",
       "      <th>stock_status_2</th>\n",
       "      <th>id_web</th>\n",
       "      <th>sku_x</th>\n",
       "      <th>sku_y</th>\n",
       "      <th>total_sales</th>\n",
       "      <th>tax_status</th>\n",
       "      <th>post_author</th>\n",
       "      <th>...</th>\n",
       "      <th>Degré d'alcool</th>\n",
       "      <th>Température dégustation</th>\n",
       "      <th>Alliance mets</th>\n",
       "      <th>categ_prix</th>\n",
       "      <th>Z-score_price</th>\n",
       "      <th>chiffre_affaires</th>\n",
       "      <th>part_ca</th>\n",
       "      <th>somme_cumulative</th>\n",
       "      <th>part_quantite</th>\n",
       "      <th>somme_cumulative_2</th>\n",
       "    </tr>\n",
       "  </thead>\n",
       "  <tbody>\n",
       "    <tr>\n",
       "      <th>0</th>\n",
       "      <td>4334</td>\n",
       "      <td>1</td>\n",
       "      <td>49.0</td>\n",
       "      <td>outofstock</td>\n",
       "      <td>7818</td>\n",
       "      <td>NaN</td>\n",
       "      <td>7818</td>\n",
       "      <td>96.0</td>\n",
       "      <td>taxable</td>\n",
       "      <td>2.0</td>\n",
       "      <td>...</td>\n",
       "      <td>12%</td>\n",
       "      <td>10°C</td>\n",
       "      <td>Apéritif, Coquilles Saint Jacques, Huîtres, Po...</td>\n",
       "      <td>30-49€</td>\n",
       "      <td>0.618915</td>\n",
       "      <td>4704.0</td>\n",
       "      <td>0.066659</td>\n",
       "      <td>0.066659</td>\n",
       "      <td>0.033508</td>\n",
       "      <td>0.033508</td>\n",
       "    </tr>\n",
       "    <tr>\n",
       "      <th>1</th>\n",
       "      <td>4144</td>\n",
       "      <td>1</td>\n",
       "      <td>49.0</td>\n",
       "      <td>instock</td>\n",
       "      <td>1662</td>\n",
       "      <td>NaN</td>\n",
       "      <td>1662</td>\n",
       "      <td>87.0</td>\n",
       "      <td>taxable</td>\n",
       "      <td>2.0</td>\n",
       "      <td>...</td>\n",
       "      <td>12%</td>\n",
       "      <td>10°C</td>\n",
       "      <td>Apéritif, Desserts, Foie gras, Poissons</td>\n",
       "      <td>30-49€</td>\n",
       "      <td>0.618915</td>\n",
       "      <td>4263.0</td>\n",
       "      <td>0.060409</td>\n",
       "      <td>0.127068</td>\n",
       "      <td>0.030366</td>\n",
       "      <td>0.063874</td>\n",
       "    </tr>\n",
       "    <tr>\n",
       "      <th>2</th>\n",
       "      <td>4068</td>\n",
       "      <td>1</td>\n",
       "      <td>16.6</td>\n",
       "      <td>instock</td>\n",
       "      <td>16416</td>\n",
       "      <td>NaN</td>\n",
       "      <td>16416</td>\n",
       "      <td>62.0</td>\n",
       "      <td>taxable</td>\n",
       "      <td>2.0</td>\n",
       "      <td>...</td>\n",
       "      <td>13,5%</td>\n",
       "      <td>15°C</td>\n",
       "      <td>Apéritif, Charcuterie, Viande rouge, Volaille</td>\n",
       "      <td>10-19€</td>\n",
       "      <td>-0.590227</td>\n",
       "      <td>1029.2</td>\n",
       "      <td>0.014584</td>\n",
       "      <td>0.283808</td>\n",
       "      <td>0.021640</td>\n",
       "      <td>0.085515</td>\n",
       "    </tr>\n",
       "    <tr>\n",
       "      <th>3</th>\n",
       "      <td>4200</td>\n",
       "      <td>1</td>\n",
       "      <td>5.8</td>\n",
       "      <td>instock</td>\n",
       "      <td>16295</td>\n",
       "      <td>NaN</td>\n",
       "      <td>16295</td>\n",
       "      <td>46.0</td>\n",
       "      <td>taxable</td>\n",
       "      <td>2.0</td>\n",
       "      <td>...</td>\n",
       "      <td>12%</td>\n",
       "      <td>11°C</td>\n",
       "      <td>Apéritif, Grillades, Légumes croquants, Salade</td>\n",
       "      <td>0-9€</td>\n",
       "      <td>-0.993275</td>\n",
       "      <td>266.8</td>\n",
       "      <td>0.003781</td>\n",
       "      <td>0.591857</td>\n",
       "      <td>0.016056</td>\n",
       "      <td>0.101571</td>\n",
       "    </tr>\n",
       "    <tr>\n",
       "      <th>4</th>\n",
       "      <td>4172</td>\n",
       "      <td>1</td>\n",
       "      <td>5.7</td>\n",
       "      <td>instock</td>\n",
       "      <td>16210</td>\n",
       "      <td>NaN</td>\n",
       "      <td>16210</td>\n",
       "      <td>43.0</td>\n",
       "      <td>taxable</td>\n",
       "      <td>2.0</td>\n",
       "      <td>...</td>\n",
       "      <td>12,50%</td>\n",
       "      <td>11°C</td>\n",
       "      <td>Apéritif, Poissons, Volaille</td>\n",
       "      <td>0-9€</td>\n",
       "      <td>-0.997007</td>\n",
       "      <td>245.1</td>\n",
       "      <td>0.003473</td>\n",
       "      <td>0.616854</td>\n",
       "      <td>0.015009</td>\n",
       "      <td>0.116579</td>\n",
       "    </tr>\n",
       "  </tbody>\n",
       "</table>\n",
       "<p>5 rows × 37 columns</p>\n",
       "</div>"
      ],
      "text/plain": [
       "   product_id  onsale_web  price stock_status_2 id_web sku_x  sku_y  \\\n",
       "0        4334           1   49.0     outofstock   7818   NaN   7818   \n",
       "1        4144           1   49.0        instock   1662   NaN   1662   \n",
       "2        4068           1   16.6        instock  16416   NaN  16416   \n",
       "3        4200           1    5.8        instock  16295   NaN  16295   \n",
       "4        4172           1    5.7        instock  16210   NaN  16210   \n",
       "\n",
       "   total_sales tax_status  post_author  ... Degré d'alcool  \\\n",
       "0         96.0    taxable          2.0  ...            12%   \n",
       "1         87.0    taxable          2.0  ...            12%   \n",
       "2         62.0    taxable          2.0  ...          13,5%   \n",
       "3         46.0    taxable          2.0  ...            12%   \n",
       "4         43.0    taxable          2.0  ...         12,50%   \n",
       "\n",
       "  Température dégustation                                      Alliance mets  \\\n",
       "0                    10°C  Apéritif, Coquilles Saint Jacques, Huîtres, Po...   \n",
       "1                    10°C            Apéritif, Desserts, Foie gras, Poissons   \n",
       "2                    15°C      Apéritif, Charcuterie, Viande rouge, Volaille   \n",
       "3                    11°C     Apéritif, Grillades, Légumes croquants, Salade   \n",
       "4                    11°C                       Apéritif, Poissons, Volaille   \n",
       "\n",
       "  categ_prix Z-score_price chiffre_affaires   part_ca somme_cumulative  \\\n",
       "0     30-49€      0.618915           4704.0  0.066659         0.066659   \n",
       "1     30-49€      0.618915           4263.0  0.060409         0.127068   \n",
       "2     10-19€     -0.590227           1029.2  0.014584         0.283808   \n",
       "3       0-9€     -0.993275            266.8  0.003781         0.591857   \n",
       "4       0-9€     -0.997007            245.1  0.003473         0.616854   \n",
       "\n",
       "  part_quantite somme_cumulative_2  \n",
       "0      0.033508           0.033508  \n",
       "1      0.030366           0.063874  \n",
       "2      0.021640           0.085515  \n",
       "3      0.016056           0.101571  \n",
       "4      0.015009           0.116579  \n",
       "\n",
       "[5 rows x 37 columns]"
      ]
     },
     "execution_count": 271,
     "metadata": {},
     "output_type": "execute_result"
    }
   ],
   "source": [
    "#Créer une colonne réalisant la somme cumulative de la colonne précedemment créée\n",
    "\n",
    "df_merge_final['somme_cumulative_2'] = df_merge_final['part_quantite'].cumsum()\n",
    "df_merge_final.head()"
   ]
  },
  {
   "cell_type": "code",
   "execution_count": 272,
   "id": "c822e98c",
   "metadata": {},
   "outputs": [
    {
     "name": "stdout",
     "output_type": "stream",
     "text": [
      "le nombre d'articles représentant 80.0% des ventes : 150\n"
     ]
    }
   ],
   "source": [
    "#Grâce au deux colonnes créées précedemment, calculer le nombre d'articles représentant 80% des ventes en quantité\n",
    "\n",
    "articles_80_pct_pq  = 0.8\n",
    "filtered_df = df_merge_final[df_merge_final['somme_cumulative_2'] <= articles_80_pct_pq ]\n",
    "num_articles = len(filtered_df)\n",
    "\n",
    "print(f\"le nombre d'articles représentant {articles_80_pct_ca  * 100}% des ventes : {num_articles}\")"
   ]
  },
  {
   "cell_type": "code",
   "execution_count": 273,
   "id": "ebf4dd6d",
   "metadata": {},
   "outputs": [
    {
     "name": "stdout",
     "output_type": "stream",
     "text": [
      "La proportion du catalogue entier du site web représentée par les 80% des articles est : 18.18\n"
     ]
    }
   ],
   "source": [
    "#Afficher la proportion que représentent ce groupe d'articles dans le catalogue entier du site web\n",
    "proportion = round((len(filtered_df)/len(df_merge_final))*100,2)\n",
    "print(\"La proportion du catalogue entier du site web représentée par les 80% des articles est :\", proportion)"
   ]
  },
  {
   "cell_type": "markdown",
   "id": "f1d22f1d",
   "metadata": {},
   "source": [
    "<div style=\"border: 1px solid RGB(51,165,182);\" >\n",
    "<h3 style=\"margin: auto; padding: 20px; color: RGB(51,165,182); \">Etape 5.3 - Mettre à disposition la nouvelle table sur un fichier Excel</h3>\n",
    "</div>"
   ]
  },
  {
   "cell_type": "code",
   "execution_count": 274,
   "id": "09bfe632",
   "metadata": {},
   "outputs": [],
   "source": [
    "#Mettre le dataset df_merge sur un fichier Excel\n",
    "#Cette étape peut-être utile pour partager le résultat du dataset obtenu pour le partager avec les équipes.  \n",
    "df_merge_final.to_csv('df_merge_final.csv', index=False)"
   ]
  },
  {
   "cell_type": "code",
   "execution_count": null,
   "id": "466dd12f",
   "metadata": {},
   "outputs": [],
   "source": []
  }
 ],
 "metadata": {
  "kernelspec": {
   "display_name": "Python 3 (ipykernel)",
   "language": "python",
   "name": "python3"
  },
  "language_info": {
   "codemirror_mode": {
    "name": "ipython",
    "version": 3
   },
   "file_extension": ".py",
   "mimetype": "text/x-python",
   "name": "python",
   "nbconvert_exporter": "python",
   "pygments_lexer": "ipython3",
   "version": "3.10.9"
  }
 },
 "nbformat": 4,
 "nbformat_minor": 5
}
